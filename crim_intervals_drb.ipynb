{
 "cells": [
  {
   "cell_type": "code",
   "execution_count": 4,
   "id": "excited-scotland",
   "metadata": {},
   "outputs": [
    {
     "name": "stdout",
     "output_type": "stream",
     "text": [
      "/Users/dangtrang/OneDrive - brynmawr.edu/summer 2021/crim_intervals/intervals\n"
     ]
    }
   ],
   "source": [
    "import pandas as pd\n",
    "# from crim_intervals.funcs import *\n",
    "%cd ../intervals\n",
    "from main_objs import *\n",
    "from main import *\n",
    "\n",
    "from ipywidgets import interact\n",
    "import re"
   ]
  },
  {
   "cell_type": "code",
   "execution_count": 5,
   "id": "toxic-state",
   "metadata": {},
   "outputs": [],
   "source": [
    "def map_colours(x, rest_colour=\"#fbb4ae\", empty_colour=\"white\", remainder_colour=\"#ccebc5\"):\n",
    "    if x == \"Rest\":\n",
    "        return f\"background: {rest_colour}\"\n",
    "    elif pd.isnull(x) or (not x) or (x == \"-\"):\n",
    "        return f\"background: {empty_colour}\"\n",
    "    else:\n",
    "        return f\"background: {remainder_colour}\"\n",
    "    \n",
    "    \n",
    "def add_offset(s, lyric_line=3):\n",
    "    for n in s.recurse().getElementsByClass('Note'):\n",
    "        n.addLyric(int(n.getOffsetBySite(s.flat.notes)), lyric_line)"
   ]
  },
  {
   "cell_type": "markdown",
   "id": "84dee649",
   "metadata": {},
   "source": [
    "# Select Piece"
   ]
  },
  {
   "cell_type": "code",
   "execution_count": 6,
   "id": "foster-looking",
   "metadata": {},
   "outputs": [
    {
     "name": "stdout",
     "output_type": "stream",
     "text": [
      "Requesting file from https://crimproject.org/mei/CRIM_Mass_0002_1.mei...\n",
      "Successfully imported.\n"
     ]
    }
   ],
   "source": [
    "piece = 'https://crimproject.org/mei/CRIM_Mass_0002_1.mei'\n",
    "corpus = CorpusBase([piece])"
   ]
  },
  {
   "cell_type": "code",
   "execution_count": 7,
   "id": "unknown-dollar",
   "metadata": {},
   "outputs": [],
   "source": [
    "model = corpus.scores[0]"
   ]
  },
  {
   "cell_type": "code",
   "execution_count": 8,
   "id": "exempt-receiver",
   "metadata": {},
   "outputs": [
    {
     "data": {
      "text/plain": [
       "'Missa Vidi speciosam - Kyrie'"
      ]
     },
     "execution_count": 8,
     "metadata": {},
     "output_type": "execute_result"
    }
   ],
   "source": [
    "model.score.metadata.title"
   ]
  },
  {
   "cell_type": "code",
   "execution_count": 9,
   "id": "designing-annual",
   "metadata": {
    "scrolled": false
   },
   "outputs": [
    {
     "ename": "SubConverterException",
     "evalue": "Cannot find a path to the 'mscore' file at /Applications/MuseScore 3.app/Contents/MacOS/mscore -- download MuseScore",
     "output_type": "error",
     "traceback": [
      "\u001b[0;31m---------------------------------------------------------------------------\u001b[0m",
      "\u001b[0;31mSubConverterException\u001b[0m                     Traceback (most recent call last)",
      "\u001b[0;32m<ipython-input-9-5afcda19929d>\u001b[0m in \u001b[0;36m<module>\u001b[0;34m\u001b[0m\n\u001b[1;32m      1\u001b[0m \u001b[0madd_offset\u001b[0m\u001b[0;34m(\u001b[0m\u001b[0mmodel\u001b[0m\u001b[0;34m.\u001b[0m\u001b[0mscore\u001b[0m\u001b[0;34m)\u001b[0m\u001b[0;34m\u001b[0m\u001b[0;34m\u001b[0m\u001b[0m\n\u001b[0;32m----> 2\u001b[0;31m \u001b[0mmodel\u001b[0m\u001b[0;34m.\u001b[0m\u001b[0mscore\u001b[0m\u001b[0;34m.\u001b[0m\u001b[0mmeasures\u001b[0m\u001b[0;34m(\u001b[0m\u001b[0;36m1\u001b[0m\u001b[0;34m,\u001b[0m \u001b[0;36m15\u001b[0m\u001b[0;34m)\u001b[0m\u001b[0;34m.\u001b[0m\u001b[0mshow\u001b[0m\u001b[0;34m(\u001b[0m\u001b[0;34m)\u001b[0m\u001b[0;34m\u001b[0m\u001b[0;34m\u001b[0m\u001b[0m\n\u001b[0m",
      "\u001b[0;32m/Library/Frameworks/Python.framework/Versions/3.7/lib/python3.7/site-packages/music21/stream/__init__.py\u001b[0m in \u001b[0;36mshow\u001b[0;34m(self, *args, **kwargs)\u001b[0m\n\u001b[1;32m    257\u001b[0m         \u001b[0;32mif\u001b[0m \u001b[0mself\u001b[0m\u001b[0;34m.\u001b[0m\u001b[0misSorted\u001b[0m \u001b[0;32mis\u001b[0m \u001b[0;32mFalse\u001b[0m \u001b[0;32mand\u001b[0m \u001b[0mself\u001b[0m\u001b[0;34m.\u001b[0m\u001b[0mautoSort\u001b[0m\u001b[0;34m:\u001b[0m\u001b[0;34m\u001b[0m\u001b[0;34m\u001b[0m\u001b[0m\n\u001b[1;32m    258\u001b[0m             \u001b[0mself\u001b[0m\u001b[0;34m.\u001b[0m\u001b[0msort\u001b[0m\u001b[0;34m(\u001b[0m\u001b[0;34m)\u001b[0m\u001b[0;34m\u001b[0m\u001b[0;34m\u001b[0m\u001b[0m\n\u001b[0;32m--> 259\u001b[0;31m         \u001b[0;32mreturn\u001b[0m \u001b[0msuper\u001b[0m\u001b[0;34m(\u001b[0m\u001b[0;34m)\u001b[0m\u001b[0;34m.\u001b[0m\u001b[0mshow\u001b[0m\u001b[0;34m(\u001b[0m\u001b[0;34m*\u001b[0m\u001b[0margs\u001b[0m\u001b[0;34m,\u001b[0m \u001b[0;34m**\u001b[0m\u001b[0mkwargs\u001b[0m\u001b[0;34m)\u001b[0m\u001b[0;34m\u001b[0m\u001b[0;34m\u001b[0m\u001b[0m\n\u001b[0m\u001b[1;32m    260\u001b[0m \u001b[0;34m\u001b[0m\u001b[0m\n\u001b[1;32m    261\u001b[0m     \u001b[0;31m# --------------------------------------------------------------------------\u001b[0m\u001b[0;34m\u001b[0m\u001b[0;34m\u001b[0m\u001b[0;34m\u001b[0m\u001b[0m\n",
      "\u001b[0;32m/Library/Frameworks/Python.framework/Versions/3.7/lib/python3.7/site-packages/music21/base.py\u001b[0m in \u001b[0;36mshow\u001b[0;34m(self, fmt, app, **keywords)\u001b[0m\n\u001b[1;32m   2628\u001b[0m                                  \u001b[0mapp\u001b[0m\u001b[0;34m=\u001b[0m\u001b[0mapp\u001b[0m\u001b[0;34m,\u001b[0m\u001b[0;34m\u001b[0m\u001b[0;34m\u001b[0m\u001b[0m\n\u001b[1;32m   2629\u001b[0m                                  \u001b[0msubformats\u001b[0m\u001b[0;34m=\u001b[0m\u001b[0msubformats\u001b[0m\u001b[0;34m,\u001b[0m\u001b[0;34m\u001b[0m\u001b[0;34m\u001b[0m\u001b[0m\n\u001b[0;32m-> 2630\u001b[0;31m                                  **keywords)\n\u001b[0m\u001b[1;32m   2631\u001b[0m \u001b[0;34m\u001b[0m\u001b[0m\n\u001b[1;32m   2632\u001b[0m     \u001b[0;31m# -------------------------------------------------------------------------\u001b[0m\u001b[0;34m\u001b[0m\u001b[0;34m\u001b[0m\u001b[0;34m\u001b[0m\u001b[0m\n",
      "\u001b[0;32m/Library/Frameworks/Python.framework/Versions/3.7/lib/python3.7/site-packages/music21/converter/subConverters.py\u001b[0m in \u001b[0;36mshow\u001b[0;34m(self, obj, fmt, app, subformats, **keywords)\u001b[0m\n\u001b[1;32m    358\u001b[0m             \u001b[0;32mfor\u001b[0m \u001b[0ms\u001b[0m \u001b[0;32min\u001b[0m \u001b[0mscores\u001b[0m\u001b[0;34m:\u001b[0m\u001b[0;34m\u001b[0m\u001b[0;34m\u001b[0m\u001b[0m\n\u001b[1;32m    359\u001b[0m                 fp = helperSubConverter.write(s, helperFormat,\n\u001b[0;32m--> 360\u001b[0;31m                                               subformats=helperSubformats, **keywords)\n\u001b[0m\u001b[1;32m    361\u001b[0m \u001b[0;34m\u001b[0m\u001b[0m\n\u001b[1;32m    362\u001b[0m                 \u001b[0;32mif\u001b[0m \u001b[0mhelperSubformats\u001b[0m\u001b[0;34m[\u001b[0m\u001b[0;36m0\u001b[0m\u001b[0;34m]\u001b[0m \u001b[0;34m==\u001b[0m \u001b[0;34m'png'\u001b[0m\u001b[0;34m:\u001b[0m\u001b[0;34m\u001b[0m\u001b[0;34m\u001b[0m\u001b[0m\n",
      "\u001b[0;32m/Library/Frameworks/Python.framework/Versions/3.7/lib/python3.7/site-packages/music21/converter/subConverters.py\u001b[0m in \u001b[0;36mwrite\u001b[0;34m(self, obj, fmt, fp, subformats, **keywords)\u001b[0m\n\u001b[1;32m    936\u001b[0m                 \u001b[0;32mand\u001b[0m \u001b[0;34m(\u001b[0m\u001b[0;34m'png'\u001b[0m \u001b[0;32min\u001b[0m \u001b[0msubformats\u001b[0m \u001b[0;32mor\u001b[0m \u001b[0;34m'pdf'\u001b[0m \u001b[0;32min\u001b[0m \u001b[0msubformats\u001b[0m\u001b[0;34m)\u001b[0m\u001b[0;34m\u001b[0m\u001b[0;34m\u001b[0m\u001b[0m\n\u001b[1;32m    937\u001b[0m                 and not str(environLocal['musescoreDirectPNGPath']).startswith('/skip')):\n\u001b[0;32m--> 938\u001b[0;31m             \u001b[0mfp\u001b[0m \u001b[0;34m=\u001b[0m \u001b[0mself\u001b[0m\u001b[0;34m.\u001b[0m\u001b[0mrunThroughMusescore\u001b[0m\u001b[0;34m(\u001b[0m\u001b[0mfp\u001b[0m\u001b[0;34m,\u001b[0m \u001b[0msubformats\u001b[0m\u001b[0;34m,\u001b[0m \u001b[0;34m**\u001b[0m\u001b[0mkeywords\u001b[0m\u001b[0;34m)\u001b[0m\u001b[0;34m\u001b[0m\u001b[0;34m\u001b[0m\u001b[0m\n\u001b[0m\u001b[1;32m    939\u001b[0m \u001b[0;34m\u001b[0m\u001b[0m\n\u001b[1;32m    940\u001b[0m         \u001b[0;32mreturn\u001b[0m \u001b[0mfp\u001b[0m\u001b[0;34m\u001b[0m\u001b[0;34m\u001b[0m\u001b[0m\n",
      "\u001b[0;32m/Library/Frameworks/Python.framework/Versions/3.7/lib/python3.7/site-packages/music21/converter/subConverters.py\u001b[0m in \u001b[0;36mrunThroughMusescore\u001b[0;34m(self, fp, subformats, **keywords)\u001b[0m\n\u001b[1;32m    868\u001b[0m             raise SubConverterException(\n\u001b[1;32m    869\u001b[0m                         \u001b[0;34m\"Cannot find a path to the 'mscore' file at \"\u001b[0m \u001b[0;34m+\u001b[0m\u001b[0;34m\u001b[0m\u001b[0;34m\u001b[0m\u001b[0m\n\u001b[0;32m--> 870\u001b[0;31m                         '%s -- download MuseScore' % str(musescorePath))\n\u001b[0m\u001b[1;32m    871\u001b[0m \u001b[0;34m\u001b[0m\u001b[0m\n\u001b[1;32m    872\u001b[0m         \u001b[0;32mif\u001b[0m \u001b[0msubformats\u001b[0m \u001b[0;32mis\u001b[0m \u001b[0;32mNone\u001b[0m\u001b[0;34m:\u001b[0m\u001b[0;34m\u001b[0m\u001b[0;34m\u001b[0m\u001b[0m\n",
      "\u001b[0;31mSubConverterException\u001b[0m: Cannot find a path to the 'mscore' file at /Applications/MuseScore 3.app/Contents/MacOS/mscore -- download MuseScore"
     ]
    }
   ],
   "source": [
    "add_offset(model.score)\n",
    "model.score.measures(1, 15).show()"
   ]
  },
  {
   "cell_type": "markdown",
   "id": "scenic-trouble",
   "metadata": {},
   "source": [
    "# Music as a table"
   ]
  },
  {
   "cell_type": "code",
   "execution_count": null,
   "id": "pediatric-observation",
   "metadata": {
    "scrolled": false
   },
   "outputs": [],
   "source": [
    "model.getNoteRest().head(10).fillna(\"-\").T.style.applymap(map_colours)"
   ]
  },
  {
   "cell_type": "markdown",
   "id": "herbal-piece",
   "metadata": {},
   "source": [
    "# Melodic patterns"
   ]
  },
  {
   "cell_type": "code",
   "execution_count": null,
   "id": "mineral-knight",
   "metadata": {},
   "outputs": [],
   "source": [
    "model_melodic = model.getMelodic(kind=\"d\", unit=2)\n",
    "# ave_melodic"
   ]
  },
  {
   "cell_type": "code",
   "execution_count": null,
   "id": "exempt-conditioning",
   "metadata": {},
   "outputs": [],
   "source": [
    "ngrams = model.getNgrams(df=model.getMelodic(kind=\"d\", compound=True), n=5)\n",
    "ngrams"
   ]
  },
  {
   "cell_type": "markdown",
   "id": "objective-underwear",
   "metadata": {},
   "source": [
    "## Searching with various parameters\n",
    "* Note that if 'units' are no specified, then the results are simply the melodic vectors, regardless of duration.\n",
    "* If we specify \"units\" then the results are incremental by that unit\n",
    "* The results will be different in each case\n",
    "* Sample search: 4, 1, 2, 2 or chromatic 5, 0, 2, 2, -4"
   ]
  },
  {
   "cell_type": "code",
   "execution_count": 3,
   "id": "included-donna",
   "metadata": {},
   "outputs": [
    {
     "data": {
      "application/vnd.jupyter.widget-view+json": {
       "model_id": "6380ac305706440cbc8ac66873ab7f84",
       "version_major": 2,
       "version_minor": 0
      },
      "text/plain": [
       "interactive(children=(Text(value='', description='search_pattern'), Dropdown(description='kind', options=('d',…"
      ]
     },
     "metadata": {},
     "output_type": "display_data"
    }
   ],
   "source": [
    "# Ngrams without time_units\n",
    "@interact(search_pattern=\"\", kind=[\"d\", \"c\"])\n",
    "def get_ngrams(search_pattern, kind):\n",
    "    ngrams = model.getNgrams(df=model.getMelodic(kind=kind), n=5)\n",
    "    mask = ngrams.apply(lambda x: x.astype(str).str.contains(search_pattern).any(), axis=1)\n",
    "    filtered_ngrams = ngrams[mask].copy()\n",
    "    return filtered_ngrams.fillna(\"-\").style.applymap(lambda x: \"background: #ccebc5\" if search_pattern in x else \"\")"
   ]
  },
  {
   "cell_type": "code",
   "execution_count": null,
   "id": "c9fd1a3e",
   "metadata": {},
   "outputs": [],
   "source": [
    "# NGrams with time_units\n",
    "\n",
    "@interact(search_pattern=\"\", kind=[\"d\", \"c\"], time_unit=[1, 2, 4, 8], length=[3, 4, 5, 6, 7])\n",
    "def get_ngrams(search_pattern, kind, time_unit, length):\n",
    "    ngrams = model.getNgrams(df=model.getMelodic(kind=kind), n=length, unit=time_unit)\n",
    "    mask = ngrams.apply(lambda x: x.astype(str).str.contains(search_pattern).any(), axis=1)\n",
    "    filtered_ngrams = ngrams[mask].copy()\n",
    "    return filtered_ngrams.fillna(\"-\").style.applymap(lambda x: \"background: #ccebc5\" if search_pattern in x else \"\")"
   ]
  },
  {
   "cell_type": "markdown",
   "id": "alert-headline",
   "metadata": {},
   "source": [
    "# Count of melodic intervals"
   ]
  },
  {
   "cell_type": "code",
   "execution_count": null,
   "id": "instant-midnight",
   "metadata": {},
   "outputs": [],
   "source": [
    "model.getMelodic(directed=True).apply(pd.Series.value_counts).fillna(0).astype(int).style.bar()"
   ]
  },
  {
   "cell_type": "markdown",
   "id": "sharing-armstrong",
   "metadata": {},
   "source": [
    "# Harmonic intervals"
   ]
  },
  {
   "cell_type": "markdown",
   "id": "weird-comedy",
   "metadata": {},
   "source": [
    "Example search pattern: 12, 10, 8, 8|5, 3, 1, 1$\n",
    "\n",
    "Authentic cadence:  7, 6, 8"
   ]
  },
  {
   "cell_type": "code",
   "execution_count": null,
   "id": "52121756",
   "metadata": {},
   "outputs": [],
   "source": [
    "# note that time_unit does not yet work with getHarmonic\n",
    "@interact(search_pattern=\"\", compound=[True, False], kind=[\"d\", \"c\"], time_unit=[1, 2, 4, 8], length=[3, 4, 5, 6, 7])\n",
    "def get_harmonic_ngrams(search_pattern, compound, kind, time_unit, length):    \n",
    "    model_harmonic = model.getHarmonic(kind=kind, compound=compound)\n",
    "    ngrams = model.getNgrams(df=model_harmonic, n=length, cell_type=\"str\", unit=time_unit)\n",
    "    filtered_ngrams = ngrams[ngrams.apply(lambda x: x.astype(str).str.contains(search_pattern).any(), axis=1)].copy()\n",
    "    return filtered_ngrams.fillna(\"-\").style.applymap(lambda x: \"background: #ccebc5\" if re.match(search_pattern, x) else \"\")\n"
   ]
  },
  {
   "cell_type": "code",
   "execution_count": null,
   "id": "363f06e5",
   "metadata": {},
   "outputs": [],
   "source": [
    "har = model.getHarmonic(kind=\"d\")\n",
    "regHar = model.regularize(df=har, unit=1)\n",
    "regHar"
   ]
  },
  {
   "cell_type": "code",
   "execution_count": null,
   "id": "38437d4a",
   "metadata": {},
   "outputs": [],
   "source": [
    "mel = model.getNgrams(df=model.getMelodic(kind=\"d\"), n=4)\n",
    "# regMel = ave_maria.regularize(df=mel, unit=4)\n",
    "# regMel.stack().to_frame().reset_index(level=1)\n",
    "b = mel.stack().to_frame().reset_index(level=1)\n",
    "b.groupby(\"level_1\")"
   ]
  },
  {
   "cell_type": "markdown",
   "id": "a69fae86",
   "metadata": {},
   "source": [
    "## Return offsets as list\n",
    "### For use with filtered DFs from classifier, etc."
   ]
  },
  {
   "cell_type": "code",
   "execution_count": null,
   "id": "636bd4ce",
   "metadata": {},
   "outputs": [],
   "source": [
    "df = get_harmonic_ngrams(\"7, 6, 8\", True, \"d\", 1, 3)\n",
    "a = df.index.tolist()\n",
    "a\n",
    "for i in a:\n",
    "    b = i/8 - 1\n",
    "    print(b)"
   ]
  },
  {
   "cell_type": "markdown",
   "id": "59bf5cf2",
   "metadata": {},
   "source": [
    "# Modules:\n",
    "\n",
    "* Authentic/Phrygian cadence with suspension in diatonic:  7_Held, 6_-2, 8\n",
    "* Authentic/Phrygian cadence with suspension in chromatic: 11_Held, 9_-2, 12\n",
    "* Authentic/Phrygian cadence with suspension in zero-based:  6_Held, 5_-2, 7\n",
    "\n"
   ]
  },
  {
   "cell_type": "code",
   "execution_count": null,
   "id": "966a87cc",
   "metadata": {},
   "outputs": [],
   "source": [
    "@interact(search_pattern=\"\", compound=[True, False], time_unit=[4, 2, 1, 8], length=[3, 4, 5, 6])\n",
    "def get_modules(search_pattern, compound, time_unit, length):\n",
    "    \n",
    "    model_har = model.getHarmonic(kind=\"d\", compound=compound)\n",
    "    ngrams = model.getNgrams(df=model_har, n=length, how='modules', exclude=['Rest'], cell_type=\"str\", unit=time_unit)\n",
    "    filtered_ngrams = ngrams[ngrams.apply(lambda x: x.astype(str).str.contains(search_pattern).any(), axis=1)].copy()\n",
    "    return filtered_ngrams.fillna(\"-\").style.applymap(lambda x: \"background: #ccebc5\" if re.match(search_pattern, x) else \"\")"
   ]
  },
  {
   "cell_type": "code",
   "execution_count": null,
   "id": "06d60aa8",
   "metadata": {},
   "outputs": [],
   "source": [
    "model_har = model.getHarmonic(kind=\"d\", compound=True)\n",
    "ngrams = model.getNgrams(df=model_har, n=3, how='modules', exclude=['Rest'], cell_type=\"str\")\n",
    "# filtered_ngrams = ngrams[ngrams.apply(lambda x: x.astype(str).str.contains('7').any(), axis=1)].copy()\n",
    "# filtered_ngrams.stack().value_counts().to_frame()\n",
    "ngrams.stack().value_counts().to_frame()"
   ]
  },
  {
   "cell_type": "code",
   "execution_count": null,
   "id": "affiliated-singer",
   "metadata": {},
   "outputs": [],
   "source": [
    "ave_maria.score.measures(1, 4).show()"
   ]
  },
  {
   "cell_type": "code",
   "execution_count": null,
   "id": "interior-tutorial",
   "metadata": {},
   "outputs": [],
   "source": []
  }
 ],
 "metadata": {
  "kernelspec": {
   "display_name": "Python 3",
   "language": "python",
   "name": "python3"
  },
  "language_info": {
   "codemirror_mode": {
    "name": "ipython",
    "version": 3
   },
   "file_extension": ".py",
   "mimetype": "text/x-python",
   "name": "python",
   "nbconvert_exporter": "python",
   "pygments_lexer": "ipython3",
   "version": "3.7.4"
  }
 },
 "nbformat": 4,
 "nbformat_minor": 5
}
