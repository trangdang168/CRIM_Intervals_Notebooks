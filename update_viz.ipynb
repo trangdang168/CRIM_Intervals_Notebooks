{
 "cells": [
  {
   "cell_type": "code",
   "execution_count": 1,
   "id": "fe716381",
   "metadata": {},
   "outputs": [
    {
     "name": "stdout",
     "output_type": "stream",
     "text": [
      "/Users/dangtrang/OneDrive - brynmawr.edu/summer 2021/crim_intervals/intervals\n"
     ]
    }
   ],
   "source": [
    "import requests\n",
    "import altair as alt\n",
    "import pandas as pd\n",
    "from pandas.io.json import json_normalize\n",
    "%load_ext autoreload\n",
    "%autoreload 2\n",
    "import visualizations1 as viz\n",
    "%cd ../intervals\n",
    "from main import *"
   ]
  },
  {
   "cell_type": "code",
   "execution_count": 26,
   "id": "3430574e",
   "metadata": {},
   "outputs": [],
   "source": [
    "data_relationships = requests.get('http://crimproject.org/data/relationships/').json()\n",
    "#df = pd.DataFrame(data)\n",
    "df_relationships = pd.json_normalize(data_relationships)\n",
    "files = df_relationships['model_observation.piece.piece_id'].unique()\n",
    "df_relationships_0011 = df_relationships[df_relationships['model_observation.piece.piece_id'] == files[2]].copy()"
   ]
  },
  {
   "cell_type": "code",
   "execution_count": null,
   "id": "0c2eed59",
   "metadata": {},
   "outputs": [],
   "source": []
  }
 ],
 "metadata": {
  "kernelspec": {
   "display_name": "venv",
   "language": "python",
   "name": "venv"
  },
  "language_info": {
   "codemirror_mode": {
    "name": "ipython",
    "version": 3
   },
   "file_extension": ".py",
   "mimetype": "text/x-python",
   "name": "python",
   "nbconvert_exporter": "python",
   "pygments_lexer": "ipython3",
   "version": "3.7.4"
  }
 },
 "nbformat": 4,
 "nbformat_minor": 5
}
