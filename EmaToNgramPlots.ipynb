{
 "cells": [
  {
   "cell_type": "code",
   "execution_count": 1,
   "id": "48a37c18-f7a3-4546-bb35-318ac66f0971",
   "metadata": {},
   "outputs": [
    {
     "name": "stdout",
     "output_type": "stream",
     "text": [
      "/Users/dangtrang/OneDrive - brynmawr.edu/summer 2021/crim_intervals/intervals\n"
     ]
    }
   ],
   "source": [
    "import requests\n",
    "import altair as alt\n",
    "import pandas as pd\n",
    "from pandas.io.json import json_normalize\n",
    "\n",
    "import re\n",
    "\n",
    "%load_ext autoreload\n",
    "%autoreload 2\n",
    "%cd ../intervals\n",
    "from main import *\n",
    "from main_objs import *\n",
    "import visualizations as viz\n",
    "from ObservedPiece import ObservedPiece"
   ]
  },
  {
   "cell_type": "markdown",
   "id": "d8b7125d-52ff-4a4a-a8e8-b257f8d1c870",
   "metadata": {},
   "source": [
    "# Validating from EMA to Ngrams\n",
    "\n",
    "## The `getNgramsFromEma` output"
   ]
  },
  {
   "cell_type": "code",
   "execution_count": 7,
   "id": "887070d0-1e37-45f9-a3e1-43e963ce3e3c",
   "metadata": {},
   "outputs": [
    {
     "name": "stdout",
     "output_type": "stream",
     "text": [
      "Requesting file from https://raw.githubusercontent.com/CRIM-Project/CRIM-online/master/crim/static/mei/MEI_3.0/CRIM_Model_0008.mei...\n",
      "Successfully imported.\n"
     ]
    },
    {
     "data": {
      "text/html": [
       "<div>\n",
       "<style scoped>\n",
       "    .dataframe tbody tr th:only-of-type {\n",
       "        vertical-align: middle;\n",
       "    }\n",
       "\n",
       "    .dataframe tbody tr th {\n",
       "        vertical-align: top;\n",
       "    }\n",
       "\n",
       "    .dataframe thead th {\n",
       "        text-align: right;\n",
       "    }\n",
       "</style>\n",
       "<table border=\"1\" class=\"dataframe\">\n",
       "  <thead>\n",
       "    <tr style=\"text-align: right;\">\n",
       "      <th></th>\n",
       "      <th>[Superius]</th>\n",
       "      <th>Altus</th>\n",
       "      <th>Tenor</th>\n",
       "      <th>Bassus</th>\n",
       "      <th>ema</th>\n",
       "    </tr>\n",
       "  </thead>\n",
       "  <tbody>\n",
       "    <tr>\n",
       "      <th>184.0</th>\n",
       "      <td>NaN</td>\n",
       "      <td>-2, -1</td>\n",
       "      <td>NaN</td>\n",
       "      <td>NaN</td>\n",
       "      <td>23-29/2,2,1,1+3,1+3,1+4,4/@1,@1-3,@1,@1-3+@1,@...</td>\n",
       "    </tr>\n",
       "    <tr>\n",
       "      <th>200.0</th>\n",
       "      <td>-2, -1, 3, 1, 1</td>\n",
       "      <td>NaN</td>\n",
       "      <td>NaN</td>\n",
       "      <td>NaN</td>\n",
       "      <td>23-29/2,2,1,1+3,1+3,1+4,4/@1,@1-3,@1,@1-3+@1,@...</td>\n",
       "    </tr>\n",
       "    <tr>\n",
       "      <th>208.0</th>\n",
       "      <td>NaN</td>\n",
       "      <td>NaN</td>\n",
       "      <td>-2, -1</td>\n",
       "      <td>NaN</td>\n",
       "      <td>23-29/2,2,1,1+3,1+3,1+4,4/@1,@1-3,@1,@1-3+@1,@...</td>\n",
       "    </tr>\n",
       "    <tr>\n",
       "      <th>224.0</th>\n",
       "      <td>NaN</td>\n",
       "      <td>NaN</td>\n",
       "      <td>NaN</td>\n",
       "      <td>-2, -1</td>\n",
       "      <td>23-29/2,2,1,1+3,1+3,1+4,4/@1,@1-3,@1,@1-3+@1,@...</td>\n",
       "    </tr>\n",
       "  </tbody>\n",
       "</table>\n",
       "</div>"
      ],
      "text/plain": [
       "            [Superius]   Altus   Tenor  Bassus  \\\n",
       "184.0              NaN  -2, -1     NaN     NaN   \n",
       "200.0  -2, -1, 3, 1, 1     NaN     NaN     NaN   \n",
       "208.0              NaN     NaN  -2, -1     NaN   \n",
       "224.0              NaN     NaN     NaN  -2, -1   \n",
       "\n",
       "                                                     ema  \n",
       "184.0  23-29/2,2,1,1+3,1+3,1+4,4/@1,@1-3,@1,@1-3+@1,@...  \n",
       "200.0  23-29/2,2,1,1+3,1+3,1+4,4/@1,@1-3,@1,@1-3+@1,@...  \n",
       "208.0  23-29/2,2,1,1+3,1+3,1+4,4/@1,@1-3,@1,@1-3+@1,@...  \n",
       "224.0  23-29/2,2,1,1+3,1+3,1+4,4/@1,@1-3,@1,@1-3+@1,@...  "
      ]
     },
     "execution_count": 7,
     "metadata": {},
     "output_type": "execute_result"
    }
   ],
   "source": [
    "from test_constants import model_0008, FUGA\n",
    "model = ObservedPiece(model_0008)\n",
    "ema = FUGA[0] # just a fuga I hardcoded in to test\n",
    "\n",
    "model.getNgramsFromEma(ema)"
   ]
  },
  {
   "cell_type": "markdown",
   "id": "db724964-7410-46cd-a868-038848bbeed6",
   "metadata": {},
   "source": [
    "## Method\n",
    "\n",
    "- Calculated the Normalized Levenshtein similarity between every two pattern among the patterns that ema selected.\n",
    "- Averaged those scores"
   ]
  },
  {
   "cell_type": "code",
   "execution_count": 51,
   "id": "470b8059-bad1-4261-9230-e63850b2bb76",
   "metadata": {},
   "outputs": [],
   "source": [
    "def calculate_score(condition, kind, observationDf=pd.DataFrame()):\n",
    "    \"\"\"\n",
    "    Return a series of average normalized levenshtein score for each ema.\n",
    "    :param condition: to select specific areas of the dataframe to examine\n",
    "    :param kind: kind of intervals\n",
    "    \"\"\"\n",
    "    prefix = 'https://raw.githubusercontent.com/CRIM-Project/CRIM-online/master/crim/static/mei/MEI_3.0/'\n",
    "    postfix = \".mei\"\n",
    "    if len(observationDf)==0:\n",
    "        fileName = \"../CRIM_Intervals_Notebooks/PEN_Detail_2.csv\"\n",
    "        df = pd.read_csv(fileName)\n",
    "    else:\n",
    "        df = observationDf\n",
    "\n",
    "    df = df[condition]\n",
    "    algorithm = NormalizedLevenshtein()\n",
    "    scores = []\n",
    "    for i in df.index:\n",
    "        row = df.loc[i]\n",
    "        model = ObservedPiece(prefix + row['piece.piece_id'] + postfix)\n",
    "        ema_df = model.getNgramsFromEma(row['ema'], kind=kind)\n",
    "        score_df = viz.compute_levenshtein_similarity(ema_df.drop([\"ema\"], axis=1), algorithm.similarity)\n",
    "        scores.append(score_df.mean())\n",
    "    return scores"
   ]
  },
  {
   "cell_type": "markdown",
   "id": "a5ba5f72-2214-4186-9d49-2618f2924c48",
   "metadata": {},
   "source": [
    "## Plotting a histogram of PEN entries scores (PEN_entries_2.csv)"
   ]
  },
  {
   "cell_type": "code",
   "execution_count": 16,
   "id": "483a763a-b40e-49bd-9707-6ff39f44b89e",
   "metadata": {},
   "outputs": [
    {
     "name": "stdout",
     "output_type": "stream",
     "text": [
      "Requesting file from https://raw.githubusercontent.com/CRIM-Project/CRIM-online/master/crim/static/mei/MEI_3.0/CRIM_Model_0017.mei...\n",
      "Successfully imported.\n",
      "Requesting file from https://raw.githubusercontent.com/CRIM-Project/CRIM-online/master/crim/static/mei/MEI_3.0/CRIM_Mass_0015_2.mei...\n",
      "Successfully imported.\n",
      "Requesting file from https://raw.githubusercontent.com/CRIM-Project/CRIM-online/master/crim/static/mei/MEI_3.0/CRIM_Model_0017.mei...\n",
      "Successfully imported.\n",
      "Requesting file from https://raw.githubusercontent.com/CRIM-Project/CRIM-online/master/crim/static/mei/MEI_3.0/CRIM_Mass_0015_2.mei...\n",
      "Successfully imported.\n",
      "Requesting file from https://raw.githubusercontent.com/CRIM-Project/CRIM-online/master/crim/static/mei/MEI_3.0/CRIM_Model_0017.mei...\n",
      "Successfully imported.\n",
      "Requesting file from https://raw.githubusercontent.com/CRIM-Project/CRIM-online/master/crim/static/mei/MEI_3.0/CRIM_Mass_0015_2.mei...\n",
      "Successfully imported.\n",
      "Requesting file from https://raw.githubusercontent.com/CRIM-Project/CRIM-online/master/crim/static/mei/MEI_3.0/CRIM_Mass_0015_2.mei...\n",
      "Successfully imported.\n",
      "Requesting file from https://raw.githubusercontent.com/CRIM-Project/CRIM-online/master/crim/static/mei/MEI_3.0/CRIM_Mass_0015_2.mei...\n",
      "Successfully imported.\n",
      "Requesting file from https://raw.githubusercontent.com/CRIM-Project/CRIM-online/master/crim/static/mei/MEI_3.0/CRIM_Model_0017.mei...\n",
      "Successfully imported.\n",
      "Requesting file from https://raw.githubusercontent.com/CRIM-Project/CRIM-online/master/crim/static/mei/MEI_3.0/CRIM_Model_0017.mei...\n",
      "Successfully imported.\n",
      "Requesting file from https://raw.githubusercontent.com/CRIM-Project/CRIM-online/master/crim/static/mei/MEI_3.0/CRIM_Model_0001.mei...\n",
      "Successfully imported.\n",
      "Requesting file from https://raw.githubusercontent.com/CRIM-Project/CRIM-online/master/crim/static/mei/MEI_3.0/CRIM_Mass_0019_2.mei...\n",
      "Successfully imported.\n",
      "Requesting file from https://raw.githubusercontent.com/CRIM-Project/CRIM-online/master/crim/static/mei/MEI_3.0/CRIM_Mass_0019_2.mei...\n",
      "Successfully imported.\n",
      "Requesting file from https://raw.githubusercontent.com/CRIM-Project/CRIM-online/master/crim/static/mei/MEI_3.0/CRIM_Mass_0009_3.mei...\n",
      "Successfully imported.\n",
      "Requesting file from https://raw.githubusercontent.com/CRIM-Project/CRIM-online/master/crim/static/mei/MEI_3.0/CRIM_Model_0019.mei...\n",
      "Successfully imported.\n",
      "Requesting file from https://raw.githubusercontent.com/CRIM-Project/CRIM-online/master/crim/static/mei/MEI_3.0/CRIM_Model_0019.mei...\n",
      "Successfully imported.\n",
      "Requesting file from https://raw.githubusercontent.com/CRIM-Project/CRIM-online/master/crim/static/mei/MEI_3.0/CRIM_Mass_0019_2.mei...\n",
      "Successfully imported.\n",
      "Requesting file from https://raw.githubusercontent.com/CRIM-Project/CRIM-online/master/crim/static/mei/MEI_3.0/CRIM_Model_0019.mei...\n",
      "Successfully imported.\n",
      "Requesting file from https://raw.githubusercontent.com/CRIM-Project/CRIM-online/master/crim/static/mei/MEI_3.0/CRIM_Mass_0003_1.mei...\n",
      "Successfully imported.\n",
      "Requesting file from https://raw.githubusercontent.com/CRIM-Project/CRIM-online/master/crim/static/mei/MEI_3.0/CRIM_Model_0019.mei...\n",
      "Successfully imported.\n",
      "Requesting file from https://raw.githubusercontent.com/CRIM-Project/CRIM-online/master/crim/static/mei/MEI_3.0/CRIM_Model_0019.mei...\n",
      "Successfully imported.\n",
      "Requesting file from https://raw.githubusercontent.com/CRIM-Project/CRIM-online/master/crim/static/mei/MEI_3.0/CRIM_Mass_0019_2.mei...\n",
      "Successfully imported.\n",
      "Requesting file from https://raw.githubusercontent.com/CRIM-Project/CRIM-online/master/crim/static/mei/MEI_3.0/CRIM_Model_0019.mei...\n",
      "Successfully imported.\n",
      "Requesting file from https://raw.githubusercontent.com/CRIM-Project/CRIM-online/master/crim/static/mei/MEI_3.0/CRIM_Model_0019.mei...\n",
      "Successfully imported.\n",
      "Requesting file from https://raw.githubusercontent.com/CRIM-Project/CRIM-online/master/crim/static/mei/MEI_3.0/CRIM_Mass_0019_2.mei...\n",
      "Successfully imported.\n",
      "Requesting file from https://raw.githubusercontent.com/CRIM-Project/CRIM-online/master/crim/static/mei/MEI_3.0/CRIM_Model_0016.mei...\n",
      "Successfully imported.\n",
      "Requesting file from https://raw.githubusercontent.com/CRIM-Project/CRIM-online/master/crim/static/mei/MEI_3.0/CRIM_Mass_0009_4.mei...\n",
      "Successfully imported.\n",
      "Requesting file from https://raw.githubusercontent.com/CRIM-Project/CRIM-online/master/crim/static/mei/MEI_3.0/CRIM_Mass_0003_2.mei...\n",
      "Successfully imported.\n",
      "Requesting file from https://raw.githubusercontent.com/CRIM-Project/CRIM-online/master/crim/static/mei/MEI_3.0/CRIM_Model_0010.mei...\n",
      "Successfully imported.\n",
      "Requesting file from https://raw.githubusercontent.com/CRIM-Project/CRIM-online/master/crim/static/mei/MEI_3.0/CRIM_Mass_0008_2.mei...\n",
      "Successfully imported.\n",
      "Requesting file from https://raw.githubusercontent.com/CRIM-Project/CRIM-online/master/crim/static/mei/MEI_3.0/CRIM_Mass_0014_2.mei...\n",
      "Successfully imported.\n",
      "Requesting file from https://raw.githubusercontent.com/CRIM-Project/CRIM-online/master/crim/static/mei/MEI_3.0/CRIM_Model_0016.mei...\n",
      "Successfully imported.\n",
      "Requesting file from https://raw.githubusercontent.com/CRIM-Project/CRIM-online/master/crim/static/mei/MEI_3.0/CRIM_Model_0016.mei...\n",
      "Successfully imported.\n",
      "Requesting file from https://raw.githubusercontent.com/CRIM-Project/CRIM-online/master/crim/static/mei/MEI_3.0/CRIM_Model_0016.mei...\n",
      "Successfully imported.\n",
      "Requesting file from https://raw.githubusercontent.com/CRIM-Project/CRIM-online/master/crim/static/mei/MEI_3.0/CRIM_Mass_0003_5.mei...\n",
      "Successfully imported.\n",
      "CPU times: user 47.6 s, sys: 408 ms, total: 48 s\n",
      "Wall time: 1min 7s\n"
     ]
    },
    {
     "data": {
      "text/plain": [
       "<matplotlib.axes._subplots.AxesSubplot at 0x7f8472ac0190>"
      ]
     },
     "execution_count": 16,
     "metadata": {},
     "output_type": "execute_result"
    },
    {
     "data": {
      "image/png": "[encoded data removed]",
      "text/plain": [
       "<Figure size 432x288 with 1 Axes>"
      ]
     },
     "metadata": {
      "image/png": {
       "height": 248,
       "width": 378
      },
      "needs_background": "light"
     },
     "output_type": "display_data"
    }
   ],
   "source": [
    "%%time\n",
    "strict=df['mt_pe_strict']\n",
    "strict_scores = calculate_score(strict, \"z\")\n",
    "pd.Series(strict_scores).hist()"
   ]
  },
  {
   "cell_type": "code",
   "execution_count": 8,
   "id": "4804be14-d665-4a9a-a94d-f21b3b1a12e7",
   "metadata": {},
   "outputs": [
    {
     "data": {
      "text/plain": [
       "<matplotlib.axes._subplots.AxesSubplot at 0x7f8489673410>"
      ]
     },
     "execution_count": 8,
     "metadata": {},
     "output_type": "execute_result"
    },
    {
     "data": {
      "image/png": "[encoded data removed]",
      "text/plain": [
       "<Figure size 432x288 with 1 Axes>"
      ]
     },
     "metadata": {
      "image/png": {
       "height": 248,
       "width": 362
      },
      "needs_background": "light"
     },
     "output_type": "display_data"
    }
   ],
   "source": [
    "not_strict=!df['mt_pe_strict']\n",
    "not_strict_scores = calculate_score(strict, \"z\")\n",
    "pd.Series(not_strict_scores).hist()"
   ]
  },
  {
   "cell_type": "markdown",
   "id": "4679b63a-f643-4065-8e24-db9f5f819139",
   "metadata": {},
   "source": [
    "**Comment**:\n",
    "    \n",
    "- Comparing Strict vs not strict, we can see how strict pens have a higher Levenshtein similarity score overall.\n",
    "- However, non-strict pens still have a pretty high levenshtein score!\n",
    "\n",
    "### Diatonic not flexed vs diatonic flexed"
   ]
  },
  {
   "cell_type": "code",
   "execution_count": 20,
   "id": "210d56ae-06fc-4f99-8728-7dc48e8fde8a",
   "metadata": {},
   "outputs": [
    {
     "name": "stdout",
     "output_type": "stream",
     "text": [
      "Requesting file from https://raw.githubusercontent.com/CRIM-Project/CRIM-online/master/crim/static/mei/MEI_3.0/CRIM_Model_0017.mei...\n",
      "Successfully imported.\n",
      "Requesting file from https://raw.githubusercontent.com/CRIM-Project/CRIM-online/master/crim/static/mei/MEI_3.0/CRIM_Mass_0015_2.mei...\n",
      "Successfully imported.\n",
      "Requesting file from https://raw.githubusercontent.com/CRIM-Project/CRIM-online/master/crim/static/mei/MEI_3.0/CRIM_Model_0017.mei...\n",
      "Successfully imported.\n",
      "Requesting file from https://raw.githubusercontent.com/CRIM-Project/CRIM-online/master/crim/static/mei/MEI_3.0/CRIM_Mass_0015_2.mei...\n",
      "Successfully imported.\n",
      "Requesting file from https://raw.githubusercontent.com/CRIM-Project/CRIM-online/master/crim/static/mei/MEI_3.0/CRIM_Model_0017.mei...\n",
      "Successfully imported.\n",
      "Requesting file from https://raw.githubusercontent.com/CRIM-Project/CRIM-online/master/crim/static/mei/MEI_3.0/CRIM_Mass_0015_2.mei...\n",
      "Successfully imported.\n",
      "Requesting file from https://raw.githubusercontent.com/CRIM-Project/CRIM-online/master/crim/static/mei/MEI_3.0/CRIM_Mass_0015_2.mei...\n",
      "Successfully imported.\n",
      "Requesting file from https://raw.githubusercontent.com/CRIM-Project/CRIM-online/master/crim/static/mei/MEI_3.0/CRIM_Model_0017.mei...\n",
      "Successfully imported.\n",
      "Requesting file from https://raw.githubusercontent.com/CRIM-Project/CRIM-online/master/crim/static/mei/MEI_3.0/CRIM_Mass_0015_2.mei...\n",
      "Successfully imported.\n",
      "Requesting file from https://raw.githubusercontent.com/CRIM-Project/CRIM-online/master/crim/static/mei/MEI_3.0/CRIM_Model_0017.mei...\n",
      "Successfully imported.\n",
      "Requesting file from https://raw.githubusercontent.com/CRIM-Project/CRIM-online/master/crim/static/mei/MEI_3.0/CRIM_Mass_0015_2.mei...\n",
      "Successfully imported.\n",
      "Requesting file from https://raw.githubusercontent.com/CRIM-Project/CRIM-online/master/crim/static/mei/MEI_3.0/CRIM_Mass_0015_3.mei...\n",
      "Successfully imported.\n",
      "Requesting file from https://raw.githubusercontent.com/CRIM-Project/CRIM-online/master/crim/static/mei/MEI_3.0/CRIM_Mass_0015_3.mei...\n",
      "Successfully imported.\n",
      "Requesting file from https://raw.githubusercontent.com/CRIM-Project/CRIM-online/master/crim/static/mei/MEI_3.0/CRIM_Model_0001.mei...\n",
      "Successfully imported.\n",
      "Requesting file from https://raw.githubusercontent.com/CRIM-Project/CRIM-online/master/crim/static/mei/MEI_3.0/CRIM_Mass_0019_2.mei...\n",
      "Successfully imported.\n",
      "Requesting file from https://raw.githubusercontent.com/CRIM-Project/CRIM-online/master/crim/static/mei/MEI_3.0/CRIM_Mass_0019_2.mei...\n",
      "Successfully imported.\n",
      "Requesting file from https://raw.githubusercontent.com/CRIM-Project/CRIM-online/master/crim/static/mei/MEI_3.0/CRIM_Mass_0009_3.mei...\n",
      "Successfully imported.\n",
      "Requesting file from https://raw.githubusercontent.com/CRIM-Project/CRIM-online/master/crim/static/mei/MEI_3.0/CRIM_Model_0019.mei...\n",
      "Successfully imported.\n",
      "Requesting file from https://raw.githubusercontent.com/CRIM-Project/CRIM-online/master/crim/static/mei/MEI_3.0/CRIM_Model_0019.mei...\n",
      "Successfully imported.\n",
      "Requesting file from https://raw.githubusercontent.com/CRIM-Project/CRIM-online/master/crim/static/mei/MEI_3.0/CRIM_Mass_0019_2.mei...\n",
      "Successfully imported.\n",
      "Requesting file from https://raw.githubusercontent.com/CRIM-Project/CRIM-online/master/crim/static/mei/MEI_3.0/CRIM_Model_0019.mei...\n",
      "Successfully imported.\n",
      "Requesting file from https://raw.githubusercontent.com/CRIM-Project/CRIM-online/master/crim/static/mei/MEI_3.0/CRIM_Mass_0003_1.mei...\n",
      "Successfully imported.\n",
      "Requesting file from https://raw.githubusercontent.com/CRIM-Project/CRIM-online/master/crim/static/mei/MEI_3.0/CRIM_Mass_0019_2.mei...\n",
      "Successfully imported.\n",
      "Requesting file from https://raw.githubusercontent.com/CRIM-Project/CRIM-online/master/crim/static/mei/MEI_3.0/CRIM_Model_0019.mei...\n",
      "Successfully imported.\n",
      "Requesting file from https://raw.githubusercontent.com/CRIM-Project/CRIM-online/master/crim/static/mei/MEI_3.0/CRIM_Mass_0019_2.mei...\n",
      "Successfully imported.\n",
      "Requesting file from https://raw.githubusercontent.com/CRIM-Project/CRIM-online/master/crim/static/mei/MEI_3.0/CRIM_Model_0019.mei...\n",
      "Successfully imported.\n",
      "Requesting file from https://raw.githubusercontent.com/CRIM-Project/CRIM-online/master/crim/static/mei/MEI_3.0/CRIM_Mass_0019_2.mei...\n",
      "Successfully imported.\n",
      "Requesting file from https://raw.githubusercontent.com/CRIM-Project/CRIM-online/master/crim/static/mei/MEI_3.0/CRIM_Mass_0019_2.mei...\n",
      "Successfully imported.\n",
      "Requesting file from https://raw.githubusercontent.com/CRIM-Project/CRIM-online/master/crim/static/mei/MEI_3.0/CRIM_Model_0019.mei...\n",
      "Successfully imported.\n",
      "Requesting file from https://raw.githubusercontent.com/CRIM-Project/CRIM-online/master/crim/static/mei/MEI_3.0/CRIM_Model_0019.mei...\n",
      "Successfully imported.\n",
      "Requesting file from https://raw.githubusercontent.com/CRIM-Project/CRIM-online/master/crim/static/mei/MEI_3.0/CRIM_Mass_0019_2.mei...\n",
      "Successfully imported.\n",
      "Requesting file from https://raw.githubusercontent.com/CRIM-Project/CRIM-online/master/crim/static/mei/MEI_3.0/CRIM_Mass_0019_2.mei...\n",
      "Successfully imported.\n",
      "Requesting file from https://raw.githubusercontent.com/CRIM-Project/CRIM-online/master/crim/static/mei/MEI_3.0/CRIM_Mass_0009_2.mei...\n",
      "Successfully imported.\n",
      "Requesting file from https://raw.githubusercontent.com/CRIM-Project/CRIM-online/master/crim/static/mei/MEI_3.0/CRIM_Mass_0003_2.mei...\n",
      "Successfully imported.\n",
      "Requesting file from https://raw.githubusercontent.com/CRIM-Project/CRIM-online/master/crim/static/mei/MEI_3.0/CRIM_Mass_0003_2.mei...\n",
      "Successfully imported.\n",
      "Requesting file from https://raw.githubusercontent.com/CRIM-Project/CRIM-online/master/crim/static/mei/MEI_3.0/CRIM_Mass_0007_2.mei...\n",
      "Successfully imported.\n",
      "Requesting file from https://raw.githubusercontent.com/CRIM-Project/CRIM-online/master/crim/static/mei/MEI_3.0/CRIM_Mass_0007_2.mei...\n",
      "Successfully imported.\n",
      "Requesting file from https://raw.githubusercontent.com/CRIM-Project/CRIM-online/master/crim/static/mei/MEI_3.0/CRIM_Mass_0007_2.mei...\n",
      "Successfully imported.\n",
      "Requesting file from https://raw.githubusercontent.com/CRIM-Project/CRIM-online/master/crim/static/mei/MEI_3.0/CRIM_Model_0016.mei...\n",
      "Successfully imported.\n",
      "Requesting file from https://raw.githubusercontent.com/CRIM-Project/CRIM-online/master/crim/static/mei/MEI_3.0/CRIM_Mass_0009_4.mei...\n",
      "Successfully imported.\n",
      "Requesting file from https://raw.githubusercontent.com/CRIM-Project/CRIM-online/master/crim/static/mei/MEI_3.0/CRIM_Mass_0008_2.mei...\n",
      "Successfully imported.\n",
      "Requesting file from https://raw.githubusercontent.com/CRIM-Project/CRIM-online/master/crim/static/mei/MEI_3.0/CRIM_Mass_0014_2.mei...\n",
      "Successfully imported.\n",
      "Requesting file from https://raw.githubusercontent.com/CRIM-Project/CRIM-online/master/crim/static/mei/MEI_3.0/CRIM_Model_0016.mei...\n",
      "Successfully imported.\n",
      "Requesting file from https://raw.githubusercontent.com/CRIM-Project/CRIM-online/master/crim/static/mei/MEI_3.0/CRIM_Model_0016.mei...\n",
      "Successfully imported.\n"
     ]
    },
    {
     "data": {
      "text/plain": [
       "<matplotlib.axes._subplots.AxesSubplot at 0x7f8475580d90>"
      ]
     },
     "execution_count": 20,
     "metadata": {},
     "output_type": "execute_result"
    },
    {
     "data": {
      "image/png": "[encoded data removed]",
      "text/plain": [
       "<Figure size 432x288 with 1 Axes>"
      ]
     },
     "metadata": {
      "image/png": {
       "height": 248,
       "width": 378
      },
      "needs_background": "light"
     },
     "output_type": "display_data"
    }
   ],
   "source": [
    "diatonic_strict=~df['diatonic_flex']\n",
    "diatonic_strict_scores = calculate_score(diatonic_strict, \"z\")\n",
    "pd.Series(diatonic_strict_scores).hist()"
   ]
  },
  {
   "cell_type": "code",
   "execution_count": 21,
   "id": "56c7326f-594b-44f6-9cfb-5772fff24347",
   "metadata": {},
   "outputs": [
    {
     "name": "stdout",
     "output_type": "stream",
     "text": [
      "Requesting file from https://raw.githubusercontent.com/CRIM-Project/CRIM-online/master/crim/static/mei/MEI_3.0/CRIM_Mass_0015_2.mei...\n",
      "Successfully imported.\n",
      "Requesting file from https://raw.githubusercontent.com/CRIM-Project/CRIM-online/master/crim/static/mei/MEI_3.0/CRIM_Mass_0015_3.mei...\n",
      "Successfully imported.\n",
      "Requesting file from https://raw.githubusercontent.com/CRIM-Project/CRIM-online/master/crim/static/mei/MEI_3.0/CRIM_Mass_0015_4.mei...\n",
      "Successfully imported.\n",
      "Requesting file from https://raw.githubusercontent.com/CRIM-Project/CRIM-online/master/crim/static/mei/MEI_3.0/CRIM_Mass_0019_4.mei...\n",
      "Successfully imported.\n",
      "Requesting file from https://raw.githubusercontent.com/CRIM-Project/CRIM-online/master/crim/static/mei/MEI_3.0/CRIM_Mass_0003_2.mei...\n",
      "Successfully imported.\n",
      "Requesting file from https://raw.githubusercontent.com/CRIM-Project/CRIM-online/master/crim/static/mei/MEI_3.0/CRIM_Mass_0003_2.mei...\n",
      "Successfully imported.\n",
      "Requesting file from https://raw.githubusercontent.com/CRIM-Project/CRIM-online/master/crim/static/mei/MEI_3.0/CRIM_Mass_0003_2.mei...\n",
      "Successfully imported.\n",
      "Requesting file from https://raw.githubusercontent.com/CRIM-Project/CRIM-online/master/crim/static/mei/MEI_3.0/CRIM_Model_0010.mei...\n",
      "Successfully imported.\n",
      "Requesting file from https://raw.githubusercontent.com/CRIM-Project/CRIM-online/master/crim/static/mei/MEI_3.0/CRIM_Model_0016.mei...\n",
      "Successfully imported.\n",
      "Requesting file from https://raw.githubusercontent.com/CRIM-Project/CRIM-online/master/crim/static/mei/MEI_3.0/CRIM_Mass_0003_5.mei...\n",
      "Successfully imported.\n"
     ]
    },
    {
     "data": {
      "text/plain": [
       "<matplotlib.axes._subplots.AxesSubplot at 0x7f846d2cdc90>"
      ]
     },
     "execution_count": 21,
     "metadata": {},
     "output_type": "execute_result"
    },
    {
     "data": {
      "image/png": "[encoded data removed]",
      "text/plain": [
       "<Figure size 432x288 with 1 Axes>"
      ]
     },
     "metadata": {
      "image/png": {
       "height": 248,
       "width": 372
      },
      "needs_background": "light"
     },
     "output_type": "display_data"
    }
   ],
   "source": [
    "diatonic_flex=df['diatonic_flex']\n",
    "diatonic_flex_scores = calculate_score(diatonic_flex, \"z\")\n",
    "pd.Series(diatonic_flex_scores).hist()"
   ]
  },
  {
   "cell_type": "markdown",
   "id": "9e95b89e-3774-49b0-ad54-385c66c46b52",
   "metadata": {},
   "source": [
    "**Important**:\n",
    "\n",
    "- Some item has both `mt_pe_strict==mt_pe_flexed==False` "
   ]
  },
  {
   "cell_type": "code",
   "execution_count": 27,
   "id": "2c8c21f4-1c83-48a9-9d42-08fe987aadd6",
   "metadata": {},
   "outputs": [
    {
     "name": "stdout",
     "output_type": "stream",
     "text": [
      "11    False\n",
      "12    False\n",
      "13    False\n",
      "14    False\n",
      "15    False\n",
      "27    False\n",
      "29    False\n",
      "37    False\n",
      "39    False\n",
      "40    False\n",
      "41    False\n",
      "46    False\n",
      "Name: mt_pe_strict, dtype: bool\n"
     ]
    },
    {
     "data": {
      "text/plain": [
       "11    False\n",
       "12    False\n",
       "13    False\n",
       "14    False\n",
       "15    False\n",
       "27    False\n",
       "29    False\n",
       "37    False\n",
       "39    False\n",
       "40    False\n",
       "41    False\n",
       "46    False\n",
       "Name: mt_pe_flexed, dtype: bool"
      ]
     },
     "execution_count": 27,
     "metadata": {},
     "output_type": "execute_result"
    }
   ],
   "source": [
    "fileName = \"../CRIM_Intervals_Notebooks/PEN_Detail_2.csv\"\n",
    "df = pd.read_csv(fileName)\n",
    "print(df['mt_pe_strict'][df['mt_pe_strict'] == df['mt_pe_flexed']])\n",
    "df['mt_pe_flexed'][df['mt_pe_strict'] == df['mt_pe_flexed']]"
   ]
  },
  {
   "cell_type": "markdown",
   "id": "16ed789c-77e1-4c3a-ad25-bfbcf9f8c769",
   "metadata": {},
   "source": [
    "### Chromatic Flexed vs Chromatic not flexed"
   ]
  },
  {
   "cell_type": "code",
   "execution_count": 31,
   "id": "0904f59d-c7e4-482e-bdb4-94063a7eceb2",
   "metadata": {},
   "outputs": [
    {
     "name": "stdout",
     "output_type": "stream",
     "text": [
      "Requesting file from https://raw.githubusercontent.com/CRIM-Project/CRIM-online/master/crim/static/mei/MEI_3.0/CRIM_Model_0017.mei...\n",
      "Successfully imported.\n",
      "Requesting file from https://raw.githubusercontent.com/CRIM-Project/CRIM-online/master/crim/static/mei/MEI_3.0/CRIM_Mass_0015_2.mei...\n",
      "Successfully imported.\n",
      "Requesting file from https://raw.githubusercontent.com/CRIM-Project/CRIM-online/master/crim/static/mei/MEI_3.0/CRIM_Model_0017.mei...\n",
      "Successfully imported.\n",
      "Requesting file from https://raw.githubusercontent.com/CRIM-Project/CRIM-online/master/crim/static/mei/MEI_3.0/CRIM_Mass_0015_2.mei...\n",
      "Successfully imported.\n",
      "Requesting file from https://raw.githubusercontent.com/CRIM-Project/CRIM-online/master/crim/static/mei/MEI_3.0/CRIM_Model_0017.mei...\n",
      "Successfully imported.\n",
      "Requesting file from https://raw.githubusercontent.com/CRIM-Project/CRIM-online/master/crim/static/mei/MEI_3.0/CRIM_Mass_0015_2.mei...\n",
      "Successfully imported.\n",
      "Requesting file from https://raw.githubusercontent.com/CRIM-Project/CRIM-online/master/crim/static/mei/MEI_3.0/CRIM_Mass_0015_2.mei...\n",
      "Successfully imported.\n",
      "Requesting file from https://raw.githubusercontent.com/CRIM-Project/CRIM-online/master/crim/static/mei/MEI_3.0/CRIM_Mass_0015_2.mei...\n",
      "Successfully imported.\n",
      "Requesting file from https://raw.githubusercontent.com/CRIM-Project/CRIM-online/master/crim/static/mei/MEI_3.0/CRIM_Model_0017.mei...\n",
      "Successfully imported.\n",
      "Requesting file from https://raw.githubusercontent.com/CRIM-Project/CRIM-online/master/crim/static/mei/MEI_3.0/CRIM_Mass_0015_2.mei...\n",
      "Successfully imported.\n",
      "Requesting file from https://raw.githubusercontent.com/CRIM-Project/CRIM-online/master/crim/static/mei/MEI_3.0/CRIM_Model_0017.mei...\n",
      "Successfully imported.\n",
      "Requesting file from https://raw.githubusercontent.com/CRIM-Project/CRIM-online/master/crim/static/mei/MEI_3.0/CRIM_Mass_0015_2.mei...\n",
      "Successfully imported.\n",
      "Requesting file from https://raw.githubusercontent.com/CRIM-Project/CRIM-online/master/crim/static/mei/MEI_3.0/CRIM_Mass_0015_3.mei...\n",
      "Successfully imported.\n",
      "Requesting file from https://raw.githubusercontent.com/CRIM-Project/CRIM-online/master/crim/static/mei/MEI_3.0/CRIM_Mass_0015_4.mei...\n",
      "Successfully imported.\n",
      "Requesting file from https://raw.githubusercontent.com/CRIM-Project/CRIM-online/master/crim/static/mei/MEI_3.0/CRIM_Mass_0019_2.mei...\n",
      "Successfully imported.\n",
      "Requesting file from https://raw.githubusercontent.com/CRIM-Project/CRIM-online/master/crim/static/mei/MEI_3.0/CRIM_Mass_0009_3.mei...\n",
      "Successfully imported.\n",
      "Requesting file from https://raw.githubusercontent.com/CRIM-Project/CRIM-online/master/crim/static/mei/MEI_3.0/CRIM_Model_0019.mei...\n",
      "Successfully imported.\n",
      "Requesting file from https://raw.githubusercontent.com/CRIM-Project/CRIM-online/master/crim/static/mei/MEI_3.0/CRIM_Mass_0019_2.mei...\n",
      "Successfully imported.\n",
      "Requesting file from https://raw.githubusercontent.com/CRIM-Project/CRIM-online/master/crim/static/mei/MEI_3.0/CRIM_Mass_0019_2.mei...\n",
      "Successfully imported.\n",
      "Requesting file from https://raw.githubusercontent.com/CRIM-Project/CRIM-online/master/crim/static/mei/MEI_3.0/CRIM_Mass_0019_4.mei...\n",
      "Successfully imported.\n",
      "Requesting file from https://raw.githubusercontent.com/CRIM-Project/CRIM-online/master/crim/static/mei/MEI_3.0/CRIM_Mass_0009_2.mei...\n",
      "Successfully imported.\n",
      "Requesting file from https://raw.githubusercontent.com/CRIM-Project/CRIM-online/master/crim/static/mei/MEI_3.0/CRIM_Mass_0003_2.mei...\n",
      "Successfully imported.\n",
      "Requesting file from https://raw.githubusercontent.com/CRIM-Project/CRIM-online/master/crim/static/mei/MEI_3.0/CRIM_Mass_0007_2.mei...\n",
      "Successfully imported.\n",
      "Requesting file from https://raw.githubusercontent.com/CRIM-Project/CRIM-online/master/crim/static/mei/MEI_3.0/CRIM_Mass_0003_2.mei...\n",
      "Successfully imported.\n",
      "Requesting file from https://raw.githubusercontent.com/CRIM-Project/CRIM-online/master/crim/static/mei/MEI_3.0/CRIM_Mass_0003_2.mei...\n",
      "Successfully imported.\n",
      "Requesting file from https://raw.githubusercontent.com/CRIM-Project/CRIM-online/master/crim/static/mei/MEI_3.0/CRIM_Mass_0003_2.mei...\n",
      "Successfully imported.\n",
      "Requesting file from https://raw.githubusercontent.com/CRIM-Project/CRIM-online/master/crim/static/mei/MEI_3.0/CRIM_Model_0010.mei...\n",
      "Successfully imported.\n",
      "Requesting file from https://raw.githubusercontent.com/CRIM-Project/CRIM-online/master/crim/static/mei/MEI_3.0/CRIM_Model_0016.mei...\n",
      "Successfully imported.\n",
      "Requesting file from https://raw.githubusercontent.com/CRIM-Project/CRIM-online/master/crim/static/mei/MEI_3.0/CRIM_Mass_0003_5.mei...\n",
      "Successfully imported.\n"
     ]
    },
    {
     "data": {
      "text/plain": [
       "<matplotlib.axes._subplots.AxesSubplot at 0x7f846f9f8610>"
      ]
     },
     "execution_count": 31,
     "metadata": {},
     "output_type": "execute_result"
    },
    {
     "data": {
      "image/png": "[encoded data removed]",
      "text/plain": [
       "<Figure size 432x288 with 1 Axes>"
      ]
     },
     "metadata": {
      "image/png": {
       "height": 248,
       "width": 369
      },
      "needs_background": "light"
     },
     "output_type": "display_data"
    }
   ],
   "source": [
    "chromatic_flex=df['chromatic_flex']\n",
    "chromatic_flex_scores = calculate_score(chromatic_flex, \"c\")\n",
    "pd.Series(chromatic_flex_scores).hist()"
   ]
  },
  {
   "cell_type": "code",
   "execution_count": 30,
   "id": "86c68176-bcef-477f-9d38-18d9db8cc60a",
   "metadata": {},
   "outputs": [
    {
     "name": "stdout",
     "output_type": "stream",
     "text": [
      "Requesting file from https://raw.githubusercontent.com/CRIM-Project/CRIM-online/master/crim/static/mei/MEI_3.0/CRIM_Mass_0015_3.mei...\n",
      "Successfully imported.\n",
      "Requesting file from https://raw.githubusercontent.com/CRIM-Project/CRIM-online/master/crim/static/mei/MEI_3.0/CRIM_Mass_0015_3.mei...\n",
      "Successfully imported.\n",
      "Requesting file from https://raw.githubusercontent.com/CRIM-Project/CRIM-online/master/crim/static/mei/MEI_3.0/CRIM_Model_0001.mei...\n",
      "Successfully imported.\n",
      "Requesting file from https://raw.githubusercontent.com/CRIM-Project/CRIM-online/master/crim/static/mei/MEI_3.0/CRIM_Mass_0019_2.mei...\n",
      "Successfully imported.\n",
      "Requesting file from https://raw.githubusercontent.com/CRIM-Project/CRIM-online/master/crim/static/mei/MEI_3.0/CRIM_Model_0019.mei...\n",
      "Successfully imported.\n",
      "Requesting file from https://raw.githubusercontent.com/CRIM-Project/CRIM-online/master/crim/static/mei/MEI_3.0/CRIM_Model_0019.mei...\n",
      "Successfully imported.\n",
      "Requesting file from https://raw.githubusercontent.com/CRIM-Project/CRIM-online/master/crim/static/mei/MEI_3.0/CRIM_Mass_0003_1.mei...\n",
      "Successfully imported.\n",
      "Requesting file from https://raw.githubusercontent.com/CRIM-Project/CRIM-online/master/crim/static/mei/MEI_3.0/CRIM_Mass_0019_2.mei...\n",
      "Successfully imported.\n",
      "Requesting file from https://raw.githubusercontent.com/CRIM-Project/CRIM-online/master/crim/static/mei/MEI_3.0/CRIM_Model_0019.mei...\n",
      "Successfully imported.\n",
      "Requesting file from https://raw.githubusercontent.com/CRIM-Project/CRIM-online/master/crim/static/mei/MEI_3.0/CRIM_Model_0019.mei...\n",
      "Successfully imported.\n",
      "Requesting file from https://raw.githubusercontent.com/CRIM-Project/CRIM-online/master/crim/static/mei/MEI_3.0/CRIM_Mass_0019_2.mei...\n",
      "Successfully imported.\n",
      "Requesting file from https://raw.githubusercontent.com/CRIM-Project/CRIM-online/master/crim/static/mei/MEI_3.0/CRIM_Mass_0019_2.mei...\n",
      "Successfully imported.\n",
      "Requesting file from https://raw.githubusercontent.com/CRIM-Project/CRIM-online/master/crim/static/mei/MEI_3.0/CRIM_Model_0019.mei...\n",
      "Successfully imported.\n",
      "Requesting file from https://raw.githubusercontent.com/CRIM-Project/CRIM-online/master/crim/static/mei/MEI_3.0/CRIM_Model_0019.mei...\n",
      "Successfully imported.\n",
      "Requesting file from https://raw.githubusercontent.com/CRIM-Project/CRIM-online/master/crim/static/mei/MEI_3.0/CRIM_Mass_0019_2.mei...\n",
      "Successfully imported.\n",
      "Requesting file from https://raw.githubusercontent.com/CRIM-Project/CRIM-online/master/crim/static/mei/MEI_3.0/CRIM_Mass_0019_2.mei...\n",
      "Successfully imported.\n",
      "Requesting file from https://raw.githubusercontent.com/CRIM-Project/CRIM-online/master/crim/static/mei/MEI_3.0/CRIM_Mass_0003_2.mei...\n",
      "Successfully imported.\n",
      "Requesting file from https://raw.githubusercontent.com/CRIM-Project/CRIM-online/master/crim/static/mei/MEI_3.0/CRIM_Mass_0007_2.mei...\n",
      "Successfully imported.\n",
      "Requesting file from https://raw.githubusercontent.com/CRIM-Project/CRIM-online/master/crim/static/mei/MEI_3.0/CRIM_Mass_0007_2.mei...\n",
      "Successfully imported.\n",
      "Requesting file from https://raw.githubusercontent.com/CRIM-Project/CRIM-online/master/crim/static/mei/MEI_3.0/CRIM_Model_0016.mei...\n",
      "Successfully imported.\n",
      "Requesting file from https://raw.githubusercontent.com/CRIM-Project/CRIM-online/master/crim/static/mei/MEI_3.0/CRIM_Mass_0009_4.mei...\n",
      "Successfully imported.\n",
      "Requesting file from https://raw.githubusercontent.com/CRIM-Project/CRIM-online/master/crim/static/mei/MEI_3.0/CRIM_Mass_0008_2.mei...\n",
      "Successfully imported.\n",
      "Requesting file from https://raw.githubusercontent.com/CRIM-Project/CRIM-online/master/crim/static/mei/MEI_3.0/CRIM_Mass_0014_2.mei...\n",
      "Successfully imported.\n",
      "Requesting file from https://raw.githubusercontent.com/CRIM-Project/CRIM-online/master/crim/static/mei/MEI_3.0/CRIM_Model_0016.mei...\n",
      "Successfully imported.\n",
      "Requesting file from https://raw.githubusercontent.com/CRIM-Project/CRIM-online/master/crim/static/mei/MEI_3.0/CRIM_Model_0016.mei...\n",
      "Successfully imported.\n"
     ]
    },
    {
     "data": {
      "text/plain": [
       "<matplotlib.axes._subplots.AxesSubplot at 0x7f846ef53250>"
      ]
     },
     "execution_count": 30,
     "metadata": {},
     "output_type": "execute_result"
    },
    {
     "data": {
      "image/png": "[encoded data removed]",
      "text/plain": [
       "<Figure size 432x288 with 1 Axes>"
      ]
     },
     "metadata": {
      "image/png": {
       "height": 248,
       "width": 362
      },
      "needs_background": "light"
     },
     "output_type": "display_data"
    }
   ],
   "source": [
    "chromatic_not_flex=~df['chromatic_flex']\n",
    "chromatic_not_flex_scores = calculate_score(chromatic_not_flex, \"c\")\n",
    "pd.Series(chromatic_not_flex_scores).hist()"
   ]
  },
  {
   "cell_type": "markdown",
   "id": "05ef9c6c-6138-417e-b4db-d8c2973b48a4",
   "metadata": {},
   "source": [
    "## Plotting Average Levenshtein similarity between different musical types"
   ]
  },
  {
   "cell_type": "code",
   "execution_count": 121,
   "id": "b9aa6942-2e5c-4b47-afc0-581a7758461b",
   "metadata": {},
   "outputs": [],
   "source": [
    "from matplotlib.backends.backend_pdf import PdfPages\n",
    "df= pd.read_csv('../CRIM_Intervals_Notebooks/crim_observations.csv')\n",
    "\n",
    "def calculate_score2(kind, importedModels, observationDf):\n",
    "    \"\"\"\n",
    "    Return a series of average normalized levenshtein score for each ema.\n",
    "    :param condition: to select specific areas of the dataframe to examine\n",
    "    :param kind: kind of intervals\n",
    "    \"\"\"\n",
    "    prefix = 'https://raw.githubusercontent.com/CRIM-Project/CRIM-online/master/crim/static/mei/MEI_3.0/'\n",
    "    postfix = \".mei\"\n",
    "    df = observationDf\n",
    "\n",
    "    algorithm = NormalizedLevenshtein()\n",
    "    scores = []\n",
    "    for i in df.index:\n",
    "        row = df.loc[i]\n",
    "        try:\n",
    "            if row['piece.piece_id'] not in importedModels:\n",
    "                model = ObservedPiece(prefix + row['piece.piece_id'] + postfix)\n",
    "                importedModels[row['piece.piece_id']] = model\n",
    "            else:\n",
    "                model = importedModels[row['piece.piece_id']]\n",
    "        except:\n",
    "            print(row['piece.piece_id'])\n",
    "            continue\n",
    "            \n",
    "        ema_df = model.getNgramsFromEma(row['ema'], kind=kind)\n",
    "        score_df = viz.compute_levenshtein_similarity(ema_df.drop([\"ema\"], axis=1), algorithm.similarity)\n",
    "        scores.append(score_df.mean())\n",
    "    return scores"
   ]
  },
  {
   "cell_type": "code",
   "execution_count": 93,
   "id": "72cf7ea1-af24-44c5-86ce-c93e6f8ecd7f",
   "metadata": {},
   "outputs": [
    {
     "name": "stdout",
     "output_type": "stream",
     "text": [
      "Requesting file from https://raw.githubusercontent.com/CRIM-Project/CRIM-online/master/crim/static/mei/MEI_3.0/CRIM_Mass_0009_5.mei...\n",
      "Successfully imported.\n",
      "Requesting file from https://raw.githubusercontent.com/CRIM-Project/CRIM-online/master/crim/static/mei/MEI_3.0/CRIM_Mass_0015_2.mei...\n",
      "Successfully imported.\n",
      "Requesting file from https://raw.githubusercontent.com/CRIM-Project/CRIM-online/master/crim/static/mei/MEI_3.0/CRIM_Model_0017.mei...\n",
      "Successfully imported.\n",
      "Requesting file from https://raw.githubusercontent.com/CRIM-Project/CRIM-online/master/crim/static/mei/MEI_3.0/CRIM_Mass_0015_1.mei...\n",
      "Successfully imported.\n",
      "Requesting file from https://raw.githubusercontent.com/CRIM-Project/CRIM-online/master/crim/static/mei/MEI_3.0/CRIM_Mass_0015_3.mei...\n",
      "Successfully imported.\n",
      "Requesting file from https://raw.githubusercontent.com/CRIM-Project/CRIM-online/master/crim/static/mei/MEI_3.0/CRIM_Mass_0015_4.mei...\n",
      "Successfully imported.\n",
      "Requesting file from https://raw.githubusercontent.com/CRIM-Project/CRIM-online/master/crim/static/mei/MEI_3.0/CRIM_Model_0001.mei...\n",
      "Successfully imported.\n",
      "Requesting file from https://raw.githubusercontent.com/CRIM-Project/CRIM-online/master/crim/static/mei/MEI_3.0/CRIM_Mass_0019_2.mei...\n",
      "Successfully imported.\n",
      "Requesting file from https://raw.githubusercontent.com/CRIM-Project/CRIM-online/master/crim/static/mei/MEI_3.0/CRIM_Mass_0009_3.mei...\n",
      "Successfully imported.\n",
      "Requesting file from https://raw.githubusercontent.com/CRIM-Project/CRIM-online/master/crim/static/mei/MEI_3.0/CRIM_Model_0019.mei...\n",
      "Successfully imported.\n",
      "Requesting file from https://raw.githubusercontent.com/CRIM-Project/CRIM-online/master/crim/static/mei/MEI_3.0/CRIM_Mass_0003_1.mei...\n",
      "Successfully imported.\n",
      "Requesting file from https://raw.githubusercontent.com/CRIM-Project/CRIM-online/master/crim/static/mei/MEI_3.0/CRIM_Mass_0019_4.mei...\n",
      "Successfully imported.\n",
      "Requesting file from https://raw.githubusercontent.com/CRIM-Project/CRIM-online/master/crim/static/mei/MEI_3.0/CRIM_Mass_0009_2.mei...\n",
      "Successfully imported.\n",
      "Requesting file from https://raw.githubusercontent.com/CRIM-Project/CRIM-online/master/crim/static/mei/MEI_3.0/CRIM_Mass_0003_2.mei...\n",
      "Successfully imported.\n",
      "Requesting file from https://raw.githubusercontent.com/CRIM-Project/CRIM-online/master/crim/static/mei/MEI_3.0/CRIM_Mass_0007_2.mei...\n",
      "Successfully imported.\n",
      "Requesting file from https://raw.githubusercontent.com/CRIM-Project/CRIM-online/master/crim/static/mei/MEI_3.0/CRIM_Model_0016.mei...\n",
      "Successfully imported.\n",
      "Requesting file from https://raw.githubusercontent.com/CRIM-Project/CRIM-online/master/crim/static/mei/MEI_3.0/CRIM_Mass_0009_4.mei...\n",
      "Successfully imported.\n",
      "Requesting file from https://raw.githubusercontent.com/CRIM-Project/CRIM-online/master/crim/static/mei/MEI_3.0/CRIM_Model_0010.mei...\n",
      "Successfully imported.\n",
      "Requesting file from https://raw.githubusercontent.com/CRIM-Project/CRIM-online/master/crim/static/mei/MEI_3.0/CRIM_Mass_0008_2.mei...\n",
      "Successfully imported.\n",
      "Requesting file from https://raw.githubusercontent.com/CRIM-Project/CRIM-online/master/crim/static/mei/MEI_3.0/CRIM_Mass_0014_2.mei...\n",
      "Successfully imported.\n",
      "Requesting file from https://raw.githubusercontent.com/CRIM-Project/CRIM-online/master/crim/static/mei/MEI_3.0/CRIM_Mass_0014_3.mei...\n",
      "Successfully imported.\n",
      "Requesting file from https://raw.githubusercontent.com/CRIM-Project/CRIM-online/master/crim/static/mei/MEI_3.0/CRIM_Mass_0003_5.mei...\n",
      "Successfully imported.\n",
      "Requesting file from https://raw.githubusercontent.com/CRIM-Project/CRIM-online/master/crim/static/mei/MEI_3.0/CRIM_Model_0008.mei...\n",
      "Successfully imported.\n",
      "Requesting file from https://raw.githubusercontent.com/CRIM-Project/CRIM-online/master/crim/static/mei/MEI_3.0/CRIM_Mass_0014_4.mei...\n",
      "Successfully imported.\n",
      "Requesting file from https://raw.githubusercontent.com/CRIM-Project/CRIM-online/master/crim/static/mei/MEI_3.0/CRIM_Mass_0018_3.mei...\n",
      "Successfully imported.\n",
      "Requesting file from https://raw.githubusercontent.com/CRIM-Project/CRIM-online/master/crim/static/mei/MEI_3.0/CRIM_Mass_0007_4.mei...\n",
      "Successfully imported.\n",
      "Requesting file from https://raw.githubusercontent.com/CRIM-Project/CRIM-online/master/crim/static/mei/MEI_3.0/CRIM_Mass_0003_3.mei...\n",
      "Successfully imported.\n",
      "Requesting file from https://raw.githubusercontent.com/CRIM-Project/CRIM-online/master/crim/static/mei/MEI_3.0/CRIM_Mass_0005_5.mei...\n",
      "Successfully imported.\n",
      "Requesting file from https://raw.githubusercontent.com/CRIM-Project/CRIM-online/master/crim/static/mei/MEI_3.0/CRIM_Mass_0014_5.mei...\n",
      "Successfully imported.\n"
     ]
    }
   ],
   "source": [
    "musical_types = df['musical_type'].unique()\n",
    "imported_models = {}\n",
    "musical_types[1:2]\n",
    "# with PdfPages('multipage_pdf.pdf') as pdf:\n",
    "#     for musical_type in musical_types[1:2]:\n",
    "#         condition = df['musical_type']==musical_type\n",
    "#         scores = calculate_score2(condition, 'z', imported_models, df)\n",
    "#         print(musical_type)\n",
    "#         pdf.savefig(pd.Series(scores).hist().show())\n",
    "cond = df['musical_type']=='Periodic entry'\n",
    "df2 = df[cond].head(100)\n",
    "scores = calculate_score2('z', imported_models, df2)\n"
   ]
  },
  {
   "cell_type": "code",
   "execution_count": 95,
   "id": "aea957ff-c095-4752-adfb-852f84618898",
   "metadata": {},
   "outputs": [
    {
     "data": {
      "text/plain": [
       "<matplotlib.axes._subplots.AxesSubplot at 0x7f845a7462d0>"
      ]
     },
     "execution_count": 95,
     "metadata": {},
     "output_type": "execute_result"
    },
    {
     "data": {
      "image/png": "[encoded data removed]",
      "text/plain": [
       "<Figure size 432x288 with 1 Axes>"
      ]
     },
     "metadata": {
      "image/png": {
       "height": 248,
       "width": 369
      },
      "needs_background": "light"
     },
     "output_type": "display_data"
    }
   ],
   "source": [
    "pd.Series(scores).hist()"
   ]
  },
  {
   "cell_type": "code",
   "execution_count": 133,
   "id": "160c7e99-13fa-45db-99ce-6c228c1bb624",
   "metadata": {},
   "outputs": [
    {
     "data": {
      "text/plain": [
       "'      Unnamed: 0                                             url    id                                                                                                                                             ema    musical_type  mt_cf mt_cf_voices  mt_cf_dur  mt_cf_mel  mt_sog mt_sog_voices  mt_sog_dur  mt_sog_mel  mt_sog_ostinato  mt_sog_periodic  mt_csog mt_csog_voices  mt_csog_dur  mt_csog_mel  mt_cd mt_cd_voices  mt_fg mt_fg_voices mt_fg_int mt_fg_tint  mt_fg_periodic  mt_fg_strict  mt_fg_flexed  mt_fg_sequential  mt_fg_inverted  mt_fg_retrograde  mt_pe                          mt_pe_voices mt_pe_int mt_pe_tint  mt_pe_strict  mt_pe_flexed  mt_pe_flt  mt_pe_sequential  mt_pe_added  mt_pe_invertible  mt_id mt_id_voices mt_id_int mt_id_tint  mt_id_strict  mt_id_flexed  mt_id_flt  mt_id_invertible  mt_nid mt_nid_voices mt_nid_int mt_nid_tint  mt_nid_strict  mt_nid_flexed  mt_nid_flt  mt_nid_sequential  mt_nid_invertible  mt_hr mt_hr_voices  mt_hr_simple  mt_hr_staggered  mt_hr_sequential  mt_hr_fauxbourdon  mt_cad mt_cad_cantizans mt_cad_tenorizans mt_cad_type mt_cad_tone mt_cad_dtv mt_cad_dti  mt_int mt_int_voices  mt_int_p6  mt_int_p3  mt_int_c35  mt_int_c83  mt_int_c65  mt_fp  mt_fp_ir mt_fp_range mt_fp_comment remarks                    created                           updated  curated                                          observer.url       observer.name                                             piece.url    piece.piece_id         piece.full_title      piece.mass\\n3244        3244  http://crimproject.org/data/observations/3246/  3246  197-206/2,2,2+4,2+4,1-2+4,1+4,1-3,1+3,1+3,3/@1-4,@1-3,@1-4+@1-4,@1-4.5+@1-3,@1-4+@1+@1-4,@1-3+@1-4.5,@1-4+@1-3+@1-4,@1-4.5+@1-3,@1+@1-4,@1@2.5  Periodic entry  False          NaN      False      False   False           NaN       False       False            False            False    False            NaN        False        False  False          NaN  False          NaN       NaN        NaN           False         False         False             False           False             False   True  Contratenor\\\\nBassus\\\\nSuperius\\\\nTenor   8-12+8-     B2/2/2          True         False      False             False        False              True  False          NaN       NaN        NaN         False         False      False             False   False           NaN        NaN         NaN          False          False       False              False              False  False          NaN         False            False             False              False   False              NaN               NaN         NaN         NaN        NaN        NaN   False           NaN      False      False       False       False       False  False     False         NaN           NaN     NaN  2017-08-07T13:46:31-04:00  2019-06-26T17:55:26.070000-04:00     True  http://crimproject.org/data/people/CRIM_Person_1009/  Alessandra Ignesti  http://crimproject.org/data/pieces/CRIM_Mass_0014_3/  CRIM_Mass_0014_3  Missa Mente tota: Credo  CRIM_Mass_0014'"
      ]
     },
     "execution_count": 133,
     "metadata": {},
     "output_type": "execute_result"
    }
   ],
   "source": [
    "musical_types = df['musical_type'].unique()\n",
    "imported_models = {}\n",
    "cond = df['musical_type']=='Periodic entry'\n",
    "# periodic entries 101-115 safe\n",
    "df2 = df[cond].iloc[145:146]#.to_dict()\n",
    "# scores2 = calculate_score2('z', imported_models, df2)\n",
    "df2.to_string()"
   ]
  },
  {
   "cell_type": "code",
   "execution_count": null,
   "id": "fa971f14-6b7f-4fd0-8b7a-51ec7d3bff58",
   "metadata": {},
   "outputs": [],
   "source": [
    "pd.Series(scores2).hist()"
   ]
  },
  {
   "cell_type": "markdown",
   "id": "10f8a474-e756-498a-b02f-11821bc3d490",
   "metadata": {},
   "source": [
    "## Not working ema address \n",
    "\n",
    "Trying to explore with the ema addresses that aren't working!"
   ]
  },
  {
   "cell_type": "code",
   "execution_count": 51,
   "id": "39ab2160-919f-4abd-b087-f1b25d586b41",
   "metadata": {},
   "outputs": [
    {
     "name": "stdout",
     "output_type": "stream",
     "text": [
      "Requesting file from https://raw.githubusercontent.com/CRIM-Project/CRIM-online/master/crim/static/mei/MEI_3.0/CRIM_Mass_0014_3.mei...\n",
      "Successfully imported.\n"
     ]
    }
   ],
   "source": [
    "piece = ObservedPiece(\"https://raw.githubusercontent.com/CRIM-Project/CRIM-online/master/crim/static/mei/MEI_3.0/CRIM_Mass_0014_3.mei\")"
   ]
  },
  {
   "cell_type": "code",
   "execution_count": 52,
   "id": "067059c9-e400-4f59-ae49-53ac30a09ea3",
   "metadata": {},
   "outputs": [
    {
     "data": {
      "text/html": [
       "<div>\n",
       "<style scoped>\n",
       "    .dataframe tbody tr th:only-of-type {\n",
       "        vertical-align: middle;\n",
       "    }\n",
       "\n",
       "    .dataframe tbody tr th {\n",
       "        vertical-align: top;\n",
       "    }\n",
       "\n",
       "    .dataframe thead th {\n",
       "        text-align: right;\n",
       "    }\n",
       "</style>\n",
       "<table border=\"1\" class=\"dataframe\">\n",
       "  <thead>\n",
       "    <tr style=\"text-align: right;\">\n",
       "      <th></th>\n",
       "      <th>Sup[erius]</th>\n",
       "      <th>Contratenor</th>\n",
       "      <th>Tenor</th>\n",
       "      <th>Bassus</th>\n",
       "    </tr>\n",
       "  </thead>\n",
       "  <tbody>\n",
       "    <tr>\n",
       "      <th>1674.0</th>\n",
       "      <td>NaN</td>\n",
       "      <td>D4</td>\n",
       "      <td>F4</td>\n",
       "      <td>NaN</td>\n",
       "    </tr>\n",
       "    <tr>\n",
       "      <th>1678.0</th>\n",
       "      <td>NaN</td>\n",
       "      <td>C4</td>\n",
       "      <td>E4</td>\n",
       "      <td>NaN</td>\n",
       "    </tr>\n",
       "    <tr>\n",
       "      <th>1679.0</th>\n",
       "      <td>NaN</td>\n",
       "      <td>B-3</td>\n",
       "      <td>D4</td>\n",
       "      <td>NaN</td>\n",
       "    </tr>\n",
       "    <tr>\n",
       "      <th>1680.0</th>\n",
       "      <td>NaN</td>\n",
       "      <td>C4</td>\n",
       "      <td>E4</td>\n",
       "      <td>A3</td>\n",
       "    </tr>\n",
       "    <tr>\n",
       "      <th>1684.0</th>\n",
       "      <td>A4</td>\n",
       "      <td>D4</td>\n",
       "      <td>F4</td>\n",
       "      <td>D3</td>\n",
       "    </tr>\n",
       "  </tbody>\n",
       "</table>\n",
       "</div>"
      ],
      "text/plain": [
       "       Sup[erius] Contratenor Tenor Bassus\n",
       "1674.0        NaN          D4    F4    NaN\n",
       "1678.0        NaN          C4    E4    NaN\n",
       "1679.0        NaN         B-3    D4    NaN\n",
       "1680.0        NaN          C4    E4     A3\n",
       "1684.0         A4          D4    F4     D3"
      ]
     },
     "execution_count": 52,
     "metadata": {},
     "output_type": "execute_result"
    }
   ],
   "source": [
    "# First, check if retrieved the correct beats and measures\n",
    "piece.getNoteRest().loc[1674:1684]"
   ]
  },
  {
   "cell_type": "code",
   "execution_count": 53,
   "id": "99bd8c0d-db52-4843-9a3e-4581d19ff3d5",
   "metadata": {},
   "outputs": [
    {
     "data": {
      "text/html": [
       "<div>\n",
       "<style scoped>\n",
       "    .dataframe tbody tr th:only-of-type {\n",
       "        vertical-align: middle;\n",
       "    }\n",
       "\n",
       "    .dataframe tbody tr th {\n",
       "        vertical-align: top;\n",
       "    }\n",
       "\n",
       "    .dataframe thead th {\n",
       "        text-align: right;\n",
       "    }\n",
       "</style>\n",
       "<table border=\"1\" class=\"dataframe\">\n",
       "  <thead>\n",
       "    <tr style=\"text-align: right;\">\n",
       "      <th></th>\n",
       "      <th>Sup[erius]</th>\n",
       "      <th>Contratenor</th>\n",
       "      <th>Tenor</th>\n",
       "      <th>Bassus</th>\n",
       "    </tr>\n",
       "  </thead>\n",
       "  <tbody>\n",
       "    <tr>\n",
       "      <th>1676.0</th>\n",
       "      <td>206.0</td>\n",
       "      <td>206.0</td>\n",
       "      <td>206.0</td>\n",
       "      <td>206.0</td>\n",
       "    </tr>\n",
       "    <tr>\n",
       "      <th>1684.0</th>\n",
       "      <td>207.0</td>\n",
       "      <td>207.0</td>\n",
       "      <td>207.0</td>\n",
       "      <td>207.0</td>\n",
       "    </tr>\n",
       "  </tbody>\n",
       "</table>\n",
       "</div>"
      ],
      "text/plain": [
       "        Sup[erius]  Contratenor  Tenor  Bassus\n",
       "1676.0       206.0        206.0  206.0   206.0\n",
       "1684.0       207.0        207.0  207.0   207.0"
      ]
     },
     "execution_count": 53,
     "metadata": {},
     "output_type": "execute_result"
    }
   ],
   "source": [
    "ms = piece.getMeasure()\n",
    "ms[(ms == 206) | (ms == 207)].dropna()"
   ]
  },
  {
   "cell_type": "code",
   "execution_count": 54,
   "id": "cd9e52b0-ac28-48fd-a949-af318dcfd76d",
   "metadata": {},
   "outputs": [
    {
     "data": {
      "text/html": [
       "<div>\n",
       "<style scoped>\n",
       "    .dataframe tbody tr th:only-of-type {\n",
       "        vertical-align: middle;\n",
       "    }\n",
       "\n",
       "    .dataframe tbody tr th {\n",
       "        vertical-align: top;\n",
       "    }\n",
       "\n",
       "    .dataframe thead th {\n",
       "        text-align: right;\n",
       "    }\n",
       "</style>\n",
       "<table border=\"1\" class=\"dataframe\">\n",
       "  <thead>\n",
       "    <tr style=\"text-align: right;\">\n",
       "      <th></th>\n",
       "      <th>Sup[erius]</th>\n",
       "      <th>Contratenor</th>\n",
       "      <th>Tenor</th>\n",
       "      <th>Bassus</th>\n",
       "    </tr>\n",
       "  </thead>\n",
       "  <tbody>\n",
       "    <tr>\n",
       "      <th>0.0</th>\n",
       "      <td>4/2</td>\n",
       "      <td>4/2</td>\n",
       "      <td>4/2</td>\n",
       "      <td>4/2</td>\n",
       "    </tr>\n",
       "    <tr>\n",
       "      <th>864.0</th>\n",
       "      <td>3/1</td>\n",
       "      <td>3/1</td>\n",
       "      <td>3/1</td>\n",
       "      <td>3/1</td>\n",
       "    </tr>\n",
       "    <tr>\n",
       "      <th>900.0</th>\n",
       "      <td>8/2</td>\n",
       "      <td>8/2</td>\n",
       "      <td>8/2</td>\n",
       "      <td>8/2</td>\n",
       "    </tr>\n",
       "    <tr>\n",
       "      <th>916.0</th>\n",
       "      <td>4/2</td>\n",
       "      <td>4/2</td>\n",
       "      <td>4/2</td>\n",
       "      <td>4/2</td>\n",
       "    </tr>\n",
       "    <tr>\n",
       "      <th>1084.0</th>\n",
       "      <td>8/2</td>\n",
       "      <td>8/2</td>\n",
       "      <td>8/2</td>\n",
       "      <td>8/2</td>\n",
       "    </tr>\n",
       "    <tr>\n",
       "      <th>1100.0</th>\n",
       "      <td>4/2</td>\n",
       "      <td>4/2</td>\n",
       "      <td>4/2</td>\n",
       "      <td>4/2</td>\n",
       "    </tr>\n",
       "    <tr>\n",
       "      <th>1588.0</th>\n",
       "      <td>8/2</td>\n",
       "      <td>8/2</td>\n",
       "      <td>8/2</td>\n",
       "      <td>8/2</td>\n",
       "    </tr>\n",
       "    <tr>\n",
       "      <th>1604.0</th>\n",
       "      <td>4/2</td>\n",
       "      <td>4/2</td>\n",
       "      <td>4/2</td>\n",
       "      <td>4/2</td>\n",
       "    </tr>\n",
       "    <tr>\n",
       "      <th>2220.0</th>\n",
       "      <td>3/1</td>\n",
       "      <td>3/1</td>\n",
       "      <td>3/1</td>\n",
       "      <td>3/1</td>\n",
       "    </tr>\n",
       "    <tr>\n",
       "      <th>2364.0</th>\n",
       "      <td>8/2</td>\n",
       "      <td>8/2</td>\n",
       "      <td>8/2</td>\n",
       "      <td>8/2</td>\n",
       "    </tr>\n",
       "  </tbody>\n",
       "</table>\n",
       "</div>"
      ],
      "text/plain": [
       "       Sup[erius] Contratenor Tenor Bassus\n",
       "0.0           4/2         4/2   4/2    4/2\n",
       "864.0         3/1         3/1   3/1    3/1\n",
       "900.0         8/2         8/2   8/2    8/2\n",
       "916.0         4/2         4/2   4/2    4/2\n",
       "1084.0        8/2         8/2   8/2    8/2\n",
       "1100.0        4/2         4/2   4/2    4/2\n",
       "1588.0        8/2         8/2   8/2    8/2\n",
       "1604.0        4/2         4/2   4/2    4/2\n",
       "2220.0        3/1         3/1   3/1    3/1\n",
       "2364.0        8/2         8/2   8/2    8/2"
      ]
     },
     "execution_count": 54,
     "metadata": {},
     "output_type": "execute_result"
    }
   ],
   "source": [
    "piece.getTimeSignature()"
   ]
  },
  {
   "cell_type": "code",
   "execution_count": 55,
   "id": "564fa4c7-a46e-41ab-9eba-f244f321c256",
   "metadata": {},
   "outputs": [
    {
     "data": {
      "text/html": [
       "<div>\n",
       "<style scoped>\n",
       "    .dataframe tbody tr th:only-of-type {\n",
       "        vertical-align: middle;\n",
       "    }\n",
       "\n",
       "    .dataframe tbody tr th {\n",
       "        vertical-align: top;\n",
       "    }\n",
       "\n",
       "    .dataframe thead th {\n",
       "        text-align: right;\n",
       "    }\n",
       "</style>\n",
       "<table border=\"1\" class=\"dataframe\">\n",
       "  <thead>\n",
       "    <tr style=\"text-align: right;\">\n",
       "      <th></th>\n",
       "      <th>Sup[erius]</th>\n",
       "      <th>Contratenor</th>\n",
       "      <th>Tenor</th>\n",
       "      <th>Bassus</th>\n",
       "    </tr>\n",
       "  </thead>\n",
       "  <tbody>\n",
       "    <tr>\n",
       "      <th>1674.0</th>\n",
       "      <td>NaN</td>\n",
       "      <td>2.0</td>\n",
       "      <td>2.0</td>\n",
       "      <td>NaN</td>\n",
       "    </tr>\n",
       "    <tr>\n",
       "      <th>1678.0</th>\n",
       "      <td>NaN</td>\n",
       "      <td>4.0</td>\n",
       "      <td>4.0</td>\n",
       "      <td>NaN</td>\n",
       "    </tr>\n",
       "    <tr>\n",
       "      <th>1679.0</th>\n",
       "      <td>NaN</td>\n",
       "      <td>4.5</td>\n",
       "      <td>4.5</td>\n",
       "      <td>NaN</td>\n",
       "    </tr>\n",
       "    <tr>\n",
       "      <th>1680.0</th>\n",
       "      <td>NaN</td>\n",
       "      <td>1.0</td>\n",
       "      <td>1.0</td>\n",
       "      <td>1.0</td>\n",
       "    </tr>\n",
       "    <tr>\n",
       "      <th>1684.0</th>\n",
       "      <td>3.0</td>\n",
       "      <td>3.0</td>\n",
       "      <td>3.0</td>\n",
       "      <td>3.0</td>\n",
       "    </tr>\n",
       "  </tbody>\n",
       "</table>\n",
       "</div>"
      ],
      "text/plain": [
       "        Sup[erius]  Contratenor  Tenor  Bassus\n",
       "1674.0         NaN          2.0    2.0     NaN\n",
       "1678.0         NaN          4.0    4.0     NaN\n",
       "1679.0         NaN          4.5    4.5     NaN\n",
       "1680.0         NaN          1.0    1.0     1.0\n",
       "1684.0         3.0          3.0    3.0     3.0"
      ]
     },
     "execution_count": 55,
     "metadata": {},
     "output_type": "execute_result"
    }
   ],
   "source": [
    "beats = piece.getBeat()\n",
    "beats.loc[1674:1684]"
   ]
  },
  {
   "cell_type": "code",
   "execution_count": 56,
   "id": "df5204a6-b43b-42c1-baa4-d8dfc0ec5b53",
   "metadata": {},
   "outputs": [
    {
     "data": {
      "text/html": [
       "<div>\n",
       "<style scoped>\n",
       "    .dataframe tbody tr th:only-of-type {\n",
       "        vertical-align: middle;\n",
       "    }\n",
       "\n",
       "    .dataframe tbody tr th {\n",
       "        vertical-align: top;\n",
       "    }\n",
       "\n",
       "    .dataframe thead th {\n",
       "        text-align: right;\n",
       "    }\n",
       "</style>\n",
       "<table border=\"1\" class=\"dataframe\">\n",
       "  <thead>\n",
       "    <tr style=\"text-align: right;\">\n",
       "      <th></th>\n",
       "      <th>Sup[erius]</th>\n",
       "      <th>Contratenor</th>\n",
       "      <th>Tenor</th>\n",
       "      <th>Bassus</th>\n",
       "    </tr>\n",
       "  </thead>\n",
       "  <tbody>\n",
       "    <tr>\n",
       "      <th>1674.0</th>\n",
       "      <td>NaN</td>\n",
       "      <td>4.0</td>\n",
       "      <td>4.0</td>\n",
       "      <td>NaN</td>\n",
       "    </tr>\n",
       "    <tr>\n",
       "      <th>1678.0</th>\n",
       "      <td>NaN</td>\n",
       "      <td>1.0</td>\n",
       "      <td>1.0</td>\n",
       "      <td>NaN</td>\n",
       "    </tr>\n",
       "    <tr>\n",
       "      <th>1679.0</th>\n",
       "      <td>NaN</td>\n",
       "      <td>1.0</td>\n",
       "      <td>1.0</td>\n",
       "      <td>NaN</td>\n",
       "    </tr>\n",
       "    <tr>\n",
       "      <th>1680.0</th>\n",
       "      <td>NaN</td>\n",
       "      <td>4.0</td>\n",
       "      <td>4.0</td>\n",
       "      <td>4.0</td>\n",
       "    </tr>\n",
       "    <tr>\n",
       "      <th>1684.0</th>\n",
       "      <td>3.0</td>\n",
       "      <td>4.0</td>\n",
       "      <td>3.0</td>\n",
       "      <td>3.0</td>\n",
       "    </tr>\n",
       "  </tbody>\n",
       "</table>\n",
       "</div>"
      ],
      "text/plain": [
       "        Sup[erius]  Contratenor  Tenor  Bassus\n",
       "1674.0         NaN          4.0    4.0     NaN\n",
       "1678.0         NaN          1.0    1.0     NaN\n",
       "1679.0         NaN          1.0    1.0     NaN\n",
       "1680.0         NaN          4.0    4.0     4.0\n",
       "1684.0         3.0          4.0    3.0     3.0"
      ]
     },
     "execution_count": 56,
     "metadata": {},
     "output_type": "execute_result"
    }
   ],
   "source": [
    "piece.getDuration().loc[1674:1684]"
   ]
  },
  {
   "cell_type": "code",
   "execution_count": 57,
   "id": "72566d8d-2823-43fb-89aa-05da767e78ef",
   "metadata": {},
   "outputs": [
    {
     "data": {
      "text/html": [
       "<div>\n",
       "<style scoped>\n",
       "    .dataframe tbody tr th:only-of-type {\n",
       "        vertical-align: middle;\n",
       "    }\n",
       "\n",
       "    .dataframe tbody tr th {\n",
       "        vertical-align: top;\n",
       "    }\n",
       "\n",
       "    .dataframe thead th {\n",
       "        text-align: right;\n",
       "    }\n",
       "</style>\n",
       "<table border=\"1\" class=\"dataframe\">\n",
       "  <thead>\n",
       "    <tr style=\"text-align: right;\">\n",
       "      <th></th>\n",
       "      <th>Sup[erius]</th>\n",
       "      <th>Contratenor</th>\n",
       "      <th>Tenor</th>\n",
       "      <th>Bassus</th>\n",
       "    </tr>\n",
       "  </thead>\n",
       "  <tbody>\n",
       "    <tr>\n",
       "      <th>1674.0</th>\n",
       "      <td>NaN</td>\n",
       "      <td>&lt;music21.note.Note D&gt;</td>\n",
       "      <td>&lt;music21.note.Note F&gt;</td>\n",
       "      <td>NaN</td>\n",
       "    </tr>\n",
       "    <tr>\n",
       "      <th>1678.0</th>\n",
       "      <td>NaN</td>\n",
       "      <td>&lt;music21.note.Note C&gt;</td>\n",
       "      <td>&lt;music21.note.Note E&gt;</td>\n",
       "      <td>NaN</td>\n",
       "    </tr>\n",
       "    <tr>\n",
       "      <th>1679.0</th>\n",
       "      <td>NaN</td>\n",
       "      <td>&lt;music21.note.Note B-&gt;</td>\n",
       "      <td>&lt;music21.note.Note D&gt;</td>\n",
       "      <td>NaN</td>\n",
       "    </tr>\n",
       "    <tr>\n",
       "      <th>1680.0</th>\n",
       "      <td>NaN</td>\n",
       "      <td>&lt;music21.note.Note C&gt;</td>\n",
       "      <td>&lt;music21.note.Note E&gt;</td>\n",
       "      <td>&lt;music21.note.Note A&gt;</td>\n",
       "    </tr>\n",
       "    <tr>\n",
       "      <th>1684.0</th>\n",
       "      <td>&lt;music21.note.Note A&gt;</td>\n",
       "      <td>&lt;music21.note.Note D&gt;</td>\n",
       "      <td>&lt;music21.note.Note F&gt;</td>\n",
       "      <td>&lt;music21.note.Note D&gt;</td>\n",
       "    </tr>\n",
       "  </tbody>\n",
       "</table>\n",
       "</div>"
      ],
      "text/plain": [
       "                   Sup[erius]             Contratenor                  Tenor  \\\n",
       "1674.0                    NaN   <music21.note.Note D>  <music21.note.Note F>   \n",
       "1678.0                    NaN   <music21.note.Note C>  <music21.note.Note E>   \n",
       "1679.0                    NaN  <music21.note.Note B->  <music21.note.Note D>   \n",
       "1680.0                    NaN   <music21.note.Note C>  <music21.note.Note E>   \n",
       "1684.0  <music21.note.Note A>   <music21.note.Note D>  <music21.note.Note F>   \n",
       "\n",
       "                       Bassus  \n",
       "1674.0                    NaN  \n",
       "1678.0                    NaN  \n",
       "1679.0                    NaN  \n",
       "1680.0  <music21.note.Note A>  \n",
       "1684.0  <music21.note.Note D>  "
      ]
     },
     "execution_count": 57,
     "metadata": {},
     "output_type": "execute_result"
    }
   ],
   "source": [
    "piece._getM21ObjsNoTies().loc[1674:1684]"
   ]
  },
  {
   "cell_type": "code",
   "execution_count": 58,
   "id": "0e491e66-6e53-4f64-a7e3-3cea3d64c869",
   "metadata": {},
   "outputs": [
    {
     "data": {
      "text/html": [
       "<div>\n",
       "<style scoped>\n",
       "    .dataframe tbody tr th:only-of-type {\n",
       "        vertical-align: middle;\n",
       "    }\n",
       "\n",
       "    .dataframe tbody tr th {\n",
       "        vertical-align: top;\n",
       "    }\n",
       "\n",
       "    .dataframe thead th {\n",
       "        text-align: right;\n",
       "    }\n",
       "</style>\n",
       "<table border=\"1\" class=\"dataframe\">\n",
       "  <thead>\n",
       "    <tr style=\"text-align: right;\">\n",
       "      <th></th>\n",
       "      <th>Sup[erius]</th>\n",
       "      <th>Contratenor</th>\n",
       "      <th>Tenor</th>\n",
       "      <th>Bassus</th>\n",
       "    </tr>\n",
       "  </thead>\n",
       "  <tbody>\n",
       "    <tr>\n",
       "      <th>1674.0</th>\n",
       "      <td>NaN</td>\n",
       "      <td>2.0</td>\n",
       "      <td>2.0</td>\n",
       "      <td>NaN</td>\n",
       "    </tr>\n",
       "    <tr>\n",
       "      <th>1678.0</th>\n",
       "      <td>NaN</td>\n",
       "      <td>4.0</td>\n",
       "      <td>4.0</td>\n",
       "      <td>NaN</td>\n",
       "    </tr>\n",
       "    <tr>\n",
       "      <th>1679.0</th>\n",
       "      <td>NaN</td>\n",
       "      <td>4.5</td>\n",
       "      <td>4.5</td>\n",
       "      <td>NaN</td>\n",
       "    </tr>\n",
       "    <tr>\n",
       "      <th>1680.0</th>\n",
       "      <td>NaN</td>\n",
       "      <td>1.0</td>\n",
       "      <td>1.0</td>\n",
       "      <td>1.0</td>\n",
       "    </tr>\n",
       "    <tr>\n",
       "      <th>1684.0</th>\n",
       "      <td>3.0</td>\n",
       "      <td>3.0</td>\n",
       "      <td>3.0</td>\n",
       "      <td>3.0</td>\n",
       "    </tr>\n",
       "  </tbody>\n",
       "</table>\n",
       "</div>"
      ],
      "text/plain": [
       "        Sup[erius]  Contratenor  Tenor  Bassus\n",
       "1674.0         NaN          2.0    2.0     NaN\n",
       "1678.0         NaN          4.0    4.0     NaN\n",
       "1679.0         NaN          4.5    4.5     NaN\n",
       "1680.0         NaN          1.0    1.0     1.0\n",
       "1684.0         3.0          3.0    3.0     3.0"
      ]
     },
     "execution_count": 58,
     "metadata": {},
     "output_type": "execute_result"
    }
   ],
   "source": [
    "piece._getM21ObjsNoTies().loc[1674:1684].applymap(lambda note: note.beat, na_action='ignore')"
   ]
  },
  {
   "cell_type": "code",
   "execution_count": 60,
   "id": "ccd9fb58-26a2-445c-b7fe-c52a0cb13721",
   "metadata": {},
   "outputs": [
    {
     "data": {
      "text/html": [
       "<div>\n",
       "<style scoped>\n",
       "    .dataframe tbody tr th:only-of-type {\n",
       "        vertical-align: middle;\n",
       "    }\n",
       "\n",
       "    .dataframe tbody tr th {\n",
       "        vertical-align: top;\n",
       "    }\n",
       "\n",
       "    .dataframe thead th {\n",
       "        text-align: right;\n",
       "    }\n",
       "</style>\n",
       "<table border=\"1\" class=\"dataframe\">\n",
       "  <thead>\n",
       "    <tr style=\"text-align: right;\">\n",
       "      <th></th>\n",
       "      <th></th>\n",
       "      <th>Sup[erius]</th>\n",
       "      <th>Contratenor</th>\n",
       "      <th>Tenor</th>\n",
       "      <th>Bassus</th>\n",
       "    </tr>\n",
       "    <tr>\n",
       "      <th>Measure</th>\n",
       "      <th>Beat</th>\n",
       "      <th></th>\n",
       "      <th></th>\n",
       "      <th></th>\n",
       "      <th></th>\n",
       "    </tr>\n",
       "  </thead>\n",
       "  <tbody>\n",
       "    <tr>\n",
       "      <th rowspan=\"5\" valign=\"top\">205</th>\n",
       "      <th>1.0</th>\n",
       "      <td>NaN</td>\n",
       "      <td>D4</td>\n",
       "      <td>D4</td>\n",
       "      <td>NaN</td>\n",
       "    </tr>\n",
       "    <tr>\n",
       "      <th>1.5</th>\n",
       "      <td>NaN</td>\n",
       "      <td>C4</td>\n",
       "      <td>E4</td>\n",
       "      <td>NaN</td>\n",
       "    </tr>\n",
       "    <tr>\n",
       "      <th>2.0</th>\n",
       "      <td>NaN</td>\n",
       "      <td>D4</td>\n",
       "      <td>F4</td>\n",
       "      <td>NaN</td>\n",
       "    </tr>\n",
       "    <tr>\n",
       "      <th>3.0</th>\n",
       "      <td>A4</td>\n",
       "      <td>F4</td>\n",
       "      <td>D4</td>\n",
       "      <td>D3</td>\n",
       "    </tr>\n",
       "    <tr>\n",
       "      <th>4.5</th>\n",
       "      <td>NaN</td>\n",
       "      <td>E4</td>\n",
       "      <td>C4</td>\n",
       "      <td>NaN</td>\n",
       "    </tr>\n",
       "    <tr>\n",
       "      <th rowspan=\"3\" valign=\"top\">206</th>\n",
       "      <th>1.0</th>\n",
       "      <td>NaN</td>\n",
       "      <td>C4</td>\n",
       "      <td>E4</td>\n",
       "      <td>A3</td>\n",
       "    </tr>\n",
       "    <tr>\n",
       "      <th>4.0</th>\n",
       "      <td>NaN</td>\n",
       "      <td>C4</td>\n",
       "      <td>E4</td>\n",
       "      <td>NaN</td>\n",
       "    </tr>\n",
       "    <tr>\n",
       "      <th>4.5</th>\n",
       "      <td>NaN</td>\n",
       "      <td>B-3</td>\n",
       "      <td>D4</td>\n",
       "      <td>NaN</td>\n",
       "    </tr>\n",
       "    <tr>\n",
       "      <th rowspan=\"5\" valign=\"top\">207</th>\n",
       "      <th>1.0</th>\n",
       "      <td>A4</td>\n",
       "      <td>Rest</td>\n",
       "      <td>D4</td>\n",
       "      <td>F3</td>\n",
       "    </tr>\n",
       "    <tr>\n",
       "      <th>1.5</th>\n",
       "      <td>NaN</td>\n",
       "      <td>NaN</td>\n",
       "      <td>C4</td>\n",
       "      <td>NaN</td>\n",
       "    </tr>\n",
       "    <tr>\n",
       "      <th>2.0</th>\n",
       "      <td>B-4</td>\n",
       "      <td>F4</td>\n",
       "      <td>D4</td>\n",
       "      <td>B-2</td>\n",
       "    </tr>\n",
       "    <tr>\n",
       "      <th>3.0</th>\n",
       "      <td>A4</td>\n",
       "      <td>D4</td>\n",
       "      <td>F4</td>\n",
       "      <td>D3</td>\n",
       "    </tr>\n",
       "    <tr>\n",
       "      <th>4.5</th>\n",
       "      <td>G4</td>\n",
       "      <td>NaN</td>\n",
       "      <td>E4</td>\n",
       "      <td>E3</td>\n",
       "    </tr>\n",
       "  </tbody>\n",
       "</table>\n",
       "</div>"
      ],
      "text/plain": [
       "             Sup[erius] Contratenor Tenor Bassus\n",
       "Measure Beat                                    \n",
       "205     1.0         NaN          D4    D4    NaN\n",
       "        1.5         NaN          C4    E4    NaN\n",
       "        2.0         NaN          D4    F4    NaN\n",
       "        3.0          A4          F4    D4     D3\n",
       "        4.5         NaN          E4    C4    NaN\n",
       "206     1.0         NaN          C4    E4     A3\n",
       "        4.0         NaN          C4    E4    NaN\n",
       "        4.5         NaN         B-3    D4    NaN\n",
       "207     1.0          A4        Rest    D4     F3\n",
       "        1.5         NaN         NaN    C4    NaN\n",
       "        2.0         B-4          F4    D4    B-2\n",
       "        3.0          A4          D4    F4     D3\n",
       "        4.5          G4         NaN    E4     E3"
      ]
     },
     "execution_count": 60,
     "metadata": {},
     "output_type": "execute_result"
    }
   ],
   "source": [
    "piece.detailIndex(df=piece.getNoteRest()).loc[205:207]"
   ]
  },
  {
   "cell_type": "code",
   "execution_count": 61,
   "id": "01fb821c-5077-4f42-8395-3c6295dc603f",
   "metadata": {},
   "outputs": [
    {
     "ename": "TypeError",
     "evalue": "cannot concatenate object of type '<class 'method'>'; only Series and DataFrame objs are valid",
     "output_type": "error",
     "traceback": [
      "\u001b[0;31m---------------------------------------------------------------------------\u001b[0m",
      "\u001b[0;31mTypeError\u001b[0m                                 Traceback (most recent call last)",
      "\u001b[0;32m<ipython-input-61-e760f9781c0d>\u001b[0m in \u001b[0;36m<module>\u001b[0;34m\u001b[0m\n\u001b[0;32m----> 1\u001b[0;31m \u001b[0mpiece\u001b[0m\u001b[0;34m.\u001b[0m\u001b[0mdetailIndex\u001b[0m\u001b[0;34m(\u001b[0m\u001b[0mdf\u001b[0m\u001b[0;34m=\u001b[0m\u001b[0mpiece\u001b[0m\u001b[0;34m.\u001b[0m\u001b[0m_getM21ObjsNoTies\u001b[0m\u001b[0;34m)\u001b[0m\u001b[0;34m.\u001b[0m\u001b[0mloc\u001b[0m\u001b[0;34m[\u001b[0m\u001b[0;36m205\u001b[0m\u001b[0;34m:\u001b[0m\u001b[0;36m207\u001b[0m\u001b[0;34m]\u001b[0m\u001b[0;34m\u001b[0m\u001b[0;34m\u001b[0m\u001b[0m\n\u001b[0m",
      "\u001b[0;32m~/OneDrive - brynmawr.edu/summer 2021/crim_intervals/intervals/main_objs.py\u001b[0m in \u001b[0;36mdetailIndex\u001b[0;34m(self, df, offset, measure, beat)\u001b[0m\n\u001b[1;32m    302\u001b[0m         \u001b[0mcols\u001b[0m \u001b[0;34m=\u001b[0m \u001b[0;34m[\u001b[0m\u001b[0mdf\u001b[0m\u001b[0;34m,\u001b[0m \u001b[0mself\u001b[0m\u001b[0;34m.\u001b[0m\u001b[0mgetMeasure\u001b[0m\u001b[0;34m(\u001b[0m\u001b[0;34m)\u001b[0m\u001b[0;34m.\u001b[0m\u001b[0miloc\u001b[0m\u001b[0;34m[\u001b[0m\u001b[0;34m:\u001b[0m\u001b[0;34m,\u001b[0m \u001b[0;36m0\u001b[0m\u001b[0;34m]\u001b[0m\u001b[0;34m,\u001b[0m \u001b[0mself\u001b[0m\u001b[0;34m.\u001b[0m\u001b[0m_getBeatIndex\u001b[0m\u001b[0;34m(\u001b[0m\u001b[0;34m)\u001b[0m\u001b[0;34m]\u001b[0m\u001b[0;34m\u001b[0m\u001b[0;34m\u001b[0m\u001b[0m\n\u001b[1;32m    303\u001b[0m         \u001b[0mnames\u001b[0m \u001b[0;34m=\u001b[0m \u001b[0;34m[\u001b[0m\u001b[0;34m'Measure'\u001b[0m\u001b[0;34m,\u001b[0m \u001b[0;34m'Beat'\u001b[0m\u001b[0;34m]\u001b[0m\u001b[0;34m\u001b[0m\u001b[0;34m\u001b[0m\u001b[0m\n\u001b[0;32m--> 304\u001b[0;31m         \u001b[0mtemp\u001b[0m \u001b[0;34m=\u001b[0m \u001b[0mpd\u001b[0m\u001b[0;34m.\u001b[0m\u001b[0mconcat\u001b[0m\u001b[0;34m(\u001b[0m\u001b[0mcols\u001b[0m\u001b[0;34m,\u001b[0m \u001b[0maxis\u001b[0m\u001b[0;34m=\u001b[0m\u001b[0;36m1\u001b[0m\u001b[0;34m)\u001b[0m\u001b[0;34m\u001b[0m\u001b[0;34m\u001b[0m\u001b[0m\n\u001b[0m\u001b[1;32m    305\u001b[0m         \u001b[0mtemp2\u001b[0m \u001b[0;34m=\u001b[0m \u001b[0mtemp\u001b[0m\u001b[0;34m.\u001b[0m\u001b[0miloc\u001b[0m\u001b[0;34m[\u001b[0m\u001b[0;34m:\u001b[0m\u001b[0;34m,\u001b[0m \u001b[0mlen\u001b[0m\u001b[0;34m(\u001b[0m\u001b[0mdf\u001b[0m\u001b[0;34m.\u001b[0m\u001b[0mcolumns\u001b[0m\u001b[0;34m)\u001b[0m\u001b[0;34m:\u001b[0m\u001b[0;34m]\u001b[0m\u001b[0;34m.\u001b[0m\u001b[0mffill\u001b[0m\u001b[0;34m(\u001b[0m\u001b[0;34m)\u001b[0m\u001b[0;34m\u001b[0m\u001b[0;34m\u001b[0m\u001b[0m\n\u001b[1;32m    306\u001b[0m         \u001b[0mtemp2\u001b[0m\u001b[0;34m.\u001b[0m\u001b[0miloc\u001b[0m\u001b[0;34m[\u001b[0m\u001b[0;34m:\u001b[0m\u001b[0;34m,\u001b[0m \u001b[0;36m0\u001b[0m\u001b[0;34m]\u001b[0m \u001b[0;34m=\u001b[0m \u001b[0mtemp2\u001b[0m\u001b[0;34m.\u001b[0m\u001b[0miloc\u001b[0m\u001b[0;34m[\u001b[0m\u001b[0;34m:\u001b[0m\u001b[0;34m,\u001b[0m \u001b[0;36m0\u001b[0m\u001b[0;34m]\u001b[0m\u001b[0;34m.\u001b[0m\u001b[0mastype\u001b[0m\u001b[0;34m(\u001b[0m\u001b[0mint\u001b[0m\u001b[0;34m)\u001b[0m\u001b[0;34m\u001b[0m\u001b[0;34m\u001b[0m\u001b[0m\n",
      "\u001b[0;32m/Library/Frameworks/Python.framework/Versions/3.7/lib/python3.7/site-packages/pandas/core/reshape/concat.py\u001b[0m in \u001b[0;36mconcat\u001b[0;34m(objs, axis, join, ignore_index, keys, levels, names, verify_integrity, sort, copy)\u001b[0m\n\u001b[1;32m    293\u001b[0m         \u001b[0mverify_integrity\u001b[0m\u001b[0;34m=\u001b[0m\u001b[0mverify_integrity\u001b[0m\u001b[0;34m,\u001b[0m\u001b[0;34m\u001b[0m\u001b[0;34m\u001b[0m\u001b[0m\n\u001b[1;32m    294\u001b[0m         \u001b[0mcopy\u001b[0m\u001b[0;34m=\u001b[0m\u001b[0mcopy\u001b[0m\u001b[0;34m,\u001b[0m\u001b[0;34m\u001b[0m\u001b[0;34m\u001b[0m\u001b[0m\n\u001b[0;32m--> 295\u001b[0;31m         \u001b[0msort\u001b[0m\u001b[0;34m=\u001b[0m\u001b[0msort\u001b[0m\u001b[0;34m,\u001b[0m\u001b[0;34m\u001b[0m\u001b[0;34m\u001b[0m\u001b[0m\n\u001b[0m\u001b[1;32m    296\u001b[0m     )\n\u001b[1;32m    297\u001b[0m \u001b[0;34m\u001b[0m\u001b[0m\n",
      "\u001b[0;32m/Library/Frameworks/Python.framework/Versions/3.7/lib/python3.7/site-packages/pandas/core/reshape/concat.py\u001b[0m in \u001b[0;36m__init__\u001b[0;34m(self, objs, axis, join, keys, levels, names, ignore_index, verify_integrity, copy, sort)\u001b[0m\n\u001b[1;32m    368\u001b[0m                     \u001b[0;34m\"only Series and DataFrame objs are valid\"\u001b[0m\u001b[0;34m\u001b[0m\u001b[0;34m\u001b[0m\u001b[0m\n\u001b[1;32m    369\u001b[0m                 )\n\u001b[0;32m--> 370\u001b[0;31m                 \u001b[0;32mraise\u001b[0m \u001b[0mTypeError\u001b[0m\u001b[0;34m(\u001b[0m\u001b[0mmsg\u001b[0m\u001b[0;34m)\u001b[0m\u001b[0;34m\u001b[0m\u001b[0;34m\u001b[0m\u001b[0m\n\u001b[0m\u001b[1;32m    371\u001b[0m \u001b[0;34m\u001b[0m\u001b[0m\n\u001b[1;32m    372\u001b[0m             \u001b[0;31m# consolidate\u001b[0m\u001b[0;34m\u001b[0m\u001b[0;34m\u001b[0m\u001b[0;34m\u001b[0m\u001b[0m\n",
      "\u001b[0;31mTypeError\u001b[0m: cannot concatenate object of type '<class 'method'>'; only Series and DataFrame objs are valid"
     ]
    }
   ],
   "source": [
    "piece.detailIndex(df=piece._getM21ObjsNoTies).loc[205:207]"
   ]
  },
  {
   "cell_type": "code",
   "execution_count": null,
   "id": "6e3dc79f-d8a1-459a-a1c5-49114475af94",
   "metadata": {},
   "outputs": [],
   "source": []
  }
 ],
 "metadata": {
  "kernelspec": {
   "display_name": "venv",
   "language": "python",
   "name": "venv"
  },
  "language_info": {
   "codemirror_mode": {
    "name": "ipython",
    "version": 3
   },
   "file_extension": ".py",
   "mimetype": "text/x-python",
   "name": "python",
   "nbconvert_exporter": "python",
   "pygments_lexer": "ipython3",
   "version": "3.7.4"
  }
 },
 "nbformat": 4,
 "nbformat_minor": 5
}
