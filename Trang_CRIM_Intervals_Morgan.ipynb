{
 "cells": [
  {
   "cell_type": "markdown",
   "id": "42a20163",
   "metadata": {},
   "source": [
    "# This NB demonstrates how we can use methods from visualizations\n",
    "\n",
    "We can use the method to plot all patterns, double click on specific patterns to highlight them in the heatmaps, and select top patterns to plot them on their own."
   ]
  },
  {
   "cell_type": "code",
   "execution_count": 1,
   "id": "98bcb269",
   "metadata": {},
   "outputs": [
    {
     "name": "stdout",
     "output_type": "stream",
     "text": [
      "/Users/dangtrang/OneDrive - brynmawr.edu/summer 2021/crim_intervals/intervals\n"
     ]
    }
   ],
   "source": [
    "# python imports\n",
    "import pandas as pd\n",
    "import altair as alt\n",
    "\n",
    "# imports to load relationships\n",
    "import requests\n",
    "from pandas.io.json import json_normalize\n",
    "\n",
    "# our imports\n",
    "%load_ext autoreload\n",
    "%autoreload 2\n",
    "%cd ../intervals/\n",
    "from main import *\n",
    "import visualizations as viz"
   ]
  },
  {
   "cell_type": "markdown",
   "id": "53292862",
   "metadata": {},
   "source": [
    "## `plot_ngrams_heatmap`\n",
    "\n",
    "First, we do the normal steps to get a ngrams dataframe."
   ]
  },
  {
   "cell_type": "code",
   "execution_count": 2,
   "id": "30b192a1",
   "metadata": {},
   "outputs": [
    {
     "name": "stdout",
     "output_type": "stream",
     "text": [
      "Successfully imported.\n"
     ]
    },
    {
     "data": {
      "text/html": [
       "<div>\n",
       "<style scoped>\n",
       "    .dataframe tbody tr th:only-of-type {\n",
       "        vertical-align: middle;\n",
       "    }\n",
       "\n",
       "    .dataframe tbody tr th {\n",
       "        vertical-align: top;\n",
       "    }\n",
       "\n",
       "    .dataframe thead th {\n",
       "        text-align: right;\n",
       "    }\n",
       "</style>\n",
       "<table border=\"1\" class=\"dataframe\">\n",
       "  <thead>\n",
       "    <tr style=\"text-align: right;\">\n",
       "      <th></th>\n",
       "      <th>[Superius]</th>\n",
       "      <th>Altus</th>\n",
       "      <th>Tenor</th>\n",
       "      <th>Bassus</th>\n",
       "    </tr>\n",
       "  </thead>\n",
       "  <tbody>\n",
       "    <tr>\n",
       "      <th>4.0</th>\n",
       "      <td>4, 1, 2, 2, -3</td>\n",
       "      <td>NaN</td>\n",
       "      <td>NaN</td>\n",
       "      <td>NaN</td>\n",
       "    </tr>\n",
       "    <tr>\n",
       "      <th>20.0</th>\n",
       "      <td>NaN</td>\n",
       "      <td>4, 1, 2, 2, -3</td>\n",
       "      <td>NaN</td>\n",
       "      <td>NaN</td>\n",
       "    </tr>\n",
       "    <tr>\n",
       "      <th>36.0</th>\n",
       "      <td>NaN</td>\n",
       "      <td>NaN</td>\n",
       "      <td>4, 1, 2, 2, -3</td>\n",
       "      <td>NaN</td>\n",
       "    </tr>\n",
       "    <tr>\n",
       "      <th>52.0</th>\n",
       "      <td>NaN</td>\n",
       "      <td>NaN</td>\n",
       "      <td>NaN</td>\n",
       "      <td>4, 1, 2, 2, -3</td>\n",
       "    </tr>\n",
       "    <tr>\n",
       "      <th>62.0</th>\n",
       "      <td>-2, -2, -2, 2, -2</td>\n",
       "      <td>NaN</td>\n",
       "      <td>NaN</td>\n",
       "      <td>NaN</td>\n",
       "    </tr>\n",
       "  </tbody>\n",
       "</table>\n",
       "</div>"
      ],
      "text/plain": [
       "             [Superius]           Altus           Tenor          Bassus\n",
       "4.0      4, 1, 2, 2, -3             NaN             NaN             NaN\n",
       "20.0                NaN  4, 1, 2, 2, -3             NaN             NaN\n",
       "36.0                NaN             NaN  4, 1, 2, 2, -3             NaN\n",
       "52.0                NaN             NaN             NaN  4, 1, 2, 2, -3\n",
       "62.0  -2, -2, -2, 2, -2             NaN             NaN             NaN"
      ]
     },
     "execution_count": 2,
     "metadata": {},
     "output_type": "execute_result"
    }
   ],
   "source": [
    "root = \"https://raw.githubusercontent.com/CRIM-Project/CRIM-online/master/crim/static/mei/MEI_3.0/\"\n",
    "prefix = \"CRIM_Model_00\"\n",
    "files = [\"08\"] \n",
    "postfix = \".mei\"\n",
    "corpus = CorpusBase([root + prefix + files[0] + postfix])\n",
    "model = corpus.scores[0]\n",
    "mel = model.getMelodic(kind='d', compound=False, unit=0)\n",
    "mel_ngrams = model.getNgrams(df=mel, n=5)\n",
    "mel_ngrams.head()"
   ]
  },
  {
   "cell_type": "markdown",
   "id": "b4a5d0b4",
   "metadata": {},
   "source": [
    "Can read the documentation with `help(viz.plot_ngrams_heatmap)`"
   ]
  },
  {
   "cell_type": "code",
   "execution_count": 3,
   "id": "125702df",
   "metadata": {},
   "outputs": [
    {
     "name": "stdout",
     "output_type": "stream",
     "text": [
      "Help on function plot_ngrams_heatmap in module visualizations:\n",
      "\n",
      "plot_ngrams_heatmap(ngrams_df, ngrams_duration=None, selected_patterns=[], voices=[], heatmap_width=800, heatmap_height=300)\n",
      "    Plot a heatmap for crim-intervals getNgram's output.\n",
      "    :param ngrams_df: crim-intervals getNgram's output\n",
      "    :param ngrams_duration: if not None, rely on durations in the\n",
      "    df to calculate the durations of the ngrams.\n",
      "    :param selected_patterns: list of specific patterns the users want (optional)\n",
      "    :param voices: list of specific voices the users want (optional)\n",
      "    :param heatmap_width: the width of the final heatmap (optional)\n",
      "    :param heatmap_height: the height of the final heatmap (optional)\n",
      "    :return: a bar chart that displays the different patterns and their counts,\n",
      "    and a heatmap with the start offsets of chosen voices / patterns\n",
      "\n"
     ]
    }
   ],
   "source": [
    "help(viz.plot_ngrams_heatmap)"
   ]
  },
  {
   "cell_type": "code",
   "execution_count": 4,
   "id": "dbbd5cb5",
   "metadata": {},
   "outputs": [
    {
     "data": {
      "text/html": [
       "\n",
       "<div id=\"altair-viz-2482772631024155b54d9e3d8dce7af3\"></div>\n",
       "<script type=\"text/javascript\">\n",
       "  (function(spec, embedOpt){\n",
       "    let outputDiv = document.currentScript.previousElementSibling;\n",
       "    if (outputDiv.id !== \"altair-viz-2482772631024155b54d9e3d8dce7af3\") {\n",
       "      outputDiv = document.getElementById(\"altair-viz-2482772631024155b54d9e3d8dce7af3\");\n",
       "    }\n",
       "    const paths = {\n",
       "      \"vega\": \"https://cdn.jsdelivr.net/npm//vega@5?noext\",\n",
       "      \"vega-lib\": \"https://cdn.jsdelivr.net/npm//vega-lib?noext\",\n",
       "      \"vega-lite\": \"https://cdn.jsdelivr.net/npm//vega-lite@4.8.1?noext\",\n",
       "      \"vega-embed\": \"https://cdn.jsdelivr.net/npm//vega-embed@6?noext\",\n",
       "    };\n",
       "\n",
       "    function loadScript(lib) {\n",
       "      return new Promise(function(resolve, reject) {\n",
       "        var s = document.createElement('script');\n",
       "        s.src = paths[lib];\n",
       "        s.async = true;\n",
       "        s.onload = () => resolve(paths[lib]);\n",
       "        s.onerror = () => reject(`Error loading script: ${paths[lib]}`);\n",
       "        document.getElementsByTagName(\"head\")[0].appendChild(s);\n",
       "      });\n",
       "    }\n",
       "\n",
       "    function showError(err) {\n",
       "      outputDiv.innerHTML = `<div class=\"error\" style=\"color:red;\">${err}</div>`;\n",
       "      throw err;\n",
       "    }\n",
       "\n",
       "    function displayChart(vegaEmbed) {\n",
       "      vegaEmbed(outputDiv, spec, embedOpt)\n",
       "        .catch(err => showError(`Javascript Error: ${err.message}<br>This usually means there's a typo in your chart specification. See the javascript console for the full traceback.`));\n",
       "    }\n",
       "\n",
       "    if(typeof define === \"function\" && define.amd) {\n",
       "      requirejs.config({paths});\n",
       "      require([\"vega-embed\"], displayChart, err => showError(`Error loading script: ${err.message}`));\n",
       "    } else if (typeof vegaEmbed === \"function\") {\n",
       "      displayChart(vegaEmbed);\n",
       "    } else {\n",
       "      loadScript(\"vega\")\n",
       "        .then(() => loadScript(\"vega-lite\"))\n",
       "        .then(() => loadScript(\"vega-embed\"))\n",
       "        .catch(showError)\n",
       "        .then(() => displayChart(vegaEmbed));\n",
       "    }\n",
       "  })({\"config\": {\"view\": {\"continuousWidth\": 400, \"continuousHeight\": 300}}, \"vconcat\": [{\"mark\": \"bar\", \"encoding\": {\"color\": {\"type\": \"nominal\", \"field\": \"pattern\"}, \"opacity\": {\"condition\": {\"value\": 1, \"selection\": \"selector001\"}, \"value\": 0.2}, \"x\": {\"type\": \"nominal\", \"aggregate\": \"count\", \"field\": \"pattern\"}, \"y\": {\"type\": \"nominal\", \"field\": \"pattern\"}}, \"selection\": {\"selector001\": {\"type\": \"multi\", \"fields\": [\"pattern\"]}}}, {\"mark\": \"bar\", \"encoding\": {\"color\": {\"type\": \"nominal\", \"field\": \"pattern\"}, \"opacity\": {\"condition\": {\"value\": 1, \"selection\": \"selector001\"}, \"value\": 0.2}, \"tooltip\": [{\"type\": \"quantitative\", \"field\": \"start\"}, {\"type\": \"quantitative\", \"field\": \"end\"}, {\"type\": \"nominal\", \"field\": \"pattern\"}], \"x\": {\"type\": \"quantitative\", \"field\": \"start\"}, \"x2\": {\"field\": \"end\"}, \"y\": {\"type\": \"nominal\", \"field\": \"voice\"}}, \"height\": 300, \"selection\": {\"selector001\": {\"type\": \"multi\", \"fields\": [\"pattern\"]}, \"selector002\": {\"type\": \"interval\", \"bind\": \"scales\", \"encodings\": [\"x\", \"y\"]}}, \"width\": 800}], \"data\": {\"name\": \"data-303017d186aeda0873b488661af889ee\"}, \"$schema\": \"https://vega.github.io/schema/vega-lite/v4.8.1.json\", \"datasets\": {\"data-303017d186aeda0873b488661af889ee\": [{\"start\": 4.0, \"voice\": \"[Superius]\", \"pattern\": \"4, 1, 2, 2, -3\", \"end\": 5.0}, {\"start\": 62.0, \"voice\": \"[Superius]\", \"pattern\": \"-2, -2, -2, 2, -2\", \"end\": 63.0}, {\"start\": 64.0, \"voice\": \"[Superius]\", \"pattern\": \"-2, -2, 2, -2, 4\", \"end\": 65.0}, {\"start\": 68.0, \"voice\": \"[Superius]\", \"pattern\": \"-2, 2, -2, 4, -2\", \"end\": 69.0}, {\"start\": 72.0, \"voice\": \"[Superius]\", \"pattern\": \"2, -2, 4, -2, -2\", \"end\": 73.0}, {\"start\": 74.0, \"voice\": \"[Superius]\", \"pattern\": \"-2, 4, -2, -2, 2\", \"end\": 75.0}, {\"start\": 76.0, \"voice\": \"[Superius]\", \"pattern\": \"4, -2, -2, 2, 2\", \"end\": 77.0}, {\"start\": 130.0, \"voice\": \"[Superius]\", \"pattern\": \"1, 1, 2, 2, -3\", \"end\": 131.0}, {\"start\": 132.0, \"voice\": \"[Superius]\", \"pattern\": \"1, 2, 2, -3, -2\", \"end\": 133.0}, {\"start\": 136.0, \"voice\": \"[Superius]\", \"pattern\": \"2, 2, -3, -2, -2\", \"end\": 137.0}, {\"start\": 140.0, \"voice\": \"[Superius]\", \"pattern\": \"2, -3, -2, -2, -2\", \"end\": 141.0}, {\"start\": 144.0, \"voice\": \"[Superius]\", \"pattern\": \"-3, -2, -2, -2, -2\", \"end\": 145.0}, {\"start\": 147.0, \"voice\": \"[Superius]\", \"pattern\": \"-2, -2, -2, -2, -2\", \"end\": 148.0}, {\"start\": 148.0, \"voice\": \"[Superius]\", \"pattern\": \"-2, -2, -2, -2, 6\", \"end\": 149.0}, {\"start\": 150.0, \"voice\": \"[Superius]\", \"pattern\": \"-2, -2, -2, 6, -2\", \"end\": 151.0}, {\"start\": 152.0, \"voice\": \"[Superius]\", \"pattern\": \"-2, -2, 6, -2, -2\", \"end\": 153.0}, {\"start\": 156.0, \"voice\": \"[Superius]\", \"pattern\": \"-2, 6, -2, -2, -2\", \"end\": 157.0}, {\"start\": 158.0, \"voice\": \"[Superius]\", \"pattern\": \"6, -2, -2, -2, -2\", \"end\": 159.0}, {\"start\": 161.0, \"voice\": \"[Superius]\", \"pattern\": \"-2, -2, -2, -2, -2\", \"end\": 162.0}, {\"start\": 200.0, \"voice\": \"[Superius]\", \"pattern\": \"-3, -2, 4, 2, 2\", \"end\": 201.0}, {\"start\": 248.0, \"voice\": \"[Superius]\", \"pattern\": \"1, 2, 2, 1, 2\", \"end\": 249.0}, {\"start\": 252.0, \"voice\": \"[Superius]\", \"pattern\": \"2, 2, 1, 2, -2\", \"end\": 253.0}, {\"start\": 256.0, \"voice\": \"[Superius]\", \"pattern\": \"2, 1, 2, -2, 1\", \"end\": 257.0}, {\"start\": 260.0, \"voice\": \"[Superius]\", \"pattern\": \"1, 2, -2, 1, -2\", \"end\": 261.0}, {\"start\": 262.0, \"voice\": \"[Superius]\", \"pattern\": \"2, -2, 1, -2, 2\", \"end\": 263.0}, {\"start\": 320.0, \"voice\": \"[Superius]\", \"pattern\": \"1, 1, 2, -2, -2\", \"end\": 321.0}, {\"start\": 324.0, \"voice\": \"[Superius]\", \"pattern\": \"1, 2, -2, -2, -2\", \"end\": 325.0}, {\"start\": 328.0, \"voice\": \"[Superius]\", \"pattern\": \"2, -2, -2, -2, -2\", \"end\": 329.0}, {\"start\": 334.0, \"voice\": \"[Superius]\", \"pattern\": \"-2, -2, -2, -2, -3\", \"end\": 335.0}, {\"start\": 336.0, \"voice\": \"[Superius]\", \"pattern\": \"-2, -2, -2, -3, 2\", \"end\": 337.0}, {\"start\": 340.0, \"voice\": \"[Superius]\", \"pattern\": \"-2, -2, -3, 2, 2\", \"end\": 341.0}, {\"start\": 344.0, \"voice\": \"[Superius]\", \"pattern\": \"-2, -3, 2, 2, 2\", \"end\": 345.0}, {\"start\": 348.0, \"voice\": \"[Superius]\", \"pattern\": \"-3, 2, 2, 2, -3\", \"end\": 349.0}, {\"start\": 352.0, \"voice\": \"[Superius]\", \"pattern\": \"2, 2, 2, -3, 2\", \"end\": 353.0}, {\"start\": 356.0, \"voice\": \"[Superius]\", \"pattern\": \"2, 2, -3, 2, 2\", \"end\": 357.0}, {\"start\": 360.0, \"voice\": \"[Superius]\", \"pattern\": \"2, -3, 2, 2, 2\", \"end\": 361.0}, {\"start\": 364.0, \"voice\": \"[Superius]\", \"pattern\": \"-3, 2, 2, 2, -3\", \"end\": 365.0}, {\"start\": 368.0, \"voice\": \"[Superius]\", \"pattern\": \"2, 2, 2, -3, 2\", \"end\": 369.0}, {\"start\": 372.0, \"voice\": \"[Superius]\", \"pattern\": \"2, 2, -3, 2, 2\", \"end\": 373.0}, {\"start\": 376.0, \"voice\": \"[Superius]\", \"pattern\": \"2, -3, 2, 2, 2\", \"end\": 377.0}, {\"start\": 380.0, \"voice\": \"[Superius]\", \"pattern\": \"-3, 2, 2, 2, -2\", \"end\": 381.0}, {\"start\": 384.0, \"voice\": \"[Superius]\", \"pattern\": \"2, 2, 2, -2, 2\", \"end\": 385.0}, {\"start\": 388.0, \"voice\": \"[Superius]\", \"pattern\": \"2, 2, -2, 2, 2\", \"end\": 389.0}, {\"start\": 392.0, \"voice\": \"[Superius]\", \"pattern\": \"2, -2, 2, 2, -2\", \"end\": 393.0}, {\"start\": 395.0, \"voice\": \"[Superius]\", \"pattern\": \"-2, 2, 2, -2, -2\", \"end\": 396.0}, {\"start\": 396.0, \"voice\": \"[Superius]\", \"pattern\": \"2, 2, -2, -2, -2\", \"end\": 397.0}, {\"start\": 398.0, \"voice\": \"[Superius]\", \"pattern\": \"2, -2, -2, -2, 2\", \"end\": 399.0}, {\"start\": 401.0, \"voice\": \"[Superius]\", \"pattern\": \"-2, -2, -2, 2, 2\", \"end\": 402.0}, {\"start\": 402.0, \"voice\": \"[Superius]\", \"pattern\": \"-2, -2, 2, 2, -2\", \"end\": 403.0}, {\"start\": 403.0, \"voice\": \"[Superius]\", \"pattern\": \"-2, 2, 2, -2, -2\", \"end\": 404.0}, {\"start\": 404.0, \"voice\": \"[Superius]\", \"pattern\": \"2, 2, -2, -2, -2\", \"end\": 405.0}, {\"start\": 406.0, \"voice\": \"[Superius]\", \"pattern\": \"2, -2, -2, -2, 2\", \"end\": 407.0}, {\"start\": 432.0, \"voice\": \"[Superius]\", \"pattern\": \"4, -2, 2, 2, -3\", \"end\": 433.0}, {\"start\": 438.0, \"voice\": \"[Superius]\", \"pattern\": \"-2, 2, 2, -3, -2\", \"end\": 439.0}, {\"start\": 440.0, \"voice\": \"[Superius]\", \"pattern\": \"2, 2, -3, -2, -2\", \"end\": 441.0}, {\"start\": 444.0, \"voice\": \"[Superius]\", \"pattern\": \"2, -3, -2, -2, 1\", \"end\": 445.0}, {\"start\": 448.0, \"voice\": \"[Superius]\", \"pattern\": \"-3, -2, -2, 1, 1\", \"end\": 449.0}, {\"start\": 454.0, \"voice\": \"[Superius]\", \"pattern\": \"-2, -2, 1, 1, 2\", \"end\": 455.0}, {\"start\": 455.0, \"voice\": \"[Superius]\", \"pattern\": \"-2, 1, 1, 2, -2\", \"end\": 456.0}, {\"start\": 456.0, \"voice\": \"[Superius]\", \"pattern\": \"1, 1, 2, -2, 4\", \"end\": 457.0}, {\"start\": 460.0, \"voice\": \"[Superius]\", \"pattern\": \"1, 2, -2, 4, -2\", \"end\": 461.0}, {\"start\": 462.0, \"voice\": \"[Superius]\", \"pattern\": \"2, -2, 4, -2, 2\", \"end\": 463.0}, {\"start\": 512.0, \"voice\": \"[Superius]\", \"pattern\": \"2, -3, 2, -3, 2\", \"end\": 513.0}, {\"start\": 516.0, \"voice\": \"[Superius]\", \"pattern\": \"-3, 2, -3, 2, -2\", \"end\": 517.0}, {\"start\": 520.0, \"voice\": \"[Superius]\", \"pattern\": \"2, -3, 2, -2, -2\", \"end\": 521.0}, {\"start\": 524.0, \"voice\": \"[Superius]\", \"pattern\": \"-3, 2, -2, -2, -2\", \"end\": 525.0}, {\"start\": 568.0, \"voice\": \"[Superius]\", \"pattern\": \"4, 2, 2, -2, 2\", \"end\": 569.0}, {\"start\": 572.0, \"voice\": \"[Superius]\", \"pattern\": \"2, 2, -2, 2, -3\", \"end\": 573.0}, {\"start\": 576.0, \"voice\": \"[Superius]\", \"pattern\": \"2, -2, 2, -3, 1\", \"end\": 577.0}, {\"start\": 580.0, \"voice\": \"[Superius]\", \"pattern\": \"-2, 2, -3, 1, 2\", \"end\": 581.0}, {\"start\": 582.0, \"voice\": \"[Superius]\", \"pattern\": \"2, -3, 1, 2, -3\", \"end\": 583.0}, {\"start\": 585.0, \"voice\": \"[Superius]\", \"pattern\": \"-3, 1, 2, -3, 1\", \"end\": 586.0}, {\"start\": 586.0, \"voice\": \"[Superius]\", \"pattern\": \"1, 2, -3, 1, 4\", \"end\": 587.0}, {\"start\": 590.0, \"voice\": \"[Superius]\", \"pattern\": \"2, -3, 1, 4, -2\", \"end\": 591.0}, {\"start\": 593.0, \"voice\": \"[Superius]\", \"pattern\": \"-3, 1, 4, -2, -2\", \"end\": 594.0}, {\"start\": 594.0, \"voice\": \"[Superius]\", \"pattern\": \"1, 4, -2, -2, 1\", \"end\": 595.0}, {\"start\": 598.0, \"voice\": \"[Superius]\", \"pattern\": \"4, -2, -2, 1, -2\", \"end\": 599.0}, {\"start\": 600.0, \"voice\": \"[Superius]\", \"pattern\": \"-2, -2, 1, -2, 2\", \"end\": 601.0}, {\"start\": 620.0, \"voice\": \"[Superius]\", \"pattern\": \"1, 1, 2, -3, 2\", \"end\": 621.0}, {\"start\": 622.0, \"voice\": \"[Superius]\", \"pattern\": \"1, 2, -3, 2, -2\", \"end\": 623.0}, {\"start\": 624.0, \"voice\": \"[Superius]\", \"pattern\": \"2, -3, 2, -2, -2\", \"end\": 625.0}, {\"start\": 628.0, \"voice\": \"[Superius]\", \"pattern\": \"-3, 2, -2, -2, -2\", \"end\": 629.0}, {\"start\": 668.0, \"voice\": \"[Superius]\", \"pattern\": \"1, 1, 2, -2, -2\", \"end\": 669.0}, {\"start\": 670.0, \"voice\": \"[Superius]\", \"pattern\": \"1, 2, -2, -2, -2\", \"end\": 671.0}, {\"start\": 672.0, \"voice\": \"[Superius]\", \"pattern\": \"2, -2, -2, -2, -2\", \"end\": 673.0}, {\"start\": 676.0, \"voice\": \"[Superius]\", \"pattern\": \"-2, -2, -2, -2, -2\", \"end\": 677.0}, {\"start\": 748.0, \"voice\": \"[Superius]\", \"pattern\": \"1, 1, 2, 1, 2\", \"end\": 749.0}, {\"start\": 752.0, \"voice\": \"[Superius]\", \"pattern\": \"1, 2, 1, 2, 1\", \"end\": 753.0}, {\"start\": 756.0, \"voice\": \"[Superius]\", \"pattern\": \"2, 1, 2, 1, -3\", \"end\": 757.0}, {\"start\": 796.0, \"voice\": \"[Superius]\", \"pattern\": \"1, 1, 2, 1, 2\", \"end\": 797.0}, {\"start\": 800.0, \"voice\": \"[Superius]\", \"pattern\": \"1, 2, 1, 2, 1\", \"end\": 801.0}, {\"start\": 804.0, \"voice\": \"[Superius]\", \"pattern\": \"2, 1, 2, 1, -3\", \"end\": 805.0}, {\"start\": 812.0, \"voice\": \"[Superius]\", \"pattern\": \"1, 2, 1, -3, 1\", \"end\": 813.0}, {\"start\": 816.0, \"voice\": \"[Superius]\", \"pattern\": \"2, 1, -3, 1, 4\", \"end\": 817.0}, {\"start\": 824.0, \"voice\": \"[Superius]\", \"pattern\": \"1, -3, 1, 4, 1\", \"end\": 825.0}, {\"start\": 828.0, \"voice\": \"[Superius]\", \"pattern\": \"-3, 1, 4, 1, -3\", \"end\": 829.0}, {\"start\": 836.0, \"voice\": \"[Superius]\", \"pattern\": \"1, 4, 1, -3, 1\", \"end\": 837.0}, {\"start\": 840.0, \"voice\": \"[Superius]\", \"pattern\": \"4, 1, -3, 1, 4\", \"end\": 841.0}, {\"start\": 848.0, \"voice\": \"[Superius]\", \"pattern\": \"1, -3, 1, 4, -2\", \"end\": 849.0}, {\"start\": 852.0, \"voice\": \"[Superius]\", \"pattern\": \"-3, 1, 4, -2, -2\", \"end\": 853.0}, {\"start\": 860.0, \"voice\": \"[Superius]\", \"pattern\": \"1, 4, -2, -2, -2\", \"end\": 861.0}, {\"start\": 864.0, \"voice\": \"[Superius]\", \"pattern\": \"4, -2, -2, -2, -2\", \"end\": 865.0}, {\"start\": 870.0, \"voice\": \"[Superius]\", \"pattern\": \"-2, -2, -2, -2, 1\", \"end\": 871.0}, {\"start\": 872.0, \"voice\": \"[Superius]\", \"pattern\": \"-2, -2, -2, 1, 4\", \"end\": 873.0}, {\"start\": 874.0, \"voice\": \"[Superius]\", \"pattern\": \"-2, -2, 1, 4, 1\", \"end\": 875.0}, {\"start\": 876.0, \"voice\": \"[Superius]\", \"pattern\": \"-2, 1, 4, 1, 2\", \"end\": 877.0}, {\"start\": 884.0, \"voice\": \"[Superius]\", \"pattern\": \"1, 4, 1, 2, 2\", \"end\": 885.0}, {\"start\": 888.0, \"voice\": \"[Superius]\", \"pattern\": \"4, 1, 2, 2, -3\", \"end\": 889.0}, {\"start\": 896.0, \"voice\": \"[Superius]\", \"pattern\": \"1, 2, 2, -3, 1\", \"end\": 897.0}, {\"start\": 900.0, \"voice\": \"[Superius]\", \"pattern\": \"2, 2, -3, 1, -2\", \"end\": 901.0}, {\"start\": 904.0, \"voice\": \"[Superius]\", \"pattern\": \"2, -3, 1, -2, 2\", \"end\": 905.0}, {\"start\": 948.0, \"voice\": \"[Superius]\", \"pattern\": \"1, 1, 2, -2, -2\", \"end\": 949.0}, {\"start\": 952.0, \"voice\": \"[Superius]\", \"pattern\": \"1, 2, -2, -2, -2\", \"end\": 953.0}, {\"start\": 956.0, \"voice\": \"[Superius]\", \"pattern\": \"2, -2, -2, -2, 1\", \"end\": 957.0}, {\"start\": 962.0, \"voice\": \"[Superius]\", \"pattern\": \"-2, -2, -2, 1, 3\", \"end\": 963.0}, {\"start\": 963.0, \"voice\": \"[Superius]\", \"pattern\": \"-2, -2, 1, 3, -2\", \"end\": 964.0}, {\"start\": 964.0, \"voice\": \"[Superius]\", \"pattern\": \"-2, 1, 3, -2, -2\", \"end\": 965.0}, {\"start\": 968.0, \"voice\": \"[Superius]\", \"pattern\": \"1, 3, -2, -2, -2\", \"end\": 969.0}, {\"start\": 970.0, \"voice\": \"[Superius]\", \"pattern\": \"3, -2, -2, -2, -2\", \"end\": 971.0}, {\"start\": 1012.0, \"voice\": \"[Superius]\", \"pattern\": \"1, 1, 2, -2, -2\", \"end\": 1013.0}, {\"start\": 1016.0, \"voice\": \"[Superius]\", \"pattern\": \"1, 2, -2, -2, -2\", \"end\": 1017.0}, {\"start\": 1020.0, \"voice\": \"[Superius]\", \"pattern\": \"2, -2, -2, -2, 1\", \"end\": 1021.0}, {\"start\": 1026.0, \"voice\": \"[Superius]\", \"pattern\": \"-2, -2, -2, 1, 3\", \"end\": 1027.0}, {\"start\": 1027.0, \"voice\": \"[Superius]\", \"pattern\": \"-2, -2, 1, 3, -2\", \"end\": 1028.0}, {\"start\": 1028.0, \"voice\": \"[Superius]\", \"pattern\": \"-2, 1, 3, -2, -2\", \"end\": 1029.0}, {\"start\": 1032.0, \"voice\": \"[Superius]\", \"pattern\": \"1, 3, -2, -2, -2\", \"end\": 1033.0}, {\"start\": 1034.0, \"voice\": \"[Superius]\", \"pattern\": \"3, -2, -2, -2, -2\", \"end\": 1035.0}, {\"start\": 1076.0, \"voice\": \"[Superius]\", \"pattern\": \"2, 2, 2, -2, 2\", \"end\": 1077.0}, {\"start\": 1080.0, \"voice\": \"[Superius]\", \"pattern\": \"2, 2, -2, 2, 2\", \"end\": 1081.0}, {\"start\": 1084.0, \"voice\": \"[Superius]\", \"pattern\": \"2, -2, 2, 2, 2\", \"end\": 1085.0}, {\"start\": 1124.0, \"voice\": \"[Superius]\", \"pattern\": \"1, -2, -2, 2, -2\", \"end\": 1125.0}, {\"start\": 1128.0, \"voice\": \"[Superius]\", \"pattern\": \"-2, -2, 2, -2, -2\", \"end\": 1129.0}, {\"start\": 1132.0, \"voice\": \"[Superius]\", \"pattern\": \"-2, 2, -2, -2, 2\", \"end\": 1133.0}, {\"start\": 1236.0, \"voice\": \"[Superius]\", \"pattern\": \"1, -2, -2, -2, 2\", \"end\": 1237.0}, {\"start\": 1240.0, \"voice\": \"[Superius]\", \"pattern\": \"-2, -2, -2, 2, 1\", \"end\": 1241.0}, {\"start\": 20.0, \"voice\": \"Altus\", \"pattern\": \"4, 1, 2, 2, -3\", \"end\": 21.0}, {\"start\": 78.0, \"voice\": \"Altus\", \"pattern\": \"-2, -2, -2, 2, -2\", \"end\": 79.0}, {\"start\": 80.0, \"voice\": \"Altus\", \"pattern\": \"-2, -2, 2, -2, 4\", \"end\": 81.0}, {\"start\": 84.0, \"voice\": \"Altus\", \"pattern\": \"-2, 2, -2, 4, -2\", \"end\": 85.0}, {\"start\": 88.0, \"voice\": \"Altus\", \"pattern\": \"2, -2, 4, -2, -2\", \"end\": 89.0}, {\"start\": 91.0, \"voice\": \"Altus\", \"pattern\": \"-2, 4, -2, -2, 2\", \"end\": 92.0}, {\"start\": 92.0, \"voice\": \"Altus\", \"pattern\": \"4, -2, -2, 2, 2\", \"end\": 93.0}, {\"start\": 146.0, \"voice\": \"Altus\", \"pattern\": \"1, 1, 2, 2, -3\", \"end\": 147.0}, {\"start\": 184.0, \"voice\": \"Altus\", \"pattern\": \"-3, -2, 2, 2, 2\", \"end\": 185.0}, {\"start\": 188.0, \"voice\": \"Altus\", \"pattern\": \"-2, 2, 2, 2, 2\", \"end\": 189.0}, {\"start\": 192.0, \"voice\": \"Altus\", \"pattern\": \"2, 2, 2, 2, 2\", \"end\": 193.0}, {\"start\": 195.0, \"voice\": \"Altus\", \"pattern\": \"2, 2, 2, 2, -2\", \"end\": 196.0}, {\"start\": 196.0, \"voice\": \"Altus\", \"pattern\": \"2, 2, 2, -2, -2\", \"end\": 197.0}, {\"start\": 202.0, \"voice\": \"Altus\", \"pattern\": \"2, 2, -2, -2, 5\", \"end\": 203.0}, {\"start\": 204.0, \"voice\": \"Altus\", \"pattern\": \"2, -2, -2, 5, -2\", \"end\": 205.0}, {\"start\": 210.0, \"voice\": \"Altus\", \"pattern\": \"-2, -2, 5, -2, -2\", \"end\": 211.0}, {\"start\": 211.0, \"voice\": \"Altus\", \"pattern\": \"-2, 5, -2, -2, -2\", \"end\": 212.0}, {\"start\": 212.0, \"voice\": \"Altus\", \"pattern\": \"5, -2, -2, -2, -2\", \"end\": 213.0}, {\"start\": 215.0, \"voice\": \"Altus\", \"pattern\": \"-2, -2, -2, -2, 2\", \"end\": 216.0}, {\"start\": 216.0, \"voice\": \"Altus\", \"pattern\": \"-2, -2, -2, 2, 2\", \"end\": 217.0}, {\"start\": 217.0, \"voice\": \"Altus\", \"pattern\": \"-2, -2, 2, 2, 2\", \"end\": 218.0}, {\"start\": 218.0, \"voice\": \"Altus\", \"pattern\": \"-2, 2, 2, 2, -2\", \"end\": 219.0}, {\"start\": 248.0, \"voice\": \"Altus\", \"pattern\": \"3, 2, 2, 1, 2\", \"end\": 249.0}, {\"start\": 252.0, \"voice\": \"Altus\", \"pattern\": \"2, 2, 1, 2, -2\", \"end\": 253.0}, {\"start\": 256.0, \"voice\": \"Altus\", \"pattern\": \"2, 1, 2, -2, -2\", \"end\": 257.0}, {\"start\": 260.0, \"voice\": \"Altus\", \"pattern\": \"1, 2, -2, -2, -2\", \"end\": 261.0}, {\"start\": 288.0, \"voice\": \"Altus\", \"pattern\": \"2, 2, -2, 1, -2\", \"end\": 289.0}, {\"start\": 294.0, \"voice\": \"Altus\", \"pattern\": \"2, -2, 1, -2, 2\", \"end\": 295.0}, {\"start\": 320.0, \"voice\": \"Altus\", \"pattern\": \"1, 1, 1, 2, 2\", \"end\": 321.0}, {\"start\": 324.0, \"voice\": \"Altus\", \"pattern\": \"1, 1, 2, 2, 2\", \"end\": 325.0}, {\"start\": 328.0, \"voice\": \"Altus\", \"pattern\": \"1, 2, 2, 2, -3\", \"end\": 329.0}, {\"start\": 334.0, \"voice\": \"Altus\", \"pattern\": \"2, 2, 2, -3, 4\", \"end\": 335.0}, {\"start\": 335.0, \"voice\": \"Altus\", \"pattern\": \"2, 2, -3, 4, -2\", \"end\": 336.0}, {\"start\": 336.0, \"voice\": \"Altus\", \"pattern\": \"2, -3, 4, -2, 3\", \"end\": 337.0}, {\"start\": 338.0, \"voice\": \"Altus\", \"pattern\": \"-3, 4, -2, 3, -2\", \"end\": 339.0}, {\"start\": 340.0, \"voice\": \"Altus\", \"pattern\": \"4, -2, 3, -2, -5\", \"end\": 341.0}, {\"start\": 352.0, \"voice\": \"Altus\", \"pattern\": \"-2, 3, -2, -5, 6\", \"end\": 353.0}, {\"start\": 354.0, \"voice\": \"Altus\", \"pattern\": \"3, -2, -5, 6, -2\", \"end\": 355.0}, {\"start\": 356.0, \"voice\": \"Altus\", \"pattern\": \"-2, -5, 6, -2, 3\", \"end\": 357.0}, {\"start\": 360.0, \"voice\": \"Altus\", \"pattern\": \"-5, 6, -2, 3, -2\", \"end\": 361.0}, {\"start\": 364.0, \"voice\": \"Altus\", \"pattern\": \"6, -2, 3, -2, -5\", \"end\": 365.0}, {\"start\": 368.0, \"voice\": \"Altus\", \"pattern\": \"-2, 3, -2, -5, 2\", \"end\": 369.0}, {\"start\": 370.0, \"voice\": \"Altus\", \"pattern\": \"3, -2, -5, 2, 2\", \"end\": 371.0}, {\"start\": 372.0, \"voice\": \"Altus\", \"pattern\": \"-2, -5, 2, 2, 2\", \"end\": 373.0}, {\"start\": 376.0, \"voice\": \"Altus\", \"pattern\": \"-5, 2, 2, 2, -5\", \"end\": 377.0}, {\"start\": 392.0, \"voice\": \"Altus\", \"pattern\": \"-2, -3, 2, 2, 2\", \"end\": 393.0}, {\"start\": 394.0, \"voice\": \"Altus\", \"pattern\": \"-3, 2, 2, 2, -5\", \"end\": 395.0}, {\"start\": 397.0, \"voice\": \"Altus\", \"pattern\": \"2, 2, 2, -5, 2\", \"end\": 398.0}, {\"start\": 398.0, \"voice\": \"Altus\", \"pattern\": \"2, 2, -5, 2, 2\", \"end\": 399.0}, {\"start\": 400.0, \"voice\": \"Altus\", \"pattern\": \"2, -5, 2, 2, 2\", \"end\": 401.0}, {\"start\": 402.0, \"voice\": \"Altus\", \"pattern\": \"-5, 2, 2, 2, -3\", \"end\": 403.0}, {\"start\": 405.0, \"voice\": \"Altus\", \"pattern\": \"2, 2, 2, -3, -2\", \"end\": 406.0}, {\"start\": 406.0, \"voice\": \"Altus\", \"pattern\": \"2, 2, -3, -2, 1\", \"end\": 407.0}, {\"start\": 408.0, \"voice\": \"Altus\", \"pattern\": \"2, -3, -2, 1, 8\", \"end\": 409.0}, {\"start\": 410.0, \"voice\": \"Altus\", \"pattern\": \"-3, -2, 1, 8, -2\", \"end\": 411.0}, {\"start\": 412.0, \"voice\": \"Altus\", \"pattern\": \"-2, 1, 8, -2, -2\", \"end\": 413.0}, {\"start\": 416.0, \"voice\": \"Altus\", \"pattern\": \"1, 8, -2, -2, -2\", \"end\": 417.0}, {\"start\": 418.0, \"voice\": \"Altus\", \"pattern\": \"8, -2, -2, -2, 2\", \"end\": 419.0}, {\"start\": 436.0, \"voice\": \"Altus\", \"pattern\": \"4, -2, 2, 2, -3\", \"end\": 437.0}, {\"start\": 442.0, \"voice\": \"Altus\", \"pattern\": \"-2, 2, 2, -3, -2\", \"end\": 443.0}, {\"start\": 444.0, \"voice\": \"Altus\", \"pattern\": \"2, 2, -3, -2, -2\", \"end\": 445.0}, {\"start\": 448.0, \"voice\": \"Altus\", \"pattern\": \"2, -3, -2, -2, 1\", \"end\": 449.0}, {\"start\": 452.0, \"voice\": \"Altus\", \"pattern\": \"-3, -2, -2, 1, -2\", \"end\": 453.0}, {\"start\": 458.0, \"voice\": \"Altus\", \"pattern\": \"-2, -2, 1, -2, 2\", \"end\": 459.0}, {\"start\": 459.0, \"voice\": \"Altus\", \"pattern\": \"-2, 1, -2, 2, 2\", \"end\": 460.0}, {\"start\": 460.0, \"voice\": \"Altus\", \"pattern\": \"1, -2, 2, 2, -2\", \"end\": 461.0}, {\"start\": 528.0, \"voice\": \"Altus\", \"pattern\": \"2, -3, 2, -3, 2\", \"end\": 529.0}, {\"start\": 532.0, \"voice\": \"Altus\", \"pattern\": \"-3, 2, -3, 2, -2\", \"end\": 533.0}, {\"start\": 536.0, \"voice\": \"Altus\", \"pattern\": \"2, -3, 2, -2, -2\", \"end\": 537.0}, {\"start\": 540.0, \"voice\": \"Altus\", \"pattern\": \"-3, 2, -2, -2, -2\", \"end\": 541.0}, {\"start\": 544.0, \"voice\": \"Altus\", \"pattern\": \"2, -2, -2, -2, -2\", \"end\": 545.0}, {\"start\": 547.0, \"voice\": \"Altus\", \"pattern\": \"-2, -2, -2, -2, 2\", \"end\": 548.0}, {\"start\": 548.0, \"voice\": \"Altus\", \"pattern\": \"-2, -2, -2, 2, 2\", \"end\": 549.0}, {\"start\": 552.0, \"voice\": \"Altus\", \"pattern\": \"-2, -2, 2, 2, -3\", \"end\": 553.0}, {\"start\": 555.0, \"voice\": \"Altus\", \"pattern\": \"-2, 2, 2, -3, 1\", \"end\": 556.0}, {\"start\": 556.0, \"voice\": \"Altus\", \"pattern\": \"2, 2, -3, 1, 2\", \"end\": 557.0}, {\"start\": 558.0, \"voice\": \"Altus\", \"pattern\": \"2, -3, 1, 2, -3\", \"end\": 559.0}, {\"start\": 561.0, \"voice\": \"Altus\", \"pattern\": \"-3, 1, 2, -3, 1\", \"end\": 562.0}, {\"start\": 562.0, \"voice\": \"Altus\", \"pattern\": \"1, 2, -3, 1, -2\", \"end\": 563.0}, {\"start\": 566.0, \"voice\": \"Altus\", \"pattern\": \"2, -3, 1, -2, -2\", \"end\": 567.0}, {\"start\": 569.0, \"voice\": \"Altus\", \"pattern\": \"-3, 1, -2, -2, 5\", \"end\": 570.0}, {\"start\": 570.0, \"voice\": \"Altus\", \"pattern\": \"1, -2, -2, 5, -2\", \"end\": 571.0}, {\"start\": 574.0, \"voice\": \"Altus\", \"pattern\": \"-2, -2, 5, -2, 2\", \"end\": 575.0}, {\"start\": 575.0, \"voice\": \"Altus\", \"pattern\": \"-2, 5, -2, 2, -3\", \"end\": 576.0}, {\"start\": 576.0, \"voice\": \"Altus\", \"pattern\": \"5, -2, 2, -3, -2\", \"end\": 577.0}, {\"start\": 620.0, \"voice\": \"Altus\", \"pattern\": \"1, 1, 5, 1, 2\", \"end\": 621.0}, {\"start\": 622.0, \"voice\": \"Altus\", \"pattern\": \"1, 5, 1, 2, -2\", \"end\": 623.0}, {\"start\": 624.0, \"voice\": \"Altus\", \"pattern\": \"5, 1, 2, -2, 1\", \"end\": 625.0}, {\"start\": 628.0, \"voice\": \"Altus\", \"pattern\": \"1, 2, -2, 1, -2\", \"end\": 629.0}, {\"start\": 630.0, \"voice\": \"Altus\", \"pattern\": \"2, -2, 1, -2, 2\", \"end\": 631.0}, {\"start\": 667.0, \"voice\": \"Altus\", \"pattern\": \"-2, -2, -2, -2, 2\", \"end\": 668.0}, {\"start\": 668.0, \"voice\": \"Altus\", \"pattern\": \"-2, -2, -2, 2, 3\", \"end\": 669.0}, {\"start\": 670.0, \"voice\": \"Altus\", \"pattern\": \"-2, -2, 2, 3, -2\", \"end\": 671.0}, {\"start\": 672.0, \"voice\": \"Altus\", \"pattern\": \"-2, 2, 3, -2, 1\", \"end\": 673.0}, {\"start\": 676.0, \"voice\": \"Altus\", \"pattern\": \"2, 3, -2, 1, -2\", \"end\": 677.0}, {\"start\": 678.0, \"voice\": \"Altus\", \"pattern\": \"3, -2, 1, -2, 2\", \"end\": 679.0}, {\"start\": 681.0, \"voice\": \"Altus\", \"pattern\": \"-2, 1, -2, 2, -2\", \"end\": 682.0}, {\"start\": 682.0, \"voice\": \"Altus\", \"pattern\": \"1, -2, 2, -2, -2\", \"end\": 683.0}, {\"start\": 686.0, \"voice\": \"Altus\", \"pattern\": \"-2, 2, -2, -2, 5\", \"end\": 687.0}, {\"start\": 688.0, \"voice\": \"Altus\", \"pattern\": \"2, -2, -2, 5, -5\", \"end\": 689.0}, {\"start\": 748.0, \"voice\": \"Altus\", \"pattern\": \"1, 1, 2, -2, -2\", \"end\": 749.0}, {\"start\": 752.0, \"voice\": \"Altus\", \"pattern\": \"1, 2, -2, -2, -2\", \"end\": 753.0}, {\"start\": 756.0, \"voice\": \"Altus\", \"pattern\": \"2, -2, -2, -2, -2\", \"end\": 757.0}, {\"start\": 762.0, \"voice\": \"Altus\", \"pattern\": \"-2, -2, -2, -2, 1\", \"end\": 763.0}, {\"start\": 764.0, \"voice\": \"Altus\", \"pattern\": \"-2, -2, -2, 1, 2\", \"end\": 765.0}, {\"start\": 796.0, \"voice\": \"Altus\", \"pattern\": \"1, 1, 2, -2, -2\", \"end\": 797.0}, {\"start\": 800.0, \"voice\": \"Altus\", \"pattern\": \"1, 2, -2, -2, -2\", \"end\": 801.0}, {\"start\": 804.0, \"voice\": \"Altus\", \"pattern\": \"2, -2, -2, -2, -2\", \"end\": 805.0}, {\"start\": 810.0, \"voice\": \"Altus\", \"pattern\": \"-2, -2, -2, -2, 1\", \"end\": 811.0}, {\"start\": 812.0, \"voice\": \"Altus\", \"pattern\": \"-2, -2, -2, 1, 2\", \"end\": 813.0}, {\"start\": 814.0, \"voice\": \"Altus\", \"pattern\": \"-2, -2, 1, 2, 5\", \"end\": 815.0}, {\"start\": 816.0, \"voice\": \"Altus\", \"pattern\": \"-2, 1, 2, 5, 2\", \"end\": 817.0}, {\"start\": 824.0, \"voice\": \"Altus\", \"pattern\": \"1, 2, 5, 2, 1\", \"end\": 825.0}, {\"start\": 828.0, \"voice\": \"Altus\", \"pattern\": \"2, 5, 2, 1, -3\", \"end\": 829.0}, {\"start\": 836.0, \"voice\": \"Altus\", \"pattern\": \"5, 2, 1, -3, 1\", \"end\": 837.0}, {\"start\": 840.0, \"voice\": \"Altus\", \"pattern\": \"2, 1, -3, 1, 2\", \"end\": 841.0}, {\"start\": 848.0, \"voice\": \"Altus\", \"pattern\": \"1, -3, 1, 2, -4\", \"end\": 849.0}, {\"start\": 852.0, \"voice\": \"Altus\", \"pattern\": \"-3, 1, 2, -4, 2\", \"end\": 853.0}, {\"start\": 860.0, \"voice\": \"Altus\", \"pattern\": \"1, 2, -4, 2, 3\", \"end\": 861.0}, {\"start\": 864.0, \"voice\": \"Altus\", \"pattern\": \"2, -4, 2, 3, 2\", \"end\": 865.0}, {\"start\": 872.0, \"voice\": \"Altus\", \"pattern\": \"-4, 2, 3, 2, -2\", \"end\": 873.0}, {\"start\": 876.0, \"voice\": \"Altus\", \"pattern\": \"2, 3, 2, -2, -2\", \"end\": 877.0}, {\"start\": 884.0, \"voice\": \"Altus\", \"pattern\": \"3, 2, -2, -2, -2\", \"end\": 885.0}, {\"start\": 888.0, \"voice\": \"Altus\", \"pattern\": \"2, -2, -2, -2, -2\", \"end\": 889.0}, {\"start\": 894.0, \"voice\": \"Altus\", \"pattern\": \"-2, -2, -2, -2, -3\", \"end\": 895.0}, {\"start\": 896.0, \"voice\": \"Altus\", \"pattern\": \"-2, -2, -2, -3, 2\", \"end\": 897.0}, {\"start\": 898.0, \"voice\": \"Altus\", \"pattern\": \"-2, -2, -3, 2, -3\", \"end\": 899.0}, {\"start\": 900.0, \"voice\": \"Altus\", \"pattern\": \"-2, -3, 2, -3, -2\", \"end\": 901.0}, {\"start\": 904.0, \"voice\": \"Altus\", \"pattern\": \"-3, 2, -3, -2, 8\", \"end\": 905.0}, {\"start\": 908.0, \"voice\": \"Altus\", \"pattern\": \"2, -3, -2, 8, -3\", \"end\": 909.0}, {\"start\": 912.0, \"voice\": \"Altus\", \"pattern\": \"-3, -2, 8, -3, -2\", \"end\": 913.0}, {\"start\": 916.0, \"voice\": \"Altus\", \"pattern\": \"-2, 8, -3, -2, -2\", \"end\": 917.0}, {\"start\": 924.0, \"voice\": \"Altus\", \"pattern\": \"8, -3, -2, -2, 1\", \"end\": 925.0}, {\"start\": 948.0, \"voice\": \"Altus\", \"pattern\": \"1, -2, -2, -2, -2\", \"end\": 949.0}, {\"start\": 952.0, \"voice\": \"Altus\", \"pattern\": \"-2, -2, -2, -2, 5\", \"end\": 953.0}, {\"start\": 956.0, \"voice\": \"Altus\", \"pattern\": \"-2, -2, -2, 5, -8\", \"end\": 957.0}, {\"start\": 980.0, \"voice\": \"Altus\", \"pattern\": \"2, 2, 1, 2, -2\", \"end\": 981.0}, {\"start\": 982.0, \"voice\": \"Altus\", \"pattern\": \"2, 1, 2, -2, -2\", \"end\": 983.0}, {\"start\": 986.0, \"voice\": \"Altus\", \"pattern\": \"1, 2, -2, -2, -2\", \"end\": 987.0}, {\"start\": 988.0, \"voice\": \"Altus\", \"pattern\": \"2, -2, -2, -2, -2\", \"end\": 989.0}, {\"start\": 1012.0, \"voice\": \"Altus\", \"pattern\": \"1, -2, -2, -2, -2\", \"end\": 1013.0}, {\"start\": 1016.0, \"voice\": \"Altus\", \"pattern\": \"-2, -2, -2, -2, 5\", \"end\": 1017.0}, {\"start\": 1020.0, \"voice\": \"Altus\", \"pattern\": \"-2, -2, -2, 5, -8\", \"end\": 1021.0}, {\"start\": 1044.0, \"voice\": \"Altus\", \"pattern\": \"2, 2, 1, 2, -2\", \"end\": 1045.0}, {\"start\": 1046.0, \"voice\": \"Altus\", \"pattern\": \"2, 1, 2, -2, -2\", \"end\": 1047.0}, {\"start\": 1050.0, \"voice\": \"Altus\", \"pattern\": \"1, 2, -2, -2, -2\", \"end\": 1051.0}, {\"start\": 1052.0, \"voice\": \"Altus\", \"pattern\": \"2, -2, -2, -2, -2\", \"end\": 1053.0}, {\"start\": 1074.0, \"voice\": \"Altus\", \"pattern\": \"-2, -2, 2, -3, 2\", \"end\": 1075.0}, {\"start\": 1075.0, \"voice\": \"Altus\", \"pattern\": \"-2, 2, -3, 2, -2\", \"end\": 1076.0}, {\"start\": 1076.0, \"voice\": \"Altus\", \"pattern\": \"2, -3, 2, -2, -2\", \"end\": 1077.0}, {\"start\": 1078.0, \"voice\": \"Altus\", \"pattern\": \"-3, 2, -2, -2, 2\", \"end\": 1079.0}, {\"start\": 1098.0, \"voice\": \"Altus\", \"pattern\": \"-2, -2, 4, -2, 2\", \"end\": 1099.0}, {\"start\": 1099.0, \"voice\": \"Altus\", \"pattern\": \"-2, 4, -2, 2, -3\", \"end\": 1100.0}, {\"start\": 1100.0, \"voice\": \"Altus\", \"pattern\": \"4, -2, 2, -3, -2\", \"end\": 1101.0}, {\"start\": 1103.0, \"voice\": \"Altus\", \"pattern\": \"-2, 2, -3, -2, -2\", \"end\": 1104.0}, {\"start\": 1104.0, \"voice\": \"Altus\", \"pattern\": \"2, -3, -2, -2, -2\", \"end\": 1105.0}, {\"start\": 1106.0, \"voice\": \"Altus\", \"pattern\": \"-3, -2, -2, -2, -2\", \"end\": 1107.0}, {\"start\": 1109.0, \"voice\": \"Altus\", \"pattern\": \"-2, -2, -2, -2, 2\", \"end\": 1110.0}, {\"start\": 1110.0, \"voice\": \"Altus\", \"pattern\": \"-2, -2, -2, 2, -3\", \"end\": 1111.0}, {\"start\": 1111.0, \"voice\": \"Altus\", \"pattern\": \"-2, -2, 2, -3, 8\", \"end\": 1112.0}, {\"start\": 1129.0, \"voice\": \"Altus\", \"pattern\": \"-2, -3, 2, 2, -2\", \"end\": 1130.0}, {\"start\": 1130.0, \"voice\": \"Altus\", \"pattern\": \"-3, 2, 2, -2, -2\", \"end\": 1131.0}, {\"start\": 1132.0, \"voice\": \"Altus\", \"pattern\": \"2, 2, -2, -2, -2\", \"end\": 1133.0}, {\"start\": 1134.0, \"voice\": \"Altus\", \"pattern\": \"2, -2, -2, -2, -2\", \"end\": 1135.0}, {\"start\": 1137.0, \"voice\": \"Altus\", \"pattern\": \"-2, -2, -2, -2, 2\", \"end\": 1138.0}, {\"start\": 1138.0, \"voice\": \"Altus\", \"pattern\": \"-2, -2, -2, 2, -4\", \"end\": 1139.0}, {\"start\": 1157.0, \"voice\": \"Altus\", \"pattern\": \"-2, -2, -2, 2, -5\", \"end\": 1158.0}, {\"start\": 1158.0, \"voice\": \"Altus\", \"pattern\": \"-2, -2, 2, -5, 2\", \"end\": 1159.0}, {\"start\": 1159.0, \"voice\": \"Altus\", \"pattern\": \"-2, 2, -5, 2, -3\", \"end\": 1160.0}, {\"start\": 1160.0, \"voice\": \"Altus\", \"pattern\": \"2, -5, 2, -3, 2\", \"end\": 1161.0}, {\"start\": 1162.0, \"voice\": \"Altus\", \"pattern\": \"-5, 2, -3, 2, -2\", \"end\": 1163.0}, {\"start\": 1166.0, \"voice\": \"Altus\", \"pattern\": \"2, -3, 2, -2, 1\", \"end\": 1167.0}, {\"start\": 1168.0, \"voice\": \"Altus\", \"pattern\": \"-3, 2, -2, 1, -2\", \"end\": 1169.0}, {\"start\": 1170.0, \"voice\": \"Altus\", \"pattern\": \"2, -2, 1, -2, 2\", \"end\": 1171.0}, {\"start\": 1236.0, \"voice\": \"Altus\", \"pattern\": \"1, 1, -3, 2, 2\", \"end\": 1237.0}, {\"start\": 1240.0, \"voice\": \"Altus\", \"pattern\": \"1, -3, 2, 2, 1\", \"end\": 1241.0}, {\"start\": 1244.0, \"voice\": \"Altus\", \"pattern\": \"-3, 2, 2, 1, 1\", \"end\": 1245.0}, {\"start\": 36.0, \"voice\": \"Tenor\", \"pattern\": \"4, 1, 2, 2, -3\", \"end\": 37.0}, {\"start\": 94.0, \"voice\": \"Tenor\", \"pattern\": \"-2, -2, -2, 2, -2\", \"end\": 95.0}, {\"start\": 96.0, \"voice\": \"Tenor\", \"pattern\": \"-2, -2, 2, -2, 4\", \"end\": 97.0}, {\"start\": 100.0, \"voice\": \"Tenor\", \"pattern\": \"-2, 2, -2, 4, -2\", \"end\": 101.0}, {\"start\": 104.0, \"voice\": \"Tenor\", \"pattern\": \"2, -2, 4, -2, -2\", \"end\": 105.0}, {\"start\": 106.0, \"voice\": \"Tenor\", \"pattern\": \"-2, 4, -2, -2, 2\", \"end\": 107.0}, {\"start\": 108.0, \"voice\": \"Tenor\", \"pattern\": \"4, -2, -2, 2, 2\", \"end\": 109.0}, {\"start\": 162.0, \"voice\": \"Tenor\", \"pattern\": \"1, 1, 2, 2, -3\", \"end\": 163.0}, {\"start\": 164.0, \"voice\": \"Tenor\", \"pattern\": \"1, 2, 2, -3, 3\", \"end\": 165.0}, {\"start\": 168.0, \"voice\": \"Tenor\", \"pattern\": \"2, 2, -3, 3, -2\", \"end\": 169.0}, {\"start\": 172.0, \"voice\": \"Tenor\", \"pattern\": \"2, -3, 3, -2, 4\", \"end\": 173.0}, {\"start\": 176.0, \"voice\": \"Tenor\", \"pattern\": \"-3, 3, -2, 4, -2\", \"end\": 177.0}, {\"start\": 178.0, \"voice\": \"Tenor\", \"pattern\": \"3, -2, 4, -2, 2\", \"end\": 179.0}, {\"start\": 208.0, \"voice\": \"Tenor\", \"pattern\": \"-3, -2, 8, -2, -2\", \"end\": 209.0}, {\"start\": 212.0, \"voice\": \"Tenor\", \"pattern\": \"-2, 8, -2, -2, -2\", \"end\": 213.0}, {\"start\": 216.0, \"voice\": \"Tenor\", \"pattern\": \"8, -2, -2, -2, -2\", \"end\": 217.0}, {\"start\": 219.0, \"voice\": \"Tenor\", \"pattern\": \"-2, -2, -2, -2, -2\", \"end\": 220.0}, {\"start\": 220.0, \"voice\": \"Tenor\", \"pattern\": \"-2, -2, -2, -2, 2\", \"end\": 221.0}, {\"start\": 221.0, \"voice\": \"Tenor\", \"pattern\": \"-2, -2, -2, 2, 2\", \"end\": 222.0}, {\"start\": 222.0, \"voice\": \"Tenor\", \"pattern\": \"-2, -2, 2, 2, -2\", \"end\": 223.0}, {\"start\": 280.0, \"voice\": \"Tenor\", \"pattern\": \"1, 2, 2, 1, 2\", \"end\": 281.0}, {\"start\": 284.0, \"voice\": \"Tenor\", \"pattern\": \"2, 2, 1, 2, -2\", \"end\": 285.0}, {\"start\": 288.0, \"voice\": \"Tenor\", \"pattern\": \"2, 1, 2, -2, 1\", \"end\": 289.0}, {\"start\": 292.0, \"voice\": \"Tenor\", \"pattern\": \"1, 2, -2, 1, -2\", \"end\": 293.0}, {\"start\": 294.0, \"voice\": \"Tenor\", \"pattern\": \"2, -2, 1, -2, 2\", \"end\": 295.0}, {\"start\": 320.0, \"voice\": \"Tenor\", \"pattern\": \"1, 1, 2, -2, -2\", \"end\": 321.0}, {\"start\": 324.0, \"voice\": \"Tenor\", \"pattern\": \"1, 2, -2, -2, -2\", \"end\": 325.0}, {\"start\": 328.0, \"voice\": \"Tenor\", \"pattern\": \"2, -2, -2, -2, -2\", \"end\": 329.0}, {\"start\": 334.0, \"voice\": \"Tenor\", \"pattern\": \"-2, -2, -2, -2, -3\", \"end\": 335.0}, {\"start\": 336.0, \"voice\": \"Tenor\", \"pattern\": \"-2, -2, -2, -3, 2\", \"end\": 337.0}, {\"start\": 340.0, \"voice\": \"Tenor\", \"pattern\": \"-2, -2, -3, 2, 2\", \"end\": 341.0}, {\"start\": 344.0, \"voice\": \"Tenor\", \"pattern\": \"-2, -3, 2, 2, 2\", \"end\": 345.0}, {\"start\": 348.0, \"voice\": \"Tenor\", \"pattern\": \"-3, 2, 2, 2, -3\", \"end\": 349.0}, {\"start\": 350.0, \"voice\": \"Tenor\", \"pattern\": \"2, 2, 2, -3, 2\", \"end\": 351.0}, {\"start\": 354.0, \"voice\": \"Tenor\", \"pattern\": \"2, 2, -3, 2, 2\", \"end\": 355.0}, {\"start\": 358.0, \"voice\": \"Tenor\", \"pattern\": \"2, -3, 2, 2, 2\", \"end\": 359.0}, {\"start\": 362.0, \"voice\": \"Tenor\", \"pattern\": \"-3, 2, 2, 2, -3\", \"end\": 363.0}, {\"start\": 366.0, \"voice\": \"Tenor\", \"pattern\": \"2, 2, 2, -3, 2\", \"end\": 367.0}, {\"start\": 370.0, \"voice\": \"Tenor\", \"pattern\": \"2, 2, -3, 2, 2\", \"end\": 371.0}, {\"start\": 374.0, \"voice\": \"Tenor\", \"pattern\": \"2, -3, 2, 2, 2\", \"end\": 375.0}, {\"start\": 378.0, \"voice\": \"Tenor\", \"pattern\": \"-3, 2, 2, 2, 2\", \"end\": 379.0}, {\"start\": 382.0, \"voice\": \"Tenor\", \"pattern\": \"2, 2, 2, 2, -2\", \"end\": 383.0}, {\"start\": 386.0, \"voice\": \"Tenor\", \"pattern\": \"2, 2, 2, -2, 2\", \"end\": 387.0}, {\"start\": 390.0, \"voice\": \"Tenor\", \"pattern\": \"2, 2, -2, 2, -3\", \"end\": 391.0}, {\"start\": 394.0, \"voice\": \"Tenor\", \"pattern\": \"2, -2, 2, -3, 2\", \"end\": 395.0}, {\"start\": 397.0, \"voice\": \"Tenor\", \"pattern\": \"-2, 2, -3, 2, -2\", \"end\": 398.0}, {\"start\": 398.0, \"voice\": \"Tenor\", \"pattern\": \"2, -3, 2, -2, 2\", \"end\": 399.0}, {\"start\": 400.0, \"voice\": \"Tenor\", \"pattern\": \"-3, 2, -2, 2, -3\", \"end\": 401.0}, {\"start\": 402.0, \"voice\": \"Tenor\", \"pattern\": \"2, -2, 2, -3, 2\", \"end\": 403.0}, {\"start\": 405.0, \"voice\": \"Tenor\", \"pattern\": \"-2, 2, -3, 2, -3\", \"end\": 406.0}, {\"start\": 406.0, \"voice\": \"Tenor\", \"pattern\": \"2, -3, 2, -3, -2\", \"end\": 407.0}, {\"start\": 472.0, \"voice\": \"Tenor\", \"pattern\": \"4, -2, 2, 2, -3\", \"end\": 473.0}, {\"start\": 478.0, \"voice\": \"Tenor\", \"pattern\": \"-2, 2, 2, -3, -2\", \"end\": 479.0}, {\"start\": 480.0, \"voice\": \"Tenor\", \"pattern\": \"2, 2, -3, -2, -2\", \"end\": 481.0}, {\"start\": 484.0, \"voice\": \"Tenor\", \"pattern\": \"2, -3, -2, -2, 1\", \"end\": 485.0}, {\"start\": 488.0, \"voice\": \"Tenor\", \"pattern\": \"-3, -2, -2, 1, 1\", \"end\": 489.0}, {\"start\": 494.0, \"voice\": \"Tenor\", \"pattern\": \"-2, -2, 1, 1, 2\", \"end\": 495.0}, {\"start\": 495.0, \"voice\": \"Tenor\", \"pattern\": \"-2, 1, 1, 2, -2\", \"end\": 496.0}, {\"start\": 496.0, \"voice\": \"Tenor\", \"pattern\": \"1, 1, 2, -2, 4\", \"end\": 497.0}, {\"start\": 500.0, \"voice\": \"Tenor\", \"pattern\": \"1, 2, -2, 4, -2\", \"end\": 501.0}, {\"start\": 502.0, \"voice\": \"Tenor\", \"pattern\": \"2, -2, 4, -2, 2\", \"end\": 503.0}, {\"start\": 536.0, \"voice\": \"Tenor\", \"pattern\": \"2, -3, 2, -3, 2\", \"end\": 537.0}, {\"start\": 540.0, \"voice\": \"Tenor\", \"pattern\": \"-3, 2, -3, 2, -2\", \"end\": 541.0}, {\"start\": 544.0, \"voice\": \"Tenor\", \"pattern\": \"2, -3, 2, -2, -2\", \"end\": 545.0}, {\"start\": 548.0, \"voice\": \"Tenor\", \"pattern\": \"-3, 2, -2, -2, -2\", \"end\": 549.0}, {\"start\": 552.0, \"voice\": \"Tenor\", \"pattern\": \"2, -2, -2, -2, 8\", \"end\": 553.0}, {\"start\": 555.0, \"voice\": \"Tenor\", \"pattern\": \"-2, -2, -2, 8, 2\", \"end\": 556.0}, {\"start\": 556.0, \"voice\": \"Tenor\", \"pattern\": \"-2, -2, 8, 2, -3\", \"end\": 557.0}, {\"start\": 560.0, \"voice\": \"Tenor\", \"pattern\": \"-2, 8, 2, -3, 2\", \"end\": 561.0}, {\"start\": 584.0, \"voice\": \"Tenor\", \"pattern\": \"-3, 2, -2, -2, -2\", \"end\": 585.0}, {\"start\": 586.0, \"voice\": \"Tenor\", \"pattern\": \"2, -2, -2, -2, -2\", \"end\": 587.0}, {\"start\": 589.0, \"voice\": \"Tenor\", \"pattern\": \"-2, -2, -2, -2, -3\", \"end\": 590.0}, {\"start\": 590.0, \"voice\": \"Tenor\", \"pattern\": \"-2, -2, -2, -3, 8\", \"end\": 591.0}, {\"start\": 591.0, \"voice\": \"Tenor\", \"pattern\": \"-2, -2, -3, 8, -2\", \"end\": 592.0}, {\"start\": 592.0, \"voice\": \"Tenor\", \"pattern\": \"-2, -3, 8, -2, -2\", \"end\": 593.0}, {\"start\": 594.0, \"voice\": \"Tenor\", \"pattern\": \"-3, 8, -2, -2, -2\", \"end\": 595.0}, {\"start\": 596.0, \"voice\": \"Tenor\", \"pattern\": \"8, -2, -2, -2, -2\", \"end\": 597.0}, {\"start\": 644.0, \"voice\": \"Tenor\", \"pattern\": \"1, 1, 2, -3, 2\", \"end\": 645.0}, {\"start\": 646.0, \"voice\": \"Tenor\", \"pattern\": \"1, 2, -3, 2, -2\", \"end\": 647.0}, {\"start\": 648.0, \"voice\": \"Tenor\", \"pattern\": \"2, -3, 2, -2, -2\", \"end\": 649.0}, {\"start\": 652.0, \"voice\": \"Tenor\", \"pattern\": \"-3, 2, -2, -2, -2\", \"end\": 653.0}, {\"start\": 704.0, \"voice\": \"Tenor\", \"pattern\": \"1, -2, 3, -2, -2\", \"end\": 705.0}, {\"start\": 708.0, \"voice\": \"Tenor\", \"pattern\": \"-2, 3, -2, -2, -2\", \"end\": 709.0}, {\"start\": 712.0, \"voice\": \"Tenor\", \"pattern\": \"3, -2, -2, -2, 2\", \"end\": 713.0}, {\"start\": 716.0, \"voice\": \"Tenor\", \"pattern\": \"-2, -2, -2, 2, 2\", \"end\": 717.0}, {\"start\": 720.0, \"voice\": \"Tenor\", \"pattern\": \"-2, -2, 2, 2, -2\", \"end\": 721.0}, {\"start\": 723.0, \"voice\": \"Tenor\", \"pattern\": \"-2, 2, 2, -2, -2\", \"end\": 724.0}, {\"start\": 724.0, \"voice\": \"Tenor\", \"pattern\": \"2, 2, -2, -2, -2\", \"end\": 725.0}, {\"start\": 726.0, \"voice\": \"Tenor\", \"pattern\": \"2, -2, -2, -2, 2\", \"end\": 727.0}, {\"start\": 756.0, \"voice\": \"Tenor\", \"pattern\": \"1, 1, 2, 1, 2\", \"end\": 757.0}, {\"start\": 760.0, \"voice\": \"Tenor\", \"pattern\": \"1, 2, 1, 2, 1\", \"end\": 761.0}, {\"start\": 764.0, \"voice\": \"Tenor\", \"pattern\": \"2, 1, 2, 1, -3\", \"end\": 765.0}, {\"start\": 804.0, \"voice\": \"Tenor\", \"pattern\": \"1, 1, 2, 1, 2\", \"end\": 805.0}, {\"start\": 808.0, \"voice\": \"Tenor\", \"pattern\": \"1, 2, 1, 2, 1\", \"end\": 809.0}, {\"start\": 812.0, \"voice\": \"Tenor\", \"pattern\": \"2, 1, 2, 1, -3\", \"end\": 813.0}, {\"start\": 820.0, \"voice\": \"Tenor\", \"pattern\": \"1, 2, 1, -3, 1\", \"end\": 821.0}, {\"start\": 824.0, \"voice\": \"Tenor\", \"pattern\": \"2, 1, -3, 1, 4\", \"end\": 825.0}, {\"start\": 832.0, \"voice\": \"Tenor\", \"pattern\": \"1, -3, 1, 4, 1\", \"end\": 833.0}, {\"start\": 836.0, \"voice\": \"Tenor\", \"pattern\": \"-3, 1, 4, 1, -3\", \"end\": 837.0}, {\"start\": 844.0, \"voice\": \"Tenor\", \"pattern\": \"1, 4, 1, -3, 1\", \"end\": 845.0}, {\"start\": 848.0, \"voice\": \"Tenor\", \"pattern\": \"4, 1, -3, 1, 4\", \"end\": 849.0}, {\"start\": 856.0, \"voice\": \"Tenor\", \"pattern\": \"1, -3, 1, 4, -2\", \"end\": 857.0}, {\"start\": 860.0, \"voice\": \"Tenor\", \"pattern\": \"-3, 1, 4, -2, -2\", \"end\": 861.0}, {\"start\": 868.0, \"voice\": \"Tenor\", \"pattern\": \"1, 4, -2, -2, -2\", \"end\": 869.0}, {\"start\": 872.0, \"voice\": \"Tenor\", \"pattern\": \"4, -2, -2, -2, -2\", \"end\": 873.0}, {\"start\": 878.0, \"voice\": \"Tenor\", \"pattern\": \"-2, -2, -2, -2, 1\", \"end\": 879.0}, {\"start\": 880.0, \"voice\": \"Tenor\", \"pattern\": \"-2, -2, -2, 1, 4\", \"end\": 881.0}, {\"start\": 882.0, \"voice\": \"Tenor\", \"pattern\": \"-2, -2, 1, 4, 1\", \"end\": 883.0}, {\"start\": 884.0, \"voice\": \"Tenor\", \"pattern\": \"-2, 1, 4, 1, 2\", \"end\": 885.0}, {\"start\": 892.0, \"voice\": \"Tenor\", \"pattern\": \"1, 4, 1, 2, -3\", \"end\": 893.0}, {\"start\": 896.0, \"voice\": \"Tenor\", \"pattern\": \"4, 1, 2, -3, 2\", \"end\": 897.0}, {\"start\": 904.0, \"voice\": \"Tenor\", \"pattern\": \"1, 2, -3, 2, -3\", \"end\": 905.0}, {\"start\": 908.0, \"voice\": \"Tenor\", \"pattern\": \"2, -3, 2, -3, -2\", \"end\": 909.0}, {\"start\": 976.0, \"voice\": \"Tenor\", \"pattern\": \"1, 1, 2, -2, -2\", \"end\": 977.0}, {\"start\": 980.0, \"voice\": \"Tenor\", \"pattern\": \"1, 2, -2, -2, -2\", \"end\": 981.0}, {\"start\": 984.0, \"voice\": \"Tenor\", \"pattern\": \"2, -2, -2, -2, 1\", \"end\": 985.0}, {\"start\": 990.0, \"voice\": \"Tenor\", \"pattern\": \"-2, -2, -2, 1, 3\", \"end\": 991.0}, {\"start\": 991.0, \"voice\": \"Tenor\", \"pattern\": \"-2, -2, 1, 3, -2\", \"end\": 992.0}, {\"start\": 992.0, \"voice\": \"Tenor\", \"pattern\": \"-2, 1, 3, -2, -2\", \"end\": 993.0}, {\"start\": 996.0, \"voice\": \"Tenor\", \"pattern\": \"1, 3, -2, -2, -2\", \"end\": 997.0}, {\"start\": 998.0, \"voice\": \"Tenor\", \"pattern\": \"3, -2, -2, -2, -2\", \"end\": 999.0}, {\"start\": 1040.0, \"voice\": \"Tenor\", \"pattern\": \"1, 1, 2, -2, -2\", \"end\": 1041.0}, {\"start\": 1044.0, \"voice\": \"Tenor\", \"pattern\": \"1, 2, -2, -2, -2\", \"end\": 1045.0}, {\"start\": 1048.0, \"voice\": \"Tenor\", \"pattern\": \"2, -2, -2, -2, 1\", \"end\": 1049.0}, {\"start\": 1054.0, \"voice\": \"Tenor\", \"pattern\": \"-2, -2, -2, 1, 3\", \"end\": 1055.0}, {\"start\": 1055.0, \"voice\": \"Tenor\", \"pattern\": \"-2, -2, 1, 3, -2\", \"end\": 1056.0}, {\"start\": 1056.0, \"voice\": \"Tenor\", \"pattern\": \"-2, 1, 3, -2, -2\", \"end\": 1057.0}, {\"start\": 1060.0, \"voice\": \"Tenor\", \"pattern\": \"1, 3, -2, -2, -2\", \"end\": 1061.0}, {\"start\": 1062.0, \"voice\": \"Tenor\", \"pattern\": \"3, -2, -2, -2, -2\", \"end\": 1063.0}, {\"start\": 1096.0, \"voice\": \"Tenor\", \"pattern\": \"2, 2, 2, -2, 2\", \"end\": 1097.0}, {\"start\": 1100.0, \"voice\": \"Tenor\", \"pattern\": \"2, 2, -2, 2, 2\", \"end\": 1101.0}, {\"start\": 1104.0, \"voice\": \"Tenor\", \"pattern\": \"2, -2, 2, 2, 2\", \"end\": 1105.0}, {\"start\": 1152.0, \"voice\": \"Tenor\", \"pattern\": \"1, -2, -2, 2, -2\", \"end\": 1153.0}, {\"start\": 1156.0, \"voice\": \"Tenor\", \"pattern\": \"-2, -2, 2, -2, -2\", \"end\": 1157.0}, {\"start\": 1160.0, \"voice\": \"Tenor\", \"pattern\": \"-2, 2, -2, -2, 2\", \"end\": 1161.0}, {\"start\": 1208.0, \"voice\": \"Tenor\", \"pattern\": \"-2, 1, -2, 2, 2\", \"end\": 1209.0}, {\"start\": 1240.0, \"voice\": \"Tenor\", \"pattern\": \"1, -2, 2, 2, -2\", \"end\": 1241.0}, {\"start\": 1244.0, \"voice\": \"Tenor\", \"pattern\": \"-2, 2, 2, -2, 1\", \"end\": 1245.0}, {\"start\": 52.0, \"voice\": \"Bassus\", \"pattern\": \"4, 1, 2, 2, -3\", \"end\": 53.0}, {\"start\": 110.0, \"voice\": \"Bassus\", \"pattern\": \"-2, -2, -2, 2, 2\", \"end\": 111.0}, {\"start\": 112.0, \"voice\": \"Bassus\", \"pattern\": \"-2, -2, 2, 2, 2\", \"end\": 113.0}, {\"start\": 178.0, \"voice\": \"Bassus\", \"pattern\": \"1, 1, 2, 2, -3\", \"end\": 179.0}, {\"start\": 224.0, \"voice\": \"Bassus\", \"pattern\": \"-3, -2, 2, 2, 2\", \"end\": 225.0}, {\"start\": 280.0, \"voice\": \"Bassus\", \"pattern\": \"3, 2, 2, 1, 2\", \"end\": 281.0}, {\"start\": 284.0, \"voice\": \"Bassus\", \"pattern\": \"2, 2, 1, 2, -2\", \"end\": 285.0}, {\"start\": 288.0, \"voice\": \"Bassus\", \"pattern\": \"2, 1, 2, -2, -2\", \"end\": 289.0}, {\"start\": 292.0, \"voice\": \"Bassus\", \"pattern\": \"1, 2, -2, -2, -2\", \"end\": 293.0}, {\"start\": 320.0, \"voice\": \"Bassus\", \"pattern\": \"1, 1, 4, -2, 2\", \"end\": 321.0}, {\"start\": 324.0, \"voice\": \"Bassus\", \"pattern\": \"1, 4, -2, 2, -4\", \"end\": 325.0}, {\"start\": 328.0, \"voice\": \"Bassus\", \"pattern\": \"4, -2, 2, -4, 2\", \"end\": 329.0}, {\"start\": 331.0, \"voice\": \"Bassus\", \"pattern\": \"-2, 2, -4, 2, -3\", \"end\": 332.0}, {\"start\": 332.0, \"voice\": \"Bassus\", \"pattern\": \"2, -4, 2, -3, 2\", \"end\": 333.0}, {\"start\": 334.0, \"voice\": \"Bassus\", \"pattern\": \"-4, 2, -3, 2, 5\", \"end\": 335.0}, {\"start\": 336.0, \"voice\": \"Bassus\", \"pattern\": \"2, -3, 2, 5, -3\", \"end\": 337.0}, {\"start\": 338.0, \"voice\": \"Bassus\", \"pattern\": \"-3, 2, 5, -3, 2\", \"end\": 339.0}, {\"start\": 340.0, \"voice\": \"Bassus\", \"pattern\": \"2, 5, -3, 2, 2\", \"end\": 341.0}, {\"start\": 344.0, \"voice\": \"Bassus\", \"pattern\": \"5, -3, 2, 2, 2\", \"end\": 345.0}, {\"start\": 350.0, \"voice\": \"Bassus\", \"pattern\": \"-3, 2, 2, 2, -3\", \"end\": 351.0}, {\"start\": 352.0, \"voice\": \"Bassus\", \"pattern\": \"2, 2, 2, -3, 2\", \"end\": 353.0}, {\"start\": 356.0, \"voice\": \"Bassus\", \"pattern\": \"2, 2, -3, 2, 2\", \"end\": 357.0}, {\"start\": 360.0, \"voice\": \"Bassus\", \"pattern\": \"2, -3, 2, 2, 2\", \"end\": 361.0}, {\"start\": 366.0, \"voice\": \"Bassus\", \"pattern\": \"-3, 2, 2, 2, -3\", \"end\": 367.0}, {\"start\": 368.0, \"voice\": \"Bassus\", \"pattern\": \"2, 2, 2, -3, 2\", \"end\": 369.0}, {\"start\": 372.0, \"voice\": \"Bassus\", \"pattern\": \"2, 2, -3, 2, 2\", \"end\": 373.0}, {\"start\": 376.0, \"voice\": \"Bassus\", \"pattern\": \"2, -3, 2, 2, 2\", \"end\": 377.0}, {\"start\": 382.0, \"voice\": \"Bassus\", \"pattern\": \"-3, 2, 2, 2, -2\", \"end\": 383.0}, {\"start\": 384.0, \"voice\": \"Bassus\", \"pattern\": \"2, 2, 2, -2, 2\", \"end\": 385.0}, {\"start\": 388.0, \"voice\": \"Bassus\", \"pattern\": \"2, 2, -2, 2, -3\", \"end\": 389.0}, {\"start\": 392.0, \"voice\": \"Bassus\", \"pattern\": \"2, -2, 2, -3, 2\", \"end\": 393.0}, {\"start\": 395.0, \"voice\": \"Bassus\", \"pattern\": \"-2, 2, -3, 2, -2\", \"end\": 396.0}, {\"start\": 396.0, \"voice\": \"Bassus\", \"pattern\": \"2, -3, 2, -2, 2\", \"end\": 397.0}, {\"start\": 398.0, \"voice\": \"Bassus\", \"pattern\": \"-3, 2, -2, 2, -3\", \"end\": 399.0}, {\"start\": 400.0, \"voice\": \"Bassus\", \"pattern\": \"2, -2, 2, -3, 2\", \"end\": 401.0}, {\"start\": 403.0, \"voice\": \"Bassus\", \"pattern\": \"-2, 2, -3, 2, -3\", \"end\": 404.0}, {\"start\": 404.0, \"voice\": \"Bassus\", \"pattern\": \"2, -3, 2, -3, 2\", \"end\": 405.0}, {\"start\": 406.0, \"voice\": \"Bassus\", \"pattern\": \"-3, 2, -3, 2, -5\", \"end\": 407.0}, {\"start\": 476.0, \"voice\": \"Bassus\", \"pattern\": \"4, -2, 2, 2, -3\", \"end\": 477.0}, {\"start\": 482.0, \"voice\": \"Bassus\", \"pattern\": \"-2, 2, 2, -3, -2\", \"end\": 483.0}, {\"start\": 484.0, \"voice\": \"Bassus\", \"pattern\": \"2, 2, -3, -2, -2\", \"end\": 485.0}, {\"start\": 488.0, \"voice\": \"Bassus\", \"pattern\": \"2, -3, -2, -2, 1\", \"end\": 489.0}, {\"start\": 492.0, \"voice\": \"Bassus\", \"pattern\": \"-3, -2, -2, 1, -2\", \"end\": 493.0}, {\"start\": 498.0, \"voice\": \"Bassus\", \"pattern\": \"-2, -2, 1, -2, 2\", \"end\": 499.0}, {\"start\": 499.0, \"voice\": \"Bassus\", \"pattern\": \"-2, 1, -2, 2, 2\", \"end\": 500.0}, {\"start\": 500.0, \"voice\": \"Bassus\", \"pattern\": \"1, -2, 2, 2, -2\", \"end\": 501.0}, {\"start\": 552.0, \"voice\": \"Bassus\", \"pattern\": \"2, -3, 2, -3, 2\", \"end\": 553.0}, {\"start\": 556.0, \"voice\": \"Bassus\", \"pattern\": \"-3, 2, -3, 2, -2\", \"end\": 557.0}, {\"start\": 560.0, \"voice\": \"Bassus\", \"pattern\": \"2, -3, 2, -2, -2\", \"end\": 561.0}, {\"start\": 564.0, \"voice\": \"Bassus\", \"pattern\": \"-3, 2, -2, -2, -2\", \"end\": 565.0}, {\"start\": 568.0, \"voice\": \"Bassus\", \"pattern\": \"2, -2, -2, -2, 5\", \"end\": 569.0}, {\"start\": 571.0, \"voice\": \"Bassus\", \"pattern\": \"-2, -2, -2, 5, 2\", \"end\": 572.0}, {\"start\": 572.0, \"voice\": \"Bassus\", \"pattern\": \"-2, -2, 5, 2, -3\", \"end\": 573.0}, {\"start\": 576.0, \"voice\": \"Bassus\", \"pattern\": \"-2, 5, 2, -3, 2\", \"end\": 577.0}, {\"start\": 580.0, \"voice\": \"Bassus\", \"pattern\": \"5, 2, -3, 2, -3\", \"end\": 581.0}, {\"start\": 584.0, \"voice\": \"Bassus\", \"pattern\": \"2, -3, 2, -3, 2\", \"end\": 585.0}, {\"start\": 588.0, \"voice\": \"Bassus\", \"pattern\": \"-3, 2, -3, 2, 2\", \"end\": 589.0}, {\"start\": 592.0, \"voice\": \"Bassus\", \"pattern\": \"2, -3, 2, 2, -5\", \"end\": 593.0}, {\"start\": 644.0, \"voice\": \"Bassus\", \"pattern\": \"1, 1, 5, 1, 2\", \"end\": 645.0}, {\"start\": 646.0, \"voice\": \"Bassus\", \"pattern\": \"1, 5, 1, 2, -2\", \"end\": 647.0}, {\"start\": 648.0, \"voice\": \"Bassus\", \"pattern\": \"5, 1, 2, -2, 1\", \"end\": 649.0}, {\"start\": 652.0, \"voice\": \"Bassus\", \"pattern\": \"1, 2, -2, 1, -2\", \"end\": 653.0}, {\"start\": 654.0, \"voice\": \"Bassus\", \"pattern\": \"2, -2, 1, -2, 2\", \"end\": 655.0}, {\"start\": 704.0, \"voice\": \"Bassus\", \"pattern\": \"5, -2, -2, -2, -2\", \"end\": 705.0}, {\"start\": 710.0, \"voice\": \"Bassus\", \"pattern\": \"-2, -2, -2, -2, 5\", \"end\": 711.0}, {\"start\": 714.0, \"voice\": \"Bassus\", \"pattern\": \"-2, -2, -2, 5, -2\", \"end\": 715.0}, {\"start\": 715.0, \"voice\": \"Bassus\", \"pattern\": \"-2, -2, 5, -2, -2\", \"end\": 716.0}, {\"start\": 716.0, \"voice\": \"Bassus\", \"pattern\": \"-2, 5, -2, -2, -2\", \"end\": 717.0}, {\"start\": 718.0, \"voice\": \"Bassus\", \"pattern\": \"5, -2, -2, -2, -2\", \"end\": 719.0}, {\"start\": 722.0, \"voice\": \"Bassus\", \"pattern\": \"-2, -2, -2, -2, 3\", \"end\": 723.0}, {\"start\": 726.0, \"voice\": \"Bassus\", \"pattern\": \"-2, -2, -2, 3, -2\", \"end\": 727.0}, {\"start\": 727.0, \"voice\": \"Bassus\", \"pattern\": \"-2, -2, 3, -2, -2\", \"end\": 728.0}, {\"start\": 728.0, \"voice\": \"Bassus\", \"pattern\": \"-2, 3, -2, -2, 8\", \"end\": 729.0}, {\"start\": 730.0, \"voice\": \"Bassus\", \"pattern\": \"3, -2, -2, 8, 1\", \"end\": 731.0}, {\"start\": 732.0, \"voice\": \"Bassus\", \"pattern\": \"-2, -2, 8, 1, 1\", \"end\": 733.0}, {\"start\": 736.0, \"voice\": \"Bassus\", \"pattern\": \"-2, 8, 1, 1, -5\", \"end\": 737.0}, {\"start\": 748.0, \"voice\": \"Bassus\", \"pattern\": \"8, 1, 1, -5, 1\", \"end\": 749.0}, {\"start\": 752.0, \"voice\": \"Bassus\", \"pattern\": \"1, 1, -5, 1, 2\", \"end\": 753.0}, {\"start\": 756.0, \"voice\": \"Bassus\", \"pattern\": \"1, -5, 1, 2, 1\", \"end\": 757.0}, {\"start\": 760.0, \"voice\": \"Bassus\", \"pattern\": \"-5, 1, 2, 1, -5\", \"end\": 761.0}, {\"start\": 800.0, \"voice\": \"Bassus\", \"pattern\": \"1, 1, -5, 1, 2\", \"end\": 801.0}, {\"start\": 804.0, \"voice\": \"Bassus\", \"pattern\": \"1, -5, 1, 2, 1\", \"end\": 805.0}, {\"start\": 808.0, \"voice\": \"Bassus\", \"pattern\": \"-5, 1, 2, 1, -5\", \"end\": 809.0}, {\"start\": 816.0, \"voice\": \"Bassus\", \"pattern\": \"1, 2, 1, -5, 8\", \"end\": 817.0}, {\"start\": 820.0, \"voice\": \"Bassus\", \"pattern\": \"2, 1, -5, 8, -3\", \"end\": 821.0}, {\"start\": 828.0, \"voice\": \"Bassus\", \"pattern\": \"1, -5, 8, -3, 1\", \"end\": 829.0}, {\"start\": 832.0, \"voice\": \"Bassus\", \"pattern\": \"-5, 8, -3, 1, 4\", \"end\": 833.0}, {\"start\": 840.0, \"voice\": \"Bassus\", \"pattern\": \"8, -3, 1, 4, 1\", \"end\": 841.0}, {\"start\": 844.0, \"voice\": \"Bassus\", \"pattern\": \"-3, 1, 4, 1, -5\", \"end\": 845.0}, {\"start\": 852.0, \"voice\": \"Bassus\", \"pattern\": \"1, 4, 1, -5, 1\", \"end\": 853.0}, {\"start\": 856.0, \"voice\": \"Bassus\", \"pattern\": \"4, 1, -5, 1, 4\", \"end\": 857.0}, {\"start\": 864.0, \"voice\": \"Bassus\", \"pattern\": \"1, -5, 1, 4, 1\", \"end\": 865.0}, {\"start\": 868.0, \"voice\": \"Bassus\", \"pattern\": \"-5, 1, 4, 1, -3\", \"end\": 869.0}, {\"start\": 876.0, \"voice\": \"Bassus\", \"pattern\": \"1, 4, 1, -3, 1\", \"end\": 877.0}, {\"start\": 880.0, \"voice\": \"Bassus\", \"pattern\": \"4, 1, -3, 1, 2\", \"end\": 881.0}, {\"start\": 888.0, \"voice\": \"Bassus\", \"pattern\": \"1, -3, 1, 2, -3\", \"end\": 889.0}, {\"start\": 892.0, \"voice\": \"Bassus\", \"pattern\": \"-3, 1, 2, -3, 2\", \"end\": 893.0}, {\"start\": 900.0, \"voice\": \"Bassus\", \"pattern\": \"1, 2, -3, 2, -3\", \"end\": 901.0}, {\"start\": 904.0, \"voice\": \"Bassus\", \"pattern\": \"2, -3, 2, -3, 2\", \"end\": 905.0}, {\"start\": 908.0, \"voice\": \"Bassus\", \"pattern\": \"-3, 2, -3, 2, -5\", \"end\": 909.0}, {\"start\": 976.0, \"voice\": \"Bassus\", \"pattern\": \"1, -2, -2, -3, 5\", \"end\": 977.0}, {\"start\": 980.0, \"voice\": \"Bassus\", \"pattern\": \"-2, -2, -3, 5, -2\", \"end\": 981.0}, {\"start\": 984.0, \"voice\": \"Bassus\", \"pattern\": \"-2, -3, 5, -2, -2\", \"end\": 985.0}, {\"start\": 988.0, \"voice\": \"Bassus\", \"pattern\": \"-3, 5, -2, -2, 2\", \"end\": 989.0}, {\"start\": 992.0, \"voice\": \"Bassus\", \"pattern\": \"5, -2, -2, 2, 2\", \"end\": 993.0}, {\"start\": 998.0, \"voice\": \"Bassus\", \"pattern\": \"-2, -2, 2, 2, -2\", \"end\": 999.0}, {\"start\": 999.0, \"voice\": \"Bassus\", \"pattern\": \"-2, 2, 2, -2, 2\", \"end\": 1000.0}, {\"start\": 1040.0, \"voice\": \"Bassus\", \"pattern\": \"1, -2, -2, -3, 5\", \"end\": 1041.0}, {\"start\": 1044.0, \"voice\": \"Bassus\", \"pattern\": \"-2, -2, -3, 5, -2\", \"end\": 1045.0}, {\"start\": 1048.0, \"voice\": \"Bassus\", \"pattern\": \"-2, -3, 5, -2, -2\", \"end\": 1049.0}, {\"start\": 1052.0, \"voice\": \"Bassus\", \"pattern\": \"-3, 5, -2, -2, 2\", \"end\": 1053.0}, {\"start\": 1056.0, \"voice\": \"Bassus\", \"pattern\": \"5, -2, -2, 2, 2\", \"end\": 1057.0}, {\"start\": 1062.0, \"voice\": \"Bassus\", \"pattern\": \"-2, -2, 2, 2, -2\", \"end\": 1063.0}, {\"start\": 1063.0, \"voice\": \"Bassus\", \"pattern\": \"-2, 2, 2, -2, 2\", \"end\": 1064.0}, {\"start\": 1096.0, \"voice\": \"Bassus\", \"pattern\": \"-2, -2, -2, -2, 2\", \"end\": 1097.0}, {\"start\": 1099.0, \"voice\": \"Bassus\", \"pattern\": \"-2, -2, -2, 2, 2\", \"end\": 1100.0}, {\"start\": 1100.0, \"voice\": \"Bassus\", \"pattern\": \"-2, -2, 2, 2, 2\", \"end\": 1101.0}, {\"start\": 1104.0, \"voice\": \"Bassus\", \"pattern\": \"-2, 2, 2, 2, 2\", \"end\": 1105.0}, {\"start\": 1107.0, \"voice\": \"Bassus\", \"pattern\": \"2, 2, 2, 2, 2\", \"end\": 1108.0}, {\"start\": 1108.0, \"voice\": \"Bassus\", \"pattern\": \"2, 2, 2, 2, -4\", \"end\": 1109.0}, {\"start\": 1109.0, \"voice\": \"Bassus\", \"pattern\": \"2, 2, 2, -4, 2\", \"end\": 1110.0}, {\"start\": 1110.0, \"voice\": \"Bassus\", \"pattern\": \"2, 2, -4, 2, -2\", \"end\": 1111.0}, {\"start\": 1160.0, \"voice\": \"Bassus\", \"pattern\": \"-3, 4, -2, -2, -2\", \"end\": 1161.0}, {\"start\": 1162.0, \"voice\": \"Bassus\", \"pattern\": \"4, -2, -2, -2, 2\", \"end\": 1163.0}, {\"start\": 1165.0, \"voice\": \"Bassus\", \"pattern\": \"-2, -2, -2, 2, 2\", \"end\": 1166.0}, {\"start\": 1166.0, \"voice\": \"Bassus\", \"pattern\": \"-2, -2, 2, 2, -3\", \"end\": 1167.0}, {\"start\": 1167.0, \"voice\": \"Bassus\", \"pattern\": \"-2, 2, 2, -3, 2\", \"end\": 1168.0}, {\"start\": 1168.0, \"voice\": \"Bassus\", \"pattern\": \"2, 2, -3, 2, -2\", \"end\": 1169.0}, {\"start\": 1170.0, \"voice\": \"Bassus\", \"pattern\": \"2, -3, 2, -2, -2\", \"end\": 1171.0}, {\"start\": 1172.0, \"voice\": \"Bassus\", \"pattern\": \"-3, 2, -2, -2, -2\", \"end\": 1173.0}, {\"start\": 1174.0, \"voice\": \"Bassus\", \"pattern\": \"2, -2, -2, -2, 2\", \"end\": 1175.0}, {\"start\": 1177.0, \"voice\": \"Bassus\", \"pattern\": \"-2, -2, -2, 2, -2\", \"end\": 1178.0}, {\"start\": 1208.0, \"voice\": \"Bassus\", \"pattern\": \"5, 1, -2, -2, -2\", \"end\": 1209.0}, {\"start\": 1212.0, \"voice\": \"Bassus\", \"pattern\": \"1, -2, -2, -2, -2\", \"end\": 1213.0}, {\"start\": 1240.0, \"voice\": \"Bassus\", \"pattern\": \"8, -4, 2, -2, -5\", \"end\": 1241.0}, {\"start\": 1244.0, \"voice\": \"Bassus\", \"pattern\": \"-4, 2, -2, -5, 1\", \"end\": 1245.0}]}}, {\"mode\": \"vega-lite\"});\n",
       "</script>"
      ],
      "text/plain": [
       "alt.VConcatChart(...)"
      ]
     },
     "execution_count": 4,
     "metadata": {},
     "output_type": "execute_result"
    }
   ],
   "source": [
    "viz.plot_ngrams_heatmap(mel_ngrams,selected_patterns=[], voices=[])"
   ]
  },
  {
   "cell_type": "markdown",
   "id": "b2ddbba9",
   "metadata": {},
   "source": [
    "### Selecting patterns\n",
    "\n",
    "We could only include some patterns in the heatmaps\n",
    "\n",
    "First, I collected the top patterns and turned these patterns into a list."
   ]
  },
  {
   "cell_type": "code",
   "execution_count": 5,
   "id": "7f8f0b42",
   "metadata": {},
   "outputs": [
    {
     "data": {
      "text/html": [
       "<div>\n",
       "<style scoped>\n",
       "    .dataframe tbody tr th:only-of-type {\n",
       "        vertical-align: middle;\n",
       "    }\n",
       "\n",
       "    .dataframe tbody tr th {\n",
       "        vertical-align: top;\n",
       "    }\n",
       "\n",
       "    .dataframe thead th {\n",
       "        text-align: right;\n",
       "    }\n",
       "</style>\n",
       "<table border=\"1\" class=\"dataframe\">\n",
       "  <thead>\n",
       "    <tr style=\"text-align: right;\">\n",
       "      <th></th>\n",
       "      <th>0</th>\n",
       "    </tr>\n",
       "  </thead>\n",
       "  <tbody>\n",
       "    <tr>\n",
       "      <th>1, 2, -2, -2, -2</th>\n",
       "      <td>13</td>\n",
       "    </tr>\n",
       "    <tr>\n",
       "      <th>2, -2, -2, -2, -2</th>\n",
       "      <td>11</td>\n",
       "    </tr>\n",
       "    <tr>\n",
       "      <th>1, 1, 2, -2, -2</th>\n",
       "      <td>9</td>\n",
       "    </tr>\n",
       "    <tr>\n",
       "      <th>-2, -2, -2, 2, 2</th>\n",
       "      <td>8</td>\n",
       "    </tr>\n",
       "    <tr>\n",
       "      <th>2, -3, 2, -2, -2</th>\n",
       "      <td>8</td>\n",
       "    </tr>\n",
       "    <tr>\n",
       "      <th>-3, 2, -2, -2, -2</th>\n",
       "      <td>8</td>\n",
       "    </tr>\n",
       "    <tr>\n",
       "      <th>2, -3, 2, -3, 2</th>\n",
       "      <td>7</td>\n",
       "    </tr>\n",
       "    <tr>\n",
       "      <th>-2, -2, -2, -2, 2</th>\n",
       "      <td>7</td>\n",
       "    </tr>\n",
       "    <tr>\n",
       "      <th>2, -3, 2, 2, 2</th>\n",
       "      <td>6</td>\n",
       "    </tr>\n",
       "    <tr>\n",
       "      <th>2, 2, 1, 2, -2</th>\n",
       "      <td>6</td>\n",
       "    </tr>\n",
       "  </tbody>\n",
       "</table>\n",
       "</div>"
      ],
      "text/plain": [
       "                    0\n",
       "1, 2, -2, -2, -2   13\n",
       "2, -2, -2, -2, -2  11\n",
       "1, 1, 2, -2, -2     9\n",
       "-2, -2, -2, 2, 2    8\n",
       "2, -3, 2, -2, -2    8\n",
       "-3, 2, -2, -2, -2   8\n",
       "2, -3, 2, -3, 2     7\n",
       "-2, -2, -2, -2, 2   7\n",
       "2, -3, 2, 2, 2      6\n",
       "2, 2, 1, 2, -2      6"
      ]
     },
     "execution_count": 5,
     "metadata": {},
     "output_type": "execute_result"
    }
   ],
   "source": [
    "# count and get the 10 most popular patterns\n",
    "mel_ngrams_top_patterns_df = mel_ngrams.stack().value_counts().to_frame().head(10)\n",
    "# retrieve a list to generate heatmaps\n",
    "mel_ngrams_top_patterns_list = mel_ngrams_top_patterns_df.index.to_list()\n",
    "mel_ngrams_top_patterns_df"
   ]
  },
  {
   "cell_type": "code",
   "execution_count": 6,
   "id": "d8de8d46",
   "metadata": {},
   "outputs": [
    {
     "data": {
      "text/plain": [
       "['1, 2, -2, -2, -2',\n",
       " '2, -2, -2, -2, -2',\n",
       " '1, 1, 2, -2, -2',\n",
       " '-2, -2, -2, 2, 2',\n",
       " '2, -3, 2, -2, -2',\n",
       " '-3, 2, -2, -2, -2',\n",
       " '2, -3, 2, -3, 2',\n",
       " '-2, -2, -2, -2, 2',\n",
       " '2, -3, 2, 2, 2',\n",
       " '2, 2, 1, 2, -2']"
      ]
     },
     "execution_count": 6,
     "metadata": {},
     "output_type": "execute_result"
    }
   ],
   "source": [
    "mel_ngrams_top_patterns_list "
   ]
  },
  {
   "cell_type": "markdown",
   "id": "b0c330d4",
   "metadata": {},
   "source": [
    "We would pass the list of patterns into the `patterns` parametter."
   ]
  },
  {
   "cell_type": "code",
   "execution_count": 7,
   "id": "8a1b91e1",
   "metadata": {},
   "outputs": [
    {
     "data": {
      "text/html": [
       "\n",
       "<div id=\"altair-viz-9be66d90a9944491826d017a4425e874\"></div>\n",
       "<script type=\"text/javascript\">\n",
       "  (function(spec, embedOpt){\n",
       "    let outputDiv = document.currentScript.previousElementSibling;\n",
       "    if (outputDiv.id !== \"altair-viz-9be66d90a9944491826d017a4425e874\") {\n",
       "      outputDiv = document.getElementById(\"altair-viz-9be66d90a9944491826d017a4425e874\");\n",
       "    }\n",
       "    const paths = {\n",
       "      \"vega\": \"https://cdn.jsdelivr.net/npm//vega@5?noext\",\n",
       "      \"vega-lib\": \"https://cdn.jsdelivr.net/npm//vega-lib?noext\",\n",
       "      \"vega-lite\": \"https://cdn.jsdelivr.net/npm//vega-lite@4.8.1?noext\",\n",
       "      \"vega-embed\": \"https://cdn.jsdelivr.net/npm//vega-embed@6?noext\",\n",
       "    };\n",
       "\n",
       "    function loadScript(lib) {\n",
       "      return new Promise(function(resolve, reject) {\n",
       "        var s = document.createElement('script');\n",
       "        s.src = paths[lib];\n",
       "        s.async = true;\n",
       "        s.onload = () => resolve(paths[lib]);\n",
       "        s.onerror = () => reject(`Error loading script: ${paths[lib]}`);\n",
       "        document.getElementsByTagName(\"head\")[0].appendChild(s);\n",
       "      });\n",
       "    }\n",
       "\n",
       "    function showError(err) {\n",
       "      outputDiv.innerHTML = `<div class=\"error\" style=\"color:red;\">${err}</div>`;\n",
       "      throw err;\n",
       "    }\n",
       "\n",
       "    function displayChart(vegaEmbed) {\n",
       "      vegaEmbed(outputDiv, spec, embedOpt)\n",
       "        .catch(err => showError(`Javascript Error: ${err.message}<br>This usually means there's a typo in your chart specification. See the javascript console for the full traceback.`));\n",
       "    }\n",
       "\n",
       "    if(typeof define === \"function\" && define.amd) {\n",
       "      requirejs.config({paths});\n",
       "      require([\"vega-embed\"], displayChart, err => showError(`Error loading script: ${err.message}`));\n",
       "    } else if (typeof vegaEmbed === \"function\") {\n",
       "      displayChart(vegaEmbed);\n",
       "    } else {\n",
       "      loadScript(\"vega\")\n",
       "        .then(() => loadScript(\"vega-lite\"))\n",
       "        .then(() => loadScript(\"vega-embed\"))\n",
       "        .catch(showError)\n",
       "        .then(() => displayChart(vegaEmbed));\n",
       "    }\n",
       "  })({\"config\": {\"view\": {\"continuousWidth\": 400, \"continuousHeight\": 300}}, \"vconcat\": [{\"mark\": \"bar\", \"encoding\": {\"color\": {\"type\": \"nominal\", \"field\": \"pattern\"}, \"opacity\": {\"condition\": {\"value\": 1, \"selection\": \"selector003\"}, \"value\": 0.2}, \"x\": {\"type\": \"nominal\", \"aggregate\": \"count\", \"field\": \"pattern\"}, \"y\": {\"type\": \"nominal\", \"field\": \"pattern\"}}, \"selection\": {\"selector003\": {\"type\": \"multi\", \"fields\": [\"pattern\"]}}}, {\"mark\": \"bar\", \"encoding\": {\"color\": {\"type\": \"nominal\", \"field\": \"pattern\"}, \"opacity\": {\"condition\": {\"value\": 1, \"selection\": \"selector003\"}, \"value\": 0.2}, \"tooltip\": [{\"type\": \"quantitative\", \"field\": \"start\"}, {\"type\": \"quantitative\", \"field\": \"end\"}, {\"type\": \"nominal\", \"field\": \"pattern\"}], \"x\": {\"type\": \"quantitative\", \"field\": \"start\"}, \"x2\": {\"field\": \"end\"}, \"y\": {\"type\": \"nominal\", \"field\": \"voice\"}}, \"height\": 300, \"selection\": {\"selector003\": {\"type\": \"multi\", \"fields\": [\"pattern\"]}, \"selector004\": {\"type\": \"interval\", \"bind\": \"scales\", \"encodings\": [\"x\", \"y\"]}}, \"width\": 800}], \"data\": {\"name\": \"data-e4ae3da885f90eb9574b407123cf58d1\"}, \"$schema\": \"https://vega.github.io/schema/vega-lite/v4.8.1.json\", \"datasets\": {\"data-e4ae3da885f90eb9574b407123cf58d1\": [{\"start\": 252.0, \"voice\": \"[Superius]\", \"pattern\": \"2, 2, 1, 2, -2\", \"end\": 253.0}, {\"start\": 320.0, \"voice\": \"[Superius]\", \"pattern\": \"1, 1, 2, -2, -2\", \"end\": 321.0}, {\"start\": 324.0, \"voice\": \"[Superius]\", \"pattern\": \"1, 2, -2, -2, -2\", \"end\": 325.0}, {\"start\": 328.0, \"voice\": \"[Superius]\", \"pattern\": \"2, -2, -2, -2, -2\", \"end\": 329.0}, {\"start\": 360.0, \"voice\": \"[Superius]\", \"pattern\": \"2, -3, 2, 2, 2\", \"end\": 361.0}, {\"start\": 376.0, \"voice\": \"[Superius]\", \"pattern\": \"2, -3, 2, 2, 2\", \"end\": 377.0}, {\"start\": 401.0, \"voice\": \"[Superius]\", \"pattern\": \"-2, -2, -2, 2, 2\", \"end\": 402.0}, {\"start\": 512.0, \"voice\": \"[Superius]\", \"pattern\": \"2, -3, 2, -3, 2\", \"end\": 513.0}, {\"start\": 520.0, \"voice\": \"[Superius]\", \"pattern\": \"2, -3, 2, -2, -2\", \"end\": 521.0}, {\"start\": 524.0, \"voice\": \"[Superius]\", \"pattern\": \"-3, 2, -2, -2, -2\", \"end\": 525.0}, {\"start\": 624.0, \"voice\": \"[Superius]\", \"pattern\": \"2, -3, 2, -2, -2\", \"end\": 625.0}, {\"start\": 628.0, \"voice\": \"[Superius]\", \"pattern\": \"-3, 2, -2, -2, -2\", \"end\": 629.0}, {\"start\": 668.0, \"voice\": \"[Superius]\", \"pattern\": \"1, 1, 2, -2, -2\", \"end\": 669.0}, {\"start\": 670.0, \"voice\": \"[Superius]\", \"pattern\": \"1, 2, -2, -2, -2\", \"end\": 671.0}, {\"start\": 672.0, \"voice\": \"[Superius]\", \"pattern\": \"2, -2, -2, -2, -2\", \"end\": 673.0}, {\"start\": 948.0, \"voice\": \"[Superius]\", \"pattern\": \"1, 1, 2, -2, -2\", \"end\": 949.0}, {\"start\": 952.0, \"voice\": \"[Superius]\", \"pattern\": \"1, 2, -2, -2, -2\", \"end\": 953.0}, {\"start\": 1012.0, \"voice\": \"[Superius]\", \"pattern\": \"1, 1, 2, -2, -2\", \"end\": 1013.0}, {\"start\": 1016.0, \"voice\": \"[Superius]\", \"pattern\": \"1, 2, -2, -2, -2\", \"end\": 1017.0}, {\"start\": 215.0, \"voice\": \"Altus\", \"pattern\": \"-2, -2, -2, -2, 2\", \"end\": 216.0}, {\"start\": 216.0, \"voice\": \"Altus\", \"pattern\": \"-2, -2, -2, 2, 2\", \"end\": 217.0}, {\"start\": 252.0, \"voice\": \"Altus\", \"pattern\": \"2, 2, 1, 2, -2\", \"end\": 253.0}, {\"start\": 260.0, \"voice\": \"Altus\", \"pattern\": \"1, 2, -2, -2, -2\", \"end\": 261.0}, {\"start\": 528.0, \"voice\": \"Altus\", \"pattern\": \"2, -3, 2, -3, 2\", \"end\": 529.0}, {\"start\": 536.0, \"voice\": \"Altus\", \"pattern\": \"2, -3, 2, -2, -2\", \"end\": 537.0}, {\"start\": 540.0, \"voice\": \"Altus\", \"pattern\": \"-3, 2, -2, -2, -2\", \"end\": 541.0}, {\"start\": 544.0, \"voice\": \"Altus\", \"pattern\": \"2, -2, -2, -2, -2\", \"end\": 545.0}, {\"start\": 547.0, \"voice\": \"Altus\", \"pattern\": \"-2, -2, -2, -2, 2\", \"end\": 548.0}, {\"start\": 548.0, \"voice\": \"Altus\", \"pattern\": \"-2, -2, -2, 2, 2\", \"end\": 549.0}, {\"start\": 667.0, \"voice\": \"Altus\", \"pattern\": \"-2, -2, -2, -2, 2\", \"end\": 668.0}, {\"start\": 748.0, \"voice\": \"Altus\", \"pattern\": \"1, 1, 2, -2, -2\", \"end\": 749.0}, {\"start\": 752.0, \"voice\": \"Altus\", \"pattern\": \"1, 2, -2, -2, -2\", \"end\": 753.0}, {\"start\": 756.0, \"voice\": \"Altus\", \"pattern\": \"2, -2, -2, -2, -2\", \"end\": 757.0}, {\"start\": 796.0, \"voice\": \"Altus\", \"pattern\": \"1, 1, 2, -2, -2\", \"end\": 797.0}, {\"start\": 800.0, \"voice\": \"Altus\", \"pattern\": \"1, 2, -2, -2, -2\", \"end\": 801.0}, {\"start\": 804.0, \"voice\": \"Altus\", \"pattern\": \"2, -2, -2, -2, -2\", \"end\": 805.0}, {\"start\": 888.0, \"voice\": \"Altus\", \"pattern\": \"2, -2, -2, -2, -2\", \"end\": 889.0}, {\"start\": 980.0, \"voice\": \"Altus\", \"pattern\": \"2, 2, 1, 2, -2\", \"end\": 981.0}, {\"start\": 986.0, \"voice\": \"Altus\", \"pattern\": \"1, 2, -2, -2, -2\", \"end\": 987.0}, {\"start\": 988.0, \"voice\": \"Altus\", \"pattern\": \"2, -2, -2, -2, -2\", \"end\": 989.0}, {\"start\": 1044.0, \"voice\": \"Altus\", \"pattern\": \"2, 2, 1, 2, -2\", \"end\": 1045.0}, {\"start\": 1050.0, \"voice\": \"Altus\", \"pattern\": \"1, 2, -2, -2, -2\", \"end\": 1051.0}, {\"start\": 1052.0, \"voice\": \"Altus\", \"pattern\": \"2, -2, -2, -2, -2\", \"end\": 1053.0}, {\"start\": 1076.0, \"voice\": \"Altus\", \"pattern\": \"2, -3, 2, -2, -2\", \"end\": 1077.0}, {\"start\": 1109.0, \"voice\": \"Altus\", \"pattern\": \"-2, -2, -2, -2, 2\", \"end\": 1110.0}, {\"start\": 1134.0, \"voice\": \"Altus\", \"pattern\": \"2, -2, -2, -2, -2\", \"end\": 1135.0}, {\"start\": 1137.0, \"voice\": \"Altus\", \"pattern\": \"-2, -2, -2, -2, 2\", \"end\": 1138.0}, {\"start\": 220.0, \"voice\": \"Tenor\", \"pattern\": \"-2, -2, -2, -2, 2\", \"end\": 221.0}, {\"start\": 221.0, \"voice\": \"Tenor\", \"pattern\": \"-2, -2, -2, 2, 2\", \"end\": 222.0}, {\"start\": 284.0, \"voice\": \"Tenor\", \"pattern\": \"2, 2, 1, 2, -2\", \"end\": 285.0}, {\"start\": 320.0, \"voice\": \"Tenor\", \"pattern\": \"1, 1, 2, -2, -2\", \"end\": 321.0}, {\"start\": 324.0, \"voice\": \"Tenor\", \"pattern\": \"1, 2, -2, -2, -2\", \"end\": 325.0}, {\"start\": 328.0, \"voice\": \"Tenor\", \"pattern\": \"2, -2, -2, -2, -2\", \"end\": 329.0}, {\"start\": 358.0, \"voice\": \"Tenor\", \"pattern\": \"2, -3, 2, 2, 2\", \"end\": 359.0}, {\"start\": 374.0, \"voice\": \"Tenor\", \"pattern\": \"2, -3, 2, 2, 2\", \"end\": 375.0}, {\"start\": 536.0, \"voice\": \"Tenor\", \"pattern\": \"2, -3, 2, -3, 2\", \"end\": 537.0}, {\"start\": 544.0, \"voice\": \"Tenor\", \"pattern\": \"2, -3, 2, -2, -2\", \"end\": 545.0}, {\"start\": 548.0, \"voice\": \"Tenor\", \"pattern\": \"-3, 2, -2, -2, -2\", \"end\": 549.0}, {\"start\": 584.0, \"voice\": \"Tenor\", \"pattern\": \"-3, 2, -2, -2, -2\", \"end\": 585.0}, {\"start\": 586.0, \"voice\": \"Tenor\", \"pattern\": \"2, -2, -2, -2, -2\", \"end\": 587.0}, {\"start\": 648.0, \"voice\": \"Tenor\", \"pattern\": \"2, -3, 2, -2, -2\", \"end\": 649.0}, {\"start\": 652.0, \"voice\": \"Tenor\", \"pattern\": \"-3, 2, -2, -2, -2\", \"end\": 653.0}, {\"start\": 716.0, \"voice\": \"Tenor\", \"pattern\": \"-2, -2, -2, 2, 2\", \"end\": 717.0}, {\"start\": 976.0, \"voice\": \"Tenor\", \"pattern\": \"1, 1, 2, -2, -2\", \"end\": 977.0}, {\"start\": 980.0, \"voice\": \"Tenor\", \"pattern\": \"1, 2, -2, -2, -2\", \"end\": 981.0}, {\"start\": 1040.0, \"voice\": \"Tenor\", \"pattern\": \"1, 1, 2, -2, -2\", \"end\": 1041.0}, {\"start\": 1044.0, \"voice\": \"Tenor\", \"pattern\": \"1, 2, -2, -2, -2\", \"end\": 1045.0}, {\"start\": 110.0, \"voice\": \"Bassus\", \"pattern\": \"-2, -2, -2, 2, 2\", \"end\": 111.0}, {\"start\": 284.0, \"voice\": \"Bassus\", \"pattern\": \"2, 2, 1, 2, -2\", \"end\": 285.0}, {\"start\": 292.0, \"voice\": \"Bassus\", \"pattern\": \"1, 2, -2, -2, -2\", \"end\": 293.0}, {\"start\": 360.0, \"voice\": \"Bassus\", \"pattern\": \"2, -3, 2, 2, 2\", \"end\": 361.0}, {\"start\": 376.0, \"voice\": \"Bassus\", \"pattern\": \"2, -3, 2, 2, 2\", \"end\": 377.0}, {\"start\": 404.0, \"voice\": \"Bassus\", \"pattern\": \"2, -3, 2, -3, 2\", \"end\": 405.0}, {\"start\": 552.0, \"voice\": \"Bassus\", \"pattern\": \"2, -3, 2, -3, 2\", \"end\": 553.0}, {\"start\": 560.0, \"voice\": \"Bassus\", \"pattern\": \"2, -3, 2, -2, -2\", \"end\": 561.0}, {\"start\": 564.0, \"voice\": \"Bassus\", \"pattern\": \"-3, 2, -2, -2, -2\", \"end\": 565.0}, {\"start\": 584.0, \"voice\": \"Bassus\", \"pattern\": \"2, -3, 2, -3, 2\", \"end\": 585.0}, {\"start\": 904.0, \"voice\": \"Bassus\", \"pattern\": \"2, -3, 2, -3, 2\", \"end\": 905.0}, {\"start\": 1096.0, \"voice\": \"Bassus\", \"pattern\": \"-2, -2, -2, -2, 2\", \"end\": 1097.0}, {\"start\": 1099.0, \"voice\": \"Bassus\", \"pattern\": \"-2, -2, -2, 2, 2\", \"end\": 1100.0}, {\"start\": 1165.0, \"voice\": \"Bassus\", \"pattern\": \"-2, -2, -2, 2, 2\", \"end\": 1166.0}, {\"start\": 1170.0, \"voice\": \"Bassus\", \"pattern\": \"2, -3, 2, -2, -2\", \"end\": 1171.0}, {\"start\": 1172.0, \"voice\": \"Bassus\", \"pattern\": \"-3, 2, -2, -2, -2\", \"end\": 1173.0}]}}, {\"mode\": \"vega-lite\"});\n",
       "</script>"
      ],
      "text/plain": [
       "alt.VConcatChart(...)"
      ]
     },
     "execution_count": 7,
     "metadata": {},
     "output_type": "execute_result"
    }
   ],
   "source": [
    "viz.plot_ngrams_heatmap(mel_ngrams, selected_patterns=mel_ngrams_top_patterns_list)"
   ]
  },
  {
   "cell_type": "markdown",
   "id": "98e66511",
   "metadata": {},
   "source": [
    "**Cross-checking output from the heatmap with the ngrams dataframe**\n",
    "\n",
    "We can see that '-2, -2, -2, -2, -2' is a really popular pattern. Let's view its start points in ngram and in the heatmap's dataframe to make sure that it has been calculated correctly"
   ]
  },
  {
   "cell_type": "code",
   "execution_count": 8,
   "id": "065d4127",
   "metadata": {},
   "outputs": [
    {
     "data": {
      "text/plain": [
       "147.0  [Superius]    -2, -2, -2, -2, -2\n",
       "161.0  [Superius]    -2, -2, -2, -2, -2\n",
       "219.0  Tenor         -2, -2, -2, -2, -2\n",
       "676.0  [Superius]    -2, -2, -2, -2, -2\n",
       "dtype: object"
      ]
     },
     "execution_count": 8,
     "metadata": {},
     "output_type": "execute_result"
    }
   ],
   "source": [
    "mel_ngrams[mel_ngrams ==  '-2, -2, -2, -2, -2' ].stack()"
   ]
  },
  {
   "cell_type": "code",
   "execution_count": 9,
   "id": "d725e578-a822-4090-9faf-dd2cc3a883a2",
   "metadata": {},
   "outputs": [
    {
     "data": {
      "text/html": [
       "\n",
       "<div id=\"altair-viz-c59b46b4d3094556b263a6872fce5a22\"></div>\n",
       "<script type=\"text/javascript\">\n",
       "  (function(spec, embedOpt){\n",
       "    let outputDiv = document.currentScript.previousElementSibling;\n",
       "    if (outputDiv.id !== \"altair-viz-c59b46b4d3094556b263a6872fce5a22\") {\n",
       "      outputDiv = document.getElementById(\"altair-viz-c59b46b4d3094556b263a6872fce5a22\");\n",
       "    }\n",
       "    const paths = {\n",
       "      \"vega\": \"https://cdn.jsdelivr.net/npm//vega@5?noext\",\n",
       "      \"vega-lib\": \"https://cdn.jsdelivr.net/npm//vega-lib?noext\",\n",
       "      \"vega-lite\": \"https://cdn.jsdelivr.net/npm//vega-lite@4.8.1?noext\",\n",
       "      \"vega-embed\": \"https://cdn.jsdelivr.net/npm//vega-embed@6?noext\",\n",
       "    };\n",
       "\n",
       "    function loadScript(lib) {\n",
       "      return new Promise(function(resolve, reject) {\n",
       "        var s = document.createElement('script');\n",
       "        s.src = paths[lib];\n",
       "        s.async = true;\n",
       "        s.onload = () => resolve(paths[lib]);\n",
       "        s.onerror = () => reject(`Error loading script: ${paths[lib]}`);\n",
       "        document.getElementsByTagName(\"head\")[0].appendChild(s);\n",
       "      });\n",
       "    }\n",
       "\n",
       "    function showError(err) {\n",
       "      outputDiv.innerHTML = `<div class=\"error\" style=\"color:red;\">${err}</div>`;\n",
       "      throw err;\n",
       "    }\n",
       "\n",
       "    function displayChart(vegaEmbed) {\n",
       "      vegaEmbed(outputDiv, spec, embedOpt)\n",
       "        .catch(err => showError(`Javascript Error: ${err.message}<br>This usually means there's a typo in your chart specification. See the javascript console for the full traceback.`));\n",
       "    }\n",
       "\n",
       "    if(typeof define === \"function\" && define.amd) {\n",
       "      requirejs.config({paths});\n",
       "      require([\"vega-embed\"], displayChart, err => showError(`Error loading script: ${err.message}`));\n",
       "    } else if (typeof vegaEmbed === \"function\") {\n",
       "      displayChart(vegaEmbed);\n",
       "    } else {\n",
       "      loadScript(\"vega\")\n",
       "        .then(() => loadScript(\"vega-lite\"))\n",
       "        .then(() => loadScript(\"vega-embed\"))\n",
       "        .catch(showError)\n",
       "        .then(() => displayChart(vegaEmbed));\n",
       "    }\n",
       "  })({\"config\": {\"view\": {\"continuousWidth\": 400, \"continuousHeight\": 300}}, \"vconcat\": [{\"mark\": \"bar\", \"encoding\": {\"color\": {\"type\": \"nominal\", \"field\": \"pattern\"}, \"opacity\": {\"condition\": {\"value\": 1, \"selection\": \"selector005\"}, \"value\": 0.2}, \"x\": {\"type\": \"nominal\", \"aggregate\": \"count\", \"field\": \"pattern\"}, \"y\": {\"type\": \"nominal\", \"field\": \"pattern\"}}, \"selection\": {\"selector005\": {\"type\": \"multi\", \"fields\": [\"pattern\"]}}}, {\"mark\": \"bar\", \"encoding\": {\"color\": {\"type\": \"nominal\", \"field\": \"pattern\"}, \"opacity\": {\"condition\": {\"value\": 1, \"selection\": \"selector005\"}, \"value\": 0.2}, \"tooltip\": [{\"type\": \"quantitative\", \"field\": \"start\"}, {\"type\": \"quantitative\", \"field\": \"end\"}, {\"type\": \"nominal\", \"field\": \"pattern\"}], \"x\": {\"type\": \"quantitative\", \"field\": \"start\"}, \"x2\": {\"field\": \"end\"}, \"y\": {\"type\": \"nominal\", \"field\": \"voice\"}}, \"height\": 300, \"selection\": {\"selector005\": {\"type\": \"multi\", \"fields\": [\"pattern\"]}, \"selector006\": {\"type\": \"interval\", \"bind\": \"scales\", \"encodings\": [\"x\", \"y\"]}}, \"width\": 800}], \"data\": {\"name\": \"data-454dd615d380e3a69f56507adcf092d7\"}, \"$schema\": \"https://vega.github.io/schema/vega-lite/v4.8.1.json\", \"datasets\": {\"data-454dd615d380e3a69f56507adcf092d7\": [{\"start\": 147.0, \"voice\": \"[Superius]\", \"pattern\": \"-2, -2, -2, -2, -2\", \"end\": 148.0}, {\"start\": 161.0, \"voice\": \"[Superius]\", \"pattern\": \"-2, -2, -2, -2, -2\", \"end\": 162.0}, {\"start\": 676.0, \"voice\": \"[Superius]\", \"pattern\": \"-2, -2, -2, -2, -2\", \"end\": 677.0}, {\"start\": 219.0, \"voice\": \"Tenor\", \"pattern\": \"-2, -2, -2, -2, -2\", \"end\": 220.0}]}}, {\"mode\": \"vega-lite\"});\n",
       "</script>"
      ],
      "text/plain": [
       "alt.VConcatChart(...)"
      ]
     },
     "execution_count": 9,
     "metadata": {},
     "output_type": "execute_result"
    }
   ],
   "source": [
    "viz.plot_ngrams_heatmap(mel_ngrams, selected_patterns=['-2, -2, -2, -2, -2' ])"
   ]
  },
  {
   "cell_type": "markdown",
   "id": "4140759a",
   "metadata": {},
   "source": [
    "## `generate_ngrams_and_duration` allow us to create heatmap with durations!\n",
    "\n",
    "How could we create a heatmap for ngrams in which the ngrams' durations are desplayed?"
   ]
  },
  {
   "cell_type": "code",
   "execution_count": 10,
   "id": "33a5eba0",
   "metadata": {
    "scrolled": true
   },
   "outputs": [],
   "source": [
    "ngrams, ngrams_duration = viz.generate_ngrams_and_duration(model, mel, n=5)"
   ]
  },
  {
   "cell_type": "code",
   "execution_count": 11,
   "id": "df02d496",
   "metadata": {},
   "outputs": [
    {
     "name": "stdout",
     "output_type": "stream",
     "text": [
      "Help on function generate_ngrams_and_duration in module visualizations:\n",
      "\n",
      "generate_ngrams_and_duration(model, df, n=3, exclude=['Rest'], interval_settings=('d', True, True), offsets='first')\n",
      "    This method accept a model and a dataframe with the melody or notes\n",
      "    and rests and generate an ngram (in columnwise and unit=0 setting)\n",
      "    and a corresponding duration ngram\n",
      "    :param model: an Imported Piece object.\n",
      "    :param df: dataframe containing consecutive notes.\n",
      "    :param n: accept any positive integers and would output ngrams of the corresponding sizes\n",
      "    can't handle the n=-1 option (refer to getNgrams documentation for more)\n",
      "    :param exclude: (refer to getNgrams documentation)\n",
      "    :param interval_settings: (refer to getNgrams documentation)\n",
      "    :param offsets: (refer to getNgrams documentation)\n",
      "    :return: ngram and corresponding duration dataframe!\n",
      "\n"
     ]
    }
   ],
   "source": [
    "help(viz.generate_ngrams_and_duration)"
   ]
  },
  {
   "cell_type": "code",
   "execution_count": 12,
   "id": "61f20d8e",
   "metadata": {},
   "outputs": [
    {
     "data": {
      "text/html": [
       "\n",
       "<div id=\"altair-viz-a9f65d463c944d1a94a237d225e43772\"></div>\n",
       "<script type=\"text/javascript\">\n",
       "  (function(spec, embedOpt){\n",
       "    let outputDiv = document.currentScript.previousElementSibling;\n",
       "    if (outputDiv.id !== \"altair-viz-a9f65d463c944d1a94a237d225e43772\") {\n",
       "      outputDiv = document.getElementById(\"altair-viz-a9f65d463c944d1a94a237d225e43772\");\n",
       "    }\n",
       "    const paths = {\n",
       "      \"vega\": \"https://cdn.jsdelivr.net/npm//vega@5?noext\",\n",
       "      \"vega-lib\": \"https://cdn.jsdelivr.net/npm//vega-lib?noext\",\n",
       "      \"vega-lite\": \"https://cdn.jsdelivr.net/npm//vega-lite@4.8.1?noext\",\n",
       "      \"vega-embed\": \"https://cdn.jsdelivr.net/npm//vega-embed@6?noext\",\n",
       "    };\n",
       "\n",
       "    function loadScript(lib) {\n",
       "      return new Promise(function(resolve, reject) {\n",
       "        var s = document.createElement('script');\n",
       "        s.src = paths[lib];\n",
       "        s.async = true;\n",
       "        s.onload = () => resolve(paths[lib]);\n",
       "        s.onerror = () => reject(`Error loading script: ${paths[lib]}`);\n",
       "        document.getElementsByTagName(\"head\")[0].appendChild(s);\n",
       "      });\n",
       "    }\n",
       "\n",
       "    function showError(err) {\n",
       "      outputDiv.innerHTML = `<div class=\"error\" style=\"color:red;\">${err}</div>`;\n",
       "      throw err;\n",
       "    }\n",
       "\n",
       "    function displayChart(vegaEmbed) {\n",
       "      vegaEmbed(outputDiv, spec, embedOpt)\n",
       "        .catch(err => showError(`Javascript Error: ${err.message}<br>This usually means there's a typo in your chart specification. See the javascript console for the full traceback.`));\n",
       "    }\n",
       "\n",
       "    if(typeof define === \"function\" && define.amd) {\n",
       "      requirejs.config({paths});\n",
       "      require([\"vega-embed\"], displayChart, err => showError(`Error loading script: ${err.message}`));\n",
       "    } else if (typeof vegaEmbed === \"function\") {\n",
       "      displayChart(vegaEmbed);\n",
       "    } else {\n",
       "      loadScript(\"vega\")\n",
       "        .then(() => loadScript(\"vega-lite\"))\n",
       "        .then(() => loadScript(\"vega-embed\"))\n",
       "        .catch(showError)\n",
       "        .then(() => displayChart(vegaEmbed));\n",
       "    }\n",
       "  })({\"config\": {\"view\": {\"continuousWidth\": 400, \"continuousHeight\": 300}}, \"vconcat\": [{\"mark\": \"bar\", \"encoding\": {\"color\": {\"type\": \"nominal\", \"field\": \"pattern\"}, \"opacity\": {\"condition\": {\"value\": 1, \"selection\": \"selector007\"}, \"value\": 0.2}, \"x\": {\"type\": \"nominal\", \"aggregate\": \"count\", \"field\": \"pattern\"}, \"y\": {\"type\": \"nominal\", \"field\": \"pattern\"}}, \"selection\": {\"selector007\": {\"type\": \"multi\", \"fields\": [\"pattern\"]}}}, {\"mark\": \"bar\", \"encoding\": {\"color\": {\"type\": \"nominal\", \"field\": \"pattern\"}, \"opacity\": {\"condition\": {\"value\": 1, \"selection\": \"selector007\"}, \"value\": 0.2}, \"tooltip\": [{\"type\": \"quantitative\", \"field\": \"start\"}, {\"type\": \"quantitative\", \"field\": \"end\"}, {\"type\": \"nominal\", \"field\": \"pattern\"}], \"x\": {\"type\": \"quantitative\", \"field\": \"start\"}, \"x2\": {\"field\": \"end\"}, \"y\": {\"type\": \"nominal\", \"field\": \"voice\"}}, \"height\": 300, \"selection\": {\"selector007\": {\"type\": \"multi\", \"fields\": [\"pattern\"]}, \"selector008\": {\"type\": \"interval\", \"bind\": \"scales\", \"encodings\": [\"x\", \"y\"]}}, \"width\": 800}], \"data\": {\"name\": \"data-d86e136bc15817bf3abdb666ff6bc18b\"}, \"$schema\": \"https://vega.github.io/schema/vega-lite/v4.8.1.json\", \"datasets\": {\"data-d86e136bc15817bf3abdb666ff6bc18b\": [{\"start\": 252.0, \"voice\": \"[Superius]\", \"pattern\": \"2, 2, 1, 2, -2\", \"end\": 266.0}, {\"start\": 320.0, \"voice\": \"[Superius]\", \"pattern\": \"1, 1, 2, -2, -2\", \"end\": 340.0}, {\"start\": 324.0, \"voice\": \"[Superius]\", \"pattern\": \"1, 2, -2, -2, -2\", \"end\": 344.0}, {\"start\": 328.0, \"voice\": \"[Superius]\", \"pattern\": \"2, -2, -2, -2, -2\", \"end\": 348.0}, {\"start\": 360.0, \"voice\": \"[Superius]\", \"pattern\": \"2, -3, 2, 2, 2\", \"end\": 380.0}, {\"start\": 376.0, \"voice\": \"[Superius]\", \"pattern\": \"2, -3, 2, 2, 2\", \"end\": 395.0}, {\"start\": 401.0, \"voice\": \"[Superius]\", \"pattern\": \"-2, -2, -2, 2, 2\", \"end\": 409.0}, {\"start\": 512.0, \"voice\": \"[Superius]\", \"pattern\": \"2, -3, 2, -3, 2\", \"end\": 531.0}, {\"start\": 520.0, \"voice\": \"[Superius]\", \"pattern\": \"2, -3, 2, -2, -2\", \"end\": 536.0}, {\"start\": 524.0, \"voice\": \"[Superius]\", \"pattern\": \"-3, 2, -2, -2, -2\", \"end\": 544.0}, {\"start\": 624.0, \"voice\": \"[Superius]\", \"pattern\": \"2, -3, 2, -2, -2\", \"end\": 640.0}, {\"start\": 628.0, \"voice\": \"[Superius]\", \"pattern\": \"-3, 2, -2, -2, -2\", \"end\": 648.0}, {\"start\": 668.0, \"voice\": \"[Superius]\", \"pattern\": \"1, 1, 2, -2, -2\", \"end\": 682.0}, {\"start\": 670.0, \"voice\": \"[Superius]\", \"pattern\": \"1, 2, -2, -2, -2\", \"end\": 684.0}, {\"start\": 672.0, \"voice\": \"[Superius]\", \"pattern\": \"2, -2, -2, -2, -2\", \"end\": 688.0}, {\"start\": 948.0, \"voice\": \"[Superius]\", \"pattern\": \"1, 1, 2, -2, -2\", \"end\": 964.0}, {\"start\": 952.0, \"voice\": \"[Superius]\", \"pattern\": \"1, 2, -2, -2, -2\", \"end\": 968.0}, {\"start\": 1012.0, \"voice\": \"[Superius]\", \"pattern\": \"1, 1, 2, -2, -2\", \"end\": 1028.0}, {\"start\": 1016.0, \"voice\": \"[Superius]\", \"pattern\": \"1, 2, -2, -2, -2\", \"end\": 1032.0}, {\"start\": 215.0, \"voice\": \"Altus\", \"pattern\": \"-2, -2, -2, -2, 2\", \"end\": 226.0}, {\"start\": 216.0, \"voice\": \"Altus\", \"pattern\": \"-2, -2, -2, 2, 2\", \"end\": 228.0}, {\"start\": 252.0, \"voice\": \"Altus\", \"pattern\": \"2, 2, 1, 2, -2\", \"end\": 268.0}, {\"start\": 260.0, \"voice\": \"Altus\", \"pattern\": \"1, 2, -2, -2, -2\", \"end\": 280.0}, {\"start\": 528.0, \"voice\": \"Altus\", \"pattern\": \"2, -3, 2, -3, 2\", \"end\": 547.0}, {\"start\": 536.0, \"voice\": \"Altus\", \"pattern\": \"2, -3, 2, -2, -2\", \"end\": 552.0}, {\"start\": 540.0, \"voice\": \"Altus\", \"pattern\": \"-3, 2, -2, -2, -2\", \"end\": 555.0}, {\"start\": 544.0, \"voice\": \"Altus\", \"pattern\": \"2, -2, -2, -2, -2\", \"end\": 556.0}, {\"start\": 547.0, \"voice\": \"Altus\", \"pattern\": \"-2, -2, -2, -2, 2\", \"end\": 558.0}, {\"start\": 548.0, \"voice\": \"Altus\", \"pattern\": \"-2, -2, -2, 2, 2\", \"end\": 561.0}, {\"start\": 667.0, \"voice\": \"Altus\", \"pattern\": \"-2, -2, -2, -2, 2\", \"end\": 678.0}, {\"start\": 748.0, \"voice\": \"Altus\", \"pattern\": \"1, 1, 2, -2, -2\", \"end\": 766.0}, {\"start\": 752.0, \"voice\": \"Altus\", \"pattern\": \"1, 2, -2, -2, -2\", \"end\": 768.0}, {\"start\": 756.0, \"voice\": \"Altus\", \"pattern\": \"2, -2, -2, -2, -2\", \"end\": 776.0}, {\"start\": 796.0, \"voice\": \"Altus\", \"pattern\": \"1, 1, 2, -2, -2\", \"end\": 814.0}, {\"start\": 800.0, \"voice\": \"Altus\", \"pattern\": \"1, 2, -2, -2, -2\", \"end\": 816.0}, {\"start\": 804.0, \"voice\": \"Altus\", \"pattern\": \"2, -2, -2, -2, -2\", \"end\": 824.0}, {\"start\": 888.0, \"voice\": \"Altus\", \"pattern\": \"2, -2, -2, -2, -2\", \"end\": 904.0}, {\"start\": 980.0, \"voice\": \"Altus\", \"pattern\": \"2, 2, 1, 2, -2\", \"end\": 990.0}, {\"start\": 986.0, \"voice\": \"Altus\", \"pattern\": \"1, 2, -2, -2, -2\", \"end\": 992.0}, {\"start\": 988.0, \"voice\": \"Altus\", \"pattern\": \"2, -2, -2, -2, -2\", \"end\": 996.0}, {\"start\": 1044.0, \"voice\": \"Altus\", \"pattern\": \"2, 2, 1, 2, -2\", \"end\": 1054.0}, {\"start\": 1050.0, \"voice\": \"Altus\", \"pattern\": \"1, 2, -2, -2, -2\", \"end\": 1056.0}, {\"start\": 1052.0, \"voice\": \"Altus\", \"pattern\": \"2, -2, -2, -2, -2\", \"end\": 1060.0}, {\"start\": 1076.0, \"voice\": \"Altus\", \"pattern\": \"2, -3, 2, -2, -2\", \"end\": 1088.0}, {\"start\": 1109.0, \"voice\": \"Altus\", \"pattern\": \"-2, -2, -2, -2, 2\", \"end\": 1118.0}, {\"start\": 1134.0, \"voice\": \"Altus\", \"pattern\": \"2, -2, -2, -2, -2\", \"end\": 1144.0}, {\"start\": 1137.0, \"voice\": \"Altus\", \"pattern\": \"-2, -2, -2, -2, 2\", \"end\": 1148.0}, {\"start\": 220.0, \"voice\": \"Tenor\", \"pattern\": \"-2, -2, -2, -2, 2\", \"end\": 228.0}, {\"start\": 221.0, \"voice\": \"Tenor\", \"pattern\": \"-2, -2, -2, 2, 2\", \"end\": 232.0}, {\"start\": 284.0, \"voice\": \"Tenor\", \"pattern\": \"2, 2, 1, 2, -2\", \"end\": 298.0}, {\"start\": 320.0, \"voice\": \"Tenor\", \"pattern\": \"1, 1, 2, -2, -2\", \"end\": 340.0}, {\"start\": 324.0, \"voice\": \"Tenor\", \"pattern\": \"1, 2, -2, -2, -2\", \"end\": 344.0}, {\"start\": 328.0, \"voice\": \"Tenor\", \"pattern\": \"2, -2, -2, -2, -2\", \"end\": 348.0}, {\"start\": 358.0, \"voice\": \"Tenor\", \"pattern\": \"2, -3, 2, 2, 2\", \"end\": 378.0}, {\"start\": 374.0, \"voice\": \"Tenor\", \"pattern\": \"2, -3, 2, 2, 2\", \"end\": 394.0}, {\"start\": 536.0, \"voice\": \"Tenor\", \"pattern\": \"2, -3, 2, -3, 2\", \"end\": 555.0}, {\"start\": 544.0, \"voice\": \"Tenor\", \"pattern\": \"2, -3, 2, -2, -2\", \"end\": 560.0}, {\"start\": 548.0, \"voice\": \"Tenor\", \"pattern\": \"-3, 2, -2, -2, -2\", \"end\": 564.0}, {\"start\": 584.0, \"voice\": \"Tenor\", \"pattern\": \"-3, 2, -2, -2, -2\", \"end\": 592.0}, {\"start\": 586.0, \"voice\": \"Tenor\", \"pattern\": \"2, -2, -2, -2, -2\", \"end\": 594.0}, {\"start\": 648.0, \"voice\": \"Tenor\", \"pattern\": \"2, -3, 2, -2, -2\", \"end\": 664.0}, {\"start\": 652.0, \"voice\": \"Tenor\", \"pattern\": \"-3, 2, -2, -2, -2\", \"end\": 672.0}, {\"start\": 716.0, \"voice\": \"Tenor\", \"pattern\": \"-2, -2, -2, 2, 2\", \"end\": 729.0}, {\"start\": 976.0, \"voice\": \"Tenor\", \"pattern\": \"1, 1, 2, -2, -2\", \"end\": 992.0}, {\"start\": 980.0, \"voice\": \"Tenor\", \"pattern\": \"1, 2, -2, -2, -2\", \"end\": 996.0}, {\"start\": 1040.0, \"voice\": \"Tenor\", \"pattern\": \"1, 1, 2, -2, -2\", \"end\": 1056.0}, {\"start\": 1044.0, \"voice\": \"Tenor\", \"pattern\": \"1, 2, -2, -2, -2\", \"end\": 1060.0}, {\"start\": 110.0, \"voice\": \"Bassus\", \"pattern\": \"-2, -2, -2, 2, 2\", \"end\": 128.0}, {\"start\": 284.0, \"voice\": \"Bassus\", \"pattern\": \"2, 2, 1, 2, -2\", \"end\": 300.0}, {\"start\": 292.0, \"voice\": \"Bassus\", \"pattern\": \"1, 2, -2, -2, -2\", \"end\": 312.0}, {\"start\": 360.0, \"voice\": \"Bassus\", \"pattern\": \"2, -3, 2, 2, 2\", \"end\": 382.0}, {\"start\": 376.0, \"voice\": \"Bassus\", \"pattern\": \"2, -3, 2, 2, 2\", \"end\": 395.0}, {\"start\": 404.0, \"voice\": \"Bassus\", \"pattern\": \"2, -3, 2, -3, 2\", \"end\": 416.0}, {\"start\": 552.0, \"voice\": \"Bassus\", \"pattern\": \"2, -3, 2, -3, 2\", \"end\": 571.0}, {\"start\": 560.0, \"voice\": \"Bassus\", \"pattern\": \"2, -3, 2, -2, -2\", \"end\": 576.0}, {\"start\": 564.0, \"voice\": \"Bassus\", \"pattern\": \"-3, 2, -2, -2, -2\", \"end\": 580.0}, {\"start\": 584.0, \"voice\": \"Bassus\", \"pattern\": \"2, -3, 2, -3, 2\", \"end\": 604.0}, {\"start\": 904.0, \"voice\": \"Bassus\", \"pattern\": \"2, -3, 2, -3, 2\", \"end\": 928.0}, {\"start\": 1096.0, \"voice\": \"Bassus\", \"pattern\": \"-2, -2, -2, -2, 2\", \"end\": 1108.0}, {\"start\": 1099.0, \"voice\": \"Bassus\", \"pattern\": \"-2, -2, -2, 2, 2\", \"end\": 1109.0}, {\"start\": 1165.0, \"voice\": \"Bassus\", \"pattern\": \"-2, -2, -2, 2, 2\", \"end\": 1172.0}, {\"start\": 1170.0, \"voice\": \"Bassus\", \"pattern\": \"2, -3, 2, -2, -2\", \"end\": 1179.0}, {\"start\": 1172.0, \"voice\": \"Bassus\", \"pattern\": \"-3, 2, -2, -2, -2\", \"end\": 1180.0}]}}, {\"mode\": \"vega-lite\"});\n",
       "</script>"
      ],
      "text/plain": [
       "alt.VConcatChart(...)"
      ]
     },
     "execution_count": 12,
     "metadata": {},
     "output_type": "execute_result"
    }
   ],
   "source": [
    "viz.plot_ngrams_heatmap(ngrams, ngrams_duration, selected_patterns=mel_ngrams_top_patterns_list , voices=[])"
   ]
  },
  {
   "cell_type": "markdown",
   "id": "7cf4c433",
   "metadata": {},
   "source": [
    "## `plot_close_match_heatmap`"
   ]
  },
  {
   "cell_type": "code",
   "execution_count": 13,
   "id": "9b519eb1",
   "metadata": {},
   "outputs": [
    {
     "name": "stdout",
     "output_type": "stream",
     "text": [
      "Help on function plot_close_match_heatmap in module visualizations:\n",
      "\n",
      "plot_close_match_heatmap(ngrams_df, key_pattern, ngrams_duration=None, selected_patterns=[], voices=[], heatmap_width=800, heatmap_height=300)\n",
      "    Plot how closely the other vectors match a selected vector.\n",
      "    Uses the Levenshtein distance.\n",
      "    :param ngrams_df: crim-intervals getNgram's output\n",
      "    :param key_pattern: a pattern the users selected to compare other patterns with (tuple of floats)\n",
      "    :param selected_pattern: the specific other vectors the users selected\n",
      "    :param ngrams_duration: if None, simply output the offsets. If the users input a\n",
      "    list of durations, caculate the end by adding durations with offsets and\n",
      "    display the end on the heatmap accordingly.\n",
      "    :param selected_patterns: list of specific patterns the users want (optional)\n",
      "    :param voices: list of specific voices the users want (optional)\n",
      "    :param heatmap_width: the width of the final heatmap (optional)\n",
      "    :param heatmap_height: the height of the final heatmap (optional)\n",
      "    :return: a bar chart that displays the different patterns and their counts,\n",
      "    and a heatmap with the start offsets of chosen voices / patterns\n",
      "\n"
     ]
    }
   ],
   "source": [
    "help(viz.plot_close_match_heatmap)"
   ]
  },
  {
   "cell_type": "code",
   "execution_count": 14,
   "id": "debf8234",
   "metadata": {},
   "outputs": [
    {
     "data": {
      "text/html": [
       "\n",
       "<div id=\"altair-viz-7a2fa9e09d6a4a92b710daf693e250be\"></div>\n",
       "<script type=\"text/javascript\">\n",
       "  (function(spec, embedOpt){\n",
       "    let outputDiv = document.currentScript.previousElementSibling;\n",
       "    if (outputDiv.id !== \"altair-viz-7a2fa9e09d6a4a92b710daf693e250be\") {\n",
       "      outputDiv = document.getElementById(\"altair-viz-7a2fa9e09d6a4a92b710daf693e250be\");\n",
       "    }\n",
       "    const paths = {\n",
       "      \"vega\": \"https://cdn.jsdelivr.net/npm//vega@5?noext\",\n",
       "      \"vega-lib\": \"https://cdn.jsdelivr.net/npm//vega-lib?noext\",\n",
       "      \"vega-lite\": \"https://cdn.jsdelivr.net/npm//vega-lite@4.8.1?noext\",\n",
       "      \"vega-embed\": \"https://cdn.jsdelivr.net/npm//vega-embed@6?noext\",\n",
       "    };\n",
       "\n",
       "    function loadScript(lib) {\n",
       "      return new Promise(function(resolve, reject) {\n",
       "        var s = document.createElement('script');\n",
       "        s.src = paths[lib];\n",
       "        s.async = true;\n",
       "        s.onload = () => resolve(paths[lib]);\n",
       "        s.onerror = () => reject(`Error loading script: ${paths[lib]}`);\n",
       "        document.getElementsByTagName(\"head\")[0].appendChild(s);\n",
       "      });\n",
       "    }\n",
       "\n",
       "    function showError(err) {\n",
       "      outputDiv.innerHTML = `<div class=\"error\" style=\"color:red;\">${err}</div>`;\n",
       "      throw err;\n",
       "    }\n",
       "\n",
       "    function displayChart(vegaEmbed) {\n",
       "      vegaEmbed(outputDiv, spec, embedOpt)\n",
       "        .catch(err => showError(`Javascript Error: ${err.message}<br>This usually means there's a typo in your chart specification. See the javascript console for the full traceback.`));\n",
       "    }\n",
       "\n",
       "    if(typeof define === \"function\" && define.amd) {\n",
       "      requirejs.config({paths});\n",
       "      require([\"vega-embed\"], displayChart, err => showError(`Error loading script: ${err.message}`));\n",
       "    } else if (typeof vegaEmbed === \"function\") {\n",
       "      displayChart(vegaEmbed);\n",
       "    } else {\n",
       "      loadScript(\"vega\")\n",
       "        .then(() => loadScript(\"vega-lite\"))\n",
       "        .then(() => loadScript(\"vega-embed\"))\n",
       "        .catch(showError)\n",
       "        .then(() => displayChart(vegaEmbed));\n",
       "    }\n",
       "  })({\"config\": {\"view\": {\"continuousWidth\": 400, \"continuousHeight\": 300}}, \"data\": {\"name\": \"data-2e2bd5972aa6abc341d93ee35ef8503a\"}, \"mark\": \"bar\", \"encoding\": {\"color\": {\"type\": \"quantitative\", \"field\": \"score\"}, \"opacity\": {\"condition\": {\"value\": 1, \"test\": \"(datum.score > SelectorName.cutoff)\"}, \"value\": 0.2}, \"tooltip\": [{\"type\": \"quantitative\", \"field\": \"start\"}, {\"type\": \"quantitative\", \"field\": \"end\"}, {\"type\": \"nominal\", \"field\": \"pattern\"}, {\"type\": \"quantitative\", \"field\": \"score\"}], \"x\": {\"type\": \"quantitative\", \"field\": \"start\"}, \"x2\": {\"field\": \"end\"}, \"y\": {\"type\": \"nominal\", \"field\": \"voice\"}}, \"height\": 300, \"selection\": {\"SelectorName\": {\"type\": \"single\", \"fields\": [\"cutoff\"], \"bind\": {\"input\": \"range\", \"max\": 100, \"min\": 0, \"name\": \"cutoff:\", \"step\": 1}, \"init\": {\"cutoff\": 50}}, \"selector009\": {\"type\": \"interval\", \"bind\": \"scales\", \"encodings\": [\"x\", \"y\"]}}, \"width\": 800, \"$schema\": \"https://vega.github.io/schema/vega-lite/v4.8.1.json\", \"datasets\": {\"data-2e2bd5972aa6abc341d93ee35ef8503a\": [{\"start\": 4.0, \"voice\": \"[Superius]\", \"pattern\": [4, 1, 2, 2, -3], \"end\": 5.0, \"score\": 0.0}, {\"start\": 62.0, \"voice\": \"[Superius]\", \"pattern\": [-2, -2, -2, 2, -2], \"end\": 63.0, \"score\": 80.0}, {\"start\": 64.0, \"voice\": \"[Superius]\", \"pattern\": [-2, -2, 2, -2, 4], \"end\": 65.0, \"score\": 60.0}, {\"start\": 68.0, \"voice\": \"[Superius]\", \"pattern\": [-2, 2, -2, 4, -2], \"end\": 69.0, \"score\": 60.0}, {\"start\": 72.0, \"voice\": \"[Superius]\", \"pattern\": [2, -2, 4, -2, -2], \"end\": 73.0, \"score\": 60.0}, {\"start\": 74.0, \"voice\": \"[Superius]\", \"pattern\": [-2, 4, -2, -2, 2], \"end\": 75.0, \"score\": 60.0}, {\"start\": 76.0, \"voice\": \"[Superius]\", \"pattern\": [4, -2, -2, 2, 2], \"end\": 77.0, \"score\": 40.0}, {\"start\": 130.0, \"voice\": \"[Superius]\", \"pattern\": [1, 1, 2, 2, -3], \"end\": 131.0, \"score\": 0.0}, {\"start\": 132.0, \"voice\": \"[Superius]\", \"pattern\": [1, 2, 2, -3, -2], \"end\": 133.0, \"score\": 19.999999999999996}, {\"start\": 136.0, \"voice\": \"[Superius]\", \"pattern\": [2, 2, -3, -2, -2], \"end\": 137.0, \"score\": 40.0}, {\"start\": 140.0, \"voice\": \"[Superius]\", \"pattern\": [2, -3, -2, -2, -2], \"end\": 141.0, \"score\": 60.0}, {\"start\": 144.0, \"voice\": \"[Superius]\", \"pattern\": [-3, -2, -2, -2, -2], \"end\": 145.0, \"score\": 80.0}, {\"start\": 147.0, \"voice\": \"[Superius]\", \"pattern\": [-2, -2, -2, -2, -2], \"end\": 148.0, \"score\": 100.0}, {\"start\": 148.0, \"voice\": \"[Superius]\", \"pattern\": [-2, -2, -2, -2, 6], \"end\": 149.0, \"score\": 80.0}, {\"start\": 150.0, \"voice\": \"[Superius]\", \"pattern\": [-2, -2, -2, 6, -2], \"end\": 151.0, \"score\": 80.0}, {\"start\": 152.0, \"voice\": \"[Superius]\", \"pattern\": [-2, -2, 6, -2, -2], \"end\": 153.0, \"score\": 80.0}, {\"start\": 156.0, \"voice\": \"[Superius]\", \"pattern\": [-2, 6, -2, -2, -2], \"end\": 157.0, \"score\": 80.0}, {\"start\": 158.0, \"voice\": \"[Superius]\", \"pattern\": [6, -2, -2, -2, -2], \"end\": 159.0, \"score\": 80.0}, {\"start\": 161.0, \"voice\": \"[Superius]\", \"pattern\": [-2, -2, -2, -2, -2], \"end\": 162.0, \"score\": 100.0}, {\"start\": 200.0, \"voice\": \"[Superius]\", \"pattern\": [-3, -2, 4, 2, 2], \"end\": 201.0, \"score\": 19.999999999999996}, {\"start\": 248.0, \"voice\": \"[Superius]\", \"pattern\": [1, 2, 2, 1, 2], \"end\": 249.0, \"score\": 0.0}, {\"start\": 252.0, \"voice\": \"[Superius]\", \"pattern\": [2, 2, 1, 2, -2], \"end\": 253.0, \"score\": 19.999999999999996}, {\"start\": 256.0, \"voice\": \"[Superius]\", \"pattern\": [2, 1, 2, -2, 1], \"end\": 257.0, \"score\": 19.999999999999996}, {\"start\": 260.0, \"voice\": \"[Superius]\", \"pattern\": [1, 2, -2, 1, -2], \"end\": 261.0, \"score\": 40.0}, {\"start\": 262.0, \"voice\": \"[Superius]\", \"pattern\": [2, -2, 1, -2, 2], \"end\": 263.0, \"score\": 40.0}, {\"start\": 320.0, \"voice\": \"[Superius]\", \"pattern\": [1, 1, 2, -2, -2], \"end\": 321.0, \"score\": 40.0}, {\"start\": 324.0, \"voice\": \"[Superius]\", \"pattern\": [1, 2, -2, -2, -2], \"end\": 325.0, \"score\": 60.0}, {\"start\": 328.0, \"voice\": \"[Superius]\", \"pattern\": [2, -2, -2, -2, -2], \"end\": 329.0, \"score\": 80.0}, {\"start\": 334.0, \"voice\": \"[Superius]\", \"pattern\": [-2, -2, -2, -2, -3], \"end\": 335.0, \"score\": 80.0}, {\"start\": 336.0, \"voice\": \"[Superius]\", \"pattern\": [-2, -2, -2, -3, 2], \"end\": 337.0, \"score\": 60.0}, {\"start\": 340.0, \"voice\": \"[Superius]\", \"pattern\": [-2, -2, -3, 2, 2], \"end\": 341.0, \"score\": 40.0}, {\"start\": 344.0, \"voice\": \"[Superius]\", \"pattern\": [-2, -3, 2, 2, 2], \"end\": 345.0, \"score\": 19.999999999999996}, {\"start\": 348.0, \"voice\": \"[Superius]\", \"pattern\": [-3, 2, 2, 2, -3], \"end\": 349.0, \"score\": 0.0}, {\"start\": 352.0, \"voice\": \"[Superius]\", \"pattern\": [2, 2, 2, -3, 2], \"end\": 353.0, \"score\": 0.0}, {\"start\": 356.0, \"voice\": \"[Superius]\", \"pattern\": [2, 2, -3, 2, 2], \"end\": 357.0, \"score\": 0.0}, {\"start\": 360.0, \"voice\": \"[Superius]\", \"pattern\": [2, -3, 2, 2, 2], \"end\": 361.0, \"score\": 0.0}, {\"start\": 364.0, \"voice\": \"[Superius]\", \"pattern\": [-3, 2, 2, 2, -3], \"end\": 365.0, \"score\": 0.0}, {\"start\": 368.0, \"voice\": \"[Superius]\", \"pattern\": [2, 2, 2, -3, 2], \"end\": 369.0, \"score\": 0.0}, {\"start\": 372.0, \"voice\": \"[Superius]\", \"pattern\": [2, 2, -3, 2, 2], \"end\": 373.0, \"score\": 0.0}, {\"start\": 376.0, \"voice\": \"[Superius]\", \"pattern\": [2, -3, 2, 2, 2], \"end\": 377.0, \"score\": 0.0}, {\"start\": 380.0, \"voice\": \"[Superius]\", \"pattern\": [-3, 2, 2, 2, -2], \"end\": 381.0, \"score\": 19.999999999999996}, {\"start\": 384.0, \"voice\": \"[Superius]\", \"pattern\": [2, 2, 2, -2, 2], \"end\": 385.0, \"score\": 19.999999999999996}, {\"start\": 388.0, \"voice\": \"[Superius]\", \"pattern\": [2, 2, -2, 2, 2], \"end\": 389.0, \"score\": 19.999999999999996}, {\"start\": 392.0, \"voice\": \"[Superius]\", \"pattern\": [2, -2, 2, 2, -2], \"end\": 393.0, \"score\": 40.0}, {\"start\": 395.0, \"voice\": \"[Superius]\", \"pattern\": [-2, 2, 2, -2, -2], \"end\": 396.0, \"score\": 60.0}, {\"start\": 396.0, \"voice\": \"[Superius]\", \"pattern\": [2, 2, -2, -2, -2], \"end\": 397.0, \"score\": 60.0}, {\"start\": 398.0, \"voice\": \"[Superius]\", \"pattern\": [2, -2, -2, -2, 2], \"end\": 399.0, \"score\": 60.0}, {\"start\": 401.0, \"voice\": \"[Superius]\", \"pattern\": [-2, -2, -2, 2, 2], \"end\": 402.0, \"score\": 60.0}, {\"start\": 402.0, \"voice\": \"[Superius]\", \"pattern\": [-2, -2, 2, 2, -2], \"end\": 403.0, \"score\": 60.0}, {\"start\": 403.0, \"voice\": \"[Superius]\", \"pattern\": [-2, 2, 2, -2, -2], \"end\": 404.0, \"score\": 60.0}, {\"start\": 404.0, \"voice\": \"[Superius]\", \"pattern\": [2, 2, -2, -2, -2], \"end\": 405.0, \"score\": 60.0}, {\"start\": 406.0, \"voice\": \"[Superius]\", \"pattern\": [2, -2, -2, -2, 2], \"end\": 407.0, \"score\": 60.0}, {\"start\": 432.0, \"voice\": \"[Superius]\", \"pattern\": [4, -2, 2, 2, -3], \"end\": 433.0, \"score\": 19.999999999999996}, {\"start\": 438.0, \"voice\": \"[Superius]\", \"pattern\": [-2, 2, 2, -3, -2], \"end\": 439.0, \"score\": 40.0}, {\"start\": 440.0, \"voice\": \"[Superius]\", \"pattern\": [2, 2, -3, -2, -2], \"end\": 441.0, \"score\": 40.0}, {\"start\": 444.0, \"voice\": \"[Superius]\", \"pattern\": [2, -3, -2, -2, 1], \"end\": 445.0, \"score\": 40.0}, {\"start\": 448.0, \"voice\": \"[Superius]\", \"pattern\": [-3, -2, -2, 1, 1], \"end\": 449.0, \"score\": 40.0}, {\"start\": 454.0, \"voice\": \"[Superius]\", \"pattern\": [-2, -2, 1, 1, 2], \"end\": 455.0, \"score\": 40.0}, {\"start\": 455.0, \"voice\": \"[Superius]\", \"pattern\": [-2, 1, 1, 2, -2], \"end\": 456.0, \"score\": 40.0}, {\"start\": 456.0, \"voice\": \"[Superius]\", \"pattern\": [1, 1, 2, -2, 4], \"end\": 457.0, \"score\": 19.999999999999996}, {\"start\": 460.0, \"voice\": \"[Superius]\", \"pattern\": [1, 2, -2, 4, -2], \"end\": 461.0, \"score\": 40.0}, {\"start\": 462.0, \"voice\": \"[Superius]\", \"pattern\": [2, -2, 4, -2, 2], \"end\": 463.0, \"score\": 40.0}, {\"start\": 512.0, \"voice\": \"[Superius]\", \"pattern\": [2, -3, 2, -3, 2], \"end\": 513.0, \"score\": 0.0}, {\"start\": 516.0, \"voice\": \"[Superius]\", \"pattern\": [-3, 2, -3, 2, -2], \"end\": 517.0, \"score\": 19.999999999999996}, {\"start\": 520.0, \"voice\": \"[Superius]\", \"pattern\": [2, -3, 2, -2, -2], \"end\": 521.0, \"score\": 40.0}, {\"start\": 524.0, \"voice\": \"[Superius]\", \"pattern\": [-3, 2, -2, -2, -2], \"end\": 525.0, \"score\": 60.0}, {\"start\": 568.0, \"voice\": \"[Superius]\", \"pattern\": [4, 2, 2, -2, 2], \"end\": 569.0, \"score\": 19.999999999999996}, {\"start\": 572.0, \"voice\": \"[Superius]\", \"pattern\": [2, 2, -2, 2, -3], \"end\": 573.0, \"score\": 19.999999999999996}, {\"start\": 576.0, \"voice\": \"[Superius]\", \"pattern\": [2, -2, 2, -3, 1], \"end\": 577.0, \"score\": 19.999999999999996}, {\"start\": 580.0, \"voice\": \"[Superius]\", \"pattern\": [-2, 2, -3, 1, 2], \"end\": 581.0, \"score\": 19.999999999999996}, {\"start\": 582.0, \"voice\": \"[Superius]\", \"pattern\": [2, -3, 1, 2, -3], \"end\": 583.0, \"score\": 0.0}, {\"start\": 585.0, \"voice\": \"[Superius]\", \"pattern\": [-3, 1, 2, -3, 1], \"end\": 586.0, \"score\": 0.0}, {\"start\": 586.0, \"voice\": \"[Superius]\", \"pattern\": [1, 2, -3, 1, 4], \"end\": 587.0, \"score\": 0.0}, {\"start\": 590.0, \"voice\": \"[Superius]\", \"pattern\": [2, -3, 1, 4, -2], \"end\": 591.0, \"score\": 19.999999999999996}, {\"start\": 593.0, \"voice\": \"[Superius]\", \"pattern\": [-3, 1, 4, -2, -2], \"end\": 594.0, \"score\": 40.0}, {\"start\": 594.0, \"voice\": \"[Superius]\", \"pattern\": [1, 4, -2, -2, 1], \"end\": 595.0, \"score\": 40.0}, {\"start\": 598.0, \"voice\": \"[Superius]\", \"pattern\": [4, -2, -2, 1, -2], \"end\": 599.0, \"score\": 60.0}, {\"start\": 600.0, \"voice\": \"[Superius]\", \"pattern\": [-2, -2, 1, -2, 2], \"end\": 601.0, \"score\": 60.0}, {\"start\": 620.0, \"voice\": \"[Superius]\", \"pattern\": [1, 1, 2, -3, 2], \"end\": 621.0, \"score\": 0.0}, {\"start\": 622.0, \"voice\": \"[Superius]\", \"pattern\": [1, 2, -3, 2, -2], \"end\": 623.0, \"score\": 19.999999999999996}, {\"start\": 624.0, \"voice\": \"[Superius]\", \"pattern\": [2, -3, 2, -2, -2], \"end\": 625.0, \"score\": 40.0}, {\"start\": 628.0, \"voice\": \"[Superius]\", \"pattern\": [-3, 2, -2, -2, -2], \"end\": 629.0, \"score\": 60.0}, {\"start\": 668.0, \"voice\": \"[Superius]\", \"pattern\": [1, 1, 2, -2, -2], \"end\": 669.0, \"score\": 40.0}, {\"start\": 670.0, \"voice\": \"[Superius]\", \"pattern\": [1, 2, -2, -2, -2], \"end\": 671.0, \"score\": 60.0}, {\"start\": 672.0, \"voice\": \"[Superius]\", \"pattern\": [2, -2, -2, -2, -2], \"end\": 673.0, \"score\": 80.0}, {\"start\": 676.0, \"voice\": \"[Superius]\", \"pattern\": [-2, -2, -2, -2, -2], \"end\": 677.0, \"score\": 100.0}, {\"start\": 748.0, \"voice\": \"[Superius]\", \"pattern\": [1, 1, 2, 1, 2], \"end\": 749.0, \"score\": 0.0}, {\"start\": 752.0, \"voice\": \"[Superius]\", \"pattern\": [1, 2, 1, 2, 1], \"end\": 753.0, \"score\": 0.0}, {\"start\": 756.0, \"voice\": \"[Superius]\", \"pattern\": [2, 1, 2, 1, -3], \"end\": 757.0, \"score\": 0.0}, {\"start\": 796.0, \"voice\": \"[Superius]\", \"pattern\": [1, 1, 2, 1, 2], \"end\": 797.0, \"score\": 0.0}, {\"start\": 800.0, \"voice\": \"[Superius]\", \"pattern\": [1, 2, 1, 2, 1], \"end\": 801.0, \"score\": 0.0}, {\"start\": 804.0, \"voice\": \"[Superius]\", \"pattern\": [2, 1, 2, 1, -3], \"end\": 805.0, \"score\": 0.0}, {\"start\": 812.0, \"voice\": \"[Superius]\", \"pattern\": [1, 2, 1, -3, 1], \"end\": 813.0, \"score\": 0.0}, {\"start\": 816.0, \"voice\": \"[Superius]\", \"pattern\": [2, 1, -3, 1, 4], \"end\": 817.0, \"score\": 0.0}, {\"start\": 824.0, \"voice\": \"[Superius]\", \"pattern\": [1, -3, 1, 4, 1], \"end\": 825.0, \"score\": 0.0}, {\"start\": 828.0, \"voice\": \"[Superius]\", \"pattern\": [-3, 1, 4, 1, -3], \"end\": 829.0, \"score\": 0.0}, {\"start\": 836.0, \"voice\": \"[Superius]\", \"pattern\": [1, 4, 1, -3, 1], \"end\": 837.0, \"score\": 0.0}, {\"start\": 840.0, \"voice\": \"[Superius]\", \"pattern\": [4, 1, -3, 1, 4], \"end\": 841.0, \"score\": 0.0}, {\"start\": 848.0, \"voice\": \"[Superius]\", \"pattern\": [1, -3, 1, 4, -2], \"end\": 849.0, \"score\": 19.999999999999996}, {\"start\": 852.0, \"voice\": \"[Superius]\", \"pattern\": [-3, 1, 4, -2, -2], \"end\": 853.0, \"score\": 40.0}, {\"start\": 860.0, \"voice\": \"[Superius]\", \"pattern\": [1, 4, -2, -2, -2], \"end\": 861.0, \"score\": 60.0}, {\"start\": 864.0, \"voice\": \"[Superius]\", \"pattern\": [4, -2, -2, -2, -2], \"end\": 865.0, \"score\": 80.0}, {\"start\": 870.0, \"voice\": \"[Superius]\", \"pattern\": [-2, -2, -2, -2, 1], \"end\": 871.0, \"score\": 80.0}, {\"start\": 872.0, \"voice\": \"[Superius]\", \"pattern\": [-2, -2, -2, 1, 4], \"end\": 873.0, \"score\": 60.0}, {\"start\": 874.0, \"voice\": \"[Superius]\", \"pattern\": [-2, -2, 1, 4, 1], \"end\": 875.0, \"score\": 40.0}, {\"start\": 876.0, \"voice\": \"[Superius]\", \"pattern\": [-2, 1, 4, 1, 2], \"end\": 877.0, \"score\": 19.999999999999996}, {\"start\": 884.0, \"voice\": \"[Superius]\", \"pattern\": [1, 4, 1, 2, 2], \"end\": 885.0, \"score\": 0.0}, {\"start\": 888.0, \"voice\": \"[Superius]\", \"pattern\": [4, 1, 2, 2, -3], \"end\": 889.0, \"score\": 0.0}, {\"start\": 896.0, \"voice\": \"[Superius]\", \"pattern\": [1, 2, 2, -3, 1], \"end\": 897.0, \"score\": 0.0}, {\"start\": 900.0, \"voice\": \"[Superius]\", \"pattern\": [2, 2, -3, 1, -2], \"end\": 901.0, \"score\": 19.999999999999996}, {\"start\": 904.0, \"voice\": \"[Superius]\", \"pattern\": [2, -3, 1, -2, 2], \"end\": 905.0, \"score\": 19.999999999999996}, {\"start\": 948.0, \"voice\": \"[Superius]\", \"pattern\": [1, 1, 2, -2, -2], \"end\": 949.0, \"score\": 40.0}, {\"start\": 952.0, \"voice\": \"[Superius]\", \"pattern\": [1, 2, -2, -2, -2], \"end\": 953.0, \"score\": 60.0}, {\"start\": 956.0, \"voice\": \"[Superius]\", \"pattern\": [2, -2, -2, -2, 1], \"end\": 957.0, \"score\": 60.0}, {\"start\": 962.0, \"voice\": \"[Superius]\", \"pattern\": [-2, -2, -2, 1, 3], \"end\": 963.0, \"score\": 60.0}, {\"start\": 963.0, \"voice\": \"[Superius]\", \"pattern\": [-2, -2, 1, 3, -2], \"end\": 964.0, \"score\": 60.0}, {\"start\": 964.0, \"voice\": \"[Superius]\", \"pattern\": [-2, 1, 3, -2, -2], \"end\": 965.0, \"score\": 60.0}, {\"start\": 968.0, \"voice\": \"[Superius]\", \"pattern\": [1, 3, -2, -2, -2], \"end\": 969.0, \"score\": 60.0}, {\"start\": 970.0, \"voice\": \"[Superius]\", \"pattern\": [3, -2, -2, -2, -2], \"end\": 971.0, \"score\": 80.0}, {\"start\": 1012.0, \"voice\": \"[Superius]\", \"pattern\": [1, 1, 2, -2, -2], \"end\": 1013.0, \"score\": 40.0}, {\"start\": 1016.0, \"voice\": \"[Superius]\", \"pattern\": [1, 2, -2, -2, -2], \"end\": 1017.0, \"score\": 60.0}, {\"start\": 1020.0, \"voice\": \"[Superius]\", \"pattern\": [2, -2, -2, -2, 1], \"end\": 1021.0, \"score\": 60.0}, {\"start\": 1026.0, \"voice\": \"[Superius]\", \"pattern\": [-2, -2, -2, 1, 3], \"end\": 1027.0, \"score\": 60.0}, {\"start\": 1027.0, \"voice\": \"[Superius]\", \"pattern\": [-2, -2, 1, 3, -2], \"end\": 1028.0, \"score\": 60.0}, {\"start\": 1028.0, \"voice\": \"[Superius]\", \"pattern\": [-2, 1, 3, -2, -2], \"end\": 1029.0, \"score\": 60.0}, {\"start\": 1032.0, \"voice\": \"[Superius]\", \"pattern\": [1, 3, -2, -2, -2], \"end\": 1033.0, \"score\": 60.0}, {\"start\": 1034.0, \"voice\": \"[Superius]\", \"pattern\": [3, -2, -2, -2, -2], \"end\": 1035.0, \"score\": 80.0}, {\"start\": 1076.0, \"voice\": \"[Superius]\", \"pattern\": [2, 2, 2, -2, 2], \"end\": 1077.0, \"score\": 19.999999999999996}, {\"start\": 1080.0, \"voice\": \"[Superius]\", \"pattern\": [2, 2, -2, 2, 2], \"end\": 1081.0, \"score\": 19.999999999999996}, {\"start\": 1084.0, \"voice\": \"[Superius]\", \"pattern\": [2, -2, 2, 2, 2], \"end\": 1085.0, \"score\": 19.999999999999996}, {\"start\": 1124.0, \"voice\": \"[Superius]\", \"pattern\": [1, -2, -2, 2, -2], \"end\": 1125.0, \"score\": 60.0}, {\"start\": 1128.0, \"voice\": \"[Superius]\", \"pattern\": [-2, -2, 2, -2, -2], \"end\": 1129.0, \"score\": 80.0}, {\"start\": 1132.0, \"voice\": \"[Superius]\", \"pattern\": [-2, 2, -2, -2, 2], \"end\": 1133.0, \"score\": 60.0}, {\"start\": 1236.0, \"voice\": \"[Superius]\", \"pattern\": [1, -2, -2, -2, 2], \"end\": 1237.0, \"score\": 60.0}, {\"start\": 1240.0, \"voice\": \"[Superius]\", \"pattern\": [-2, -2, -2, 2, 1], \"end\": 1241.0, \"score\": 60.0}, {\"start\": 20.0, \"voice\": \"Altus\", \"pattern\": [4, 1, 2, 2, -3], \"end\": 21.0, \"score\": 0.0}, {\"start\": 78.0, \"voice\": \"Altus\", \"pattern\": [-2, -2, -2, 2, -2], \"end\": 79.0, \"score\": 80.0}, {\"start\": 80.0, \"voice\": \"Altus\", \"pattern\": [-2, -2, 2, -2, 4], \"end\": 81.0, \"score\": 60.0}, {\"start\": 84.0, \"voice\": \"Altus\", \"pattern\": [-2, 2, -2, 4, -2], \"end\": 85.0, \"score\": 60.0}, {\"start\": 88.0, \"voice\": \"Altus\", \"pattern\": [2, -2, 4, -2, -2], \"end\": 89.0, \"score\": 60.0}, {\"start\": 91.0, \"voice\": \"Altus\", \"pattern\": [-2, 4, -2, -2, 2], \"end\": 92.0, \"score\": 60.0}, {\"start\": 92.0, \"voice\": \"Altus\", \"pattern\": [4, -2, -2, 2, 2], \"end\": 93.0, \"score\": 40.0}, {\"start\": 146.0, \"voice\": \"Altus\", \"pattern\": [1, 1, 2, 2, -3], \"end\": 147.0, \"score\": 0.0}, {\"start\": 184.0, \"voice\": \"Altus\", \"pattern\": [-3, -2, 2, 2, 2], \"end\": 185.0, \"score\": 19.999999999999996}, {\"start\": 188.0, \"voice\": \"Altus\", \"pattern\": [-2, 2, 2, 2, 2], \"end\": 189.0, \"score\": 19.999999999999996}, {\"start\": 192.0, \"voice\": \"Altus\", \"pattern\": [2, 2, 2, 2, 2], \"end\": 193.0, \"score\": 0.0}, {\"start\": 195.0, \"voice\": \"Altus\", \"pattern\": [2, 2, 2, 2, -2], \"end\": 196.0, \"score\": 19.999999999999996}, {\"start\": 196.0, \"voice\": \"Altus\", \"pattern\": [2, 2, 2, -2, -2], \"end\": 197.0, \"score\": 40.0}, {\"start\": 202.0, \"voice\": \"Altus\", \"pattern\": [2, 2, -2, -2, 5], \"end\": 203.0, \"score\": 40.0}, {\"start\": 204.0, \"voice\": \"Altus\", \"pattern\": [2, -2, -2, 5, -2], \"end\": 205.0, \"score\": 60.0}, {\"start\": 210.0, \"voice\": \"Altus\", \"pattern\": [-2, -2, 5, -2, -2], \"end\": 211.0, \"score\": 80.0}, {\"start\": 211.0, \"voice\": \"Altus\", \"pattern\": [-2, 5, -2, -2, -2], \"end\": 212.0, \"score\": 80.0}, {\"start\": 212.0, \"voice\": \"Altus\", \"pattern\": [5, -2, -2, -2, -2], \"end\": 213.0, \"score\": 80.0}, {\"start\": 215.0, \"voice\": \"Altus\", \"pattern\": [-2, -2, -2, -2, 2], \"end\": 216.0, \"score\": 80.0}, {\"start\": 216.0, \"voice\": \"Altus\", \"pattern\": [-2, -2, -2, 2, 2], \"end\": 217.0, \"score\": 60.0}, {\"start\": 217.0, \"voice\": \"Altus\", \"pattern\": [-2, -2, 2, 2, 2], \"end\": 218.0, \"score\": 40.0}, {\"start\": 218.0, \"voice\": \"Altus\", \"pattern\": [-2, 2, 2, 2, -2], \"end\": 219.0, \"score\": 40.0}, {\"start\": 248.0, \"voice\": \"Altus\", \"pattern\": [3, 2, 2, 1, 2], \"end\": 249.0, \"score\": 0.0}, {\"start\": 252.0, \"voice\": \"Altus\", \"pattern\": [2, 2, 1, 2, -2], \"end\": 253.0, \"score\": 19.999999999999996}, {\"start\": 256.0, \"voice\": \"Altus\", \"pattern\": [2, 1, 2, -2, -2], \"end\": 257.0, \"score\": 40.0}, {\"start\": 260.0, \"voice\": \"Altus\", \"pattern\": [1, 2, -2, -2, -2], \"end\": 261.0, \"score\": 60.0}, {\"start\": 288.0, \"voice\": \"Altus\", \"pattern\": [2, 2, -2, 1, -2], \"end\": 289.0, \"score\": 40.0}, {\"start\": 294.0, \"voice\": \"Altus\", \"pattern\": [2, -2, 1, -2, 2], \"end\": 295.0, \"score\": 40.0}, {\"start\": 320.0, \"voice\": \"Altus\", \"pattern\": [1, 1, 1, 2, 2], \"end\": 321.0, \"score\": 0.0}, {\"start\": 324.0, \"voice\": \"Altus\", \"pattern\": [1, 1, 2, 2, 2], \"end\": 325.0, \"score\": 0.0}, {\"start\": 328.0, \"voice\": \"Altus\", \"pattern\": [1, 2, 2, 2, -3], \"end\": 329.0, \"score\": 0.0}, {\"start\": 334.0, \"voice\": \"Altus\", \"pattern\": [2, 2, 2, -3, 4], \"end\": 335.0, \"score\": 0.0}, {\"start\": 335.0, \"voice\": \"Altus\", \"pattern\": [2, 2, -3, 4, -2], \"end\": 336.0, \"score\": 19.999999999999996}, {\"start\": 336.0, \"voice\": \"Altus\", \"pattern\": [2, -3, 4, -2, 3], \"end\": 337.0, \"score\": 19.999999999999996}, {\"start\": 338.0, \"voice\": \"Altus\", \"pattern\": [-3, 4, -2, 3, -2], \"end\": 339.0, \"score\": 40.0}, {\"start\": 340.0, \"voice\": \"Altus\", \"pattern\": [4, -2, 3, -2, -5], \"end\": 341.0, \"score\": 40.0}, {\"start\": 352.0, \"voice\": \"Altus\", \"pattern\": [-2, 3, -2, -5, 6], \"end\": 353.0, \"score\": 40.0}, {\"start\": 354.0, \"voice\": \"Altus\", \"pattern\": [3, -2, -5, 6, -2], \"end\": 355.0, \"score\": 40.0}, {\"start\": 356.0, \"voice\": \"Altus\", \"pattern\": [-2, -5, 6, -2, 3], \"end\": 357.0, \"score\": 40.0}, {\"start\": 360.0, \"voice\": \"Altus\", \"pattern\": [-5, 6, -2, 3, -2], \"end\": 361.0, \"score\": 40.0}, {\"start\": 364.0, \"voice\": \"Altus\", \"pattern\": [6, -2, 3, -2, -5], \"end\": 365.0, \"score\": 40.0}, {\"start\": 368.0, \"voice\": \"Altus\", \"pattern\": [-2, 3, -2, -5, 2], \"end\": 369.0, \"score\": 40.0}, {\"start\": 370.0, \"voice\": \"Altus\", \"pattern\": [3, -2, -5, 2, 2], \"end\": 371.0, \"score\": 19.999999999999996}, {\"start\": 372.0, \"voice\": \"Altus\", \"pattern\": [-2, -5, 2, 2, 2], \"end\": 373.0, \"score\": 19.999999999999996}, {\"start\": 376.0, \"voice\": \"Altus\", \"pattern\": [-5, 2, 2, 2, -5], \"end\": 377.0, \"score\": 0.0}, {\"start\": 392.0, \"voice\": \"Altus\", \"pattern\": [-2, -3, 2, 2, 2], \"end\": 393.0, \"score\": 19.999999999999996}, {\"start\": 394.0, \"voice\": \"Altus\", \"pattern\": [-3, 2, 2, 2, -5], \"end\": 395.0, \"score\": 0.0}, {\"start\": 397.0, \"voice\": \"Altus\", \"pattern\": [2, 2, 2, -5, 2], \"end\": 398.0, \"score\": 0.0}, {\"start\": 398.0, \"voice\": \"Altus\", \"pattern\": [2, 2, -5, 2, 2], \"end\": 399.0, \"score\": 0.0}, {\"start\": 400.0, \"voice\": \"Altus\", \"pattern\": [2, -5, 2, 2, 2], \"end\": 401.0, \"score\": 0.0}, {\"start\": 402.0, \"voice\": \"Altus\", \"pattern\": [-5, 2, 2, 2, -3], \"end\": 403.0, \"score\": 0.0}, {\"start\": 405.0, \"voice\": \"Altus\", \"pattern\": [2, 2, 2, -3, -2], \"end\": 406.0, \"score\": 19.999999999999996}, {\"start\": 406.0, \"voice\": \"Altus\", \"pattern\": [2, 2, -3, -2, 1], \"end\": 407.0, \"score\": 19.999999999999996}, {\"start\": 408.0, \"voice\": \"Altus\", \"pattern\": [2, -3, -2, 1, 8], \"end\": 409.0, \"score\": 19.999999999999996}, {\"start\": 410.0, \"voice\": \"Altus\", \"pattern\": [-3, -2, 1, 8, -2], \"end\": 411.0, \"score\": 40.0}, {\"start\": 412.0, \"voice\": \"Altus\", \"pattern\": [-2, 1, 8, -2, -2], \"end\": 413.0, \"score\": 60.0}, {\"start\": 416.0, \"voice\": \"Altus\", \"pattern\": [1, 8, -2, -2, -2], \"end\": 417.0, \"score\": 60.0}, {\"start\": 418.0, \"voice\": \"Altus\", \"pattern\": [8, -2, -2, -2, 2], \"end\": 419.0, \"score\": 60.0}, {\"start\": 436.0, \"voice\": \"Altus\", \"pattern\": [4, -2, 2, 2, -3], \"end\": 437.0, \"score\": 19.999999999999996}, {\"start\": 442.0, \"voice\": \"Altus\", \"pattern\": [-2, 2, 2, -3, -2], \"end\": 443.0, \"score\": 40.0}, {\"start\": 444.0, \"voice\": \"Altus\", \"pattern\": [2, 2, -3, -2, -2], \"end\": 445.0, \"score\": 40.0}, {\"start\": 448.0, \"voice\": \"Altus\", \"pattern\": [2, -3, -2, -2, 1], \"end\": 449.0, \"score\": 40.0}, {\"start\": 452.0, \"voice\": \"Altus\", \"pattern\": [-3, -2, -2, 1, -2], \"end\": 453.0, \"score\": 60.0}, {\"start\": 458.0, \"voice\": \"Altus\", \"pattern\": [-2, -2, 1, -2, 2], \"end\": 459.0, \"score\": 60.0}, {\"start\": 459.0, \"voice\": \"Altus\", \"pattern\": [-2, 1, -2, 2, 2], \"end\": 460.0, \"score\": 40.0}, {\"start\": 460.0, \"voice\": \"Altus\", \"pattern\": [1, -2, 2, 2, -2], \"end\": 461.0, \"score\": 40.0}, {\"start\": 528.0, \"voice\": \"Altus\", \"pattern\": [2, -3, 2, -3, 2], \"end\": 529.0, \"score\": 0.0}, {\"start\": 532.0, \"voice\": \"Altus\", \"pattern\": [-3, 2, -3, 2, -2], \"end\": 533.0, \"score\": 19.999999999999996}, {\"start\": 536.0, \"voice\": \"Altus\", \"pattern\": [2, -3, 2, -2, -2], \"end\": 537.0, \"score\": 40.0}, {\"start\": 540.0, \"voice\": \"Altus\", \"pattern\": [-3, 2, -2, -2, -2], \"end\": 541.0, \"score\": 60.0}, {\"start\": 544.0, \"voice\": \"Altus\", \"pattern\": [2, -2, -2, -2, -2], \"end\": 545.0, \"score\": 80.0}, {\"start\": 547.0, \"voice\": \"Altus\", \"pattern\": [-2, -2, -2, -2, 2], \"end\": 548.0, \"score\": 80.0}, {\"start\": 548.0, \"voice\": \"Altus\", \"pattern\": [-2, -2, -2, 2, 2], \"end\": 549.0, \"score\": 60.0}, {\"start\": 552.0, \"voice\": \"Altus\", \"pattern\": [-2, -2, 2, 2, -3], \"end\": 553.0, \"score\": 40.0}, {\"start\": 555.0, \"voice\": \"Altus\", \"pattern\": [-2, 2, 2, -3, 1], \"end\": 556.0, \"score\": 19.999999999999996}, {\"start\": 556.0, \"voice\": \"Altus\", \"pattern\": [2, 2, -3, 1, 2], \"end\": 557.0, \"score\": 0.0}, {\"start\": 558.0, \"voice\": \"Altus\", \"pattern\": [2, -3, 1, 2, -3], \"end\": 559.0, \"score\": 0.0}, {\"start\": 561.0, \"voice\": \"Altus\", \"pattern\": [-3, 1, 2, -3, 1], \"end\": 562.0, \"score\": 0.0}, {\"start\": 562.0, \"voice\": \"Altus\", \"pattern\": [1, 2, -3, 1, -2], \"end\": 563.0, \"score\": 19.999999999999996}, {\"start\": 566.0, \"voice\": \"Altus\", \"pattern\": [2, -3, 1, -2, -2], \"end\": 567.0, \"score\": 40.0}, {\"start\": 569.0, \"voice\": \"Altus\", \"pattern\": [-3, 1, -2, -2, 5], \"end\": 570.0, \"score\": 40.0}, {\"start\": 570.0, \"voice\": \"Altus\", \"pattern\": [1, -2, -2, 5, -2], \"end\": 571.0, \"score\": 60.0}, {\"start\": 574.0, \"voice\": \"Altus\", \"pattern\": [-2, -2, 5, -2, 2], \"end\": 575.0, \"score\": 60.0}, {\"start\": 575.0, \"voice\": \"Altus\", \"pattern\": [-2, 5, -2, 2, -3], \"end\": 576.0, \"score\": 40.0}, {\"start\": 576.0, \"voice\": \"Altus\", \"pattern\": [5, -2, 2, -3, -2], \"end\": 577.0, \"score\": 40.0}, {\"start\": 620.0, \"voice\": \"Altus\", \"pattern\": [1, 1, 5, 1, 2], \"end\": 621.0, \"score\": 0.0}, {\"start\": 622.0, \"voice\": \"Altus\", \"pattern\": [1, 5, 1, 2, -2], \"end\": 623.0, \"score\": 19.999999999999996}, {\"start\": 624.0, \"voice\": \"Altus\", \"pattern\": [5, 1, 2, -2, 1], \"end\": 625.0, \"score\": 19.999999999999996}, {\"start\": 628.0, \"voice\": \"Altus\", \"pattern\": [1, 2, -2, 1, -2], \"end\": 629.0, \"score\": 40.0}, {\"start\": 630.0, \"voice\": \"Altus\", \"pattern\": [2, -2, 1, -2, 2], \"end\": 631.0, \"score\": 40.0}, {\"start\": 667.0, \"voice\": \"Altus\", \"pattern\": [-2, -2, -2, -2, 2], \"end\": 668.0, \"score\": 80.0}, {\"start\": 668.0, \"voice\": \"Altus\", \"pattern\": [-2, -2, -2, 2, 3], \"end\": 669.0, \"score\": 60.0}, {\"start\": 670.0, \"voice\": \"Altus\", \"pattern\": [-2, -2, 2, 3, -2], \"end\": 671.0, \"score\": 60.0}, {\"start\": 672.0, \"voice\": \"Altus\", \"pattern\": [-2, 2, 3, -2, 1], \"end\": 673.0, \"score\": 40.0}, {\"start\": 676.0, \"voice\": \"Altus\", \"pattern\": [2, 3, -2, 1, -2], \"end\": 677.0, \"score\": 40.0}, {\"start\": 678.0, \"voice\": \"Altus\", \"pattern\": [3, -2, 1, -2, 2], \"end\": 679.0, \"score\": 40.0}, {\"start\": 681.0, \"voice\": \"Altus\", \"pattern\": [-2, 1, -2, 2, -2], \"end\": 682.0, \"score\": 60.0}, {\"start\": 682.0, \"voice\": \"Altus\", \"pattern\": [1, -2, 2, -2, -2], \"end\": 683.0, \"score\": 60.0}, {\"start\": 686.0, \"voice\": \"Altus\", \"pattern\": [-2, 2, -2, -2, 5], \"end\": 687.0, \"score\": 60.0}, {\"start\": 688.0, \"voice\": \"Altus\", \"pattern\": [2, -2, -2, 5, -5], \"end\": 689.0, \"score\": 40.0}, {\"start\": 748.0, \"voice\": \"Altus\", \"pattern\": [1, 1, 2, -2, -2], \"end\": 749.0, \"score\": 40.0}, {\"start\": 752.0, \"voice\": \"Altus\", \"pattern\": [1, 2, -2, -2, -2], \"end\": 753.0, \"score\": 60.0}, {\"start\": 756.0, \"voice\": \"Altus\", \"pattern\": [2, -2, -2, -2, -2], \"end\": 757.0, \"score\": 80.0}, {\"start\": 762.0, \"voice\": \"Altus\", \"pattern\": [-2, -2, -2, -2, 1], \"end\": 763.0, \"score\": 80.0}, {\"start\": 764.0, \"voice\": \"Altus\", \"pattern\": [-2, -2, -2, 1, 2], \"end\": 765.0, \"score\": 60.0}, {\"start\": 796.0, \"voice\": \"Altus\", \"pattern\": [1, 1, 2, -2, -2], \"end\": 797.0, \"score\": 40.0}, {\"start\": 800.0, \"voice\": \"Altus\", \"pattern\": [1, 2, -2, -2, -2], \"end\": 801.0, \"score\": 60.0}, {\"start\": 804.0, \"voice\": \"Altus\", \"pattern\": [2, -2, -2, -2, -2], \"end\": 805.0, \"score\": 80.0}, {\"start\": 810.0, \"voice\": \"Altus\", \"pattern\": [-2, -2, -2, -2, 1], \"end\": 811.0, \"score\": 80.0}, {\"start\": 812.0, \"voice\": \"Altus\", \"pattern\": [-2, -2, -2, 1, 2], \"end\": 813.0, \"score\": 60.0}, {\"start\": 814.0, \"voice\": \"Altus\", \"pattern\": [-2, -2, 1, 2, 5], \"end\": 815.0, \"score\": 40.0}, {\"start\": 816.0, \"voice\": \"Altus\", \"pattern\": [-2, 1, 2, 5, 2], \"end\": 817.0, \"score\": 19.999999999999996}, {\"start\": 824.0, \"voice\": \"Altus\", \"pattern\": [1, 2, 5, 2, 1], \"end\": 825.0, \"score\": 0.0}, {\"start\": 828.0, \"voice\": \"Altus\", \"pattern\": [2, 5, 2, 1, -3], \"end\": 829.0, \"score\": 0.0}, {\"start\": 836.0, \"voice\": \"Altus\", \"pattern\": [5, 2, 1, -3, 1], \"end\": 837.0, \"score\": 0.0}, {\"start\": 840.0, \"voice\": \"Altus\", \"pattern\": [2, 1, -3, 1, 2], \"end\": 841.0, \"score\": 0.0}, {\"start\": 848.0, \"voice\": \"Altus\", \"pattern\": [1, -3, 1, 2, -4], \"end\": 849.0, \"score\": 0.0}, {\"start\": 852.0, \"voice\": \"Altus\", \"pattern\": [-3, 1, 2, -4, 2], \"end\": 853.0, \"score\": 0.0}, {\"start\": 860.0, \"voice\": \"Altus\", \"pattern\": [1, 2, -4, 2, 3], \"end\": 861.0, \"score\": 0.0}, {\"start\": 864.0, \"voice\": \"Altus\", \"pattern\": [2, -4, 2, 3, 2], \"end\": 865.0, \"score\": 0.0}, {\"start\": 872.0, \"voice\": \"Altus\", \"pattern\": [-4, 2, 3, 2, -2], \"end\": 873.0, \"score\": 19.999999999999996}, {\"start\": 876.0, \"voice\": \"Altus\", \"pattern\": [2, 3, 2, -2, -2], \"end\": 877.0, \"score\": 40.0}, {\"start\": 884.0, \"voice\": \"Altus\", \"pattern\": [3, 2, -2, -2, -2], \"end\": 885.0, \"score\": 60.0}, {\"start\": 888.0, \"voice\": \"Altus\", \"pattern\": [2, -2, -2, -2, -2], \"end\": 889.0, \"score\": 80.0}, {\"start\": 894.0, \"voice\": \"Altus\", \"pattern\": [-2, -2, -2, -2, -3], \"end\": 895.0, \"score\": 80.0}, {\"start\": 896.0, \"voice\": \"Altus\", \"pattern\": [-2, -2, -2, -3, 2], \"end\": 897.0, \"score\": 60.0}, {\"start\": 898.0, \"voice\": \"Altus\", \"pattern\": [-2, -2, -3, 2, -3], \"end\": 899.0, \"score\": 40.0}, {\"start\": 900.0, \"voice\": \"Altus\", \"pattern\": [-2, -3, 2, -3, -2], \"end\": 901.0, \"score\": 40.0}, {\"start\": 904.0, \"voice\": \"Altus\", \"pattern\": [-3, 2, -3, -2, 8], \"end\": 905.0, \"score\": 19.999999999999996}, {\"start\": 908.0, \"voice\": \"Altus\", \"pattern\": [2, -3, -2, 8, -3], \"end\": 909.0, \"score\": 19.999999999999996}, {\"start\": 912.0, \"voice\": \"Altus\", \"pattern\": [-3, -2, 8, -3, -2], \"end\": 913.0, \"score\": 40.0}, {\"start\": 916.0, \"voice\": \"Altus\", \"pattern\": [-2, 8, -3, -2, -2], \"end\": 917.0, \"score\": 60.0}, {\"start\": 924.0, \"voice\": \"Altus\", \"pattern\": [8, -3, -2, -2, 1], \"end\": 925.0, \"score\": 40.0}, {\"start\": 948.0, \"voice\": \"Altus\", \"pattern\": [1, -2, -2, -2, -2], \"end\": 949.0, \"score\": 80.0}, {\"start\": 952.0, \"voice\": \"Altus\", \"pattern\": [-2, -2, -2, -2, 5], \"end\": 953.0, \"score\": 80.0}, {\"start\": 956.0, \"voice\": \"Altus\", \"pattern\": [-2, -2, -2, 5, -8], \"end\": 957.0, \"score\": 60.0}, {\"start\": 980.0, \"voice\": \"Altus\", \"pattern\": [2, 2, 1, 2, -2], \"end\": 981.0, \"score\": 19.999999999999996}, {\"start\": 982.0, \"voice\": \"Altus\", \"pattern\": [2, 1, 2, -2, -2], \"end\": 983.0, \"score\": 40.0}, {\"start\": 986.0, \"voice\": \"Altus\", \"pattern\": [1, 2, -2, -2, -2], \"end\": 987.0, \"score\": 60.0}, {\"start\": 988.0, \"voice\": \"Altus\", \"pattern\": [2, -2, -2, -2, -2], \"end\": 989.0, \"score\": 80.0}, {\"start\": 1012.0, \"voice\": \"Altus\", \"pattern\": [1, -2, -2, -2, -2], \"end\": 1013.0, \"score\": 80.0}, {\"start\": 1016.0, \"voice\": \"Altus\", \"pattern\": [-2, -2, -2, -2, 5], \"end\": 1017.0, \"score\": 80.0}, {\"start\": 1020.0, \"voice\": \"Altus\", \"pattern\": [-2, -2, -2, 5, -8], \"end\": 1021.0, \"score\": 60.0}, {\"start\": 1044.0, \"voice\": \"Altus\", \"pattern\": [2, 2, 1, 2, -2], \"end\": 1045.0, \"score\": 19.999999999999996}, {\"start\": 1046.0, \"voice\": \"Altus\", \"pattern\": [2, 1, 2, -2, -2], \"end\": 1047.0, \"score\": 40.0}, {\"start\": 1050.0, \"voice\": \"Altus\", \"pattern\": [1, 2, -2, -2, -2], \"end\": 1051.0, \"score\": 60.0}, {\"start\": 1052.0, \"voice\": \"Altus\", \"pattern\": [2, -2, -2, -2, -2], \"end\": 1053.0, \"score\": 80.0}, {\"start\": 1074.0, \"voice\": \"Altus\", \"pattern\": [-2, -2, 2, -3, 2], \"end\": 1075.0, \"score\": 40.0}, {\"start\": 1075.0, \"voice\": \"Altus\", \"pattern\": [-2, 2, -3, 2, -2], \"end\": 1076.0, \"score\": 40.0}, {\"start\": 1076.0, \"voice\": \"Altus\", \"pattern\": [2, -3, 2, -2, -2], \"end\": 1077.0, \"score\": 40.0}, {\"start\": 1078.0, \"voice\": \"Altus\", \"pattern\": [-3, 2, -2, -2, 2], \"end\": 1079.0, \"score\": 40.0}, {\"start\": 1098.0, \"voice\": \"Altus\", \"pattern\": [-2, -2, 4, -2, 2], \"end\": 1099.0, \"score\": 60.0}, {\"start\": 1099.0, \"voice\": \"Altus\", \"pattern\": [-2, 4, -2, 2, -3], \"end\": 1100.0, \"score\": 40.0}, {\"start\": 1100.0, \"voice\": \"Altus\", \"pattern\": [4, -2, 2, -3, -2], \"end\": 1101.0, \"score\": 40.0}, {\"start\": 1103.0, \"voice\": \"Altus\", \"pattern\": [-2, 2, -3, -2, -2], \"end\": 1104.0, \"score\": 60.0}, {\"start\": 1104.0, \"voice\": \"Altus\", \"pattern\": [2, -3, -2, -2, -2], \"end\": 1105.0, \"score\": 60.0}, {\"start\": 1106.0, \"voice\": \"Altus\", \"pattern\": [-3, -2, -2, -2, -2], \"end\": 1107.0, \"score\": 80.0}, {\"start\": 1109.0, \"voice\": \"Altus\", \"pattern\": [-2, -2, -2, -2, 2], \"end\": 1110.0, \"score\": 80.0}, {\"start\": 1110.0, \"voice\": \"Altus\", \"pattern\": [-2, -2, -2, 2, -3], \"end\": 1111.0, \"score\": 60.0}, {\"start\": 1111.0, \"voice\": \"Altus\", \"pattern\": [-2, -2, 2, -3, 8], \"end\": 1112.0, \"score\": 40.0}, {\"start\": 1129.0, \"voice\": \"Altus\", \"pattern\": [-2, -3, 2, 2, -2], \"end\": 1130.0, \"score\": 40.0}, {\"start\": 1130.0, \"voice\": \"Altus\", \"pattern\": [-3, 2, 2, -2, -2], \"end\": 1131.0, \"score\": 40.0}, {\"start\": 1132.0, \"voice\": \"Altus\", \"pattern\": [2, 2, -2, -2, -2], \"end\": 1133.0, \"score\": 60.0}, {\"start\": 1134.0, \"voice\": \"Altus\", \"pattern\": [2, -2, -2, -2, -2], \"end\": 1135.0, \"score\": 80.0}, {\"start\": 1137.0, \"voice\": \"Altus\", \"pattern\": [-2, -2, -2, -2, 2], \"end\": 1138.0, \"score\": 80.0}, {\"start\": 1138.0, \"voice\": \"Altus\", \"pattern\": [-2, -2, -2, 2, -4], \"end\": 1139.0, \"score\": 60.0}, {\"start\": 1157.0, \"voice\": \"Altus\", \"pattern\": [-2, -2, -2, 2, -5], \"end\": 1158.0, \"score\": 60.0}, {\"start\": 1158.0, \"voice\": \"Altus\", \"pattern\": [-2, -2, 2, -5, 2], \"end\": 1159.0, \"score\": 40.0}, {\"start\": 1159.0, \"voice\": \"Altus\", \"pattern\": [-2, 2, -5, 2, -3], \"end\": 1160.0, \"score\": 19.999999999999996}, {\"start\": 1160.0, \"voice\": \"Altus\", \"pattern\": [2, -5, 2, -3, 2], \"end\": 1161.0, \"score\": 0.0}, {\"start\": 1162.0, \"voice\": \"Altus\", \"pattern\": [-5, 2, -3, 2, -2], \"end\": 1163.0, \"score\": 19.999999999999996}, {\"start\": 1166.0, \"voice\": \"Altus\", \"pattern\": [2, -3, 2, -2, 1], \"end\": 1167.0, \"score\": 19.999999999999996}, {\"start\": 1168.0, \"voice\": \"Altus\", \"pattern\": [-3, 2, -2, 1, -2], \"end\": 1169.0, \"score\": 40.0}, {\"start\": 1170.0, \"voice\": \"Altus\", \"pattern\": [2, -2, 1, -2, 2], \"end\": 1171.0, \"score\": 40.0}, {\"start\": 1236.0, \"voice\": \"Altus\", \"pattern\": [1, 1, -3, 2, 2], \"end\": 1237.0, \"score\": 0.0}, {\"start\": 1240.0, \"voice\": \"Altus\", \"pattern\": [1, -3, 2, 2, 1], \"end\": 1241.0, \"score\": 0.0}, {\"start\": 1244.0, \"voice\": \"Altus\", \"pattern\": [-3, 2, 2, 1, 1], \"end\": 1245.0, \"score\": 0.0}, {\"start\": 36.0, \"voice\": \"Tenor\", \"pattern\": [4, 1, 2, 2, -3], \"end\": 37.0, \"score\": 0.0}, {\"start\": 94.0, \"voice\": \"Tenor\", \"pattern\": [-2, -2, -2, 2, -2], \"end\": 95.0, \"score\": 80.0}, {\"start\": 96.0, \"voice\": \"Tenor\", \"pattern\": [-2, -2, 2, -2, 4], \"end\": 97.0, \"score\": 60.0}, {\"start\": 100.0, \"voice\": \"Tenor\", \"pattern\": [-2, 2, -2, 4, -2], \"end\": 101.0, \"score\": 60.0}, {\"start\": 104.0, \"voice\": \"Tenor\", \"pattern\": [2, -2, 4, -2, -2], \"end\": 105.0, \"score\": 60.0}, {\"start\": 106.0, \"voice\": \"Tenor\", \"pattern\": [-2, 4, -2, -2, 2], \"end\": 107.0, \"score\": 60.0}, {\"start\": 108.0, \"voice\": \"Tenor\", \"pattern\": [4, -2, -2, 2, 2], \"end\": 109.0, \"score\": 40.0}, {\"start\": 162.0, \"voice\": \"Tenor\", \"pattern\": [1, 1, 2, 2, -3], \"end\": 163.0, \"score\": 0.0}, {\"start\": 164.0, \"voice\": \"Tenor\", \"pattern\": [1, 2, 2, -3, 3], \"end\": 165.0, \"score\": 0.0}, {\"start\": 168.0, \"voice\": \"Tenor\", \"pattern\": [2, 2, -3, 3, -2], \"end\": 169.0, \"score\": 19.999999999999996}, {\"start\": 172.0, \"voice\": \"Tenor\", \"pattern\": [2, -3, 3, -2, 4], \"end\": 173.0, \"score\": 19.999999999999996}, {\"start\": 176.0, \"voice\": \"Tenor\", \"pattern\": [-3, 3, -2, 4, -2], \"end\": 177.0, \"score\": 40.0}, {\"start\": 178.0, \"voice\": \"Tenor\", \"pattern\": [3, -2, 4, -2, 2], \"end\": 179.0, \"score\": 40.0}, {\"start\": 208.0, \"voice\": \"Tenor\", \"pattern\": [-3, -2, 8, -2, -2], \"end\": 209.0, \"score\": 60.0}, {\"start\": 212.0, \"voice\": \"Tenor\", \"pattern\": [-2, 8, -2, -2, -2], \"end\": 213.0, \"score\": 80.0}, {\"start\": 216.0, \"voice\": \"Tenor\", \"pattern\": [8, -2, -2, -2, -2], \"end\": 217.0, \"score\": 80.0}, {\"start\": 219.0, \"voice\": \"Tenor\", \"pattern\": [-2, -2, -2, -2, -2], \"end\": 220.0, \"score\": 100.0}, {\"start\": 220.0, \"voice\": \"Tenor\", \"pattern\": [-2, -2, -2, -2, 2], \"end\": 221.0, \"score\": 80.0}, {\"start\": 221.0, \"voice\": \"Tenor\", \"pattern\": [-2, -2, -2, 2, 2], \"end\": 222.0, \"score\": 60.0}, {\"start\": 222.0, \"voice\": \"Tenor\", \"pattern\": [-2, -2, 2, 2, -2], \"end\": 223.0, \"score\": 60.0}, {\"start\": 280.0, \"voice\": \"Tenor\", \"pattern\": [1, 2, 2, 1, 2], \"end\": 281.0, \"score\": 0.0}, {\"start\": 284.0, \"voice\": \"Tenor\", \"pattern\": [2, 2, 1, 2, -2], \"end\": 285.0, \"score\": 19.999999999999996}, {\"start\": 288.0, \"voice\": \"Tenor\", \"pattern\": [2, 1, 2, -2, 1], \"end\": 289.0, \"score\": 19.999999999999996}, {\"start\": 292.0, \"voice\": \"Tenor\", \"pattern\": [1, 2, -2, 1, -2], \"end\": 293.0, \"score\": 40.0}, {\"start\": 294.0, \"voice\": \"Tenor\", \"pattern\": [2, -2, 1, -2, 2], \"end\": 295.0, \"score\": 40.0}, {\"start\": 320.0, \"voice\": \"Tenor\", \"pattern\": [1, 1, 2, -2, -2], \"end\": 321.0, \"score\": 40.0}, {\"start\": 324.0, \"voice\": \"Tenor\", \"pattern\": [1, 2, -2, -2, -2], \"end\": 325.0, \"score\": 60.0}, {\"start\": 328.0, \"voice\": \"Tenor\", \"pattern\": [2, -2, -2, -2, -2], \"end\": 329.0, \"score\": 80.0}, {\"start\": 334.0, \"voice\": \"Tenor\", \"pattern\": [-2, -2, -2, -2, -3], \"end\": 335.0, \"score\": 80.0}, {\"start\": 336.0, \"voice\": \"Tenor\", \"pattern\": [-2, -2, -2, -3, 2], \"end\": 337.0, \"score\": 60.0}, {\"start\": 340.0, \"voice\": \"Tenor\", \"pattern\": [-2, -2, -3, 2, 2], \"end\": 341.0, \"score\": 40.0}, {\"start\": 344.0, \"voice\": \"Tenor\", \"pattern\": [-2, -3, 2, 2, 2], \"end\": 345.0, \"score\": 19.999999999999996}, {\"start\": 348.0, \"voice\": \"Tenor\", \"pattern\": [-3, 2, 2, 2, -3], \"end\": 349.0, \"score\": 0.0}, {\"start\": 350.0, \"voice\": \"Tenor\", \"pattern\": [2, 2, 2, -3, 2], \"end\": 351.0, \"score\": 0.0}, {\"start\": 354.0, \"voice\": \"Tenor\", \"pattern\": [2, 2, -3, 2, 2], \"end\": 355.0, \"score\": 0.0}, {\"start\": 358.0, \"voice\": \"Tenor\", \"pattern\": [2, -3, 2, 2, 2], \"end\": 359.0, \"score\": 0.0}, {\"start\": 362.0, \"voice\": \"Tenor\", \"pattern\": [-3, 2, 2, 2, -3], \"end\": 363.0, \"score\": 0.0}, {\"start\": 366.0, \"voice\": \"Tenor\", \"pattern\": [2, 2, 2, -3, 2], \"end\": 367.0, \"score\": 0.0}, {\"start\": 370.0, \"voice\": \"Tenor\", \"pattern\": [2, 2, -3, 2, 2], \"end\": 371.0, \"score\": 0.0}, {\"start\": 374.0, \"voice\": \"Tenor\", \"pattern\": [2, -3, 2, 2, 2], \"end\": 375.0, \"score\": 0.0}, {\"start\": 378.0, \"voice\": \"Tenor\", \"pattern\": [-3, 2, 2, 2, 2], \"end\": 379.0, \"score\": 0.0}, {\"start\": 382.0, \"voice\": \"Tenor\", \"pattern\": [2, 2, 2, 2, -2], \"end\": 383.0, \"score\": 19.999999999999996}, {\"start\": 386.0, \"voice\": \"Tenor\", \"pattern\": [2, 2, 2, -2, 2], \"end\": 387.0, \"score\": 19.999999999999996}, {\"start\": 390.0, \"voice\": \"Tenor\", \"pattern\": [2, 2, -2, 2, -3], \"end\": 391.0, \"score\": 19.999999999999996}, {\"start\": 394.0, \"voice\": \"Tenor\", \"pattern\": [2, -2, 2, -3, 2], \"end\": 395.0, \"score\": 19.999999999999996}, {\"start\": 397.0, \"voice\": \"Tenor\", \"pattern\": [-2, 2, -3, 2, -2], \"end\": 398.0, \"score\": 40.0}, {\"start\": 398.0, \"voice\": \"Tenor\", \"pattern\": [2, -3, 2, -2, 2], \"end\": 399.0, \"score\": 19.999999999999996}, {\"start\": 400.0, \"voice\": \"Tenor\", \"pattern\": [-3, 2, -2, 2, -3], \"end\": 401.0, \"score\": 19.999999999999996}, {\"start\": 402.0, \"voice\": \"Tenor\", \"pattern\": [2, -2, 2, -3, 2], \"end\": 403.0, \"score\": 19.999999999999996}, {\"start\": 405.0, \"voice\": \"Tenor\", \"pattern\": [-2, 2, -3, 2, -3], \"end\": 406.0, \"score\": 19.999999999999996}, {\"start\": 406.0, \"voice\": \"Tenor\", \"pattern\": [2, -3, 2, -3, -2], \"end\": 407.0, \"score\": 19.999999999999996}, {\"start\": 472.0, \"voice\": \"Tenor\", \"pattern\": [4, -2, 2, 2, -3], \"end\": 473.0, \"score\": 19.999999999999996}, {\"start\": 478.0, \"voice\": \"Tenor\", \"pattern\": [-2, 2, 2, -3, -2], \"end\": 479.0, \"score\": 40.0}, {\"start\": 480.0, \"voice\": \"Tenor\", \"pattern\": [2, 2, -3, -2, -2], \"end\": 481.0, \"score\": 40.0}, {\"start\": 484.0, \"voice\": \"Tenor\", \"pattern\": [2, -3, -2, -2, 1], \"end\": 485.0, \"score\": 40.0}, {\"start\": 488.0, \"voice\": \"Tenor\", \"pattern\": [-3, -2, -2, 1, 1], \"end\": 489.0, \"score\": 40.0}, {\"start\": 494.0, \"voice\": \"Tenor\", \"pattern\": [-2, -2, 1, 1, 2], \"end\": 495.0, \"score\": 40.0}, {\"start\": 495.0, \"voice\": \"Tenor\", \"pattern\": [-2, 1, 1, 2, -2], \"end\": 496.0, \"score\": 40.0}, {\"start\": 496.0, \"voice\": \"Tenor\", \"pattern\": [1, 1, 2, -2, 4], \"end\": 497.0, \"score\": 19.999999999999996}, {\"start\": 500.0, \"voice\": \"Tenor\", \"pattern\": [1, 2, -2, 4, -2], \"end\": 501.0, \"score\": 40.0}, {\"start\": 502.0, \"voice\": \"Tenor\", \"pattern\": [2, -2, 4, -2, 2], \"end\": 503.0, \"score\": 40.0}, {\"start\": 536.0, \"voice\": \"Tenor\", \"pattern\": [2, -3, 2, -3, 2], \"end\": 537.0, \"score\": 0.0}, {\"start\": 540.0, \"voice\": \"Tenor\", \"pattern\": [-3, 2, -3, 2, -2], \"end\": 541.0, \"score\": 19.999999999999996}, {\"start\": 544.0, \"voice\": \"Tenor\", \"pattern\": [2, -3, 2, -2, -2], \"end\": 545.0, \"score\": 40.0}, {\"start\": 548.0, \"voice\": \"Tenor\", \"pattern\": [-3, 2, -2, -2, -2], \"end\": 549.0, \"score\": 60.0}, {\"start\": 552.0, \"voice\": \"Tenor\", \"pattern\": [2, -2, -2, -2, 8], \"end\": 553.0, \"score\": 60.0}, {\"start\": 555.0, \"voice\": \"Tenor\", \"pattern\": [-2, -2, -2, 8, 2], \"end\": 556.0, \"score\": 60.0}, {\"start\": 556.0, \"voice\": \"Tenor\", \"pattern\": [-2, -2, 8, 2, -3], \"end\": 557.0, \"score\": 40.0}, {\"start\": 560.0, \"voice\": \"Tenor\", \"pattern\": [-2, 8, 2, -3, 2], \"end\": 561.0, \"score\": 19.999999999999996}, {\"start\": 584.0, \"voice\": \"Tenor\", \"pattern\": [-3, 2, -2, -2, -2], \"end\": 585.0, \"score\": 60.0}, {\"start\": 586.0, \"voice\": \"Tenor\", \"pattern\": [2, -2, -2, -2, -2], \"end\": 587.0, \"score\": 80.0}, {\"start\": 589.0, \"voice\": \"Tenor\", \"pattern\": [-2, -2, -2, -2, -3], \"end\": 590.0, \"score\": 80.0}, {\"start\": 590.0, \"voice\": \"Tenor\", \"pattern\": [-2, -2, -2, -3, 8], \"end\": 591.0, \"score\": 60.0}, {\"start\": 591.0, \"voice\": \"Tenor\", \"pattern\": [-2, -2, -3, 8, -2], \"end\": 592.0, \"score\": 60.0}, {\"start\": 592.0, \"voice\": \"Tenor\", \"pattern\": [-2, -3, 8, -2, -2], \"end\": 593.0, \"score\": 60.0}, {\"start\": 594.0, \"voice\": \"Tenor\", \"pattern\": [-3, 8, -2, -2, -2], \"end\": 595.0, \"score\": 60.0}, {\"start\": 596.0, \"voice\": \"Tenor\", \"pattern\": [8, -2, -2, -2, -2], \"end\": 597.0, \"score\": 80.0}, {\"start\": 644.0, \"voice\": \"Tenor\", \"pattern\": [1, 1, 2, -3, 2], \"end\": 645.0, \"score\": 0.0}, {\"start\": 646.0, \"voice\": \"Tenor\", \"pattern\": [1, 2, -3, 2, -2], \"end\": 647.0, \"score\": 19.999999999999996}, {\"start\": 648.0, \"voice\": \"Tenor\", \"pattern\": [2, -3, 2, -2, -2], \"end\": 649.0, \"score\": 40.0}, {\"start\": 652.0, \"voice\": \"Tenor\", \"pattern\": [-3, 2, -2, -2, -2], \"end\": 653.0, \"score\": 60.0}, {\"start\": 704.0, \"voice\": \"Tenor\", \"pattern\": [1, -2, 3, -2, -2], \"end\": 705.0, \"score\": 60.0}, {\"start\": 708.0, \"voice\": \"Tenor\", \"pattern\": [-2, 3, -2, -2, -2], \"end\": 709.0, \"score\": 80.0}, {\"start\": 712.0, \"voice\": \"Tenor\", \"pattern\": [3, -2, -2, -2, 2], \"end\": 713.0, \"score\": 60.0}, {\"start\": 716.0, \"voice\": \"Tenor\", \"pattern\": [-2, -2, -2, 2, 2], \"end\": 717.0, \"score\": 60.0}, {\"start\": 720.0, \"voice\": \"Tenor\", \"pattern\": [-2, -2, 2, 2, -2], \"end\": 721.0, \"score\": 60.0}, {\"start\": 723.0, \"voice\": \"Tenor\", \"pattern\": [-2, 2, 2, -2, -2], \"end\": 724.0, \"score\": 60.0}, {\"start\": 724.0, \"voice\": \"Tenor\", \"pattern\": [2, 2, -2, -2, -2], \"end\": 725.0, \"score\": 60.0}, {\"start\": 726.0, \"voice\": \"Tenor\", \"pattern\": [2, -2, -2, -2, 2], \"end\": 727.0, \"score\": 60.0}, {\"start\": 756.0, \"voice\": \"Tenor\", \"pattern\": [1, 1, 2, 1, 2], \"end\": 757.0, \"score\": 0.0}, {\"start\": 760.0, \"voice\": \"Tenor\", \"pattern\": [1, 2, 1, 2, 1], \"end\": 761.0, \"score\": 0.0}, {\"start\": 764.0, \"voice\": \"Tenor\", \"pattern\": [2, 1, 2, 1, -3], \"end\": 765.0, \"score\": 0.0}, {\"start\": 804.0, \"voice\": \"Tenor\", \"pattern\": [1, 1, 2, 1, 2], \"end\": 805.0, \"score\": 0.0}, {\"start\": 808.0, \"voice\": \"Tenor\", \"pattern\": [1, 2, 1, 2, 1], \"end\": 809.0, \"score\": 0.0}, {\"start\": 812.0, \"voice\": \"Tenor\", \"pattern\": [2, 1, 2, 1, -3], \"end\": 813.0, \"score\": 0.0}, {\"start\": 820.0, \"voice\": \"Tenor\", \"pattern\": [1, 2, 1, -3, 1], \"end\": 821.0, \"score\": 0.0}, {\"start\": 824.0, \"voice\": \"Tenor\", \"pattern\": [2, 1, -3, 1, 4], \"end\": 825.0, \"score\": 0.0}, {\"start\": 832.0, \"voice\": \"Tenor\", \"pattern\": [1, -3, 1, 4, 1], \"end\": 833.0, \"score\": 0.0}, {\"start\": 836.0, \"voice\": \"Tenor\", \"pattern\": [-3, 1, 4, 1, -3], \"end\": 837.0, \"score\": 0.0}, {\"start\": 844.0, \"voice\": \"Tenor\", \"pattern\": [1, 4, 1, -3, 1], \"end\": 845.0, \"score\": 0.0}, {\"start\": 848.0, \"voice\": \"Tenor\", \"pattern\": [4, 1, -3, 1, 4], \"end\": 849.0, \"score\": 0.0}, {\"start\": 856.0, \"voice\": \"Tenor\", \"pattern\": [1, -3, 1, 4, -2], \"end\": 857.0, \"score\": 19.999999999999996}, {\"start\": 860.0, \"voice\": \"Tenor\", \"pattern\": [-3, 1, 4, -2, -2], \"end\": 861.0, \"score\": 40.0}, {\"start\": 868.0, \"voice\": \"Tenor\", \"pattern\": [1, 4, -2, -2, -2], \"end\": 869.0, \"score\": 60.0}, {\"start\": 872.0, \"voice\": \"Tenor\", \"pattern\": [4, -2, -2, -2, -2], \"end\": 873.0, \"score\": 80.0}, {\"start\": 878.0, \"voice\": \"Tenor\", \"pattern\": [-2, -2, -2, -2, 1], \"end\": 879.0, \"score\": 80.0}, {\"start\": 880.0, \"voice\": \"Tenor\", \"pattern\": [-2, -2, -2, 1, 4], \"end\": 881.0, \"score\": 60.0}, {\"start\": 882.0, \"voice\": \"Tenor\", \"pattern\": [-2, -2, 1, 4, 1], \"end\": 883.0, \"score\": 40.0}, {\"start\": 884.0, \"voice\": \"Tenor\", \"pattern\": [-2, 1, 4, 1, 2], \"end\": 885.0, \"score\": 19.999999999999996}, {\"start\": 892.0, \"voice\": \"Tenor\", \"pattern\": [1, 4, 1, 2, -3], \"end\": 893.0, \"score\": 0.0}, {\"start\": 896.0, \"voice\": \"Tenor\", \"pattern\": [4, 1, 2, -3, 2], \"end\": 897.0, \"score\": 0.0}, {\"start\": 904.0, \"voice\": \"Tenor\", \"pattern\": [1, 2, -3, 2, -3], \"end\": 905.0, \"score\": 0.0}, {\"start\": 908.0, \"voice\": \"Tenor\", \"pattern\": [2, -3, 2, -3, -2], \"end\": 909.0, \"score\": 19.999999999999996}, {\"start\": 976.0, \"voice\": \"Tenor\", \"pattern\": [1, 1, 2, -2, -2], \"end\": 977.0, \"score\": 40.0}, {\"start\": 980.0, \"voice\": \"Tenor\", \"pattern\": [1, 2, -2, -2, -2], \"end\": 981.0, \"score\": 60.0}, {\"start\": 984.0, \"voice\": \"Tenor\", \"pattern\": [2, -2, -2, -2, 1], \"end\": 985.0, \"score\": 60.0}, {\"start\": 990.0, \"voice\": \"Tenor\", \"pattern\": [-2, -2, -2, 1, 3], \"end\": 991.0, \"score\": 60.0}, {\"start\": 991.0, \"voice\": \"Tenor\", \"pattern\": [-2, -2, 1, 3, -2], \"end\": 992.0, \"score\": 60.0}, {\"start\": 992.0, \"voice\": \"Tenor\", \"pattern\": [-2, 1, 3, -2, -2], \"end\": 993.0, \"score\": 60.0}, {\"start\": 996.0, \"voice\": \"Tenor\", \"pattern\": [1, 3, -2, -2, -2], \"end\": 997.0, \"score\": 60.0}, {\"start\": 998.0, \"voice\": \"Tenor\", \"pattern\": [3, -2, -2, -2, -2], \"end\": 999.0, \"score\": 80.0}, {\"start\": 1040.0, \"voice\": \"Tenor\", \"pattern\": [1, 1, 2, -2, -2], \"end\": 1041.0, \"score\": 40.0}, {\"start\": 1044.0, \"voice\": \"Tenor\", \"pattern\": [1, 2, -2, -2, -2], \"end\": 1045.0, \"score\": 60.0}, {\"start\": 1048.0, \"voice\": \"Tenor\", \"pattern\": [2, -2, -2, -2, 1], \"end\": 1049.0, \"score\": 60.0}, {\"start\": 1054.0, \"voice\": \"Tenor\", \"pattern\": [-2, -2, -2, 1, 3], \"end\": 1055.0, \"score\": 60.0}, {\"start\": 1055.0, \"voice\": \"Tenor\", \"pattern\": [-2, -2, 1, 3, -2], \"end\": 1056.0, \"score\": 60.0}, {\"start\": 1056.0, \"voice\": \"Tenor\", \"pattern\": [-2, 1, 3, -2, -2], \"end\": 1057.0, \"score\": 60.0}, {\"start\": 1060.0, \"voice\": \"Tenor\", \"pattern\": [1, 3, -2, -2, -2], \"end\": 1061.0, \"score\": 60.0}, {\"start\": 1062.0, \"voice\": \"Tenor\", \"pattern\": [3, -2, -2, -2, -2], \"end\": 1063.0, \"score\": 80.0}, {\"start\": 1096.0, \"voice\": \"Tenor\", \"pattern\": [2, 2, 2, -2, 2], \"end\": 1097.0, \"score\": 19.999999999999996}, {\"start\": 1100.0, \"voice\": \"Tenor\", \"pattern\": [2, 2, -2, 2, 2], \"end\": 1101.0, \"score\": 19.999999999999996}, {\"start\": 1104.0, \"voice\": \"Tenor\", \"pattern\": [2, -2, 2, 2, 2], \"end\": 1105.0, \"score\": 19.999999999999996}, {\"start\": 1152.0, \"voice\": \"Tenor\", \"pattern\": [1, -2, -2, 2, -2], \"end\": 1153.0, \"score\": 60.0}, {\"start\": 1156.0, \"voice\": \"Tenor\", \"pattern\": [-2, -2, 2, -2, -2], \"end\": 1157.0, \"score\": 80.0}, {\"start\": 1160.0, \"voice\": \"Tenor\", \"pattern\": [-2, 2, -2, -2, 2], \"end\": 1161.0, \"score\": 60.0}, {\"start\": 1208.0, \"voice\": \"Tenor\", \"pattern\": [-2, 1, -2, 2, 2], \"end\": 1209.0, \"score\": 40.0}, {\"start\": 1240.0, \"voice\": \"Tenor\", \"pattern\": [1, -2, 2, 2, -2], \"end\": 1241.0, \"score\": 40.0}, {\"start\": 1244.0, \"voice\": \"Tenor\", \"pattern\": [-2, 2, 2, -2, 1], \"end\": 1245.0, \"score\": 40.0}, {\"start\": 52.0, \"voice\": \"Bassus\", \"pattern\": [4, 1, 2, 2, -3], \"end\": 53.0, \"score\": 0.0}, {\"start\": 110.0, \"voice\": \"Bassus\", \"pattern\": [-2, -2, -2, 2, 2], \"end\": 111.0, \"score\": 60.0}, {\"start\": 112.0, \"voice\": \"Bassus\", \"pattern\": [-2, -2, 2, 2, 2], \"end\": 113.0, \"score\": 40.0}, {\"start\": 178.0, \"voice\": \"Bassus\", \"pattern\": [1, 1, 2, 2, -3], \"end\": 179.0, \"score\": 0.0}, {\"start\": 224.0, \"voice\": \"Bassus\", \"pattern\": [-3, -2, 2, 2, 2], \"end\": 225.0, \"score\": 19.999999999999996}, {\"start\": 280.0, \"voice\": \"Bassus\", \"pattern\": [3, 2, 2, 1, 2], \"end\": 281.0, \"score\": 0.0}, {\"start\": 284.0, \"voice\": \"Bassus\", \"pattern\": [2, 2, 1, 2, -2], \"end\": 285.0, \"score\": 19.999999999999996}, {\"start\": 288.0, \"voice\": \"Bassus\", \"pattern\": [2, 1, 2, -2, -2], \"end\": 289.0, \"score\": 40.0}, {\"start\": 292.0, \"voice\": \"Bassus\", \"pattern\": [1, 2, -2, -2, -2], \"end\": 293.0, \"score\": 60.0}, {\"start\": 320.0, \"voice\": \"Bassus\", \"pattern\": [1, 1, 4, -2, 2], \"end\": 321.0, \"score\": 19.999999999999996}, {\"start\": 324.0, \"voice\": \"Bassus\", \"pattern\": [1, 4, -2, 2, -4], \"end\": 325.0, \"score\": 19.999999999999996}, {\"start\": 328.0, \"voice\": \"Bassus\", \"pattern\": [4, -2, 2, -4, 2], \"end\": 329.0, \"score\": 19.999999999999996}, {\"start\": 331.0, \"voice\": \"Bassus\", \"pattern\": [-2, 2, -4, 2, -3], \"end\": 332.0, \"score\": 19.999999999999996}, {\"start\": 332.0, \"voice\": \"Bassus\", \"pattern\": [2, -4, 2, -3, 2], \"end\": 333.0, \"score\": 0.0}, {\"start\": 334.0, \"voice\": \"Bassus\", \"pattern\": [-4, 2, -3, 2, 5], \"end\": 335.0, \"score\": 0.0}, {\"start\": 336.0, \"voice\": \"Bassus\", \"pattern\": [2, -3, 2, 5, -3], \"end\": 337.0, \"score\": 0.0}, {\"start\": 338.0, \"voice\": \"Bassus\", \"pattern\": [-3, 2, 5, -3, 2], \"end\": 339.0, \"score\": 0.0}, {\"start\": 340.0, \"voice\": \"Bassus\", \"pattern\": [2, 5, -3, 2, 2], \"end\": 341.0, \"score\": 0.0}, {\"start\": 344.0, \"voice\": \"Bassus\", \"pattern\": [5, -3, 2, 2, 2], \"end\": 345.0, \"score\": 0.0}, {\"start\": 350.0, \"voice\": \"Bassus\", \"pattern\": [-3, 2, 2, 2, -3], \"end\": 351.0, \"score\": 0.0}, {\"start\": 352.0, \"voice\": \"Bassus\", \"pattern\": [2, 2, 2, -3, 2], \"end\": 353.0, \"score\": 0.0}, {\"start\": 356.0, \"voice\": \"Bassus\", \"pattern\": [2, 2, -3, 2, 2], \"end\": 357.0, \"score\": 0.0}, {\"start\": 360.0, \"voice\": \"Bassus\", \"pattern\": [2, -3, 2, 2, 2], \"end\": 361.0, \"score\": 0.0}, {\"start\": 366.0, \"voice\": \"Bassus\", \"pattern\": [-3, 2, 2, 2, -3], \"end\": 367.0, \"score\": 0.0}, {\"start\": 368.0, \"voice\": \"Bassus\", \"pattern\": [2, 2, 2, -3, 2], \"end\": 369.0, \"score\": 0.0}, {\"start\": 372.0, \"voice\": \"Bassus\", \"pattern\": [2, 2, -3, 2, 2], \"end\": 373.0, \"score\": 0.0}, {\"start\": 376.0, \"voice\": \"Bassus\", \"pattern\": [2, -3, 2, 2, 2], \"end\": 377.0, \"score\": 0.0}, {\"start\": 382.0, \"voice\": \"Bassus\", \"pattern\": [-3, 2, 2, 2, -2], \"end\": 383.0, \"score\": 19.999999999999996}, {\"start\": 384.0, \"voice\": \"Bassus\", \"pattern\": [2, 2, 2, -2, 2], \"end\": 385.0, \"score\": 19.999999999999996}, {\"start\": 388.0, \"voice\": \"Bassus\", \"pattern\": [2, 2, -2, 2, -3], \"end\": 389.0, \"score\": 19.999999999999996}, {\"start\": 392.0, \"voice\": \"Bassus\", \"pattern\": [2, -2, 2, -3, 2], \"end\": 393.0, \"score\": 19.999999999999996}, {\"start\": 395.0, \"voice\": \"Bassus\", \"pattern\": [-2, 2, -3, 2, -2], \"end\": 396.0, \"score\": 40.0}, {\"start\": 396.0, \"voice\": \"Bassus\", \"pattern\": [2, -3, 2, -2, 2], \"end\": 397.0, \"score\": 19.999999999999996}, {\"start\": 398.0, \"voice\": \"Bassus\", \"pattern\": [-3, 2, -2, 2, -3], \"end\": 399.0, \"score\": 19.999999999999996}, {\"start\": 400.0, \"voice\": \"Bassus\", \"pattern\": [2, -2, 2, -3, 2], \"end\": 401.0, \"score\": 19.999999999999996}, {\"start\": 403.0, \"voice\": \"Bassus\", \"pattern\": [-2, 2, -3, 2, -3], \"end\": 404.0, \"score\": 19.999999999999996}, {\"start\": 404.0, \"voice\": \"Bassus\", \"pattern\": [2, -3, 2, -3, 2], \"end\": 405.0, \"score\": 0.0}, {\"start\": 406.0, \"voice\": \"Bassus\", \"pattern\": [-3, 2, -3, 2, -5], \"end\": 407.0, \"score\": 0.0}, {\"start\": 476.0, \"voice\": \"Bassus\", \"pattern\": [4, -2, 2, 2, -3], \"end\": 477.0, \"score\": 19.999999999999996}, {\"start\": 482.0, \"voice\": \"Bassus\", \"pattern\": [-2, 2, 2, -3, -2], \"end\": 483.0, \"score\": 40.0}, {\"start\": 484.0, \"voice\": \"Bassus\", \"pattern\": [2, 2, -3, -2, -2], \"end\": 485.0, \"score\": 40.0}, {\"start\": 488.0, \"voice\": \"Bassus\", \"pattern\": [2, -3, -2, -2, 1], \"end\": 489.0, \"score\": 40.0}, {\"start\": 492.0, \"voice\": \"Bassus\", \"pattern\": [-3, -2, -2, 1, -2], \"end\": 493.0, \"score\": 60.0}, {\"start\": 498.0, \"voice\": \"Bassus\", \"pattern\": [-2, -2, 1, -2, 2], \"end\": 499.0, \"score\": 60.0}, {\"start\": 499.0, \"voice\": \"Bassus\", \"pattern\": [-2, 1, -2, 2, 2], \"end\": 500.0, \"score\": 40.0}, {\"start\": 500.0, \"voice\": \"Bassus\", \"pattern\": [1, -2, 2, 2, -2], \"end\": 501.0, \"score\": 40.0}, {\"start\": 552.0, \"voice\": \"Bassus\", \"pattern\": [2, -3, 2, -3, 2], \"end\": 553.0, \"score\": 0.0}, {\"start\": 556.0, \"voice\": \"Bassus\", \"pattern\": [-3, 2, -3, 2, -2], \"end\": 557.0, \"score\": 19.999999999999996}, {\"start\": 560.0, \"voice\": \"Bassus\", \"pattern\": [2, -3, 2, -2, -2], \"end\": 561.0, \"score\": 40.0}, {\"start\": 564.0, \"voice\": \"Bassus\", \"pattern\": [-3, 2, -2, -2, -2], \"end\": 565.0, \"score\": 60.0}, {\"start\": 568.0, \"voice\": \"Bassus\", \"pattern\": [2, -2, -2, -2, 5], \"end\": 569.0, \"score\": 60.0}, {\"start\": 571.0, \"voice\": \"Bassus\", \"pattern\": [-2, -2, -2, 5, 2], \"end\": 572.0, \"score\": 60.0}, {\"start\": 572.0, \"voice\": \"Bassus\", \"pattern\": [-2, -2, 5, 2, -3], \"end\": 573.0, \"score\": 40.0}, {\"start\": 576.0, \"voice\": \"Bassus\", \"pattern\": [-2, 5, 2, -3, 2], \"end\": 577.0, \"score\": 19.999999999999996}, {\"start\": 580.0, \"voice\": \"Bassus\", \"pattern\": [5, 2, -3, 2, -3], \"end\": 581.0, \"score\": 0.0}, {\"start\": 584.0, \"voice\": \"Bassus\", \"pattern\": [2, -3, 2, -3, 2], \"end\": 585.0, \"score\": 0.0}, {\"start\": 588.0, \"voice\": \"Bassus\", \"pattern\": [-3, 2, -3, 2, 2], \"end\": 589.0, \"score\": 0.0}, {\"start\": 592.0, \"voice\": \"Bassus\", \"pattern\": [2, -3, 2, 2, -5], \"end\": 593.0, \"score\": 0.0}, {\"start\": 644.0, \"voice\": \"Bassus\", \"pattern\": [1, 1, 5, 1, 2], \"end\": 645.0, \"score\": 0.0}, {\"start\": 646.0, \"voice\": \"Bassus\", \"pattern\": [1, 5, 1, 2, -2], \"end\": 647.0, \"score\": 19.999999999999996}, {\"start\": 648.0, \"voice\": \"Bassus\", \"pattern\": [5, 1, 2, -2, 1], \"end\": 649.0, \"score\": 19.999999999999996}, {\"start\": 652.0, \"voice\": \"Bassus\", \"pattern\": [1, 2, -2, 1, -2], \"end\": 653.0, \"score\": 40.0}, {\"start\": 654.0, \"voice\": \"Bassus\", \"pattern\": [2, -2, 1, -2, 2], \"end\": 655.0, \"score\": 40.0}, {\"start\": 704.0, \"voice\": \"Bassus\", \"pattern\": [5, -2, -2, -2, -2], \"end\": 705.0, \"score\": 80.0}, {\"start\": 710.0, \"voice\": \"Bassus\", \"pattern\": [-2, -2, -2, -2, 5], \"end\": 711.0, \"score\": 80.0}, {\"start\": 714.0, \"voice\": \"Bassus\", \"pattern\": [-2, -2, -2, 5, -2], \"end\": 715.0, \"score\": 80.0}, {\"start\": 715.0, \"voice\": \"Bassus\", \"pattern\": [-2, -2, 5, -2, -2], \"end\": 716.0, \"score\": 80.0}, {\"start\": 716.0, \"voice\": \"Bassus\", \"pattern\": [-2, 5, -2, -2, -2], \"end\": 717.0, \"score\": 80.0}, {\"start\": 718.0, \"voice\": \"Bassus\", \"pattern\": [5, -2, -2, -2, -2], \"end\": 719.0, \"score\": 80.0}, {\"start\": 722.0, \"voice\": \"Bassus\", \"pattern\": [-2, -2, -2, -2, 3], \"end\": 723.0, \"score\": 80.0}, {\"start\": 726.0, \"voice\": \"Bassus\", \"pattern\": [-2, -2, -2, 3, -2], \"end\": 727.0, \"score\": 80.0}, {\"start\": 727.0, \"voice\": \"Bassus\", \"pattern\": [-2, -2, 3, -2, -2], \"end\": 728.0, \"score\": 80.0}, {\"start\": 728.0, \"voice\": \"Bassus\", \"pattern\": [-2, 3, -2, -2, 8], \"end\": 729.0, \"score\": 60.0}, {\"start\": 730.0, \"voice\": \"Bassus\", \"pattern\": [3, -2, -2, 8, 1], \"end\": 731.0, \"score\": 40.0}, {\"start\": 732.0, \"voice\": \"Bassus\", \"pattern\": [-2, -2, 8, 1, 1], \"end\": 733.0, \"score\": 40.0}, {\"start\": 736.0, \"voice\": \"Bassus\", \"pattern\": [-2, 8, 1, 1, -5], \"end\": 737.0, \"score\": 19.999999999999996}, {\"start\": 748.0, \"voice\": \"Bassus\", \"pattern\": [8, 1, 1, -5, 1], \"end\": 749.0, \"score\": 0.0}, {\"start\": 752.0, \"voice\": \"Bassus\", \"pattern\": [1, 1, -5, 1, 2], \"end\": 753.0, \"score\": 0.0}, {\"start\": 756.0, \"voice\": \"Bassus\", \"pattern\": [1, -5, 1, 2, 1], \"end\": 757.0, \"score\": 0.0}, {\"start\": 760.0, \"voice\": \"Bassus\", \"pattern\": [-5, 1, 2, 1, -5], \"end\": 761.0, \"score\": 0.0}, {\"start\": 800.0, \"voice\": \"Bassus\", \"pattern\": [1, 1, -5, 1, 2], \"end\": 801.0, \"score\": 0.0}, {\"start\": 804.0, \"voice\": \"Bassus\", \"pattern\": [1, -5, 1, 2, 1], \"end\": 805.0, \"score\": 0.0}, {\"start\": 808.0, \"voice\": \"Bassus\", \"pattern\": [-5, 1, 2, 1, -5], \"end\": 809.0, \"score\": 0.0}, {\"start\": 816.0, \"voice\": \"Bassus\", \"pattern\": [1, 2, 1, -5, 8], \"end\": 817.0, \"score\": 0.0}, {\"start\": 820.0, \"voice\": \"Bassus\", \"pattern\": [2, 1, -5, 8, -3], \"end\": 821.0, \"score\": 0.0}, {\"start\": 828.0, \"voice\": \"Bassus\", \"pattern\": [1, -5, 8, -3, 1], \"end\": 829.0, \"score\": 0.0}, {\"start\": 832.0, \"voice\": \"Bassus\", \"pattern\": [-5, 8, -3, 1, 4], \"end\": 833.0, \"score\": 0.0}, {\"start\": 840.0, \"voice\": \"Bassus\", \"pattern\": [8, -3, 1, 4, 1], \"end\": 841.0, \"score\": 0.0}, {\"start\": 844.0, \"voice\": \"Bassus\", \"pattern\": [-3, 1, 4, 1, -5], \"end\": 845.0, \"score\": 0.0}, {\"start\": 852.0, \"voice\": \"Bassus\", \"pattern\": [1, 4, 1, -5, 1], \"end\": 853.0, \"score\": 0.0}, {\"start\": 856.0, \"voice\": \"Bassus\", \"pattern\": [4, 1, -5, 1, 4], \"end\": 857.0, \"score\": 0.0}, {\"start\": 864.0, \"voice\": \"Bassus\", \"pattern\": [1, -5, 1, 4, 1], \"end\": 865.0, \"score\": 0.0}, {\"start\": 868.0, \"voice\": \"Bassus\", \"pattern\": [-5, 1, 4, 1, -3], \"end\": 869.0, \"score\": 0.0}, {\"start\": 876.0, \"voice\": \"Bassus\", \"pattern\": [1, 4, 1, -3, 1], \"end\": 877.0, \"score\": 0.0}, {\"start\": 880.0, \"voice\": \"Bassus\", \"pattern\": [4, 1, -3, 1, 2], \"end\": 881.0, \"score\": 0.0}, {\"start\": 888.0, \"voice\": \"Bassus\", \"pattern\": [1, -3, 1, 2, -3], \"end\": 889.0, \"score\": 0.0}, {\"start\": 892.0, \"voice\": \"Bassus\", \"pattern\": [-3, 1, 2, -3, 2], \"end\": 893.0, \"score\": 0.0}, {\"start\": 900.0, \"voice\": \"Bassus\", \"pattern\": [1, 2, -3, 2, -3], \"end\": 901.0, \"score\": 0.0}, {\"start\": 904.0, \"voice\": \"Bassus\", \"pattern\": [2, -3, 2, -3, 2], \"end\": 905.0, \"score\": 0.0}, {\"start\": 908.0, \"voice\": \"Bassus\", \"pattern\": [-3, 2, -3, 2, -5], \"end\": 909.0, \"score\": 0.0}, {\"start\": 976.0, \"voice\": \"Bassus\", \"pattern\": [1, -2, -2, -3, 5], \"end\": 977.0, \"score\": 40.0}, {\"start\": 980.0, \"voice\": \"Bassus\", \"pattern\": [-2, -2, -3, 5, -2], \"end\": 981.0, \"score\": 60.0}, {\"start\": 984.0, \"voice\": \"Bassus\", \"pattern\": [-2, -3, 5, -2, -2], \"end\": 985.0, \"score\": 60.0}, {\"start\": 988.0, \"voice\": \"Bassus\", \"pattern\": [-3, 5, -2, -2, 2], \"end\": 989.0, \"score\": 40.0}, {\"start\": 992.0, \"voice\": \"Bassus\", \"pattern\": [5, -2, -2, 2, 2], \"end\": 993.0, \"score\": 40.0}, {\"start\": 998.0, \"voice\": \"Bassus\", \"pattern\": [-2, -2, 2, 2, -2], \"end\": 999.0, \"score\": 60.0}, {\"start\": 999.0, \"voice\": \"Bassus\", \"pattern\": [-2, 2, 2, -2, 2], \"end\": 1000.0, \"score\": 40.0}, {\"start\": 1040.0, \"voice\": \"Bassus\", \"pattern\": [1, -2, -2, -3, 5], \"end\": 1041.0, \"score\": 40.0}, {\"start\": 1044.0, \"voice\": \"Bassus\", \"pattern\": [-2, -2, -3, 5, -2], \"end\": 1045.0, \"score\": 60.0}, {\"start\": 1048.0, \"voice\": \"Bassus\", \"pattern\": [-2, -3, 5, -2, -2], \"end\": 1049.0, \"score\": 60.0}, {\"start\": 1052.0, \"voice\": \"Bassus\", \"pattern\": [-3, 5, -2, -2, 2], \"end\": 1053.0, \"score\": 40.0}, {\"start\": 1056.0, \"voice\": \"Bassus\", \"pattern\": [5, -2, -2, 2, 2], \"end\": 1057.0, \"score\": 40.0}, {\"start\": 1062.0, \"voice\": \"Bassus\", \"pattern\": [-2, -2, 2, 2, -2], \"end\": 1063.0, \"score\": 60.0}, {\"start\": 1063.0, \"voice\": \"Bassus\", \"pattern\": [-2, 2, 2, -2, 2], \"end\": 1064.0, \"score\": 40.0}, {\"start\": 1096.0, \"voice\": \"Bassus\", \"pattern\": [-2, -2, -2, -2, 2], \"end\": 1097.0, \"score\": 80.0}, {\"start\": 1099.0, \"voice\": \"Bassus\", \"pattern\": [-2, -2, -2, 2, 2], \"end\": 1100.0, \"score\": 60.0}, {\"start\": 1100.0, \"voice\": \"Bassus\", \"pattern\": [-2, -2, 2, 2, 2], \"end\": 1101.0, \"score\": 40.0}, {\"start\": 1104.0, \"voice\": \"Bassus\", \"pattern\": [-2, 2, 2, 2, 2], \"end\": 1105.0, \"score\": 19.999999999999996}, {\"start\": 1107.0, \"voice\": \"Bassus\", \"pattern\": [2, 2, 2, 2, 2], \"end\": 1108.0, \"score\": 0.0}, {\"start\": 1108.0, \"voice\": \"Bassus\", \"pattern\": [2, 2, 2, 2, -4], \"end\": 1109.0, \"score\": 0.0}, {\"start\": 1109.0, \"voice\": \"Bassus\", \"pattern\": [2, 2, 2, -4, 2], \"end\": 1110.0, \"score\": 0.0}, {\"start\": 1110.0, \"voice\": \"Bassus\", \"pattern\": [2, 2, -4, 2, -2], \"end\": 1111.0, \"score\": 19.999999999999996}, {\"start\": 1160.0, \"voice\": \"Bassus\", \"pattern\": [-3, 4, -2, -2, -2], \"end\": 1161.0, \"score\": 60.0}, {\"start\": 1162.0, \"voice\": \"Bassus\", \"pattern\": [4, -2, -2, -2, 2], \"end\": 1163.0, \"score\": 60.0}, {\"start\": 1165.0, \"voice\": \"Bassus\", \"pattern\": [-2, -2, -2, 2, 2], \"end\": 1166.0, \"score\": 60.0}, {\"start\": 1166.0, \"voice\": \"Bassus\", \"pattern\": [-2, -2, 2, 2, -3], \"end\": 1167.0, \"score\": 40.0}, {\"start\": 1167.0, \"voice\": \"Bassus\", \"pattern\": [-2, 2, 2, -3, 2], \"end\": 1168.0, \"score\": 19.999999999999996}, {\"start\": 1168.0, \"voice\": \"Bassus\", \"pattern\": [2, 2, -3, 2, -2], \"end\": 1169.0, \"score\": 19.999999999999996}, {\"start\": 1170.0, \"voice\": \"Bassus\", \"pattern\": [2, -3, 2, -2, -2], \"end\": 1171.0, \"score\": 40.0}, {\"start\": 1172.0, \"voice\": \"Bassus\", \"pattern\": [-3, 2, -2, -2, -2], \"end\": 1173.0, \"score\": 60.0}, {\"start\": 1174.0, \"voice\": \"Bassus\", \"pattern\": [2, -2, -2, -2, 2], \"end\": 1175.0, \"score\": 60.0}, {\"start\": 1177.0, \"voice\": \"Bassus\", \"pattern\": [-2, -2, -2, 2, -2], \"end\": 1178.0, \"score\": 80.0}, {\"start\": 1208.0, \"voice\": \"Bassus\", \"pattern\": [5, 1, -2, -2, -2], \"end\": 1209.0, \"score\": 60.0}, {\"start\": 1212.0, \"voice\": \"Bassus\", \"pattern\": [1, -2, -2, -2, -2], \"end\": 1213.0, \"score\": 80.0}, {\"start\": 1240.0, \"voice\": \"Bassus\", \"pattern\": [8, -4, 2, -2, -5], \"end\": 1241.0, \"score\": 19.999999999999996}, {\"start\": 1244.0, \"voice\": \"Bassus\", \"pattern\": [-4, 2, -2, -5, 1], \"end\": 1245.0, \"score\": 19.999999999999996}]}}, {\"mode\": \"vega-lite\"});\n",
       "</script>"
      ],
      "text/plain": [
       "alt.Chart(...)"
      ]
     },
     "execution_count": 14,
     "metadata": {},
     "output_type": "execute_result"
    }
   ],
   "source": [
    "viz.plot_close_match_heatmap(mel_ngrams, '-2, -2, -2, -2, -2', selected_patterns=[], voices=[])"
   ]
  },
  {
   "cell_type": "markdown",
   "id": "950a8064-049e-46d3-b2d5-d03394583f4a",
   "metadata": {},
   "source": [
    "**Additional Clarification**:\n",
    "    \n",
    "- As we change the cutoff with the slider, the ngrams with scores lower than the cutoff would be hidden away.\n",
    "- Levenshtein distance takes into account how many changes we need to make to turn a pattern into another. For example, pattern '2, 2, 1, 2' and pattern '2, 2, 1, 3' would have the same levenshtein score 25 when compared to pattern '2, 2, 1, 1' because we need to make one change at the fourth character of the two strings to turn it into '2, 2, 1, 1'"
   ]
  },
  {
   "cell_type": "code",
   "execution_count": 15,
   "id": "b553a491",
   "metadata": {},
   "outputs": [
    {
     "data": {
      "text/html": [
       "\n",
       "<div id=\"altair-viz-202d1b9fa7354a16951567e2c24edc15\"></div>\n",
       "<script type=\"text/javascript\">\n",
       "  (function(spec, embedOpt){\n",
       "    let outputDiv = document.currentScript.previousElementSibling;\n",
       "    if (outputDiv.id !== \"altair-viz-202d1b9fa7354a16951567e2c24edc15\") {\n",
       "      outputDiv = document.getElementById(\"altair-viz-202d1b9fa7354a16951567e2c24edc15\");\n",
       "    }\n",
       "    const paths = {\n",
       "      \"vega\": \"https://cdn.jsdelivr.net/npm//vega@5?noext\",\n",
       "      \"vega-lib\": \"https://cdn.jsdelivr.net/npm//vega-lib?noext\",\n",
       "      \"vega-lite\": \"https://cdn.jsdelivr.net/npm//vega-lite@4.8.1?noext\",\n",
       "      \"vega-embed\": \"https://cdn.jsdelivr.net/npm//vega-embed@6?noext\",\n",
       "    };\n",
       "\n",
       "    function loadScript(lib) {\n",
       "      return new Promise(function(resolve, reject) {\n",
       "        var s = document.createElement('script');\n",
       "        s.src = paths[lib];\n",
       "        s.async = true;\n",
       "        s.onload = () => resolve(paths[lib]);\n",
       "        s.onerror = () => reject(`Error loading script: ${paths[lib]}`);\n",
       "        document.getElementsByTagName(\"head\")[0].appendChild(s);\n",
       "      });\n",
       "    }\n",
       "\n",
       "    function showError(err) {\n",
       "      outputDiv.innerHTML = `<div class=\"error\" style=\"color:red;\">${err}</div>`;\n",
       "      throw err;\n",
       "    }\n",
       "\n",
       "    function displayChart(vegaEmbed) {\n",
       "      vegaEmbed(outputDiv, spec, embedOpt)\n",
       "        .catch(err => showError(`Javascript Error: ${err.message}<br>This usually means there's a typo in your chart specification. See the javascript console for the full traceback.`));\n",
       "    }\n",
       "\n",
       "    if(typeof define === \"function\" && define.amd) {\n",
       "      requirejs.config({paths});\n",
       "      require([\"vega-embed\"], displayChart, err => showError(`Error loading script: ${err.message}`));\n",
       "    } else if (typeof vegaEmbed === \"function\") {\n",
       "      displayChart(vegaEmbed);\n",
       "    } else {\n",
       "      loadScript(\"vega\")\n",
       "        .then(() => loadScript(\"vega-lite\"))\n",
       "        .then(() => loadScript(\"vega-embed\"))\n",
       "        .catch(showError)\n",
       "        .then(() => displayChart(vegaEmbed));\n",
       "    }\n",
       "  })({\"config\": {\"view\": {\"continuousWidth\": 400, \"continuousHeight\": 300}}, \"data\": {\"name\": \"data-d4d496060463fc1a3ac626841768799a\"}, \"mark\": \"bar\", \"encoding\": {\"color\": {\"type\": \"quantitative\", \"field\": \"score\"}, \"opacity\": {\"condition\": {\"value\": 1, \"test\": \"(datum.score > SelectorName.cutoff)\"}, \"value\": 0.2}, \"tooltip\": [{\"type\": \"quantitative\", \"field\": \"start\"}, {\"type\": \"quantitative\", \"field\": \"end\"}, {\"type\": \"nominal\", \"field\": \"pattern\"}, {\"type\": \"quantitative\", \"field\": \"score\"}], \"x\": {\"type\": \"quantitative\", \"field\": \"start\"}, \"x2\": {\"field\": \"end\"}, \"y\": {\"type\": \"nominal\", \"field\": \"voice\"}}, \"height\": 300, \"selection\": {\"SelectorName\": {\"type\": \"single\", \"fields\": [\"cutoff\"], \"bind\": {\"input\": \"range\", \"max\": 100, \"min\": 0, \"name\": \"cutoff:\", \"step\": 1}, \"init\": {\"cutoff\": 50}}, \"selector010\": {\"type\": \"interval\", \"bind\": \"scales\", \"encodings\": [\"x\", \"y\"]}}, \"width\": 800, \"$schema\": \"https://vega.github.io/schema/vega-lite/v4.8.1.json\", \"datasets\": {\"data-d4d496060463fc1a3ac626841768799a\": [{\"start\": 4.0, \"voice\": \"[Superius]\", \"pattern\": [4, 1, 2, 2, -3], \"end\": 32.0, \"score\": 0.0}, {\"start\": 62.0, \"voice\": \"[Superius]\", \"pattern\": [-2, -2, -2, 2, -2], \"end\": 76.0, \"score\": 80.0}, {\"start\": 64.0, \"voice\": \"[Superius]\", \"pattern\": [-2, -2, 2, -2, 4], \"end\": 82.0, \"score\": 60.0}, {\"start\": 68.0, \"voice\": \"[Superius]\", \"pattern\": [-2, 2, -2, 4, -2], \"end\": 83.0, \"score\": 60.0}, {\"start\": 72.0, \"voice\": \"[Superius]\", \"pattern\": [2, -2, 4, -2, -2], \"end\": 84.0, \"score\": 60.0}, {\"start\": 74.0, \"voice\": \"[Superius]\", \"pattern\": [-2, 4, -2, -2, 2], \"end\": 88.0, \"score\": 60.0}, {\"start\": 76.0, \"voice\": \"[Superius]\", \"pattern\": [4, -2, -2, 2, 2], \"end\": 96.0, \"score\": 40.0}, {\"start\": 130.0, \"voice\": \"[Superius]\", \"pattern\": [1, 1, 2, 2, -3], \"end\": 147.0, \"score\": 0.0}, {\"start\": 132.0, \"voice\": \"[Superius]\", \"pattern\": [1, 2, 2, -3, -2], \"end\": 148.0, \"score\": 19.999999999999996}, {\"start\": 136.0, \"voice\": \"[Superius]\", \"pattern\": [2, 2, -3, -2, -2], \"end\": 150.0, \"score\": 40.0}, {\"start\": 140.0, \"voice\": \"[Superius]\", \"pattern\": [2, -3, -2, -2, -2], \"end\": 152.0, \"score\": 60.0}, {\"start\": 144.0, \"voice\": \"[Superius]\", \"pattern\": [-3, -2, -2, -2, -2], \"end\": 156.0, \"score\": 80.0}, {\"start\": 147.0, \"voice\": \"[Superius]\", \"pattern\": [-2, -2, -2, -2, -2], \"end\": 158.0, \"score\": 100.0}, {\"start\": 148.0, \"voice\": \"[Superius]\", \"pattern\": [-2, -2, -2, -2, 6], \"end\": 161.0, \"score\": 80.0}, {\"start\": 150.0, \"voice\": \"[Superius]\", \"pattern\": [-2, -2, -2, 6, -2], \"end\": 162.0, \"score\": 80.0}, {\"start\": 152.0, \"voice\": \"[Superius]\", \"pattern\": [-2, -2, 6, -2, -2], \"end\": 166.0, \"score\": 80.0}, {\"start\": 156.0, \"voice\": \"[Superius]\", \"pattern\": [-2, 6, -2, -2, -2], \"end\": 168.0, \"score\": 80.0}, {\"start\": 158.0, \"voice\": \"[Superius]\", \"pattern\": [6, -2, -2, -2, -2], \"end\": 172.0, \"score\": 80.0}, {\"start\": 161.0, \"voice\": \"[Superius]\", \"pattern\": [-2, -2, -2, -2, -2], \"end\": 176.0, \"score\": 100.0}, {\"start\": 200.0, \"voice\": \"[Superius]\", \"pattern\": [-3, -2, 4, 2, 2], \"end\": 220.0, \"score\": 19.999999999999996}, {\"start\": 248.0, \"voice\": \"[Superius]\", \"pattern\": [1, 2, 2, 1, 2], \"end\": 265.0, \"score\": 0.0}, {\"start\": 252.0, \"voice\": \"[Superius]\", \"pattern\": [2, 2, 1, 2, -2], \"end\": 266.0, \"score\": 19.999999999999996}, {\"start\": 256.0, \"voice\": \"[Superius]\", \"pattern\": [2, 1, 2, -2, 1], \"end\": 270.0, \"score\": 19.999999999999996}, {\"start\": 260.0, \"voice\": \"[Superius]\", \"pattern\": [1, 2, -2, 1, -2], \"end\": 272.0, \"score\": 40.0}, {\"start\": 262.0, \"voice\": \"[Superius]\", \"pattern\": [2, -2, 1, -2, 2], \"end\": 280.0, \"score\": 40.0}, {\"start\": 320.0, \"voice\": \"[Superius]\", \"pattern\": [1, 1, 2, -2, -2], \"end\": 340.0, \"score\": 40.0}, {\"start\": 324.0, \"voice\": \"[Superius]\", \"pattern\": [1, 2, -2, -2, -2], \"end\": 344.0, \"score\": 60.0}, {\"start\": 328.0, \"voice\": \"[Superius]\", \"pattern\": [2, -2, -2, -2, -2], \"end\": 348.0, \"score\": 80.0}, {\"start\": 334.0, \"voice\": \"[Superius]\", \"pattern\": [-2, -2, -2, -2, -3], \"end\": 352.0, \"score\": 80.0}, {\"start\": 336.0, \"voice\": \"[Superius]\", \"pattern\": [-2, -2, -2, -3, 2], \"end\": 356.0, \"score\": 60.0}, {\"start\": 340.0, \"voice\": \"[Superius]\", \"pattern\": [-2, -2, -3, 2, 2], \"end\": 360.0, \"score\": 40.0}, {\"start\": 344.0, \"voice\": \"[Superius]\", \"pattern\": [-2, -3, 2, 2, 2], \"end\": 364.0, \"score\": 19.999999999999996}, {\"start\": 348.0, \"voice\": \"[Superius]\", \"pattern\": [-3, 2, 2, 2, -3], \"end\": 368.0, \"score\": 0.0}, {\"start\": 352.0, \"voice\": \"[Superius]\", \"pattern\": [2, 2, 2, -3, 2], \"end\": 372.0, \"score\": 0.0}, {\"start\": 356.0, \"voice\": \"[Superius]\", \"pattern\": [2, 2, -3, 2, 2], \"end\": 376.0, \"score\": 0.0}, {\"start\": 360.0, \"voice\": \"[Superius]\", \"pattern\": [2, -3, 2, 2, 2], \"end\": 380.0, \"score\": 0.0}, {\"start\": 364.0, \"voice\": \"[Superius]\", \"pattern\": [-3, 2, 2, 2, -3], \"end\": 384.0, \"score\": 0.0}, {\"start\": 368.0, \"voice\": \"[Superius]\", \"pattern\": [2, 2, 2, -3, 2], \"end\": 388.0, \"score\": 0.0}, {\"start\": 372.0, \"voice\": \"[Superius]\", \"pattern\": [2, 2, -3, 2, 2], \"end\": 392.0, \"score\": 0.0}, {\"start\": 376.0, \"voice\": \"[Superius]\", \"pattern\": [2, -3, 2, 2, 2], \"end\": 395.0, \"score\": 0.0}, {\"start\": 380.0, \"voice\": \"[Superius]\", \"pattern\": [-3, 2, 2, 2, -2], \"end\": 396.0, \"score\": 19.999999999999996}, {\"start\": 384.0, \"voice\": \"[Superius]\", \"pattern\": [2, 2, 2, -2, 2], \"end\": 398.0, \"score\": 19.999999999999996}, {\"start\": 388.0, \"voice\": \"[Superius]\", \"pattern\": [2, 2, -2, 2, 2], \"end\": 401.0, \"score\": 19.999999999999996}, {\"start\": 392.0, \"voice\": \"[Superius]\", \"pattern\": [2, -2, 2, 2, -2], \"end\": 402.0, \"score\": 40.0}, {\"start\": 395.0, \"voice\": \"[Superius]\", \"pattern\": [-2, 2, 2, -2, -2], \"end\": 403.0, \"score\": 60.0}, {\"start\": 396.0, \"voice\": \"[Superius]\", \"pattern\": [2, 2, -2, -2, -2], \"end\": 404.0, \"score\": 60.0}, {\"start\": 398.0, \"voice\": \"[Superius]\", \"pattern\": [2, -2, -2, -2, 2], \"end\": 406.0, \"score\": 60.0}, {\"start\": 401.0, \"voice\": \"[Superius]\", \"pattern\": [-2, -2, -2, 2, 2], \"end\": 409.0, \"score\": 60.0}, {\"start\": 402.0, \"voice\": \"[Superius]\", \"pattern\": [-2, -2, 2, 2, -2], \"end\": 410.0, \"score\": 60.0}, {\"start\": 403.0, \"voice\": \"[Superius]\", \"pattern\": [-2, 2, 2, -2, -2], \"end\": 414.0, \"score\": 60.0}, {\"start\": 404.0, \"voice\": \"[Superius]\", \"pattern\": [2, 2, -2, -2, -2], \"end\": 416.0, \"score\": 60.0}, {\"start\": 406.0, \"voice\": \"[Superius]\", \"pattern\": [2, -2, -2, -2, 2], \"end\": 424.0, \"score\": 60.0}, {\"start\": 432.0, \"voice\": \"[Superius]\", \"pattern\": [4, -2, 2, 2, -3], \"end\": 454.0, \"score\": 19.999999999999996}, {\"start\": 438.0, \"voice\": \"[Superius]\", \"pattern\": [-2, 2, 2, -3, -2], \"end\": 455.0, \"score\": 40.0}, {\"start\": 440.0, \"voice\": \"[Superius]\", \"pattern\": [2, 2, -3, -2, -2], \"end\": 456.0, \"score\": 40.0}, {\"start\": 444.0, \"voice\": \"[Superius]\", \"pattern\": [2, -3, -2, -2, 1], \"end\": 460.0, \"score\": 40.0}, {\"start\": 448.0, \"voice\": \"[Superius]\", \"pattern\": [-3, -2, -2, 1, 1], \"end\": 462.0, \"score\": 40.0}, {\"start\": 454.0, \"voice\": \"[Superius]\", \"pattern\": [-2, -2, 1, 1, 2], \"end\": 465.0, \"score\": 40.0}, {\"start\": 455.0, \"voice\": \"[Superius]\", \"pattern\": [-2, 1, 1, 2, -2], \"end\": 466.0, \"score\": 40.0}, {\"start\": 456.0, \"voice\": \"[Superius]\", \"pattern\": [1, 1, 2, -2, 4], \"end\": 470.0, \"score\": 19.999999999999996}, {\"start\": 460.0, \"voice\": \"[Superius]\", \"pattern\": [1, 2, -2, 4, -2], \"end\": 472.0, \"score\": 40.0}, {\"start\": 462.0, \"voice\": \"[Superius]\", \"pattern\": [2, -2, 4, -2, 2], \"end\": 480.0, \"score\": 40.0}, {\"start\": 512.0, \"voice\": \"[Superius]\", \"pattern\": [2, -3, 2, -3, 2], \"end\": 531.0, \"score\": 0.0}, {\"start\": 516.0, \"voice\": \"[Superius]\", \"pattern\": [-3, 2, -3, 2, -2], \"end\": 532.0, \"score\": 19.999999999999996}, {\"start\": 520.0, \"voice\": \"[Superius]\", \"pattern\": [2, -3, 2, -2, -2], \"end\": 536.0, \"score\": 40.0}, {\"start\": 524.0, \"voice\": \"[Superius]\", \"pattern\": [-3, 2, -2, -2, -2], \"end\": 544.0, \"score\": 60.0}, {\"start\": 568.0, \"voice\": \"[Superius]\", \"pattern\": [4, 2, 2, -2, 2], \"end\": 585.0, \"score\": 19.999999999999996}, {\"start\": 572.0, \"voice\": \"[Superius]\", \"pattern\": [2, 2, -2, 2, -3], \"end\": 586.0, \"score\": 19.999999999999996}, {\"start\": 576.0, \"voice\": \"[Superius]\", \"pattern\": [2, -2, 2, -3, 1], \"end\": 590.0, \"score\": 19.999999999999996}, {\"start\": 580.0, \"voice\": \"[Superius]\", \"pattern\": [-2, 2, -3, 1, 2], \"end\": 593.0, \"score\": 19.999999999999996}, {\"start\": 582.0, \"voice\": \"[Superius]\", \"pattern\": [2, -3, 1, 2, -3], \"end\": 594.0, \"score\": 0.0}, {\"start\": 585.0, \"voice\": \"[Superius]\", \"pattern\": [-3, 1, 2, -3, 1], \"end\": 598.0, \"score\": 0.0}, {\"start\": 586.0, \"voice\": \"[Superius]\", \"pattern\": [1, 2, -3, 1, 4], \"end\": 600.0, \"score\": 0.0}, {\"start\": 590.0, \"voice\": \"[Superius]\", \"pattern\": [2, -3, 1, 4, -2], \"end\": 601.0, \"score\": 19.999999999999996}, {\"start\": 593.0, \"voice\": \"[Superius]\", \"pattern\": [-3, 1, 4, -2, -2], \"end\": 602.0, \"score\": 40.0}, {\"start\": 594.0, \"voice\": \"[Superius]\", \"pattern\": [1, 4, -2, -2, 1], \"end\": 606.0, \"score\": 40.0}, {\"start\": 598.0, \"voice\": \"[Superius]\", \"pattern\": [4, -2, -2, 1, -2], \"end\": 608.0, \"score\": 60.0}, {\"start\": 600.0, \"voice\": \"[Superius]\", \"pattern\": [-2, -2, 1, -2, 2], \"end\": 612.0, \"score\": 60.0}, {\"start\": 620.0, \"voice\": \"[Superius]\", \"pattern\": [1, 1, 2, -3, 2], \"end\": 634.0, \"score\": 0.0}, {\"start\": 622.0, \"voice\": \"[Superius]\", \"pattern\": [1, 2, -3, 2, -2], \"end\": 636.0, \"score\": 19.999999999999996}, {\"start\": 624.0, \"voice\": \"[Superius]\", \"pattern\": [2, -3, 2, -2, -2], \"end\": 640.0, \"score\": 40.0}, {\"start\": 628.0, \"voice\": \"[Superius]\", \"pattern\": [-3, 2, -2, -2, -2], \"end\": 648.0, \"score\": 60.0}, {\"start\": 668.0, \"voice\": \"[Superius]\", \"pattern\": [1, 1, 2, -2, -2], \"end\": 682.0, \"score\": 40.0}, {\"start\": 670.0, \"voice\": \"[Superius]\", \"pattern\": [1, 2, -2, -2, -2], \"end\": 684.0, \"score\": 60.0}, {\"start\": 672.0, \"voice\": \"[Superius]\", \"pattern\": [2, -2, -2, -2, -2], \"end\": 688.0, \"score\": 80.0}, {\"start\": 676.0, \"voice\": \"[Superius]\", \"pattern\": [-2, -2, -2, -2, -2], \"end\": 692.0, \"score\": 100.0}, {\"start\": 748.0, \"voice\": \"[Superius]\", \"pattern\": [1, 1, 2, 1, 2], \"end\": 776.0, \"score\": 0.0}, {\"start\": 752.0, \"voice\": \"[Superius]\", \"pattern\": [1, 2, 1, 2, 1], \"end\": 780.0, \"score\": 0.0}, {\"start\": 756.0, \"voice\": \"[Superius]\", \"pattern\": [2, 1, 2, 1, -3], \"end\": 788.0, \"score\": 0.0}, {\"start\": 796.0, \"voice\": \"[Superius]\", \"pattern\": [1, 1, 2, 1, 2], \"end\": 824.0, \"score\": 0.0}, {\"start\": 800.0, \"voice\": \"[Superius]\", \"pattern\": [1, 2, 1, 2, 1], \"end\": 828.0, \"score\": 0.0}, {\"start\": 804.0, \"voice\": \"[Superius]\", \"pattern\": [2, 1, 2, 1, -3], \"end\": 836.0, \"score\": 0.0}, {\"start\": 812.0, \"voice\": \"[Superius]\", \"pattern\": [1, 2, 1, -3, 1], \"end\": 840.0, \"score\": 0.0}, {\"start\": 816.0, \"voice\": \"[Superius]\", \"pattern\": [2, 1, -3, 1, 4], \"end\": 848.0, \"score\": 0.0}, {\"start\": 824.0, \"voice\": \"[Superius]\", \"pattern\": [1, -3, 1, 4, 1], \"end\": 852.0, \"score\": 0.0}, {\"start\": 828.0, \"voice\": \"[Superius]\", \"pattern\": [-3, 1, 4, 1, -3], \"end\": 860.0, \"score\": 0.0}, {\"start\": 836.0, \"voice\": \"[Superius]\", \"pattern\": [1, 4, 1, -3, 1], \"end\": 864.0, \"score\": 0.0}, {\"start\": 840.0, \"voice\": \"[Superius]\", \"pattern\": [4, 1, -3, 1, 4], \"end\": 870.0, \"score\": 0.0}, {\"start\": 848.0, \"voice\": \"[Superius]\", \"pattern\": [1, -3, 1, 4, -2], \"end\": 872.0, \"score\": 19.999999999999996}, {\"start\": 852.0, \"voice\": \"[Superius]\", \"pattern\": [-3, 1, 4, -2, -2], \"end\": 874.0, \"score\": 40.0}, {\"start\": 860.0, \"voice\": \"[Superius]\", \"pattern\": [1, 4, -2, -2, -2], \"end\": 876.0, \"score\": 60.0}, {\"start\": 864.0, \"voice\": \"[Superius]\", \"pattern\": [4, -2, -2, -2, -2], \"end\": 884.0, \"score\": 80.0}, {\"start\": 870.0, \"voice\": \"[Superius]\", \"pattern\": [-2, -2, -2, -2, 1], \"end\": 888.0, \"score\": 80.0}, {\"start\": 872.0, \"voice\": \"[Superius]\", \"pattern\": [-2, -2, -2, 1, 4], \"end\": 896.0, \"score\": 60.0}, {\"start\": 874.0, \"voice\": \"[Superius]\", \"pattern\": [-2, -2, 1, 4, 1], \"end\": 900.0, \"score\": 40.0}, {\"start\": 876.0, \"voice\": \"[Superius]\", \"pattern\": [-2, 1, 4, 1, 2], \"end\": 904.0, \"score\": 19.999999999999996}, {\"start\": 884.0, \"voice\": \"[Superius]\", \"pattern\": [1, 4, 1, 2, 2], \"end\": 910.0, \"score\": 0.0}, {\"start\": 888.0, \"voice\": \"[Superius]\", \"pattern\": [4, 1, 2, 2, -3], \"end\": 912.0, \"score\": 0.0}, {\"start\": 896.0, \"voice\": \"[Superius]\", \"pattern\": [1, 2, 2, -3, 1], \"end\": 920.0, \"score\": 0.0}, {\"start\": 900.0, \"voice\": \"[Superius]\", \"pattern\": [2, 2, -3, 1, -2], \"end\": 924.0, \"score\": 19.999999999999996}, {\"start\": 904.0, \"voice\": \"[Superius]\", \"pattern\": [2, -3, 1, -2, 2], \"end\": 932.0, \"score\": 19.999999999999996}, {\"start\": 948.0, \"voice\": \"[Superius]\", \"pattern\": [1, 1, 2, -2, -2], \"end\": 964.0, \"score\": 40.0}, {\"start\": 952.0, \"voice\": \"[Superius]\", \"pattern\": [1, 2, -2, -2, -2], \"end\": 968.0, \"score\": 60.0}, {\"start\": 956.0, \"voice\": \"[Superius]\", \"pattern\": [2, -2, -2, -2, 1], \"end\": 970.0, \"score\": 60.0}, {\"start\": 962.0, \"voice\": \"[Superius]\", \"pattern\": [-2, -2, -2, 1, 3], \"end\": 974.0, \"score\": 60.0}, {\"start\": 963.0, \"voice\": \"[Superius]\", \"pattern\": [-2, -2, 1, 3, -2], \"end\": 975.0, \"score\": 60.0}, {\"start\": 964.0, \"voice\": \"[Superius]\", \"pattern\": [-2, 1, 3, -2, -2], \"end\": 976.0, \"score\": 60.0}, {\"start\": 968.0, \"voice\": \"[Superius]\", \"pattern\": [1, 3, -2, -2, -2], \"end\": 980.0, \"score\": 60.0}, {\"start\": 970.0, \"voice\": \"[Superius]\", \"pattern\": [3, -2, -2, -2, -2], \"end\": 988.0, \"score\": 80.0}, {\"start\": 1012.0, \"voice\": \"[Superius]\", \"pattern\": [1, 1, 2, -2, -2], \"end\": 1028.0, \"score\": 40.0}, {\"start\": 1016.0, \"voice\": \"[Superius]\", \"pattern\": [1, 2, -2, -2, -2], \"end\": 1032.0, \"score\": 60.0}, {\"start\": 1020.0, \"voice\": \"[Superius]\", \"pattern\": [2, -2, -2, -2, 1], \"end\": 1034.0, \"score\": 60.0}, {\"start\": 1026.0, \"voice\": \"[Superius]\", \"pattern\": [-2, -2, -2, 1, 3], \"end\": 1038.0, \"score\": 60.0}, {\"start\": 1027.0, \"voice\": \"[Superius]\", \"pattern\": [-2, -2, 1, 3, -2], \"end\": 1039.0, \"score\": 60.0}, {\"start\": 1028.0, \"voice\": \"[Superius]\", \"pattern\": [-2, 1, 3, -2, -2], \"end\": 1040.0, \"score\": 60.0}, {\"start\": 1032.0, \"voice\": \"[Superius]\", \"pattern\": [1, 3, -2, -2, -2], \"end\": 1044.0, \"score\": 60.0}, {\"start\": 1034.0, \"voice\": \"[Superius]\", \"pattern\": [3, -2, -2, -2, -2], \"end\": 1052.0, \"score\": 80.0}, {\"start\": 1076.0, \"voice\": \"[Superius]\", \"pattern\": [2, 2, 2, -2, 2], \"end\": 1096.0, \"score\": 19.999999999999996}, {\"start\": 1080.0, \"voice\": \"[Superius]\", \"pattern\": [2, 2, -2, 2, 2], \"end\": 1100.0, \"score\": 19.999999999999996}, {\"start\": 1084.0, \"voice\": \"[Superius]\", \"pattern\": [2, -2, 2, 2, 2], \"end\": 1108.0, \"score\": 19.999999999999996}, {\"start\": 1124.0, \"voice\": \"[Superius]\", \"pattern\": [1, -2, -2, 2, -2], \"end\": 1150.0, \"score\": 60.0}, {\"start\": 1128.0, \"voice\": \"[Superius]\", \"pattern\": [-2, -2, 2, -2, -2], \"end\": 1156.0, \"score\": 80.0}, {\"start\": 1132.0, \"voice\": \"[Superius]\", \"pattern\": [-2, 2, -2, -2, 2], \"end\": 1160.0, \"score\": 60.0}, {\"start\": 1236.0, \"voice\": \"[Superius]\", \"pattern\": [1, -2, -2, -2, 2], \"end\": 1284.0, \"score\": 60.0}, {\"start\": 1240.0, \"voice\": \"[Superius]\", \"pattern\": [-2, -2, -2, 2, 1], \"end\": 1304.0, \"score\": 60.0}, {\"start\": 20.0, \"voice\": \"Altus\", \"pattern\": [4, 1, 2, 2, -3], \"end\": 48.0, \"score\": 0.0}, {\"start\": 78.0, \"voice\": \"Altus\", \"pattern\": [-2, -2, -2, 2, -2], \"end\": 92.0, \"score\": 80.0}, {\"start\": 80.0, \"voice\": \"Altus\", \"pattern\": [-2, -2, 2, -2, 4], \"end\": 98.0, \"score\": 60.0}, {\"start\": 84.0, \"voice\": \"Altus\", \"pattern\": [-2, 2, -2, 4, -2], \"end\": 99.0, \"score\": 60.0}, {\"start\": 88.0, \"voice\": \"Altus\", \"pattern\": [2, -2, 4, -2, -2], \"end\": 100.0, \"score\": 60.0}, {\"start\": 91.0, \"voice\": \"Altus\", \"pattern\": [-2, 4, -2, -2, 2], \"end\": 104.0, \"score\": 60.0}, {\"start\": 92.0, \"voice\": \"Altus\", \"pattern\": [4, -2, -2, 2, 2], \"end\": 112.0, \"score\": 40.0}, {\"start\": 146.0, \"voice\": \"Altus\", \"pattern\": [1, 1, 2, 2, -3], \"end\": 168.0, \"score\": 0.0}, {\"start\": 184.0, \"voice\": \"Altus\", \"pattern\": [-3, -2, 2, 2, 2], \"end\": 202.0, \"score\": 19.999999999999996}, {\"start\": 188.0, \"voice\": \"Altus\", \"pattern\": [-2, 2, 2, 2, 2], \"end\": 204.0, \"score\": 19.999999999999996}, {\"start\": 192.0, \"voice\": \"Altus\", \"pattern\": [2, 2, 2, 2, 2], \"end\": 210.0, \"score\": 0.0}, {\"start\": 195.0, \"voice\": \"Altus\", \"pattern\": [2, 2, 2, 2, -2], \"end\": 211.0, \"score\": 19.999999999999996}, {\"start\": 196.0, \"voice\": \"Altus\", \"pattern\": [2, 2, 2, -2, -2], \"end\": 212.0, \"score\": 40.0}, {\"start\": 202.0, \"voice\": \"Altus\", \"pattern\": [2, 2, -2, -2, 5], \"end\": 215.0, \"score\": 40.0}, {\"start\": 204.0, \"voice\": \"Altus\", \"pattern\": [2, -2, -2, 5, -2], \"end\": 216.0, \"score\": 60.0}, {\"start\": 210.0, \"voice\": \"Altus\", \"pattern\": [-2, -2, 5, -2, -2], \"end\": 217.0, \"score\": 80.0}, {\"start\": 211.0, \"voice\": \"Altus\", \"pattern\": [-2, 5, -2, -2, -2], \"end\": 218.0, \"score\": 80.0}, {\"start\": 212.0, \"voice\": \"Altus\", \"pattern\": [5, -2, -2, -2, -2], \"end\": 224.0, \"score\": 80.0}, {\"start\": 215.0, \"voice\": \"Altus\", \"pattern\": [-2, -2, -2, -2, 2], \"end\": 226.0, \"score\": 80.0}, {\"start\": 216.0, \"voice\": \"Altus\", \"pattern\": [-2, -2, -2, 2, 2], \"end\": 228.0, \"score\": 60.0}, {\"start\": 217.0, \"voice\": \"Altus\", \"pattern\": [-2, -2, 2, 2, 2], \"end\": 232.0, \"score\": 40.0}, {\"start\": 218.0, \"voice\": \"Altus\", \"pattern\": [-2, 2, 2, 2, -2], \"end\": 240.0, \"score\": 40.0}, {\"start\": 248.0, \"voice\": \"Altus\", \"pattern\": [3, 2, 2, 1, 2], \"end\": 266.0, \"score\": 0.0}, {\"start\": 252.0, \"voice\": \"Altus\", \"pattern\": [2, 2, 1, 2, -2], \"end\": 268.0, \"score\": 19.999999999999996}, {\"start\": 256.0, \"voice\": \"Altus\", \"pattern\": [2, 1, 2, -2, -2], \"end\": 272.0, \"score\": 40.0}, {\"start\": 260.0, \"voice\": \"Altus\", \"pattern\": [1, 2, -2, -2, -2], \"end\": 280.0, \"score\": 60.0}, {\"start\": 288.0, \"voice\": \"Altus\", \"pattern\": [2, 2, -2, 1, -2], \"end\": 304.0, \"score\": 40.0}, {\"start\": 294.0, \"voice\": \"Altus\", \"pattern\": [2, -2, 1, -2, 2], \"end\": 312.0, \"score\": 40.0}, {\"start\": 320.0, \"voice\": \"Altus\", \"pattern\": [1, 1, 1, 2, 2], \"end\": 336.0, \"score\": 0.0}, {\"start\": 324.0, \"voice\": \"Altus\", \"pattern\": [1, 1, 2, 2, 2], \"end\": 338.0, \"score\": 0.0}, {\"start\": 328.0, \"voice\": \"Altus\", \"pattern\": [1, 2, 2, 2, -3], \"end\": 340.0, \"score\": 0.0}, {\"start\": 334.0, \"voice\": \"Altus\", \"pattern\": [2, 2, 2, -3, 4], \"end\": 352.0, \"score\": 0.0}, {\"start\": 335.0, \"voice\": \"Altus\", \"pattern\": [2, 2, -3, 4, -2], \"end\": 354.0, \"score\": 19.999999999999996}, {\"start\": 336.0, \"voice\": \"Altus\", \"pattern\": [2, -3, 4, -2, 3], \"end\": 356.0, \"score\": 19.999999999999996}, {\"start\": 338.0, \"voice\": \"Altus\", \"pattern\": [-3, 4, -2, 3, -2], \"end\": 360.0, \"score\": 40.0}, {\"start\": 340.0, \"voice\": \"Altus\", \"pattern\": [4, -2, 3, -2, -5], \"end\": 364.0, \"score\": 40.0}, {\"start\": 352.0, \"voice\": \"Altus\", \"pattern\": [-2, 3, -2, -5, 6], \"end\": 368.0, \"score\": 40.0}, {\"start\": 354.0, \"voice\": \"Altus\", \"pattern\": [3, -2, -5, 6, -2], \"end\": 370.0, \"score\": 40.0}, {\"start\": 356.0, \"voice\": \"Altus\", \"pattern\": [-2, -5, 6, -2, 3], \"end\": 372.0, \"score\": 40.0}, {\"start\": 360.0, \"voice\": \"Altus\", \"pattern\": [-5, 6, -2, 3, -2], \"end\": 376.0, \"score\": 40.0}, {\"start\": 364.0, \"voice\": \"Altus\", \"pattern\": [6, -2, 3, -2, -5], \"end\": 379.0, \"score\": 40.0}, {\"start\": 368.0, \"voice\": \"Altus\", \"pattern\": [-2, 3, -2, -5, 2], \"end\": 380.0, \"score\": 40.0}, {\"start\": 370.0, \"voice\": \"Altus\", \"pattern\": [3, -2, -5, 2, 2], \"end\": 382.0, \"score\": 19.999999999999996}, {\"start\": 372.0, \"voice\": \"Altus\", \"pattern\": [-2, -5, 2, 2, 2], \"end\": 384.0, \"score\": 19.999999999999996}, {\"start\": 376.0, \"voice\": \"Altus\", \"pattern\": [-5, 2, 2, 2, -5], \"end\": 388.0, \"score\": 0.0}, {\"start\": 392.0, \"voice\": \"Altus\", \"pattern\": [-2, -3, 2, 2, 2], \"end\": 402.0, \"score\": 19.999999999999996}, {\"start\": 394.0, \"voice\": \"Altus\", \"pattern\": [-3, 2, 2, 2, -5], \"end\": 405.0, \"score\": 0.0}, {\"start\": 397.0, \"voice\": \"Altus\", \"pattern\": [2, 2, 2, -5, 2], \"end\": 406.0, \"score\": 0.0}, {\"start\": 398.0, \"voice\": \"Altus\", \"pattern\": [2, 2, -5, 2, 2], \"end\": 408.0, \"score\": 0.0}, {\"start\": 400.0, \"voice\": \"Altus\", \"pattern\": [2, -5, 2, 2, 2], \"end\": 410.0, \"score\": 0.0}, {\"start\": 402.0, \"voice\": \"Altus\", \"pattern\": [-5, 2, 2, 2, -3], \"end\": 412.0, \"score\": 0.0}, {\"start\": 405.0, \"voice\": \"Altus\", \"pattern\": [2, 2, 2, -3, -2], \"end\": 416.0, \"score\": 19.999999999999996}, {\"start\": 406.0, \"voice\": \"Altus\", \"pattern\": [2, 2, -3, -2, 1], \"end\": 418.0, \"score\": 19.999999999999996}, {\"start\": 408.0, \"voice\": \"Altus\", \"pattern\": [2, -3, -2, 1, 8], \"end\": 421.0, \"score\": 19.999999999999996}, {\"start\": 410.0, \"voice\": \"Altus\", \"pattern\": [-3, -2, 1, 8, -2], \"end\": 422.0, \"score\": 40.0}, {\"start\": 412.0, \"voice\": \"Altus\", \"pattern\": [-2, 1, 8, -2, -2], \"end\": 423.0, \"score\": 60.0}, {\"start\": 416.0, \"voice\": \"Altus\", \"pattern\": [1, 8, -2, -2, -2], \"end\": 424.0, \"score\": 60.0}, {\"start\": 418.0, \"voice\": \"Altus\", \"pattern\": [8, -2, -2, -2, 2], \"end\": 428.0, \"score\": 60.0}, {\"start\": 436.0, \"voice\": \"Altus\", \"pattern\": [4, -2, 2, 2, -3], \"end\": 458.0, \"score\": 19.999999999999996}, {\"start\": 442.0, \"voice\": \"Altus\", \"pattern\": [-2, 2, 2, -3, -2], \"end\": 459.0, \"score\": 40.0}, {\"start\": 444.0, \"voice\": \"Altus\", \"pattern\": [2, 2, -3, -2, -2], \"end\": 460.0, \"score\": 40.0}, {\"start\": 448.0, \"voice\": \"Altus\", \"pattern\": [2, -3, -2, -2, 1], \"end\": 464.0, \"score\": 40.0}, {\"start\": 452.0, \"voice\": \"Altus\", \"pattern\": [-3, -2, -2, 1, -2], \"end\": 466.0, \"score\": 60.0}, {\"start\": 458.0, \"voice\": \"Altus\", \"pattern\": [-2, -2, 1, -2, 2], \"end\": 468.0, \"score\": 60.0}, {\"start\": 459.0, \"voice\": \"Altus\", \"pattern\": [-2, 1, -2, 2, 2], \"end\": 472.0, \"score\": 40.0}, {\"start\": 460.0, \"voice\": \"Altus\", \"pattern\": [1, -2, 2, 2, -2], \"end\": 476.0, \"score\": 40.0}, {\"start\": 528.0, \"voice\": \"Altus\", \"pattern\": [2, -3, 2, -3, 2], \"end\": 547.0, \"score\": 0.0}, {\"start\": 532.0, \"voice\": \"Altus\", \"pattern\": [-3, 2, -3, 2, -2], \"end\": 548.0, \"score\": 19.999999999999996}, {\"start\": 536.0, \"voice\": \"Altus\", \"pattern\": [2, -3, 2, -2, -2], \"end\": 552.0, \"score\": 40.0}, {\"start\": 540.0, \"voice\": \"Altus\", \"pattern\": [-3, 2, -2, -2, -2], \"end\": 555.0, \"score\": 60.0}, {\"start\": 544.0, \"voice\": \"Altus\", \"pattern\": [2, -2, -2, -2, -2], \"end\": 556.0, \"score\": 80.0}, {\"start\": 547.0, \"voice\": \"Altus\", \"pattern\": [-2, -2, -2, -2, 2], \"end\": 558.0, \"score\": 80.0}, {\"start\": 548.0, \"voice\": \"Altus\", \"pattern\": [-2, -2, -2, 2, 2], \"end\": 561.0, \"score\": 60.0}, {\"start\": 552.0, \"voice\": \"Altus\", \"pattern\": [-2, -2, 2, 2, -3], \"end\": 562.0, \"score\": 40.0}, {\"start\": 555.0, \"voice\": \"Altus\", \"pattern\": [-2, 2, 2, -3, 1], \"end\": 566.0, \"score\": 19.999999999999996}, {\"start\": 556.0, \"voice\": \"Altus\", \"pattern\": [2, 2, -3, 1, 2], \"end\": 569.0, \"score\": 0.0}, {\"start\": 558.0, \"voice\": \"Altus\", \"pattern\": [2, -3, 1, 2, -3], \"end\": 570.0, \"score\": 0.0}, {\"start\": 561.0, \"voice\": \"Altus\", \"pattern\": [-3, 1, 2, -3, 1], \"end\": 574.0, \"score\": 0.0}, {\"start\": 562.0, \"voice\": \"Altus\", \"pattern\": [1, 2, -3, 1, -2], \"end\": 575.0, \"score\": 19.999999999999996}, {\"start\": 566.0, \"voice\": \"Altus\", \"pattern\": [2, -3, 1, -2, -2], \"end\": 576.0, \"score\": 40.0}, {\"start\": 569.0, \"voice\": \"Altus\", \"pattern\": [-3, 1, -2, -2, 5], \"end\": 580.0, \"score\": 40.0}, {\"start\": 570.0, \"voice\": \"Altus\", \"pattern\": [1, -2, -2, 5, -2], \"end\": 584.0, \"score\": 60.0}, {\"start\": 574.0, \"voice\": \"Altus\", \"pattern\": [-2, -2, 5, -2, 2], \"end\": 588.0, \"score\": 60.0}, {\"start\": 575.0, \"voice\": \"Altus\", \"pattern\": [-2, 5, -2, 2, -3], \"end\": 592.0, \"score\": 40.0}, {\"start\": 576.0, \"voice\": \"Altus\", \"pattern\": [5, -2, 2, -3, -2], \"end\": 600.0, \"score\": 40.0}, {\"start\": 620.0, \"voice\": \"Altus\", \"pattern\": [1, 1, 5, 1, 2], \"end\": 633.0, \"score\": 0.0}, {\"start\": 622.0, \"voice\": \"Altus\", \"pattern\": [1, 5, 1, 2, -2], \"end\": 634.0, \"score\": 19.999999999999996}, {\"start\": 624.0, \"voice\": \"Altus\", \"pattern\": [5, 1, 2, -2, 1], \"end\": 638.0, \"score\": 19.999999999999996}, {\"start\": 628.0, \"voice\": \"Altus\", \"pattern\": [1, 2, -2, 1, -2], \"end\": 640.0, \"score\": 40.0}, {\"start\": 630.0, \"voice\": \"Altus\", \"pattern\": [2, -2, 1, -2, 2], \"end\": 648.0, \"score\": 40.0}, {\"start\": 667.0, \"voice\": \"Altus\", \"pattern\": [-2, -2, -2, -2, 2], \"end\": 678.0, \"score\": 80.0}, {\"start\": 668.0, \"voice\": \"Altus\", \"pattern\": [-2, -2, -2, 2, 3], \"end\": 681.0, \"score\": 60.0}, {\"start\": 670.0, \"voice\": \"Altus\", \"pattern\": [-2, -2, 2, 3, -2], \"end\": 682.0, \"score\": 60.0}, {\"start\": 672.0, \"voice\": \"Altus\", \"pattern\": [-2, 2, 3, -2, 1], \"end\": 686.0, \"score\": 40.0}, {\"start\": 676.0, \"voice\": \"Altus\", \"pattern\": [2, 3, -2, 1, -2], \"end\": 688.0, \"score\": 40.0}, {\"start\": 678.0, \"voice\": \"Altus\", \"pattern\": [3, -2, 1, -2, 2], \"end\": 694.0, \"score\": 40.0}, {\"start\": 681.0, \"voice\": \"Altus\", \"pattern\": [-2, 1, -2, 2, -2], \"end\": 695.0, \"score\": 60.0}, {\"start\": 682.0, \"voice\": \"Altus\", \"pattern\": [1, -2, 2, -2, -2], \"end\": 696.0, \"score\": 60.0}, {\"start\": 686.0, \"voice\": \"Altus\", \"pattern\": [-2, 2, -2, -2, 5], \"end\": 700.0, \"score\": 60.0}, {\"start\": 688.0, \"voice\": \"Altus\", \"pattern\": [2, -2, -2, 5, -5], \"end\": 704.0, \"score\": 40.0}, {\"start\": 748.0, \"voice\": \"Altus\", \"pattern\": [1, 1, 2, -2, -2], \"end\": 766.0, \"score\": 40.0}, {\"start\": 752.0, \"voice\": \"Altus\", \"pattern\": [1, 2, -2, -2, -2], \"end\": 768.0, \"score\": 60.0}, {\"start\": 756.0, \"voice\": \"Altus\", \"pattern\": [2, -2, -2, -2, -2], \"end\": 776.0, \"score\": 80.0}, {\"start\": 762.0, \"voice\": \"Altus\", \"pattern\": [-2, -2, -2, -2, 1], \"end\": 780.0, \"score\": 80.0}, {\"start\": 764.0, \"voice\": \"Altus\", \"pattern\": [-2, -2, -2, 1, 2], \"end\": 788.0, \"score\": 60.0}, {\"start\": 796.0, \"voice\": \"Altus\", \"pattern\": [1, 1, 2, -2, -2], \"end\": 814.0, \"score\": 40.0}, {\"start\": 800.0, \"voice\": \"Altus\", \"pattern\": [1, 2, -2, -2, -2], \"end\": 816.0, \"score\": 60.0}, {\"start\": 804.0, \"voice\": \"Altus\", \"pattern\": [2, -2, -2, -2, -2], \"end\": 824.0, \"score\": 80.0}, {\"start\": 810.0, \"voice\": \"Altus\", \"pattern\": [-2, -2, -2, -2, 1], \"end\": 828.0, \"score\": 80.0}, {\"start\": 812.0, \"voice\": \"Altus\", \"pattern\": [-2, -2, -2, 1, 2], \"end\": 836.0, \"score\": 60.0}, {\"start\": 814.0, \"voice\": \"Altus\", \"pattern\": [-2, -2, 1, 2, 5], \"end\": 840.0, \"score\": 40.0}, {\"start\": 816.0, \"voice\": \"Altus\", \"pattern\": [-2, 1, 2, 5, 2], \"end\": 848.0, \"score\": 19.999999999999996}, {\"start\": 824.0, \"voice\": \"Altus\", \"pattern\": [1, 2, 5, 2, 1], \"end\": 852.0, \"score\": 0.0}, {\"start\": 828.0, \"voice\": \"Altus\", \"pattern\": [2, 5, 2, 1, -3], \"end\": 860.0, \"score\": 0.0}, {\"start\": 836.0, \"voice\": \"Altus\", \"pattern\": [5, 2, 1, -3, 1], \"end\": 864.0, \"score\": 0.0}, {\"start\": 840.0, \"voice\": \"Altus\", \"pattern\": [2, 1, -3, 1, 2], \"end\": 872.0, \"score\": 0.0}, {\"start\": 848.0, \"voice\": \"Altus\", \"pattern\": [1, -3, 1, 2, -4], \"end\": 876.0, \"score\": 0.0}, {\"start\": 852.0, \"voice\": \"Altus\", \"pattern\": [-3, 1, 2, -4, 2], \"end\": 884.0, \"score\": 0.0}, {\"start\": 860.0, \"voice\": \"Altus\", \"pattern\": [1, 2, -4, 2, 3], \"end\": 888.0, \"score\": 0.0}, {\"start\": 864.0, \"voice\": \"Altus\", \"pattern\": [2, -4, 2, 3, 2], \"end\": 894.0, \"score\": 0.0}, {\"start\": 872.0, \"voice\": \"Altus\", \"pattern\": [-4, 2, 3, 2, -2], \"end\": 896.0, \"score\": 19.999999999999996}, {\"start\": 876.0, \"voice\": \"Altus\", \"pattern\": [2, 3, 2, -2, -2], \"end\": 898.0, \"score\": 40.0}, {\"start\": 884.0, \"voice\": \"Altus\", \"pattern\": [3, 2, -2, -2, -2], \"end\": 900.0, \"score\": 60.0}, {\"start\": 888.0, \"voice\": \"Altus\", \"pattern\": [2, -2, -2, -2, -2], \"end\": 904.0, \"score\": 80.0}, {\"start\": 894.0, \"voice\": \"Altus\", \"pattern\": [-2, -2, -2, -2, -3], \"end\": 908.0, \"score\": 80.0}, {\"start\": 896.0, \"voice\": \"Altus\", \"pattern\": [-2, -2, -2, -3, 2], \"end\": 912.0, \"score\": 60.0}, {\"start\": 898.0, \"voice\": \"Altus\", \"pattern\": [-2, -2, -3, 2, -3], \"end\": 916.0, \"score\": 40.0}, {\"start\": 900.0, \"voice\": \"Altus\", \"pattern\": [-2, -3, 2, -3, -2], \"end\": 924.0, \"score\": 40.0}, {\"start\": 904.0, \"voice\": \"Altus\", \"pattern\": [-3, 2, -3, -2, 8], \"end\": 928.0, \"score\": 19.999999999999996}, {\"start\": 908.0, \"voice\": \"Altus\", \"pattern\": [2, -3, -2, 8, -3], \"end\": 934.0, \"score\": 19.999999999999996}, {\"start\": 912.0, \"voice\": \"Altus\", \"pattern\": [-3, -2, 8, -3, -2], \"end\": 935.0, \"score\": 40.0}, {\"start\": 916.0, \"voice\": \"Altus\", \"pattern\": [-2, 8, -3, -2, -2], \"end\": 936.0, \"score\": 60.0}, {\"start\": 924.0, \"voice\": \"Altus\", \"pattern\": [8, -3, -2, -2, 1], \"end\": 940.0, \"score\": 40.0}, {\"start\": 948.0, \"voice\": \"Altus\", \"pattern\": [1, -2, -2, -2, -2], \"end\": 960.0, \"score\": 80.0}, {\"start\": 952.0, \"voice\": \"Altus\", \"pattern\": [-2, -2, -2, -2, 5], \"end\": 964.0, \"score\": 80.0}, {\"start\": 956.0, \"voice\": \"Altus\", \"pattern\": [-2, -2, -2, 5, -8], \"end\": 972.0, \"score\": 60.0}, {\"start\": 980.0, \"voice\": \"Altus\", \"pattern\": [2, 2, 1, 2, -2], \"end\": 990.0, \"score\": 19.999999999999996}, {\"start\": 982.0, \"voice\": \"Altus\", \"pattern\": [2, 1, 2, -2, -2], \"end\": 991.0, \"score\": 40.0}, {\"start\": 986.0, \"voice\": \"Altus\", \"pattern\": [1, 2, -2, -2, -2], \"end\": 992.0, \"score\": 60.0}, {\"start\": 988.0, \"voice\": \"Altus\", \"pattern\": [2, -2, -2, -2, -2], \"end\": 996.0, \"score\": 80.0}, {\"start\": 1012.0, \"voice\": \"Altus\", \"pattern\": [1, -2, -2, -2, -2], \"end\": 1024.0, \"score\": 80.0}, {\"start\": 1016.0, \"voice\": \"Altus\", \"pattern\": [-2, -2, -2, -2, 5], \"end\": 1028.0, \"score\": 80.0}, {\"start\": 1020.0, \"voice\": \"Altus\", \"pattern\": [-2, -2, -2, 5, -8], \"end\": 1036.0, \"score\": 60.0}, {\"start\": 1044.0, \"voice\": \"Altus\", \"pattern\": [2, 2, 1, 2, -2], \"end\": 1054.0, \"score\": 19.999999999999996}, {\"start\": 1046.0, \"voice\": \"Altus\", \"pattern\": [2, 1, 2, -2, -2], \"end\": 1055.0, \"score\": 40.0}, {\"start\": 1050.0, \"voice\": \"Altus\", \"pattern\": [1, 2, -2, -2, -2], \"end\": 1056.0, \"score\": 60.0}, {\"start\": 1052.0, \"voice\": \"Altus\", \"pattern\": [2, -2, -2, -2, -2], \"end\": 1060.0, \"score\": 80.0}, {\"start\": 1074.0, \"voice\": \"Altus\", \"pattern\": [-2, -2, 2, -3, 2], \"end\": 1086.0, \"score\": 40.0}, {\"start\": 1075.0, \"voice\": \"Altus\", \"pattern\": [-2, 2, -3, 2, -2], \"end\": 1087.0, \"score\": 40.0}, {\"start\": 1076.0, \"voice\": \"Altus\", \"pattern\": [2, -3, 2, -2, -2], \"end\": 1088.0, \"score\": 40.0}, {\"start\": 1078.0, \"voice\": \"Altus\", \"pattern\": [-3, 2, -2, -2, 2], \"end\": 1092.0, \"score\": 40.0}, {\"start\": 1098.0, \"voice\": \"Altus\", \"pattern\": [-2, -2, 4, -2, 2], \"end\": 1106.0, \"score\": 60.0}, {\"start\": 1099.0, \"voice\": \"Altus\", \"pattern\": [-2, 4, -2, 2, -3], \"end\": 1109.0, \"score\": 40.0}, {\"start\": 1100.0, \"voice\": \"Altus\", \"pattern\": [4, -2, 2, -3, -2], \"end\": 1110.0, \"score\": 40.0}, {\"start\": 1103.0, \"voice\": \"Altus\", \"pattern\": [-2, 2, -3, -2, -2], \"end\": 1111.0, \"score\": 60.0}, {\"start\": 1104.0, \"voice\": \"Altus\", \"pattern\": [2, -3, -2, -2, -2], \"end\": 1112.0, \"score\": 60.0}, {\"start\": 1106.0, \"voice\": \"Altus\", \"pattern\": [-3, -2, -2, -2, -2], \"end\": 1116.0, \"score\": 80.0}, {\"start\": 1109.0, \"voice\": \"Altus\", \"pattern\": [-2, -2, -2, -2, 2], \"end\": 1118.0, \"score\": 80.0}, {\"start\": 1110.0, \"voice\": \"Altus\", \"pattern\": [-2, -2, -2, 2, -3], \"end\": 1120.0, \"score\": 60.0}, {\"start\": 1111.0, \"voice\": \"Altus\", \"pattern\": [-2, -2, 2, -3, 8], \"end\": 1124.0, \"score\": 40.0}, {\"start\": 1129.0, \"voice\": \"Altus\", \"pattern\": [-2, -3, 2, 2, -2], \"end\": 1138.0, \"score\": 40.0}, {\"start\": 1130.0, \"voice\": \"Altus\", \"pattern\": [-3, 2, 2, -2, -2], \"end\": 1139.0, \"score\": 40.0}, {\"start\": 1132.0, \"voice\": \"Altus\", \"pattern\": [2, 2, -2, -2, -2], \"end\": 1140.0, \"score\": 60.0}, {\"start\": 1134.0, \"voice\": \"Altus\", \"pattern\": [2, -2, -2, -2, -2], \"end\": 1144.0, \"score\": 80.0}, {\"start\": 1137.0, \"voice\": \"Altus\", \"pattern\": [-2, -2, -2, -2, 2], \"end\": 1148.0, \"score\": 80.0}, {\"start\": 1138.0, \"voice\": \"Altus\", \"pattern\": [-2, -2, -2, 2, -4], \"end\": 1152.0, \"score\": 60.0}, {\"start\": 1157.0, \"voice\": \"Altus\", \"pattern\": [-2, -2, -2, 2, -5], \"end\": 1166.0, \"score\": 60.0}, {\"start\": 1158.0, \"voice\": \"Altus\", \"pattern\": [-2, -2, 2, -5, 2], \"end\": 1168.0, \"score\": 40.0}, {\"start\": 1159.0, \"voice\": \"Altus\", \"pattern\": [-2, 2, -5, 2, -3], \"end\": 1170.0, \"score\": 19.999999999999996}, {\"start\": 1160.0, \"voice\": \"Altus\", \"pattern\": [2, -5, 2, -3, 2], \"end\": 1173.0, \"score\": 0.0}, {\"start\": 1162.0, \"voice\": \"Altus\", \"pattern\": [-5, 2, -3, 2, -2], \"end\": 1174.0, \"score\": 19.999999999999996}, {\"start\": 1166.0, \"voice\": \"Altus\", \"pattern\": [2, -3, 2, -2, 1], \"end\": 1178.0, \"score\": 19.999999999999996}, {\"start\": 1168.0, \"voice\": \"Altus\", \"pattern\": [-3, 2, -2, 1, -2], \"end\": 1180.0, \"score\": 40.0}, {\"start\": 1170.0, \"voice\": \"Altus\", \"pattern\": [2, -2, 1, -2, 2], \"end\": 1188.0, \"score\": 40.0}, {\"start\": 1236.0, \"voice\": \"Altus\", \"pattern\": [1, 1, -3, 2, 2], \"end\": 1268.0, \"score\": 0.0}, {\"start\": 1240.0, \"voice\": \"Altus\", \"pattern\": [1, -3, 2, 2, 1], \"end\": 1284.0, \"score\": 0.0}, {\"start\": 1244.0, \"voice\": \"Altus\", \"pattern\": [-3, 2, 2, 1, 1], \"end\": 1304.0, \"score\": 0.0}, {\"start\": 36.0, \"voice\": \"Tenor\", \"pattern\": [4, 1, 2, 2, -3], \"end\": 64.0, \"score\": 0.0}, {\"start\": 94.0, \"voice\": \"Tenor\", \"pattern\": [-2, -2, -2, 2, -2], \"end\": 108.0, \"score\": 80.0}, {\"start\": 96.0, \"voice\": \"Tenor\", \"pattern\": [-2, -2, 2, -2, 4], \"end\": 114.0, \"score\": 60.0}, {\"start\": 100.0, \"voice\": \"Tenor\", \"pattern\": [-2, 2, -2, 4, -2], \"end\": 115.0, \"score\": 60.0}, {\"start\": 104.0, \"voice\": \"Tenor\", \"pattern\": [2, -2, 4, -2, -2], \"end\": 116.0, \"score\": 60.0}, {\"start\": 106.0, \"voice\": \"Tenor\", \"pattern\": [-2, 4, -2, -2, 2], \"end\": 120.0, \"score\": 60.0}, {\"start\": 108.0, \"voice\": \"Tenor\", \"pattern\": [4, -2, -2, 2, 2], \"end\": 128.0, \"score\": 40.0}, {\"start\": 162.0, \"voice\": \"Tenor\", \"pattern\": [1, 1, 2, 2, -3], \"end\": 178.0, \"score\": 0.0}, {\"start\": 164.0, \"voice\": \"Tenor\", \"pattern\": [1, 2, 2, -3, 3], \"end\": 181.0, \"score\": 0.0}, {\"start\": 168.0, \"voice\": \"Tenor\", \"pattern\": [2, 2, -3, 3, -2], \"end\": 182.0, \"score\": 19.999999999999996}, {\"start\": 172.0, \"voice\": \"Tenor\", \"pattern\": [2, -3, 3, -2, 4], \"end\": 186.0, \"score\": 19.999999999999996}, {\"start\": 176.0, \"voice\": \"Tenor\", \"pattern\": [-3, 3, -2, 4, -2], \"end\": 188.0, \"score\": 40.0}, {\"start\": 178.0, \"voice\": \"Tenor\", \"pattern\": [3, -2, 4, -2, 2], \"end\": 192.0, \"score\": 40.0}, {\"start\": 208.0, \"voice\": \"Tenor\", \"pattern\": [-3, -2, 8, -2, -2], \"end\": 221.0, \"score\": 60.0}, {\"start\": 212.0, \"voice\": \"Tenor\", \"pattern\": [-2, 8, -2, -2, -2], \"end\": 222.0, \"score\": 80.0}, {\"start\": 216.0, \"voice\": \"Tenor\", \"pattern\": [8, -2, -2, -2, -2], \"end\": 225.0, \"score\": 80.0}, {\"start\": 219.0, \"voice\": \"Tenor\", \"pattern\": [-2, -2, -2, -2, -2], \"end\": 226.0, \"score\": 100.0}, {\"start\": 220.0, \"voice\": \"Tenor\", \"pattern\": [-2, -2, -2, -2, 2], \"end\": 228.0, \"score\": 80.0}, {\"start\": 221.0, \"voice\": \"Tenor\", \"pattern\": [-2, -2, -2, 2, 2], \"end\": 232.0, \"score\": 60.0}, {\"start\": 222.0, \"voice\": \"Tenor\", \"pattern\": [-2, -2, 2, 2, -2], \"end\": 248.0, \"score\": 60.0}, {\"start\": 280.0, \"voice\": \"Tenor\", \"pattern\": [1, 2, 2, 1, 2], \"end\": 297.0, \"score\": 0.0}, {\"start\": 284.0, \"voice\": \"Tenor\", \"pattern\": [2, 2, 1, 2, -2], \"end\": 298.0, \"score\": 19.999999999999996}, {\"start\": 288.0, \"voice\": \"Tenor\", \"pattern\": [2, 1, 2, -2, 1], \"end\": 302.0, \"score\": 19.999999999999996}, {\"start\": 292.0, \"voice\": \"Tenor\", \"pattern\": [1, 2, -2, 1, -2], \"end\": 304.0, \"score\": 40.0}, {\"start\": 294.0, \"voice\": \"Tenor\", \"pattern\": [2, -2, 1, -2, 2], \"end\": 312.0, \"score\": 40.0}, {\"start\": 320.0, \"voice\": \"Tenor\", \"pattern\": [1, 1, 2, -2, -2], \"end\": 340.0, \"score\": 40.0}, {\"start\": 324.0, \"voice\": \"Tenor\", \"pattern\": [1, 2, -2, -2, -2], \"end\": 344.0, \"score\": 60.0}, {\"start\": 328.0, \"voice\": \"Tenor\", \"pattern\": [2, -2, -2, -2, -2], \"end\": 348.0, \"score\": 80.0}, {\"start\": 334.0, \"voice\": \"Tenor\", \"pattern\": [-2, -2, -2, -2, -3], \"end\": 350.0, \"score\": 80.0}, {\"start\": 336.0, \"voice\": \"Tenor\", \"pattern\": [-2, -2, -2, -3, 2], \"end\": 354.0, \"score\": 60.0}, {\"start\": 340.0, \"voice\": \"Tenor\", \"pattern\": [-2, -2, -3, 2, 2], \"end\": 358.0, \"score\": 40.0}, {\"start\": 344.0, \"voice\": \"Tenor\", \"pattern\": [-2, -3, 2, 2, 2], \"end\": 362.0, \"score\": 19.999999999999996}, {\"start\": 348.0, \"voice\": \"Tenor\", \"pattern\": [-3, 2, 2, 2, -3], \"end\": 366.0, \"score\": 0.0}, {\"start\": 350.0, \"voice\": \"Tenor\", \"pattern\": [2, 2, 2, -3, 2], \"end\": 370.0, \"score\": 0.0}, {\"start\": 354.0, \"voice\": \"Tenor\", \"pattern\": [2, 2, -3, 2, 2], \"end\": 374.0, \"score\": 0.0}, {\"start\": 358.0, \"voice\": \"Tenor\", \"pattern\": [2, -3, 2, 2, 2], \"end\": 378.0, \"score\": 0.0}, {\"start\": 362.0, \"voice\": \"Tenor\", \"pattern\": [-3, 2, 2, 2, -3], \"end\": 382.0, \"score\": 0.0}, {\"start\": 366.0, \"voice\": \"Tenor\", \"pattern\": [2, 2, 2, -3, 2], \"end\": 386.0, \"score\": 0.0}, {\"start\": 370.0, \"voice\": \"Tenor\", \"pattern\": [2, 2, -3, 2, 2], \"end\": 390.0, \"score\": 0.0}, {\"start\": 374.0, \"voice\": \"Tenor\", \"pattern\": [2, -3, 2, 2, 2], \"end\": 394.0, \"score\": 0.0}, {\"start\": 378.0, \"voice\": \"Tenor\", \"pattern\": [-3, 2, 2, 2, 2], \"end\": 397.0, \"score\": 0.0}, {\"start\": 382.0, \"voice\": \"Tenor\", \"pattern\": [2, 2, 2, 2, -2], \"end\": 398.0, \"score\": 19.999999999999996}, {\"start\": 386.0, \"voice\": \"Tenor\", \"pattern\": [2, 2, 2, -2, 2], \"end\": 400.0, \"score\": 19.999999999999996}, {\"start\": 390.0, \"voice\": \"Tenor\", \"pattern\": [2, 2, -2, 2, -3], \"end\": 402.0, \"score\": 19.999999999999996}, {\"start\": 394.0, \"voice\": \"Tenor\", \"pattern\": [2, -2, 2, -3, 2], \"end\": 405.0, \"score\": 19.999999999999996}, {\"start\": 397.0, \"voice\": \"Tenor\", \"pattern\": [-2, 2, -3, 2, -2], \"end\": 406.0, \"score\": 40.0}, {\"start\": 398.0, \"voice\": \"Tenor\", \"pattern\": [2, -3, 2, -2, 2], \"end\": 408.0, \"score\": 19.999999999999996}, {\"start\": 400.0, \"voice\": \"Tenor\", \"pattern\": [-3, 2, -2, 2, -3], \"end\": 410.0, \"score\": 19.999999999999996}, {\"start\": 402.0, \"voice\": \"Tenor\", \"pattern\": [2, -2, 2, -3, 2], \"end\": 412.0, \"score\": 19.999999999999996}, {\"start\": 405.0, \"voice\": \"Tenor\", \"pattern\": [-2, 2, -3, 2, -3], \"end\": 416.0, \"score\": 19.999999999999996}, {\"start\": 406.0, \"voice\": \"Tenor\", \"pattern\": [2, -3, 2, -3, -2], \"end\": 432.0, \"score\": 19.999999999999996}, {\"start\": 472.0, \"voice\": \"Tenor\", \"pattern\": [4, -2, 2, 2, -3], \"end\": 494.0, \"score\": 19.999999999999996}, {\"start\": 478.0, \"voice\": \"Tenor\", \"pattern\": [-2, 2, 2, -3, -2], \"end\": 495.0, \"score\": 40.0}, {\"start\": 480.0, \"voice\": \"Tenor\", \"pattern\": [2, 2, -3, -2, -2], \"end\": 496.0, \"score\": 40.0}, {\"start\": 484.0, \"voice\": \"Tenor\", \"pattern\": [2, -3, -2, -2, 1], \"end\": 500.0, \"score\": 40.0}, {\"start\": 488.0, \"voice\": \"Tenor\", \"pattern\": [-3, -2, -2, 1, 1], \"end\": 502.0, \"score\": 40.0}, {\"start\": 494.0, \"voice\": \"Tenor\", \"pattern\": [-2, -2, 1, 1, 2], \"end\": 505.0, \"score\": 40.0}, {\"start\": 495.0, \"voice\": \"Tenor\", \"pattern\": [-2, 1, 1, 2, -2], \"end\": 506.0, \"score\": 40.0}, {\"start\": 496.0, \"voice\": \"Tenor\", \"pattern\": [1, 1, 2, -2, 4], \"end\": 510.0, \"score\": 19.999999999999996}, {\"start\": 500.0, \"voice\": \"Tenor\", \"pattern\": [1, 2, -2, 4, -2], \"end\": 512.0, \"score\": 40.0}, {\"start\": 502.0, \"voice\": \"Tenor\", \"pattern\": [2, -2, 4, -2, 2], \"end\": 520.0, \"score\": 40.0}, {\"start\": 536.0, \"voice\": \"Tenor\", \"pattern\": [2, -3, 2, -3, 2], \"end\": 555.0, \"score\": 0.0}, {\"start\": 540.0, \"voice\": \"Tenor\", \"pattern\": [-3, 2, -3, 2, -2], \"end\": 556.0, \"score\": 19.999999999999996}, {\"start\": 544.0, \"voice\": \"Tenor\", \"pattern\": [2, -3, 2, -2, -2], \"end\": 560.0, \"score\": 40.0}, {\"start\": 548.0, \"voice\": \"Tenor\", \"pattern\": [-3, 2, -2, -2, -2], \"end\": 564.0, \"score\": 60.0}, {\"start\": 552.0, \"voice\": \"Tenor\", \"pattern\": [2, -2, -2, -2, 8], \"end\": 568.0, \"score\": 60.0}, {\"start\": 555.0, \"voice\": \"Tenor\", \"pattern\": [-2, -2, -2, 8, 2], \"end\": 572.0, \"score\": 60.0}, {\"start\": 556.0, \"voice\": \"Tenor\", \"pattern\": [-2, -2, 8, 2, -3], \"end\": 576.0, \"score\": 40.0}, {\"start\": 560.0, \"voice\": \"Tenor\", \"pattern\": [-2, 8, 2, -3, 2], \"end\": 580.0, \"score\": 19.999999999999996}, {\"start\": 584.0, \"voice\": \"Tenor\", \"pattern\": [-3, 2, -2, -2, -2], \"end\": 592.0, \"score\": 60.0}, {\"start\": 586.0, \"voice\": \"Tenor\", \"pattern\": [2, -2, -2, -2, -2], \"end\": 594.0, \"score\": 80.0}, {\"start\": 589.0, \"voice\": \"Tenor\", \"pattern\": [-2, -2, -2, -2, -3], \"end\": 596.0, \"score\": 80.0}, {\"start\": 590.0, \"voice\": \"Tenor\", \"pattern\": [-2, -2, -2, -3, 8], \"end\": 600.0, \"score\": 60.0}, {\"start\": 591.0, \"voice\": \"Tenor\", \"pattern\": [-2, -2, -3, 8, -2], \"end\": 602.0, \"score\": 60.0}, {\"start\": 592.0, \"voice\": \"Tenor\", \"pattern\": [-2, -3, 8, -2, -2], \"end\": 604.0, \"score\": 60.0}, {\"start\": 594.0, \"voice\": \"Tenor\", \"pattern\": [-3, 8, -2, -2, -2], \"end\": 608.0, \"score\": 60.0}, {\"start\": 596.0, \"voice\": \"Tenor\", \"pattern\": [8, -2, -2, -2, -2], \"end\": 616.0, \"score\": 80.0}, {\"start\": 644.0, \"voice\": \"Tenor\", \"pattern\": [1, 1, 2, -3, 2], \"end\": 658.0, \"score\": 0.0}, {\"start\": 646.0, \"voice\": \"Tenor\", \"pattern\": [1, 2, -3, 2, -2], \"end\": 660.0, \"score\": 19.999999999999996}, {\"start\": 648.0, \"voice\": \"Tenor\", \"pattern\": [2, -3, 2, -2, -2], \"end\": 664.0, \"score\": 40.0}, {\"start\": 652.0, \"voice\": \"Tenor\", \"pattern\": [-3, 2, -2, -2, -2], \"end\": 672.0, \"score\": 60.0}, {\"start\": 704.0, \"voice\": \"Tenor\", \"pattern\": [1, -2, 3, -2, -2], \"end\": 723.0, \"score\": 60.0}, {\"start\": 708.0, \"voice\": \"Tenor\", \"pattern\": [-2, 3, -2, -2, -2], \"end\": 724.0, \"score\": 80.0}, {\"start\": 712.0, \"voice\": \"Tenor\", \"pattern\": [3, -2, -2, -2, 2], \"end\": 726.0, \"score\": 60.0}, {\"start\": 716.0, \"voice\": \"Tenor\", \"pattern\": [-2, -2, -2, 2, 2], \"end\": 729.0, \"score\": 60.0}, {\"start\": 720.0, \"voice\": \"Tenor\", \"pattern\": [-2, -2, 2, 2, -2], \"end\": 730.0, \"score\": 60.0}, {\"start\": 723.0, \"voice\": \"Tenor\", \"pattern\": [-2, 2, 2, -2, -2], \"end\": 734.0, \"score\": 60.0}, {\"start\": 724.0, \"voice\": \"Tenor\", \"pattern\": [2, 2, -2, -2, -2], \"end\": 736.0, \"score\": 60.0}, {\"start\": 726.0, \"voice\": \"Tenor\", \"pattern\": [2, -2, -2, -2, 2], \"end\": 748.0, \"score\": 60.0}, {\"start\": 756.0, \"voice\": \"Tenor\", \"pattern\": [1, 1, 2, 1, 2], \"end\": 784.0, \"score\": 0.0}, {\"start\": 760.0, \"voice\": \"Tenor\", \"pattern\": [1, 2, 1, 2, 1], \"end\": 788.0, \"score\": 0.0}, {\"start\": 764.0, \"voice\": \"Tenor\", \"pattern\": [2, 1, 2, 1, -3], \"end\": 796.0, \"score\": 0.0}, {\"start\": 804.0, \"voice\": \"Tenor\", \"pattern\": [1, 1, 2, 1, 2], \"end\": 832.0, \"score\": 0.0}, {\"start\": 808.0, \"voice\": \"Tenor\", \"pattern\": [1, 2, 1, 2, 1], \"end\": 836.0, \"score\": 0.0}, {\"start\": 812.0, \"voice\": \"Tenor\", \"pattern\": [2, 1, 2, 1, -3], \"end\": 844.0, \"score\": 0.0}, {\"start\": 820.0, \"voice\": \"Tenor\", \"pattern\": [1, 2, 1, -3, 1], \"end\": 848.0, \"score\": 0.0}, {\"start\": 824.0, \"voice\": \"Tenor\", \"pattern\": [2, 1, -3, 1, 4], \"end\": 856.0, \"score\": 0.0}, {\"start\": 832.0, \"voice\": \"Tenor\", \"pattern\": [1, -3, 1, 4, 1], \"end\": 860.0, \"score\": 0.0}, {\"start\": 836.0, \"voice\": \"Tenor\", \"pattern\": [-3, 1, 4, 1, -3], \"end\": 868.0, \"score\": 0.0}, {\"start\": 844.0, \"voice\": \"Tenor\", \"pattern\": [1, 4, 1, -3, 1], \"end\": 872.0, \"score\": 0.0}, {\"start\": 848.0, \"voice\": \"Tenor\", \"pattern\": [4, 1, -3, 1, 4], \"end\": 878.0, \"score\": 0.0}, {\"start\": 856.0, \"voice\": \"Tenor\", \"pattern\": [1, -3, 1, 4, -2], \"end\": 880.0, \"score\": 19.999999999999996}, {\"start\": 860.0, \"voice\": \"Tenor\", \"pattern\": [-3, 1, 4, -2, -2], \"end\": 882.0, \"score\": 40.0}, {\"start\": 868.0, \"voice\": \"Tenor\", \"pattern\": [1, 4, -2, -2, -2], \"end\": 884.0, \"score\": 60.0}, {\"start\": 872.0, \"voice\": \"Tenor\", \"pattern\": [4, -2, -2, -2, -2], \"end\": 892.0, \"score\": 80.0}, {\"start\": 878.0, \"voice\": \"Tenor\", \"pattern\": [-2, -2, -2, -2, 1], \"end\": 896.0, \"score\": 80.0}, {\"start\": 880.0, \"voice\": \"Tenor\", \"pattern\": [-2, -2, -2, 1, 4], \"end\": 904.0, \"score\": 60.0}, {\"start\": 882.0, \"voice\": \"Tenor\", \"pattern\": [-2, -2, 1, 4, 1], \"end\": 908.0, \"score\": 40.0}, {\"start\": 884.0, \"voice\": \"Tenor\", \"pattern\": [-2, 1, 4, 1, 2], \"end\": 912.0, \"score\": 19.999999999999996}, {\"start\": 892.0, \"voice\": \"Tenor\", \"pattern\": [1, 4, 1, 2, -3], \"end\": 916.0, \"score\": 0.0}, {\"start\": 896.0, \"voice\": \"Tenor\", \"pattern\": [4, 1, 2, -3, 2], \"end\": 920.0, \"score\": 0.0}, {\"start\": 904.0, \"voice\": \"Tenor\", \"pattern\": [1, 2, -3, 2, -3], \"end\": 928.0, \"score\": 0.0}, {\"start\": 908.0, \"voice\": \"Tenor\", \"pattern\": [2, -3, 2, -3, -2], \"end\": 944.0, \"score\": 19.999999999999996}, {\"start\": 976.0, \"voice\": \"Tenor\", \"pattern\": [1, 1, 2, -2, -2], \"end\": 992.0, \"score\": 40.0}, {\"start\": 980.0, \"voice\": \"Tenor\", \"pattern\": [1, 2, -2, -2, -2], \"end\": 996.0, \"score\": 60.0}, {\"start\": 984.0, \"voice\": \"Tenor\", \"pattern\": [2, -2, -2, -2, 1], \"end\": 998.0, \"score\": 60.0}, {\"start\": 990.0, \"voice\": \"Tenor\", \"pattern\": [-2, -2, -2, 1, 3], \"end\": 1002.0, \"score\": 60.0}, {\"start\": 991.0, \"voice\": \"Tenor\", \"pattern\": [-2, -2, 1, 3, -2], \"end\": 1003.0, \"score\": 60.0}, {\"start\": 992.0, \"voice\": \"Tenor\", \"pattern\": [-2, 1, 3, -2, -2], \"end\": 1004.0, \"score\": 60.0}, {\"start\": 996.0, \"voice\": \"Tenor\", \"pattern\": [1, 3, -2, -2, -2], \"end\": 1008.0, \"score\": 60.0}, {\"start\": 998.0, \"voice\": \"Tenor\", \"pattern\": [3, -2, -2, -2, -2], \"end\": 1016.0, \"score\": 80.0}, {\"start\": 1040.0, \"voice\": \"Tenor\", \"pattern\": [1, 1, 2, -2, -2], \"end\": 1056.0, \"score\": 40.0}, {\"start\": 1044.0, \"voice\": \"Tenor\", \"pattern\": [1, 2, -2, -2, -2], \"end\": 1060.0, \"score\": 60.0}, {\"start\": 1048.0, \"voice\": \"Tenor\", \"pattern\": [2, -2, -2, -2, 1], \"end\": 1062.0, \"score\": 60.0}, {\"start\": 1054.0, \"voice\": \"Tenor\", \"pattern\": [-2, -2, -2, 1, 3], \"end\": 1066.0, \"score\": 60.0}, {\"start\": 1055.0, \"voice\": \"Tenor\", \"pattern\": [-2, -2, 1, 3, -2], \"end\": 1067.0, \"score\": 60.0}, {\"start\": 1056.0, \"voice\": \"Tenor\", \"pattern\": [-2, 1, 3, -2, -2], \"end\": 1068.0, \"score\": 60.0}, {\"start\": 1060.0, \"voice\": \"Tenor\", \"pattern\": [1, 3, -2, -2, -2], \"end\": 1072.0, \"score\": 60.0}, {\"start\": 1062.0, \"voice\": \"Tenor\", \"pattern\": [3, -2, -2, -2, -2], \"end\": 1080.0, \"score\": 80.0}, {\"start\": 1096.0, \"voice\": \"Tenor\", \"pattern\": [2, 2, 2, -2, 2], \"end\": 1116.0, \"score\": 19.999999999999996}, {\"start\": 1100.0, \"voice\": \"Tenor\", \"pattern\": [2, 2, -2, 2, 2], \"end\": 1120.0, \"score\": 19.999999999999996}, {\"start\": 1104.0, \"voice\": \"Tenor\", \"pattern\": [2, -2, 2, 2, 2], \"end\": 1128.0, \"score\": 19.999999999999996}, {\"start\": 1152.0, \"voice\": \"Tenor\", \"pattern\": [1, -2, -2, 2, -2], \"end\": 1178.0, \"score\": 60.0}, {\"start\": 1156.0, \"voice\": \"Tenor\", \"pattern\": [-2, -2, 2, -2, -2], \"end\": 1184.0, \"score\": 80.0}, {\"start\": 1160.0, \"voice\": \"Tenor\", \"pattern\": [-2, 2, -2, -2, 2], \"end\": 1192.0, \"score\": 60.0}, {\"start\": 1208.0, \"voice\": \"Tenor\", \"pattern\": [-2, 1, -2, 2, 2], \"end\": 1232.0, \"score\": 40.0}, {\"start\": 1240.0, \"voice\": \"Tenor\", \"pattern\": [1, -2, 2, 2, -2], \"end\": 1288.0, \"score\": 40.0}, {\"start\": 1244.0, \"voice\": \"Tenor\", \"pattern\": [-2, 2, 2, -2, 1], \"end\": 1304.0, \"score\": 40.0}, {\"start\": 52.0, \"voice\": \"Bassus\", \"pattern\": [4, 1, 2, 2, -3], \"end\": 80.0, \"score\": 0.0}, {\"start\": 110.0, \"voice\": \"Bassus\", \"pattern\": [-2, -2, -2, 2, 2], \"end\": 128.0, \"score\": 60.0}, {\"start\": 112.0, \"voice\": \"Bassus\", \"pattern\": [-2, -2, 2, 2, 2], \"end\": 136.0, \"score\": 40.0}, {\"start\": 178.0, \"voice\": \"Bassus\", \"pattern\": [1, 1, 2, 2, -3], \"end\": 200.0, \"score\": 0.0}, {\"start\": 224.0, \"voice\": \"Bassus\", \"pattern\": [-3, -2, 2, 2, 2], \"end\": 248.0, \"score\": 19.999999999999996}, {\"start\": 280.0, \"voice\": \"Bassus\", \"pattern\": [3, 2, 2, 1, 2], \"end\": 298.0, \"score\": 0.0}, {\"start\": 284.0, \"voice\": \"Bassus\", \"pattern\": [2, 2, 1, 2, -2], \"end\": 300.0, \"score\": 19.999999999999996}, {\"start\": 288.0, \"voice\": \"Bassus\", \"pattern\": [2, 1, 2, -2, -2], \"end\": 304.0, \"score\": 40.0}, {\"start\": 292.0, \"voice\": \"Bassus\", \"pattern\": [1, 2, -2, -2, -2], \"end\": 312.0, \"score\": 60.0}, {\"start\": 320.0, \"voice\": \"Bassus\", \"pattern\": [1, 1, 4, -2, 2], \"end\": 334.0, \"score\": 19.999999999999996}, {\"start\": 324.0, \"voice\": \"Bassus\", \"pattern\": [1, 4, -2, 2, -4], \"end\": 336.0, \"score\": 19.999999999999996}, {\"start\": 328.0, \"voice\": \"Bassus\", \"pattern\": [4, -2, 2, -4, 2], \"end\": 338.0, \"score\": 19.999999999999996}, {\"start\": 331.0, \"voice\": \"Bassus\", \"pattern\": [-2, 2, -4, 2, -3], \"end\": 340.0, \"score\": 19.999999999999996}, {\"start\": 332.0, \"voice\": \"Bassus\", \"pattern\": [2, -4, 2, -3, 2], \"end\": 344.0, \"score\": 0.0}, {\"start\": 334.0, \"voice\": \"Bassus\", \"pattern\": [-4, 2, -3, 2, 5], \"end\": 350.0, \"score\": 0.0}, {\"start\": 336.0, \"voice\": \"Bassus\", \"pattern\": [2, -3, 2, 5, -3], \"end\": 352.0, \"score\": 0.0}, {\"start\": 338.0, \"voice\": \"Bassus\", \"pattern\": [-3, 2, 5, -3, 2], \"end\": 356.0, \"score\": 0.0}, {\"start\": 340.0, \"voice\": \"Bassus\", \"pattern\": [2, 5, -3, 2, 2], \"end\": 360.0, \"score\": 0.0}, {\"start\": 344.0, \"voice\": \"Bassus\", \"pattern\": [5, -3, 2, 2, 2], \"end\": 366.0, \"score\": 0.0}, {\"start\": 350.0, \"voice\": \"Bassus\", \"pattern\": [-3, 2, 2, 2, -3], \"end\": 368.0, \"score\": 0.0}, {\"start\": 352.0, \"voice\": \"Bassus\", \"pattern\": [2, 2, 2, -3, 2], \"end\": 372.0, \"score\": 0.0}, {\"start\": 356.0, \"voice\": \"Bassus\", \"pattern\": [2, 2, -3, 2, 2], \"end\": 376.0, \"score\": 0.0}, {\"start\": 360.0, \"voice\": \"Bassus\", \"pattern\": [2, -3, 2, 2, 2], \"end\": 382.0, \"score\": 0.0}, {\"start\": 366.0, \"voice\": \"Bassus\", \"pattern\": [-3, 2, 2, 2, -3], \"end\": 384.0, \"score\": 0.0}, {\"start\": 368.0, \"voice\": \"Bassus\", \"pattern\": [2, 2, 2, -3, 2], \"end\": 388.0, \"score\": 0.0}, {\"start\": 372.0, \"voice\": \"Bassus\", \"pattern\": [2, 2, -3, 2, 2], \"end\": 392.0, \"score\": 0.0}, {\"start\": 376.0, \"voice\": \"Bassus\", \"pattern\": [2, -3, 2, 2, 2], \"end\": 395.0, \"score\": 0.0}, {\"start\": 382.0, \"voice\": \"Bassus\", \"pattern\": [-3, 2, 2, 2, -2], \"end\": 396.0, \"score\": 19.999999999999996}, {\"start\": 384.0, \"voice\": \"Bassus\", \"pattern\": [2, 2, 2, -2, 2], \"end\": 398.0, \"score\": 19.999999999999996}, {\"start\": 388.0, \"voice\": \"Bassus\", \"pattern\": [2, 2, -2, 2, -3], \"end\": 400.0, \"score\": 19.999999999999996}, {\"start\": 392.0, \"voice\": \"Bassus\", \"pattern\": [2, -2, 2, -3, 2], \"end\": 403.0, \"score\": 19.999999999999996}, {\"start\": 395.0, \"voice\": \"Bassus\", \"pattern\": [-2, 2, -3, 2, -2], \"end\": 404.0, \"score\": 40.0}, {\"start\": 396.0, \"voice\": \"Bassus\", \"pattern\": [2, -3, 2, -2, 2], \"end\": 406.0, \"score\": 19.999999999999996}, {\"start\": 398.0, \"voice\": \"Bassus\", \"pattern\": [-3, 2, -2, 2, -3], \"end\": 408.0, \"score\": 19.999999999999996}, {\"start\": 400.0, \"voice\": \"Bassus\", \"pattern\": [2, -2, 2, -3, 2], \"end\": 410.0, \"score\": 19.999999999999996}, {\"start\": 403.0, \"voice\": \"Bassus\", \"pattern\": [-2, 2, -3, 2, -3], \"end\": 412.0, \"score\": 19.999999999999996}, {\"start\": 404.0, \"voice\": \"Bassus\", \"pattern\": [2, -3, 2, -3, 2], \"end\": 416.0, \"score\": 0.0}, {\"start\": 406.0, \"voice\": \"Bassus\", \"pattern\": [-3, 2, -3, 2, -5], \"end\": 432.0, \"score\": 0.0}, {\"start\": 476.0, \"voice\": \"Bassus\", \"pattern\": [4, -2, 2, 2, -3], \"end\": 498.0, \"score\": 19.999999999999996}, {\"start\": 482.0, \"voice\": \"Bassus\", \"pattern\": [-2, 2, 2, -3, -2], \"end\": 499.0, \"score\": 40.0}, {\"start\": 484.0, \"voice\": \"Bassus\", \"pattern\": [2, 2, -3, -2, -2], \"end\": 500.0, \"score\": 40.0}, {\"start\": 488.0, \"voice\": \"Bassus\", \"pattern\": [2, -3, -2, -2, 1], \"end\": 504.0, \"score\": 40.0}, {\"start\": 492.0, \"voice\": \"Bassus\", \"pattern\": [-3, -2, -2, 1, -2], \"end\": 506.0, \"score\": 60.0}, {\"start\": 498.0, \"voice\": \"Bassus\", \"pattern\": [-2, -2, 1, -2, 2], \"end\": 508.0, \"score\": 60.0}, {\"start\": 499.0, \"voice\": \"Bassus\", \"pattern\": [-2, 1, -2, 2, 2], \"end\": 512.0, \"score\": 40.0}, {\"start\": 500.0, \"voice\": \"Bassus\", \"pattern\": [1, -2, 2, 2, -2], \"end\": 520.0, \"score\": 40.0}, {\"start\": 552.0, \"voice\": \"Bassus\", \"pattern\": [2, -3, 2, -3, 2], \"end\": 571.0, \"score\": 0.0}, {\"start\": 556.0, \"voice\": \"Bassus\", \"pattern\": [-3, 2, -3, 2, -2], \"end\": 572.0, \"score\": 19.999999999999996}, {\"start\": 560.0, \"voice\": \"Bassus\", \"pattern\": [2, -3, 2, -2, -2], \"end\": 576.0, \"score\": 40.0}, {\"start\": 564.0, \"voice\": \"Bassus\", \"pattern\": [-3, 2, -2, -2, -2], \"end\": 580.0, \"score\": 60.0}, {\"start\": 568.0, \"voice\": \"Bassus\", \"pattern\": [2, -2, -2, -2, 5], \"end\": 584.0, \"score\": 60.0}, {\"start\": 571.0, \"voice\": \"Bassus\", \"pattern\": [-2, -2, -2, 5, 2], \"end\": 588.0, \"score\": 60.0}, {\"start\": 572.0, \"voice\": \"Bassus\", \"pattern\": [-2, -2, 5, 2, -3], \"end\": 592.0, \"score\": 40.0}, {\"start\": 576.0, \"voice\": \"Bassus\", \"pattern\": [-2, 5, 2, -3, 2], \"end\": 596.0, \"score\": 19.999999999999996}, {\"start\": 580.0, \"voice\": \"Bassus\", \"pattern\": [5, 2, -3, 2, -3], \"end\": 600.0, \"score\": 0.0}, {\"start\": 584.0, \"voice\": \"Bassus\", \"pattern\": [2, -3, 2, -3, 2], \"end\": 604.0, \"score\": 0.0}, {\"start\": 588.0, \"voice\": \"Bassus\", \"pattern\": [-3, 2, -3, 2, 2], \"end\": 608.0, \"score\": 0.0}, {\"start\": 592.0, \"voice\": \"Bassus\", \"pattern\": [2, -3, 2, 2, -5], \"end\": 616.0, \"score\": 0.0}, {\"start\": 644.0, \"voice\": \"Bassus\", \"pattern\": [1, 1, 5, 1, 2], \"end\": 657.0, \"score\": 0.0}, {\"start\": 646.0, \"voice\": \"Bassus\", \"pattern\": [1, 5, 1, 2, -2], \"end\": 658.0, \"score\": 19.999999999999996}, {\"start\": 648.0, \"voice\": \"Bassus\", \"pattern\": [5, 1, 2, -2, 1], \"end\": 662.0, \"score\": 19.999999999999996}, {\"start\": 652.0, \"voice\": \"Bassus\", \"pattern\": [1, 2, -2, 1, -2], \"end\": 664.0, \"score\": 40.0}, {\"start\": 654.0, \"voice\": \"Bassus\", \"pattern\": [2, -2, 1, -2, 2], \"end\": 672.0, \"score\": 40.0}, {\"start\": 704.0, \"voice\": \"Bassus\", \"pattern\": [5, -2, -2, -2, -2], \"end\": 718.0, \"score\": 80.0}, {\"start\": 710.0, \"voice\": \"Bassus\", \"pattern\": [-2, -2, -2, -2, 5], \"end\": 722.0, \"score\": 80.0}, {\"start\": 714.0, \"voice\": \"Bassus\", \"pattern\": [-2, -2, -2, 5, -2], \"end\": 726.0, \"score\": 80.0}, {\"start\": 715.0, \"voice\": \"Bassus\", \"pattern\": [-2, -2, 5, -2, -2], \"end\": 727.0, \"score\": 80.0}, {\"start\": 716.0, \"voice\": \"Bassus\", \"pattern\": [-2, 5, -2, -2, -2], \"end\": 728.0, \"score\": 80.0}, {\"start\": 718.0, \"voice\": \"Bassus\", \"pattern\": [5, -2, -2, -2, -2], \"end\": 730.0, \"score\": 80.0}, {\"start\": 722.0, \"voice\": \"Bassus\", \"pattern\": [-2, -2, -2, -2, 3], \"end\": 732.0, \"score\": 80.0}, {\"start\": 726.0, \"voice\": \"Bassus\", \"pattern\": [-2, -2, -2, 3, -2], \"end\": 736.0, \"score\": 80.0}, {\"start\": 727.0, \"voice\": \"Bassus\", \"pattern\": [-2, -2, 3, -2, -2], \"end\": 748.0, \"score\": 80.0}, {\"start\": 728.0, \"voice\": \"Bassus\", \"pattern\": [-2, 3, -2, -2, 8], \"end\": 752.0, \"score\": 60.0}, {\"start\": 730.0, \"voice\": \"Bassus\", \"pattern\": [3, -2, -2, 8, 1], \"end\": 756.0, \"score\": 40.0}, {\"start\": 732.0, \"voice\": \"Bassus\", \"pattern\": [-2, -2, 8, 1, 1], \"end\": 760.0, \"score\": 40.0}, {\"start\": 736.0, \"voice\": \"Bassus\", \"pattern\": [-2, 8, 1, 1, -5], \"end\": 768.0, \"score\": 19.999999999999996}, {\"start\": 748.0, \"voice\": \"Bassus\", \"pattern\": [8, 1, 1, -5, 1], \"end\": 772.0, \"score\": 0.0}, {\"start\": 752.0, \"voice\": \"Bassus\", \"pattern\": [1, 1, -5, 1, 2], \"end\": 780.0, \"score\": 0.0}, {\"start\": 756.0, \"voice\": \"Bassus\", \"pattern\": [1, -5, 1, 2, 1], \"end\": 784.0, \"score\": 0.0}, {\"start\": 760.0, \"voice\": \"Bassus\", \"pattern\": [-5, 1, 2, 1, -5], \"end\": 792.0, \"score\": 0.0}, {\"start\": 800.0, \"voice\": \"Bassus\", \"pattern\": [1, 1, -5, 1, 2], \"end\": 828.0, \"score\": 0.0}, {\"start\": 804.0, \"voice\": \"Bassus\", \"pattern\": [1, -5, 1, 2, 1], \"end\": 832.0, \"score\": 0.0}, {\"start\": 808.0, \"voice\": \"Bassus\", \"pattern\": [-5, 1, 2, 1, -5], \"end\": 840.0, \"score\": 0.0}, {\"start\": 816.0, \"voice\": \"Bassus\", \"pattern\": [1, 2, 1, -5, 8], \"end\": 844.0, \"score\": 0.0}, {\"start\": 820.0, \"voice\": \"Bassus\", \"pattern\": [2, 1, -5, 8, -3], \"end\": 852.0, \"score\": 0.0}, {\"start\": 828.0, \"voice\": \"Bassus\", \"pattern\": [1, -5, 8, -3, 1], \"end\": 856.0, \"score\": 0.0}, {\"start\": 832.0, \"voice\": \"Bassus\", \"pattern\": [-5, 8, -3, 1, 4], \"end\": 864.0, \"score\": 0.0}, {\"start\": 840.0, \"voice\": \"Bassus\", \"pattern\": [8, -3, 1, 4, 1], \"end\": 868.0, \"score\": 0.0}, {\"start\": 844.0, \"voice\": \"Bassus\", \"pattern\": [-3, 1, 4, 1, -5], \"end\": 876.0, \"score\": 0.0}, {\"start\": 852.0, \"voice\": \"Bassus\", \"pattern\": [1, 4, 1, -5, 1], \"end\": 880.0, \"score\": 0.0}, {\"start\": 856.0, \"voice\": \"Bassus\", \"pattern\": [4, 1, -5, 1, 4], \"end\": 888.0, \"score\": 0.0}, {\"start\": 864.0, \"voice\": \"Bassus\", \"pattern\": [1, -5, 1, 4, 1], \"end\": 892.0, \"score\": 0.0}, {\"start\": 868.0, \"voice\": \"Bassus\", \"pattern\": [-5, 1, 4, 1, -3], \"end\": 900.0, \"score\": 0.0}, {\"start\": 876.0, \"voice\": \"Bassus\", \"pattern\": [1, 4, 1, -3, 1], \"end\": 904.0, \"score\": 0.0}, {\"start\": 880.0, \"voice\": \"Bassus\", \"pattern\": [4, 1, -3, 1, 2], \"end\": 908.0, \"score\": 0.0}, {\"start\": 888.0, \"voice\": \"Bassus\", \"pattern\": [1, -3, 1, 2, -3], \"end\": 912.0, \"score\": 0.0}, {\"start\": 892.0, \"voice\": \"Bassus\", \"pattern\": [-3, 1, 2, -3, 2], \"end\": 916.0, \"score\": 0.0}, {\"start\": 900.0, \"voice\": \"Bassus\", \"pattern\": [1, 2, -3, 2, -3], \"end\": 920.0, \"score\": 0.0}, {\"start\": 904.0, \"voice\": \"Bassus\", \"pattern\": [2, -3, 2, -3, 2], \"end\": 928.0, \"score\": 0.0}, {\"start\": 908.0, \"voice\": \"Bassus\", \"pattern\": [-3, 2, -3, 2, -5], \"end\": 944.0, \"score\": 0.0}, {\"start\": 976.0, \"voice\": \"Bassus\", \"pattern\": [1, -2, -2, -3, 5], \"end\": 998.0, \"score\": 40.0}, {\"start\": 980.0, \"voice\": \"Bassus\", \"pattern\": [-2, -2, -3, 5, -2], \"end\": 999.0, \"score\": 60.0}, {\"start\": 984.0, \"voice\": \"Bassus\", \"pattern\": [-2, -3, 5, -2, -2], \"end\": 1000.0, \"score\": 60.0}, {\"start\": 988.0, \"voice\": \"Bassus\", \"pattern\": [-3, 5, -2, -2, 2], \"end\": 1002.0, \"score\": 40.0}, {\"start\": 992.0, \"voice\": \"Bassus\", \"pattern\": [5, -2, -2, 2, 2], \"end\": 1006.0, \"score\": 40.0}, {\"start\": 998.0, \"voice\": \"Bassus\", \"pattern\": [-2, -2, 2, 2, -2], \"end\": 1008.0, \"score\": 60.0}, {\"start\": 999.0, \"voice\": \"Bassus\", \"pattern\": [-2, 2, 2, -2, 2], \"end\": 1016.0, \"score\": 40.0}, {\"start\": 1040.0, \"voice\": \"Bassus\", \"pattern\": [1, -2, -2, -3, 5], \"end\": 1062.0, \"score\": 40.0}, {\"start\": 1044.0, \"voice\": \"Bassus\", \"pattern\": [-2, -2, -3, 5, -2], \"end\": 1063.0, \"score\": 60.0}, {\"start\": 1048.0, \"voice\": \"Bassus\", \"pattern\": [-2, -3, 5, -2, -2], \"end\": 1064.0, \"score\": 60.0}, {\"start\": 1052.0, \"voice\": \"Bassus\", \"pattern\": [-3, 5, -2, -2, 2], \"end\": 1066.0, \"score\": 40.0}, {\"start\": 1056.0, \"voice\": \"Bassus\", \"pattern\": [5, -2, -2, 2, 2], \"end\": 1070.0, \"score\": 40.0}, {\"start\": 1062.0, \"voice\": \"Bassus\", \"pattern\": [-2, -2, 2, 2, -2], \"end\": 1072.0, \"score\": 60.0}, {\"start\": 1063.0, \"voice\": \"Bassus\", \"pattern\": [-2, 2, 2, -2, 2], \"end\": 1080.0, \"score\": 40.0}, {\"start\": 1096.0, \"voice\": \"Bassus\", \"pattern\": [-2, -2, -2, -2, 2], \"end\": 1108.0, \"score\": 80.0}, {\"start\": 1099.0, \"voice\": \"Bassus\", \"pattern\": [-2, -2, -2, 2, 2], \"end\": 1109.0, \"score\": 60.0}, {\"start\": 1100.0, \"voice\": \"Bassus\", \"pattern\": [-2, -2, 2, 2, 2], \"end\": 1110.0, \"score\": 40.0}, {\"start\": 1104.0, \"voice\": \"Bassus\", \"pattern\": [-2, 2, 2, 2, 2], \"end\": 1112.0, \"score\": 19.999999999999996}, {\"start\": 1107.0, \"voice\": \"Bassus\", \"pattern\": [2, 2, 2, 2, 2], \"end\": 1114.0, \"score\": 0.0}, {\"start\": 1108.0, \"voice\": \"Bassus\", \"pattern\": [2, 2, 2, 2, -4], \"end\": 1116.0, \"score\": 0.0}, {\"start\": 1109.0, \"voice\": \"Bassus\", \"pattern\": [2, 2, 2, -4, 2], \"end\": 1120.0, \"score\": 0.0}, {\"start\": 1110.0, \"voice\": \"Bassus\", \"pattern\": [2, 2, -4, 2, -2], \"end\": 1128.0, \"score\": 19.999999999999996}, {\"start\": 1160.0, \"voice\": \"Bassus\", \"pattern\": [-3, 4, -2, -2, -2], \"end\": 1168.0, \"score\": 60.0}, {\"start\": 1162.0, \"voice\": \"Bassus\", \"pattern\": [4, -2, -2, -2, 2], \"end\": 1170.0, \"score\": 60.0}, {\"start\": 1165.0, \"voice\": \"Bassus\", \"pattern\": [-2, -2, -2, 2, 2], \"end\": 1172.0, \"score\": 60.0}, {\"start\": 1166.0, \"voice\": \"Bassus\", \"pattern\": [-2, -2, 2, 2, -3], \"end\": 1174.0, \"score\": 40.0}, {\"start\": 1167.0, \"voice\": \"Bassus\", \"pattern\": [-2, 2, 2, -3, 2], \"end\": 1177.0, \"score\": 19.999999999999996}, {\"start\": 1168.0, \"voice\": \"Bassus\", \"pattern\": [2, 2, -3, 2, -2], \"end\": 1178.0, \"score\": 19.999999999999996}, {\"start\": 1170.0, \"voice\": \"Bassus\", \"pattern\": [2, -3, 2, -2, -2], \"end\": 1179.0, \"score\": 40.0}, {\"start\": 1172.0, \"voice\": \"Bassus\", \"pattern\": [-3, 2, -2, -2, -2], \"end\": 1180.0, \"score\": 60.0}, {\"start\": 1174.0, \"voice\": \"Bassus\", \"pattern\": [2, -2, -2, -2, 2], \"end\": 1184.0, \"score\": 60.0}, {\"start\": 1177.0, \"voice\": \"Bassus\", \"pattern\": [-2, -2, -2, 2, -2], \"end\": 1192.0, \"score\": 80.0}, {\"start\": 1208.0, \"voice\": \"Bassus\", \"pattern\": [5, 1, -2, -2, -2], \"end\": 1224.0, \"score\": 60.0}, {\"start\": 1212.0, \"voice\": \"Bassus\", \"pattern\": [1, -2, -2, -2, -2], \"end\": 1232.0, \"score\": 80.0}, {\"start\": 1240.0, \"voice\": \"Bassus\", \"pattern\": [8, -4, 2, -2, -5], \"end\": 1288.0, \"score\": 19.999999999999996}, {\"start\": 1244.0, \"voice\": \"Bassus\", \"pattern\": [-4, 2, -2, -5, 1], \"end\": 1304.0, \"score\": 19.999999999999996}]}}, {\"mode\": \"vega-lite\"});\n",
       "</script>"
      ],
      "text/plain": [
       "alt.Chart(...)"
      ]
     },
     "execution_count": 15,
     "metadata": {},
     "output_type": "execute_result"
    }
   ],
   "source": [
    "# use the durations calculated from above\n",
    "viz.plot_close_match_heatmap(ngrams,'-2, -2, -2, -2, -2', ngrams_duration, selected_patterns=[], voices=[])"
   ]
  },
  {
   "cell_type": "markdown",
   "id": "41b266d0",
   "metadata": {},
   "source": [
    "## `plot_comparison_heatmap`\n",
    "\n",
    "This method can be used to plot a relationship/observation json\n",
    "\n",
    "### For relationships"
   ]
  },
  {
   "cell_type": "code",
   "execution_count": 16,
   "id": "69ebcb22",
   "metadata": {},
   "outputs": [],
   "source": [
    "# data_relationships = requests.get('http://crimproject.org/data/relationships/').json()\n",
    "# df_relationships = pd.json_normalize(data_relationships)\n",
    "df_relationships = pd.read_csv('../CRIM_Intervals_Notebooks/relationships.csv')\n",
    "df_relationships_test = df_relationships[df_relationships['model_observation.piece.piece_id'] == 'CRIM_Model_0008'].copy()"
   ]
  },
  {
   "cell_type": "code",
   "execution_count": 17,
   "id": "72961dd3",
   "metadata": {},
   "outputs": [
    {
     "data": {
      "text/html": [
       "<div>\n",
       "<style scoped>\n",
       "    .dataframe tbody tr th:only-of-type {\n",
       "        vertical-align: middle;\n",
       "    }\n",
       "\n",
       "    .dataframe tbody tr th {\n",
       "        vertical-align: top;\n",
       "    }\n",
       "\n",
       "    .dataframe thead th {\n",
       "        text-align: right;\n",
       "    }\n",
       "</style>\n",
       "<table border=\"1\" class=\"dataframe\">\n",
       "  <thead>\n",
       "    <tr style=\"text-align: right;\">\n",
       "      <th></th>\n",
       "      <th>Unnamed: 0</th>\n",
       "      <th>url</th>\n",
       "      <th>id</th>\n",
       "      <th>relationship_type</th>\n",
       "      <th>musical_type</th>\n",
       "      <th>rt_q</th>\n",
       "      <th>rt_q_x</th>\n",
       "      <th>rt_q_monnayage</th>\n",
       "      <th>rt_tm</th>\n",
       "      <th>rt_tm_snd</th>\n",
       "      <th>...</th>\n",
       "      <th>model_observation.piece.url</th>\n",
       "      <th>model_observation.piece.piece_id</th>\n",
       "      <th>model_observation.piece.full_title</th>\n",
       "      <th>model_observation.ema</th>\n",
       "      <th>derivative_observation.url</th>\n",
       "      <th>derivative_observation.id</th>\n",
       "      <th>derivative_observation.piece.url</th>\n",
       "      <th>derivative_observation.piece.piece_id</th>\n",
       "      <th>derivative_observation.piece.full_title</th>\n",
       "      <th>derivative_observation.ema</th>\n",
       "    </tr>\n",
       "  </thead>\n",
       "  <tbody>\n",
       "    <tr>\n",
       "      <th>871</th>\n",
       "      <td>871</td>\n",
       "      <td>http://crimproject.org/data/relationships/882/</td>\n",
       "      <td>882</td>\n",
       "      <td>Mechanical transformation</td>\n",
       "      <td>Imitative duo</td>\n",
       "      <td>False</td>\n",
       "      <td>False</td>\n",
       "      <td>False</td>\n",
       "      <td>True</td>\n",
       "      <td>True</td>\n",
       "      <td>...</td>\n",
       "      <td>http://crimproject.org/data/pieces/CRIM_Model_...</td>\n",
       "      <td>CRIM_Model_0008</td>\n",
       "      <td>Ave Maria</td>\n",
       "      <td>54-65/1-2,1-2,1-2,1-2,1-2,1-3,1-4,3-4,3-4,3-4,...</td>\n",
       "      <td>http://crimproject.org/data/observations/1764/</td>\n",
       "      <td>1764</td>\n",
       "      <td>http://crimproject.org/data/pieces/CRIM_Mass_0...</td>\n",
       "      <td>CRIM_Mass_0005_5</td>\n",
       "      <td>Missa Ave Maria: Agnus Dei</td>\n",
       "      <td>16-20,25-29/3,3-4,3-4,3-4,3-4,1-2,1-2,1-2,1-2,...</td>\n",
       "    </tr>\n",
       "    <tr>\n",
       "      <th>872</th>\n",
       "      <td>872</td>\n",
       "      <td>http://crimproject.org/data/relationships/883/</td>\n",
       "      <td>883</td>\n",
       "      <td>Non-mechanical transformation</td>\n",
       "      <td>Periodic entry</td>\n",
       "      <td>False</td>\n",
       "      <td>False</td>\n",
       "      <td>False</td>\n",
       "      <td>False</td>\n",
       "      <td>False</td>\n",
       "      <td>...</td>\n",
       "      <td>http://crimproject.org/data/pieces/CRIM_Model_...</td>\n",
       "      <td>CRIM_Model_0008</td>\n",
       "      <td>Ave Maria</td>\n",
       "      <td>1-10/1,1-4,1-4,1-4,2-4,2-4,3-4,3-4,4,4/@1-3,@1...</td>\n",
       "      <td>http://crimproject.org/data/observations/1766/</td>\n",
       "      <td>1766</td>\n",
       "      <td>http://crimproject.org/data/pieces/CRIM_Mass_0...</td>\n",
       "      <td>CRIM_Mass_0005_5</td>\n",
       "      <td>Missa Ave Maria: Agnus Dei</td>\n",
       "      <td>1-8/1-4,1-4,1-4,1-4,1-4,3-4,3-4,3-4/@1-3+@all+...</td>\n",
       "    </tr>\n",
       "    <tr>\n",
       "      <th>971</th>\n",
       "      <td>971</td>\n",
       "      <td>http://crimproject.org/data/relationships/982/</td>\n",
       "      <td>982</td>\n",
       "      <td>New material</td>\n",
       "      <td>Homorhythm</td>\n",
       "      <td>False</td>\n",
       "      <td>False</td>\n",
       "      <td>False</td>\n",
       "      <td>False</td>\n",
       "      <td>False</td>\n",
       "      <td>...</td>\n",
       "      <td>http://crimproject.org/data/pieces/CRIM_Model_...</td>\n",
       "      <td>CRIM_Model_0008</td>\n",
       "      <td>Ave Maria</td>\n",
       "      <td>1/1/@1-3</td>\n",
       "      <td>http://crimproject.org/data/observations/1964/</td>\n",
       "      <td>1964</td>\n",
       "      <td>http://crimproject.org/data/pieces/CRIM_Mass_0...</td>\n",
       "      <td>CRIM_Mass_0005_5</td>\n",
       "      <td>Missa Ave Maria: Agnus Dei</td>\n",
       "      <td>34-39/1+4,1+4,1+4,1+4,1+4,1+4/@1-4+@1-4,@1-3+@...</td>\n",
       "    </tr>\n",
       "    <tr>\n",
       "      <th>972</th>\n",
       "      <td>972</td>\n",
       "      <td>http://crimproject.org/data/relationships/983/</td>\n",
       "      <td>983</td>\n",
       "      <td>Non-mechanical transformation</td>\n",
       "      <td>Soggetto</td>\n",
       "      <td>False</td>\n",
       "      <td>False</td>\n",
       "      <td>False</td>\n",
       "      <td>False</td>\n",
       "      <td>False</td>\n",
       "      <td>...</td>\n",
       "      <td>http://crimproject.org/data/pieces/CRIM_Model_...</td>\n",
       "      <td>CRIM_Model_0008</td>\n",
       "      <td>Ave Maria</td>\n",
       "      <td>44-46/1,1,1/@3,@1-3,@1</td>\n",
       "      <td>http://crimproject.org/data/observations/1966/</td>\n",
       "      <td>1966</td>\n",
       "      <td>http://crimproject.org/data/pieces/CRIM_Mass_0...</td>\n",
       "      <td>CRIM_Mass_0005_5</td>\n",
       "      <td>Missa Ave Maria: Agnus Dei</td>\n",
       "      <td>41-45/3-4,3-4,1-4,1-2,1-2/@4+@2-4,@1-3+@1-3,@4...</td>\n",
       "    </tr>\n",
       "    <tr>\n",
       "      <th>973</th>\n",
       "      <td>973</td>\n",
       "      <td>http://crimproject.org/data/relationships/984/</td>\n",
       "      <td>984</td>\n",
       "      <td>Non-mechanical transformation</td>\n",
       "      <td>Fuga, Homorhythm</td>\n",
       "      <td>False</td>\n",
       "      <td>False</td>\n",
       "      <td>False</td>\n",
       "      <td>False</td>\n",
       "      <td>False</td>\n",
       "      <td>...</td>\n",
       "      <td>http://crimproject.org/data/pieces/CRIM_Model_...</td>\n",
       "      <td>CRIM_Model_0008</td>\n",
       "      <td>Ave Maria</td>\n",
       "      <td>46-48/1+3-4,1+3-4,1+4/@3+@2-4+@4,@1-3+@1-4+@1-...</td>\n",
       "      <td>http://crimproject.org/data/observations/1968/</td>\n",
       "      <td>1968</td>\n",
       "      <td>http://crimproject.org/data/pieces/CRIM_Mass_0...</td>\n",
       "      <td>CRIM_Mass_0005_5</td>\n",
       "      <td>Missa Ave Maria: Agnus Dei</td>\n",
       "      <td>45-46/1+3-4,1+3-4/@3-4+@2-3+@3-4,@1-4+@1-3+@1-4</td>\n",
       "    </tr>\n",
       "  </tbody>\n",
       "</table>\n",
       "<p>5 rows × 44 columns</p>\n",
       "</div>"
      ],
      "text/plain": [
       "     Unnamed: 0                                             url   id  \\\n",
       "871         871  http://crimproject.org/data/relationships/882/  882   \n",
       "872         872  http://crimproject.org/data/relationships/883/  883   \n",
       "971         971  http://crimproject.org/data/relationships/982/  982   \n",
       "972         972  http://crimproject.org/data/relationships/983/  983   \n",
       "973         973  http://crimproject.org/data/relationships/984/  984   \n",
       "\n",
       "                 relationship_type      musical_type   rt_q  rt_q_x  \\\n",
       "871      Mechanical transformation     Imitative duo  False   False   \n",
       "872  Non-mechanical transformation    Periodic entry  False   False   \n",
       "971                   New material        Homorhythm  False   False   \n",
       "972  Non-mechanical transformation          Soggetto  False   False   \n",
       "973  Non-mechanical transformation  Fuga, Homorhythm  False   False   \n",
       "\n",
       "     rt_q_monnayage  rt_tm  rt_tm_snd  ...  \\\n",
       "871           False   True       True  ...   \n",
       "872           False  False      False  ...   \n",
       "971           False  False      False  ...   \n",
       "972           False  False      False  ...   \n",
       "973           False  False      False  ...   \n",
       "\n",
       "                           model_observation.piece.url  \\\n",
       "871  http://crimproject.org/data/pieces/CRIM_Model_...   \n",
       "872  http://crimproject.org/data/pieces/CRIM_Model_...   \n",
       "971  http://crimproject.org/data/pieces/CRIM_Model_...   \n",
       "972  http://crimproject.org/data/pieces/CRIM_Model_...   \n",
       "973  http://crimproject.org/data/pieces/CRIM_Model_...   \n",
       "\n",
       "     model_observation.piece.piece_id  model_observation.piece.full_title  \\\n",
       "871                   CRIM_Model_0008                           Ave Maria   \n",
       "872                   CRIM_Model_0008                           Ave Maria   \n",
       "971                   CRIM_Model_0008                           Ave Maria   \n",
       "972                   CRIM_Model_0008                           Ave Maria   \n",
       "973                   CRIM_Model_0008                           Ave Maria   \n",
       "\n",
       "                                 model_observation.ema  \\\n",
       "871  54-65/1-2,1-2,1-2,1-2,1-2,1-3,1-4,3-4,3-4,3-4,...   \n",
       "872  1-10/1,1-4,1-4,1-4,2-4,2-4,3-4,3-4,4,4/@1-3,@1...   \n",
       "971                                           1/1/@1-3   \n",
       "972                             44-46/1,1,1/@3,@1-3,@1   \n",
       "973  46-48/1+3-4,1+3-4,1+4/@3+@2-4+@4,@1-3+@1-4+@1-...   \n",
       "\n",
       "                         derivative_observation.url  \\\n",
       "871  http://crimproject.org/data/observations/1764/   \n",
       "872  http://crimproject.org/data/observations/1766/   \n",
       "971  http://crimproject.org/data/observations/1964/   \n",
       "972  http://crimproject.org/data/observations/1966/   \n",
       "973  http://crimproject.org/data/observations/1968/   \n",
       "\n",
       "     derivative_observation.id  \\\n",
       "871                       1764   \n",
       "872                       1766   \n",
       "971                       1964   \n",
       "972                       1966   \n",
       "973                       1968   \n",
       "\n",
       "                      derivative_observation.piece.url  \\\n",
       "871  http://crimproject.org/data/pieces/CRIM_Mass_0...   \n",
       "872  http://crimproject.org/data/pieces/CRIM_Mass_0...   \n",
       "971  http://crimproject.org/data/pieces/CRIM_Mass_0...   \n",
       "972  http://crimproject.org/data/pieces/CRIM_Mass_0...   \n",
       "973  http://crimproject.org/data/pieces/CRIM_Mass_0...   \n",
       "\n",
       "     derivative_observation.piece.piece_id  \\\n",
       "871                       CRIM_Mass_0005_5   \n",
       "872                       CRIM_Mass_0005_5   \n",
       "971                       CRIM_Mass_0005_5   \n",
       "972                       CRIM_Mass_0005_5   \n",
       "973                       CRIM_Mass_0005_5   \n",
       "\n",
       "     derivative_observation.piece.full_title  \\\n",
       "871               Missa Ave Maria: Agnus Dei   \n",
       "872               Missa Ave Maria: Agnus Dei   \n",
       "971               Missa Ave Maria: Agnus Dei   \n",
       "972               Missa Ave Maria: Agnus Dei   \n",
       "973               Missa Ave Maria: Agnus Dei   \n",
       "\n",
       "                            derivative_observation.ema  \n",
       "871  16-20,25-29/3,3-4,3-4,3-4,3-4,1-2,1-2,1-2,1-2,...  \n",
       "872  1-8/1-4,1-4,1-4,1-4,1-4,3-4,3-4,3-4/@1-3+@all+...  \n",
       "971  34-39/1+4,1+4,1+4,1+4,1+4,1+4/@1-4+@1-4,@1-3+@...  \n",
       "972  41-45/3-4,3-4,1-4,1-2,1-2/@4+@2-4,@1-3+@1-3,@4...  \n",
       "973    45-46/1+3-4,1+3-4/@3-4+@2-3+@3-4,@1-4+@1-3+@1-4  \n",
       "\n",
       "[5 rows x 44 columns]"
      ]
     },
     "execution_count": 17,
     "metadata": {},
     "output_type": "execute_result"
    }
   ],
   "source": [
    "df_relationships_test.head()"
   ]
  },
  {
   "cell_type": "code",
   "execution_count": 18,
   "id": "89c11f11",
   "metadata": {},
   "outputs": [
    {
     "name": "stdout",
     "output_type": "stream",
     "text": [
      "Help on function plot_comparison_heatmap in module visualizations:\n",
      "\n",
      "plot_comparison_heatmap(df, ema_col, main_category='musical_type', other_category='observer.name', option=1, heat_map_width=800, heat_map_height=300)\n",
      "    This method plots a chart for relationships/observations dataframe retrieved from their\n",
      "    corresponding json files. This chart has two bar charts displaying the count of variables\n",
      "    the users selected, and a heatmap displaying the locations of the relationship.\n",
      "    :param df: relationships or observations dataframe\n",
      "    :param ema_col: name of the ema column\n",
      "    :param main_category: name of the main category for the first bar chart.\n",
      "    The chart would be colored accordingly (default='musical_type').\n",
      "    :param other_category: name of the other category for the zeroth bar chart.\n",
      "    (default='observer.name')\n",
      "    :param heat_map_width: the width of the final heatmap (default=800)\n",
      "    :param heat_map_height: the height of the final heatmap (default =300)\n",
      "    :return: a big chart containing two smaller bar chart and a heatmap\n",
      "\n"
     ]
    }
   ],
   "source": [
    "help(viz.plot_comparison_heatmap)"
   ]
  },
  {
   "cell_type": "code",
   "execution_count": 19,
   "id": "491571ce",
   "metadata": {},
   "outputs": [
    {
     "name": "stdout",
     "output_type": "stream",
     "text": [
      "86:.\n"
     ]
    },
    {
     "ename": "ValueError",
     "evalue": "could not convert string to float: ",
     "output_type": "error",
     "traceback": [
      "\u001b[0;31m---------------------------------------------------------------------------\u001b[0m",
      "\u001b[0;31mValueError\u001b[0m                                Traceback (most recent call last)",
      "\u001b[0;32m<ipython-input-19-5097653a80d4>\u001b[0m in \u001b[0;36m<module>\u001b[0;34m\u001b[0m\n\u001b[1;32m      1\u001b[0m viz.plot_comparison_heatmap(df_relationships_test, 'model_observation.ema', main_category='musical_type', other_category='observer.name', heat_map_width=800,\n\u001b[0;32m----> 2\u001b[0;31m                               heat_map_height=300)\n\u001b[0m",
      "\u001b[0;32m~/OneDrive - brynmawr.edu/summer 2021/crim_intervals/intervals/visualizations.py\u001b[0m in \u001b[0;36mplot_comparison_heatmap\u001b[0;34m(df, ema_col, main_category, other_category, option, heat_map_width, heat_map_height)\u001b[0m\n\u001b[1;32m    213\u001b[0m \u001b[0;34m\u001b[0m\u001b[0m\n\u001b[1;32m    214\u001b[0m     \u001b[0mdf\u001b[0m \u001b[0;34m=\u001b[0m \u001b[0mdf\u001b[0m\u001b[0;34m.\u001b[0m\u001b[0mcopy\u001b[0m\u001b[0;34m(\u001b[0m\u001b[0;34m)\u001b[0m  \u001b[0;31m# create a deep copy of the selected observations to protect the original dataframe\u001b[0m\u001b[0;34m\u001b[0m\u001b[0;34m\u001b[0m\u001b[0m\n\u001b[0;32m--> 215\u001b[0;31m     \u001b[0mdf\u001b[0m \u001b[0;34m=\u001b[0m \u001b[0m_from_ema_to_offsets\u001b[0m\u001b[0;34m(\u001b[0m\u001b[0mdf\u001b[0m\u001b[0;34m,\u001b[0m \u001b[0mema_col\u001b[0m\u001b[0;34m)\u001b[0m\u001b[0;34m\u001b[0m\u001b[0;34m\u001b[0m\u001b[0m\n\u001b[0m\u001b[1;32m    216\u001b[0m \u001b[0;34m\u001b[0m\u001b[0m\n\u001b[1;32m    217\u001b[0m     \u001b[0mdf\u001b[0m \u001b[0;34m=\u001b[0m \u001b[0m_from_ema_to_offsets\u001b[0m\u001b[0;34m(\u001b[0m\u001b[0mdf\u001b[0m\u001b[0;34m,\u001b[0m \u001b[0mema_col\u001b[0m\u001b[0;34m)\u001b[0m\u001b[0;34m\u001b[0m\u001b[0;34m\u001b[0m\u001b[0m\n",
      "\u001b[0;32m~/OneDrive - brynmawr.edu/summer 2021/crim_intervals/intervals/visualizations.py\u001b[0m in \u001b[0;36m_from_ema_to_offsets\u001b[0;34m(df, ema_column)\u001b[0m\n\u001b[1;32m    186\u001b[0m             \u001b[0mprint\u001b[0m\u001b[0;34m(\u001b[0m\u001b[0mstr\u001b[0m\u001b[0;34m(\u001b[0m\u001b[0mindex\u001b[0m\u001b[0;34m)\u001b[0m \u001b[0;34m+\u001b[0m \u001b[0;34m\":\"\u001b[0m \u001b[0;34m+\u001b[0m \u001b[0mdf\u001b[0m\u001b[0;34m[\u001b[0m\u001b[0;34m'start'\u001b[0m\u001b[0;34m]\u001b[0m\u001b[0;34m.\u001b[0m\u001b[0mloc\u001b[0m\u001b[0;34m[\u001b[0m\u001b[0mindex\u001b[0m\u001b[0;34m]\u001b[0m\u001b[0;34m+\u001b[0m\u001b[0;34m\".\"\u001b[0m\u001b[0;34m)\u001b[0m\u001b[0;34m\u001b[0m\u001b[0;34m\u001b[0m\u001b[0m\n\u001b[1;32m    187\u001b[0m \u001b[0;34m\u001b[0m\u001b[0m\n\u001b[0;32m--> 188\u001b[0;31m     \u001b[0mdf\u001b[0m\u001b[0;34m[\u001b[0m\u001b[0;34m'start'\u001b[0m\u001b[0;34m]\u001b[0m \u001b[0;34m=\u001b[0m \u001b[0mdf\u001b[0m\u001b[0;34m[\u001b[0m\u001b[0;34m'start'\u001b[0m\u001b[0;34m]\u001b[0m\u001b[0;34m.\u001b[0m\u001b[0mastype\u001b[0m\u001b[0;34m(\u001b[0m\u001b[0mfloat\u001b[0m\u001b[0;34m)\u001b[0m\u001b[0;34m\u001b[0m\u001b[0;34m\u001b[0m\u001b[0m\n\u001b[0m\u001b[1;32m    189\u001b[0m     \u001b[0mdf\u001b[0m\u001b[0;34m[\u001b[0m\u001b[0;34m'end'\u001b[0m\u001b[0;34m]\u001b[0m \u001b[0;34m=\u001b[0m \u001b[0mdf\u001b[0m\u001b[0;34m[\u001b[0m\u001b[0;34m'end'\u001b[0m\u001b[0;34m]\u001b[0m\u001b[0;34m.\u001b[0m\u001b[0mastype\u001b[0m\u001b[0;34m(\u001b[0m\u001b[0mfloat\u001b[0m\u001b[0;34m)\u001b[0m\u001b[0;34m\u001b[0m\u001b[0;34m\u001b[0m\u001b[0m\n\u001b[1;32m    190\u001b[0m     \u001b[0;32mreturn\u001b[0m \u001b[0mdf\u001b[0m\u001b[0;34m\u001b[0m\u001b[0;34m\u001b[0m\u001b[0m\n",
      "\u001b[0;32m/Library/Frameworks/Python.framework/Versions/3.7/lib/python3.7/site-packages/pandas/core/generic.py\u001b[0m in \u001b[0;36mastype\u001b[0;34m(self, dtype, copy, errors)\u001b[0m\n\u001b[1;32m   5875\u001b[0m         \u001b[0;32melse\u001b[0m\u001b[0;34m:\u001b[0m\u001b[0;34m\u001b[0m\u001b[0;34m\u001b[0m\u001b[0m\n\u001b[1;32m   5876\u001b[0m             \u001b[0;31m# else, only a single dtype is given\u001b[0m\u001b[0;34m\u001b[0m\u001b[0;34m\u001b[0m\u001b[0;34m\u001b[0m\u001b[0m\n\u001b[0;32m-> 5877\u001b[0;31m             \u001b[0mnew_data\u001b[0m \u001b[0;34m=\u001b[0m \u001b[0mself\u001b[0m\u001b[0;34m.\u001b[0m\u001b[0m_mgr\u001b[0m\u001b[0;34m.\u001b[0m\u001b[0mastype\u001b[0m\u001b[0;34m(\u001b[0m\u001b[0mdtype\u001b[0m\u001b[0;34m=\u001b[0m\u001b[0mdtype\u001b[0m\u001b[0;34m,\u001b[0m \u001b[0mcopy\u001b[0m\u001b[0;34m=\u001b[0m\u001b[0mcopy\u001b[0m\u001b[0;34m,\u001b[0m \u001b[0merrors\u001b[0m\u001b[0;34m=\u001b[0m\u001b[0merrors\u001b[0m\u001b[0;34m)\u001b[0m\u001b[0;34m\u001b[0m\u001b[0;34m\u001b[0m\u001b[0m\n\u001b[0m\u001b[1;32m   5878\u001b[0m             \u001b[0;32mreturn\u001b[0m \u001b[0mself\u001b[0m\u001b[0;34m.\u001b[0m\u001b[0m_constructor\u001b[0m\u001b[0;34m(\u001b[0m\u001b[0mnew_data\u001b[0m\u001b[0;34m)\u001b[0m\u001b[0;34m.\u001b[0m\u001b[0m__finalize__\u001b[0m\u001b[0;34m(\u001b[0m\u001b[0mself\u001b[0m\u001b[0;34m,\u001b[0m \u001b[0mmethod\u001b[0m\u001b[0;34m=\u001b[0m\u001b[0;34m\"astype\"\u001b[0m\u001b[0;34m)\u001b[0m\u001b[0;34m\u001b[0m\u001b[0;34m\u001b[0m\u001b[0m\n\u001b[1;32m   5879\u001b[0m \u001b[0;34m\u001b[0m\u001b[0m\n",
      "\u001b[0;32m/Library/Frameworks/Python.framework/Versions/3.7/lib/python3.7/site-packages/pandas/core/internals/managers.py\u001b[0m in \u001b[0;36mastype\u001b[0;34m(self, dtype, copy, errors)\u001b[0m\n\u001b[1;32m    629\u001b[0m         \u001b[0mself\u001b[0m\u001b[0;34m,\u001b[0m \u001b[0mdtype\u001b[0m\u001b[0;34m,\u001b[0m \u001b[0mcopy\u001b[0m\u001b[0;34m:\u001b[0m \u001b[0mbool\u001b[0m \u001b[0;34m=\u001b[0m \u001b[0;32mFalse\u001b[0m\u001b[0;34m,\u001b[0m \u001b[0merrors\u001b[0m\u001b[0;34m:\u001b[0m \u001b[0mstr\u001b[0m \u001b[0;34m=\u001b[0m \u001b[0;34m\"raise\"\u001b[0m\u001b[0;34m\u001b[0m\u001b[0;34m\u001b[0m\u001b[0m\n\u001b[1;32m    630\u001b[0m     ) -> \"BlockManager\":\n\u001b[0;32m--> 631\u001b[0;31m         \u001b[0;32mreturn\u001b[0m \u001b[0mself\u001b[0m\u001b[0;34m.\u001b[0m\u001b[0mapply\u001b[0m\u001b[0;34m(\u001b[0m\u001b[0;34m\"astype\"\u001b[0m\u001b[0;34m,\u001b[0m \u001b[0mdtype\u001b[0m\u001b[0;34m=\u001b[0m\u001b[0mdtype\u001b[0m\u001b[0;34m,\u001b[0m \u001b[0mcopy\u001b[0m\u001b[0;34m=\u001b[0m\u001b[0mcopy\u001b[0m\u001b[0;34m,\u001b[0m \u001b[0merrors\u001b[0m\u001b[0;34m=\u001b[0m\u001b[0merrors\u001b[0m\u001b[0;34m)\u001b[0m\u001b[0;34m\u001b[0m\u001b[0;34m\u001b[0m\u001b[0m\n\u001b[0m\u001b[1;32m    632\u001b[0m \u001b[0;34m\u001b[0m\u001b[0m\n\u001b[1;32m    633\u001b[0m     def convert(\n",
      "\u001b[0;32m/Library/Frameworks/Python.framework/Versions/3.7/lib/python3.7/site-packages/pandas/core/internals/managers.py\u001b[0m in \u001b[0;36mapply\u001b[0;34m(self, f, align_keys, ignore_failures, **kwargs)\u001b[0m\n\u001b[1;32m    425\u001b[0m                     \u001b[0mapplied\u001b[0m \u001b[0;34m=\u001b[0m \u001b[0mb\u001b[0m\u001b[0;34m.\u001b[0m\u001b[0mapply\u001b[0m\u001b[0;34m(\u001b[0m\u001b[0mf\u001b[0m\u001b[0;34m,\u001b[0m \u001b[0;34m**\u001b[0m\u001b[0mkwargs\u001b[0m\u001b[0;34m)\u001b[0m\u001b[0;34m\u001b[0m\u001b[0;34m\u001b[0m\u001b[0m\n\u001b[1;32m    426\u001b[0m                 \u001b[0;32melse\u001b[0m\u001b[0;34m:\u001b[0m\u001b[0;34m\u001b[0m\u001b[0;34m\u001b[0m\u001b[0m\n\u001b[0;32m--> 427\u001b[0;31m                     \u001b[0mapplied\u001b[0m \u001b[0;34m=\u001b[0m \u001b[0mgetattr\u001b[0m\u001b[0;34m(\u001b[0m\u001b[0mb\u001b[0m\u001b[0;34m,\u001b[0m \u001b[0mf\u001b[0m\u001b[0;34m)\u001b[0m\u001b[0;34m(\u001b[0m\u001b[0;34m**\u001b[0m\u001b[0mkwargs\u001b[0m\u001b[0;34m)\u001b[0m\u001b[0;34m\u001b[0m\u001b[0;34m\u001b[0m\u001b[0m\n\u001b[0m\u001b[1;32m    428\u001b[0m             \u001b[0;32mexcept\u001b[0m \u001b[0;34m(\u001b[0m\u001b[0mTypeError\u001b[0m\u001b[0;34m,\u001b[0m \u001b[0mNotImplementedError\u001b[0m\u001b[0;34m)\u001b[0m\u001b[0;34m:\u001b[0m\u001b[0;34m\u001b[0m\u001b[0;34m\u001b[0m\u001b[0m\n\u001b[1;32m    429\u001b[0m                 \u001b[0;32mif\u001b[0m \u001b[0;32mnot\u001b[0m \u001b[0mignore_failures\u001b[0m\u001b[0;34m:\u001b[0m\u001b[0;34m\u001b[0m\u001b[0;34m\u001b[0m\u001b[0m\n",
      "\u001b[0;32m/Library/Frameworks/Python.framework/Versions/3.7/lib/python3.7/site-packages/pandas/core/internals/blocks.py\u001b[0m in \u001b[0;36mastype\u001b[0;34m(self, dtype, copy, errors)\u001b[0m\n\u001b[1;32m    671\u001b[0m             \u001b[0mvals1d\u001b[0m \u001b[0;34m=\u001b[0m \u001b[0mvalues\u001b[0m\u001b[0;34m.\u001b[0m\u001b[0mravel\u001b[0m\u001b[0;34m(\u001b[0m\u001b[0;34m)\u001b[0m\u001b[0;34m\u001b[0m\u001b[0;34m\u001b[0m\u001b[0m\n\u001b[1;32m    672\u001b[0m             \u001b[0;32mtry\u001b[0m\u001b[0;34m:\u001b[0m\u001b[0;34m\u001b[0m\u001b[0;34m\u001b[0m\u001b[0m\n\u001b[0;32m--> 673\u001b[0;31m                 \u001b[0mvalues\u001b[0m \u001b[0;34m=\u001b[0m \u001b[0mastype_nansafe\u001b[0m\u001b[0;34m(\u001b[0m\u001b[0mvals1d\u001b[0m\u001b[0;34m,\u001b[0m \u001b[0mdtype\u001b[0m\u001b[0;34m,\u001b[0m \u001b[0mcopy\u001b[0m\u001b[0;34m=\u001b[0m\u001b[0;32mTrue\u001b[0m\u001b[0;34m)\u001b[0m\u001b[0;34m\u001b[0m\u001b[0;34m\u001b[0m\u001b[0m\n\u001b[0m\u001b[1;32m    674\u001b[0m             \u001b[0;32mexcept\u001b[0m \u001b[0;34m(\u001b[0m\u001b[0mValueError\u001b[0m\u001b[0;34m,\u001b[0m \u001b[0mTypeError\u001b[0m\u001b[0;34m)\u001b[0m\u001b[0;34m:\u001b[0m\u001b[0;34m\u001b[0m\u001b[0;34m\u001b[0m\u001b[0m\n\u001b[1;32m    675\u001b[0m                 \u001b[0;31m# e.g. astype_nansafe can fail on object-dtype of strings\u001b[0m\u001b[0;34m\u001b[0m\u001b[0;34m\u001b[0m\u001b[0;34m\u001b[0m\u001b[0m\n",
      "\u001b[0;32m/Library/Frameworks/Python.framework/Versions/3.7/lib/python3.7/site-packages/pandas/core/dtypes/cast.py\u001b[0m in \u001b[0;36mastype_nansafe\u001b[0;34m(arr, dtype, copy, skipna)\u001b[0m\n\u001b[1;32m   1095\u001b[0m     \u001b[0;32mif\u001b[0m \u001b[0mcopy\u001b[0m \u001b[0;32mor\u001b[0m \u001b[0mis_object_dtype\u001b[0m\u001b[0;34m(\u001b[0m\u001b[0marr\u001b[0m\u001b[0;34m)\u001b[0m \u001b[0;32mor\u001b[0m \u001b[0mis_object_dtype\u001b[0m\u001b[0;34m(\u001b[0m\u001b[0mdtype\u001b[0m\u001b[0;34m)\u001b[0m\u001b[0;34m:\u001b[0m\u001b[0;34m\u001b[0m\u001b[0;34m\u001b[0m\u001b[0m\n\u001b[1;32m   1096\u001b[0m         \u001b[0;31m# Explicit copy, or required since NumPy can't view from / to object.\u001b[0m\u001b[0;34m\u001b[0m\u001b[0;34m\u001b[0m\u001b[0;34m\u001b[0m\u001b[0m\n\u001b[0;32m-> 1097\u001b[0;31m         \u001b[0;32mreturn\u001b[0m \u001b[0marr\u001b[0m\u001b[0;34m.\u001b[0m\u001b[0mastype\u001b[0m\u001b[0;34m(\u001b[0m\u001b[0mdtype\u001b[0m\u001b[0;34m,\u001b[0m \u001b[0mcopy\u001b[0m\u001b[0;34m=\u001b[0m\u001b[0;32mTrue\u001b[0m\u001b[0;34m)\u001b[0m\u001b[0;34m\u001b[0m\u001b[0;34m\u001b[0m\u001b[0m\n\u001b[0m\u001b[1;32m   1098\u001b[0m \u001b[0;34m\u001b[0m\u001b[0m\n\u001b[1;32m   1099\u001b[0m     \u001b[0;32mreturn\u001b[0m \u001b[0marr\u001b[0m\u001b[0;34m.\u001b[0m\u001b[0mview\u001b[0m\u001b[0;34m(\u001b[0m\u001b[0mdtype\u001b[0m\u001b[0;34m)\u001b[0m\u001b[0;34m\u001b[0m\u001b[0;34m\u001b[0m\u001b[0m\n",
      "\u001b[0;31mValueError\u001b[0m: could not convert string to float: "
     ]
    }
   ],
   "source": [
    "viz.plot_comparison_heatmap(df_relationships_test, 'model_observation.ema', main_category='musical_type', other_category='observer.name', heat_map_width=800,\n",
    "                              heat_map_height=300)"
   ]
  },
  {
   "cell_type": "markdown",
   "id": "5c8c36b1-4cb0-4b40-87a8-f0ed2204698d",
   "metadata": {},
   "source": [
    "**We can command+click on the bars to open a new tab containing the information about the observations on the website**"
   ]
  },
  {
   "cell_type": "markdown",
   "id": "8f8fa636",
   "metadata": {},
   "source": [
    "### For observations"
   ]
  },
  {
   "cell_type": "code",
   "execution_count": 20,
   "id": "5fe704af",
   "metadata": {},
   "outputs": [],
   "source": [
    "# data_observations = requests.get('http://crimproject.org/data/observations/').json()\n",
    "# df_observations = pd.json_normalize(data_observations)\n",
    "# df_observations.to_csv('../CRIM_Intervals_Notebooks/observations.csv')"
   ]
  },
  {
   "cell_type": "code",
   "execution_count": 21,
   "id": "33fe4b44",
   "metadata": {},
   "outputs": [
    {
     "data": {
      "text/plain": [
       "{'Unnamed: 0': 4797,\n",
       " 'url': 'http://crimproject.org/data/observations/4799/',\n",
       " 'id': 4799,\n",
       " 'ema': '-53/1,1,1,1,1/@1-3,@1-4,@1-4,@1-4,@1',\n",
       " 'musical_type': 'Soggetto',\n",
       " 'mt_cf': False,\n",
       " 'mt_cf_voices': nan,\n",
       " 'mt_cf_dur': False,\n",
       " 'mt_cf_mel': False,\n",
       " 'mt_sog': True,\n",
       " 'mt_sog_voices': '[Superius]',\n",
       " 'mt_sog_dur': True,\n",
       " 'mt_sog_mel': True,\n",
       " 'mt_sog_ostinato': False,\n",
       " 'mt_sog_periodic': False,\n",
       " 'mt_csog': False,\n",
       " 'mt_csog_voices': nan,\n",
       " 'mt_csog_dur': False,\n",
       " 'mt_csog_mel': False,\n",
       " 'mt_cd': False,\n",
       " 'mt_cd_voices': nan,\n",
       " 'mt_fg': False,\n",
       " 'mt_fg_voices': nan,\n",
       " 'mt_fg_int': nan,\n",
       " 'mt_fg_tint': nan,\n",
       " 'mt_fg_periodic': False,\n",
       " 'mt_fg_strict': False,\n",
       " 'mt_fg_flexed': False,\n",
       " 'mt_fg_sequential': False,\n",
       " 'mt_fg_inverted': False,\n",
       " 'mt_fg_retrograde': False,\n",
       " 'mt_pe': False,\n",
       " 'mt_pe_voices': nan,\n",
       " 'mt_pe_int': nan,\n",
       " 'mt_pe_tint': nan,\n",
       " 'mt_pe_strict': False,\n",
       " 'mt_pe_flexed': False,\n",
       " 'mt_pe_flt': False,\n",
       " 'mt_pe_sequential': False,\n",
       " 'mt_pe_added': False,\n",
       " 'mt_pe_invertible': False,\n",
       " 'mt_id': False,\n",
       " 'mt_id_voices': nan,\n",
       " 'mt_id_int': nan,\n",
       " 'mt_id_tint': nan,\n",
       " 'mt_id_strict': False,\n",
       " 'mt_id_flexed': False,\n",
       " 'mt_id_flt': False,\n",
       " 'mt_id_invertible': False,\n",
       " 'mt_nid': False,\n",
       " 'mt_nid_voices': nan,\n",
       " 'mt_nid_int': nan,\n",
       " 'mt_nid_tint': nan,\n",
       " 'mt_nid_strict': False,\n",
       " 'mt_nid_flexed': False,\n",
       " 'mt_nid_flt': False,\n",
       " 'mt_nid_sequential': False,\n",
       " 'mt_nid_invertible': False,\n",
       " 'mt_hr': False,\n",
       " 'mt_hr_voices': nan,\n",
       " 'mt_hr_simple': False,\n",
       " 'mt_hr_staggered': False,\n",
       " 'mt_hr_sequential': False,\n",
       " 'mt_hr_fauxbourdon': False,\n",
       " 'mt_cad': False,\n",
       " 'mt_cad_cantizans': nan,\n",
       " 'mt_cad_tenorizans': nan,\n",
       " 'mt_cad_type': nan,\n",
       " 'mt_cad_tone': nan,\n",
       " 'mt_cad_dtv': nan,\n",
       " 'mt_cad_dti': nan,\n",
       " 'mt_int': False,\n",
       " 'mt_int_voices': nan,\n",
       " 'mt_int_p6': False,\n",
       " 'mt_int_p3': False,\n",
       " 'mt_int_c35': False,\n",
       " 'mt_int_c83': False,\n",
       " 'mt_int_c65': False,\n",
       " 'mt_fp': False,\n",
       " 'mt_fp_ir': False,\n",
       " 'mt_fp_range': nan,\n",
       " 'mt_fp_comment': nan,\n",
       " 'remarks': nan,\n",
       " 'created': '2017-08-15T21:38:50-04:00',\n",
       " 'updated': '2019-06-26T17:55:32.566000-04:00',\n",
       " 'curated': True,\n",
       " 'observer.url': 'http://crimproject.org/data/people/CRIM_Person_1007/',\n",
       " 'observer.name': 'Peter Schubert',\n",
       " 'piece.url': 'http://crimproject.org/data/pieces/CRIM_Model_0008/',\n",
       " 'piece.piece_id': 'CRIM_Model_0008',\n",
       " 'piece.full_title': 'Ave Maria',\n",
       " 'piece.mass': nan}"
      ]
     },
     "execution_count": 21,
     "metadata": {},
     "output_type": "execute_result"
    }
   ],
   "source": [
    "df_observations = pd.read_csv('../CRIM_Intervals_Notebooks/observations.csv')\n",
    "df_observations_test = df_observations[df_observations['piece.piece_id'] == 'CRIM_Model_0008'].copy()\n",
    "df_observations_test.loc[4797].to_dict()"
   ]
  },
  {
   "cell_type": "code",
   "execution_count": 22,
   "id": "f5e723ae",
   "metadata": {},
   "outputs": [
    {
     "name": "stdout",
     "output_type": "stream",
     "text": [
      "86:.\n"
     ]
    },
    {
     "ename": "ValueError",
     "evalue": "could not convert string to float: ",
     "output_type": "error",
     "traceback": [
      "\u001b[0;31m---------------------------------------------------------------------------\u001b[0m",
      "\u001b[0;31mValueError\u001b[0m                                Traceback (most recent call last)",
      "\u001b[0;32m<ipython-input-22-61eddf88bd48>\u001b[0m in \u001b[0;36m<module>\u001b[0;34m\u001b[0m\n\u001b[1;32m      1\u001b[0m viz.plot_comparison_heatmap(df_observations_test, 'ema', main_category='musical_type', other_category='observer.name', heat_map_width=800,\n\u001b[0;32m----> 2\u001b[0;31m                               heat_map_height=300)\n\u001b[0m",
      "\u001b[0;32m~/OneDrive - brynmawr.edu/summer 2021/crim_intervals/intervals/visualizations.py\u001b[0m in \u001b[0;36mplot_comparison_heatmap\u001b[0;34m(df, ema_col, main_category, other_category, option, heat_map_width, heat_map_height)\u001b[0m\n\u001b[1;32m    213\u001b[0m \u001b[0;34m\u001b[0m\u001b[0m\n\u001b[1;32m    214\u001b[0m     \u001b[0mdf\u001b[0m \u001b[0;34m=\u001b[0m \u001b[0mdf\u001b[0m\u001b[0;34m.\u001b[0m\u001b[0mcopy\u001b[0m\u001b[0;34m(\u001b[0m\u001b[0;34m)\u001b[0m  \u001b[0;31m# create a deep copy of the selected observations to protect the original dataframe\u001b[0m\u001b[0;34m\u001b[0m\u001b[0;34m\u001b[0m\u001b[0m\n\u001b[0;32m--> 215\u001b[0;31m     \u001b[0mdf\u001b[0m \u001b[0;34m=\u001b[0m \u001b[0m_from_ema_to_offsets\u001b[0m\u001b[0;34m(\u001b[0m\u001b[0mdf\u001b[0m\u001b[0;34m,\u001b[0m \u001b[0mema_col\u001b[0m\u001b[0;34m)\u001b[0m\u001b[0;34m\u001b[0m\u001b[0;34m\u001b[0m\u001b[0m\n\u001b[0m\u001b[1;32m    216\u001b[0m \u001b[0;34m\u001b[0m\u001b[0m\n\u001b[1;32m    217\u001b[0m     \u001b[0mdf\u001b[0m \u001b[0;34m=\u001b[0m \u001b[0m_from_ema_to_offsets\u001b[0m\u001b[0;34m(\u001b[0m\u001b[0mdf\u001b[0m\u001b[0;34m,\u001b[0m \u001b[0mema_col\u001b[0m\u001b[0;34m)\u001b[0m\u001b[0;34m\u001b[0m\u001b[0;34m\u001b[0m\u001b[0m\n",
      "\u001b[0;32m~/OneDrive - brynmawr.edu/summer 2021/crim_intervals/intervals/visualizations.py\u001b[0m in \u001b[0;36m_from_ema_to_offsets\u001b[0;34m(df, ema_column)\u001b[0m\n\u001b[1;32m    186\u001b[0m             \u001b[0mprint\u001b[0m\u001b[0;34m(\u001b[0m\u001b[0mstr\u001b[0m\u001b[0;34m(\u001b[0m\u001b[0mindex\u001b[0m\u001b[0;34m)\u001b[0m \u001b[0;34m+\u001b[0m \u001b[0;34m\":\"\u001b[0m \u001b[0;34m+\u001b[0m \u001b[0mdf\u001b[0m\u001b[0;34m[\u001b[0m\u001b[0;34m'start'\u001b[0m\u001b[0;34m]\u001b[0m\u001b[0;34m.\u001b[0m\u001b[0mloc\u001b[0m\u001b[0;34m[\u001b[0m\u001b[0mindex\u001b[0m\u001b[0;34m]\u001b[0m\u001b[0;34m+\u001b[0m\u001b[0;34m\".\"\u001b[0m\u001b[0;34m)\u001b[0m\u001b[0;34m\u001b[0m\u001b[0;34m\u001b[0m\u001b[0m\n\u001b[1;32m    187\u001b[0m \u001b[0;34m\u001b[0m\u001b[0m\n\u001b[0;32m--> 188\u001b[0;31m     \u001b[0mdf\u001b[0m\u001b[0;34m[\u001b[0m\u001b[0;34m'start'\u001b[0m\u001b[0;34m]\u001b[0m \u001b[0;34m=\u001b[0m \u001b[0mdf\u001b[0m\u001b[0;34m[\u001b[0m\u001b[0;34m'start'\u001b[0m\u001b[0;34m]\u001b[0m\u001b[0;34m.\u001b[0m\u001b[0mastype\u001b[0m\u001b[0;34m(\u001b[0m\u001b[0mfloat\u001b[0m\u001b[0;34m)\u001b[0m\u001b[0;34m\u001b[0m\u001b[0;34m\u001b[0m\u001b[0m\n\u001b[0m\u001b[1;32m    189\u001b[0m     \u001b[0mdf\u001b[0m\u001b[0;34m[\u001b[0m\u001b[0;34m'end'\u001b[0m\u001b[0;34m]\u001b[0m \u001b[0;34m=\u001b[0m \u001b[0mdf\u001b[0m\u001b[0;34m[\u001b[0m\u001b[0;34m'end'\u001b[0m\u001b[0;34m]\u001b[0m\u001b[0;34m.\u001b[0m\u001b[0mastype\u001b[0m\u001b[0;34m(\u001b[0m\u001b[0mfloat\u001b[0m\u001b[0;34m)\u001b[0m\u001b[0;34m\u001b[0m\u001b[0;34m\u001b[0m\u001b[0m\n\u001b[1;32m    190\u001b[0m     \u001b[0;32mreturn\u001b[0m \u001b[0mdf\u001b[0m\u001b[0;34m\u001b[0m\u001b[0;34m\u001b[0m\u001b[0m\n",
      "\u001b[0;32m/Library/Frameworks/Python.framework/Versions/3.7/lib/python3.7/site-packages/pandas/core/generic.py\u001b[0m in \u001b[0;36mastype\u001b[0;34m(self, dtype, copy, errors)\u001b[0m\n\u001b[1;32m   5875\u001b[0m         \u001b[0;32melse\u001b[0m\u001b[0;34m:\u001b[0m\u001b[0;34m\u001b[0m\u001b[0;34m\u001b[0m\u001b[0m\n\u001b[1;32m   5876\u001b[0m             \u001b[0;31m# else, only a single dtype is given\u001b[0m\u001b[0;34m\u001b[0m\u001b[0;34m\u001b[0m\u001b[0;34m\u001b[0m\u001b[0m\n\u001b[0;32m-> 5877\u001b[0;31m             \u001b[0mnew_data\u001b[0m \u001b[0;34m=\u001b[0m \u001b[0mself\u001b[0m\u001b[0;34m.\u001b[0m\u001b[0m_mgr\u001b[0m\u001b[0;34m.\u001b[0m\u001b[0mastype\u001b[0m\u001b[0;34m(\u001b[0m\u001b[0mdtype\u001b[0m\u001b[0;34m=\u001b[0m\u001b[0mdtype\u001b[0m\u001b[0;34m,\u001b[0m \u001b[0mcopy\u001b[0m\u001b[0;34m=\u001b[0m\u001b[0mcopy\u001b[0m\u001b[0;34m,\u001b[0m \u001b[0merrors\u001b[0m\u001b[0;34m=\u001b[0m\u001b[0merrors\u001b[0m\u001b[0;34m)\u001b[0m\u001b[0;34m\u001b[0m\u001b[0;34m\u001b[0m\u001b[0m\n\u001b[0m\u001b[1;32m   5878\u001b[0m             \u001b[0;32mreturn\u001b[0m \u001b[0mself\u001b[0m\u001b[0;34m.\u001b[0m\u001b[0m_constructor\u001b[0m\u001b[0;34m(\u001b[0m\u001b[0mnew_data\u001b[0m\u001b[0;34m)\u001b[0m\u001b[0;34m.\u001b[0m\u001b[0m__finalize__\u001b[0m\u001b[0;34m(\u001b[0m\u001b[0mself\u001b[0m\u001b[0;34m,\u001b[0m \u001b[0mmethod\u001b[0m\u001b[0;34m=\u001b[0m\u001b[0;34m\"astype\"\u001b[0m\u001b[0;34m)\u001b[0m\u001b[0;34m\u001b[0m\u001b[0;34m\u001b[0m\u001b[0m\n\u001b[1;32m   5879\u001b[0m \u001b[0;34m\u001b[0m\u001b[0m\n",
      "\u001b[0;32m/Library/Frameworks/Python.framework/Versions/3.7/lib/python3.7/site-packages/pandas/core/internals/managers.py\u001b[0m in \u001b[0;36mastype\u001b[0;34m(self, dtype, copy, errors)\u001b[0m\n\u001b[1;32m    629\u001b[0m         \u001b[0mself\u001b[0m\u001b[0;34m,\u001b[0m \u001b[0mdtype\u001b[0m\u001b[0;34m,\u001b[0m \u001b[0mcopy\u001b[0m\u001b[0;34m:\u001b[0m \u001b[0mbool\u001b[0m \u001b[0;34m=\u001b[0m \u001b[0;32mFalse\u001b[0m\u001b[0;34m,\u001b[0m \u001b[0merrors\u001b[0m\u001b[0;34m:\u001b[0m \u001b[0mstr\u001b[0m \u001b[0;34m=\u001b[0m \u001b[0;34m\"raise\"\u001b[0m\u001b[0;34m\u001b[0m\u001b[0;34m\u001b[0m\u001b[0m\n\u001b[1;32m    630\u001b[0m     ) -> \"BlockManager\":\n\u001b[0;32m--> 631\u001b[0;31m         \u001b[0;32mreturn\u001b[0m \u001b[0mself\u001b[0m\u001b[0;34m.\u001b[0m\u001b[0mapply\u001b[0m\u001b[0;34m(\u001b[0m\u001b[0;34m\"astype\"\u001b[0m\u001b[0;34m,\u001b[0m \u001b[0mdtype\u001b[0m\u001b[0;34m=\u001b[0m\u001b[0mdtype\u001b[0m\u001b[0;34m,\u001b[0m \u001b[0mcopy\u001b[0m\u001b[0;34m=\u001b[0m\u001b[0mcopy\u001b[0m\u001b[0;34m,\u001b[0m \u001b[0merrors\u001b[0m\u001b[0;34m=\u001b[0m\u001b[0merrors\u001b[0m\u001b[0;34m)\u001b[0m\u001b[0;34m\u001b[0m\u001b[0;34m\u001b[0m\u001b[0m\n\u001b[0m\u001b[1;32m    632\u001b[0m \u001b[0;34m\u001b[0m\u001b[0m\n\u001b[1;32m    633\u001b[0m     def convert(\n",
      "\u001b[0;32m/Library/Frameworks/Python.framework/Versions/3.7/lib/python3.7/site-packages/pandas/core/internals/managers.py\u001b[0m in \u001b[0;36mapply\u001b[0;34m(self, f, align_keys, ignore_failures, **kwargs)\u001b[0m\n\u001b[1;32m    425\u001b[0m                     \u001b[0mapplied\u001b[0m \u001b[0;34m=\u001b[0m \u001b[0mb\u001b[0m\u001b[0;34m.\u001b[0m\u001b[0mapply\u001b[0m\u001b[0;34m(\u001b[0m\u001b[0mf\u001b[0m\u001b[0;34m,\u001b[0m \u001b[0;34m**\u001b[0m\u001b[0mkwargs\u001b[0m\u001b[0;34m)\u001b[0m\u001b[0;34m\u001b[0m\u001b[0;34m\u001b[0m\u001b[0m\n\u001b[1;32m    426\u001b[0m                 \u001b[0;32melse\u001b[0m\u001b[0;34m:\u001b[0m\u001b[0;34m\u001b[0m\u001b[0;34m\u001b[0m\u001b[0m\n\u001b[0;32m--> 427\u001b[0;31m                     \u001b[0mapplied\u001b[0m \u001b[0;34m=\u001b[0m \u001b[0mgetattr\u001b[0m\u001b[0;34m(\u001b[0m\u001b[0mb\u001b[0m\u001b[0;34m,\u001b[0m \u001b[0mf\u001b[0m\u001b[0;34m)\u001b[0m\u001b[0;34m(\u001b[0m\u001b[0;34m**\u001b[0m\u001b[0mkwargs\u001b[0m\u001b[0;34m)\u001b[0m\u001b[0;34m\u001b[0m\u001b[0;34m\u001b[0m\u001b[0m\n\u001b[0m\u001b[1;32m    428\u001b[0m             \u001b[0;32mexcept\u001b[0m \u001b[0;34m(\u001b[0m\u001b[0mTypeError\u001b[0m\u001b[0;34m,\u001b[0m \u001b[0mNotImplementedError\u001b[0m\u001b[0;34m)\u001b[0m\u001b[0;34m:\u001b[0m\u001b[0;34m\u001b[0m\u001b[0;34m\u001b[0m\u001b[0m\n\u001b[1;32m    429\u001b[0m                 \u001b[0;32mif\u001b[0m \u001b[0;32mnot\u001b[0m \u001b[0mignore_failures\u001b[0m\u001b[0;34m:\u001b[0m\u001b[0;34m\u001b[0m\u001b[0;34m\u001b[0m\u001b[0m\n",
      "\u001b[0;32m/Library/Frameworks/Python.framework/Versions/3.7/lib/python3.7/site-packages/pandas/core/internals/blocks.py\u001b[0m in \u001b[0;36mastype\u001b[0;34m(self, dtype, copy, errors)\u001b[0m\n\u001b[1;32m    671\u001b[0m             \u001b[0mvals1d\u001b[0m \u001b[0;34m=\u001b[0m \u001b[0mvalues\u001b[0m\u001b[0;34m.\u001b[0m\u001b[0mravel\u001b[0m\u001b[0;34m(\u001b[0m\u001b[0;34m)\u001b[0m\u001b[0;34m\u001b[0m\u001b[0;34m\u001b[0m\u001b[0m\n\u001b[1;32m    672\u001b[0m             \u001b[0;32mtry\u001b[0m\u001b[0;34m:\u001b[0m\u001b[0;34m\u001b[0m\u001b[0;34m\u001b[0m\u001b[0m\n\u001b[0;32m--> 673\u001b[0;31m                 \u001b[0mvalues\u001b[0m \u001b[0;34m=\u001b[0m \u001b[0mastype_nansafe\u001b[0m\u001b[0;34m(\u001b[0m\u001b[0mvals1d\u001b[0m\u001b[0;34m,\u001b[0m \u001b[0mdtype\u001b[0m\u001b[0;34m,\u001b[0m \u001b[0mcopy\u001b[0m\u001b[0;34m=\u001b[0m\u001b[0;32mTrue\u001b[0m\u001b[0;34m)\u001b[0m\u001b[0;34m\u001b[0m\u001b[0;34m\u001b[0m\u001b[0m\n\u001b[0m\u001b[1;32m    674\u001b[0m             \u001b[0;32mexcept\u001b[0m \u001b[0;34m(\u001b[0m\u001b[0mValueError\u001b[0m\u001b[0;34m,\u001b[0m \u001b[0mTypeError\u001b[0m\u001b[0;34m)\u001b[0m\u001b[0;34m:\u001b[0m\u001b[0;34m\u001b[0m\u001b[0;34m\u001b[0m\u001b[0m\n\u001b[1;32m    675\u001b[0m                 \u001b[0;31m# e.g. astype_nansafe can fail on object-dtype of strings\u001b[0m\u001b[0;34m\u001b[0m\u001b[0;34m\u001b[0m\u001b[0;34m\u001b[0m\u001b[0m\n",
      "\u001b[0;32m/Library/Frameworks/Python.framework/Versions/3.7/lib/python3.7/site-packages/pandas/core/dtypes/cast.py\u001b[0m in \u001b[0;36mastype_nansafe\u001b[0;34m(arr, dtype, copy, skipna)\u001b[0m\n\u001b[1;32m   1095\u001b[0m     \u001b[0;32mif\u001b[0m \u001b[0mcopy\u001b[0m \u001b[0;32mor\u001b[0m \u001b[0mis_object_dtype\u001b[0m\u001b[0;34m(\u001b[0m\u001b[0marr\u001b[0m\u001b[0;34m)\u001b[0m \u001b[0;32mor\u001b[0m \u001b[0mis_object_dtype\u001b[0m\u001b[0;34m(\u001b[0m\u001b[0mdtype\u001b[0m\u001b[0;34m)\u001b[0m\u001b[0;34m:\u001b[0m\u001b[0;34m\u001b[0m\u001b[0;34m\u001b[0m\u001b[0m\n\u001b[1;32m   1096\u001b[0m         \u001b[0;31m# Explicit copy, or required since NumPy can't view from / to object.\u001b[0m\u001b[0;34m\u001b[0m\u001b[0;34m\u001b[0m\u001b[0;34m\u001b[0m\u001b[0m\n\u001b[0;32m-> 1097\u001b[0;31m         \u001b[0;32mreturn\u001b[0m \u001b[0marr\u001b[0m\u001b[0;34m.\u001b[0m\u001b[0mastype\u001b[0m\u001b[0;34m(\u001b[0m\u001b[0mdtype\u001b[0m\u001b[0;34m,\u001b[0m \u001b[0mcopy\u001b[0m\u001b[0;34m=\u001b[0m\u001b[0;32mTrue\u001b[0m\u001b[0;34m)\u001b[0m\u001b[0;34m\u001b[0m\u001b[0;34m\u001b[0m\u001b[0m\n\u001b[0m\u001b[1;32m   1098\u001b[0m \u001b[0;34m\u001b[0m\u001b[0m\n\u001b[1;32m   1099\u001b[0m     \u001b[0;32mreturn\u001b[0m \u001b[0marr\u001b[0m\u001b[0;34m.\u001b[0m\u001b[0mview\u001b[0m\u001b[0;34m(\u001b[0m\u001b[0mdtype\u001b[0m\u001b[0;34m)\u001b[0m\u001b[0;34m\u001b[0m\u001b[0;34m\u001b[0m\u001b[0m\n",
      "\u001b[0;31mValueError\u001b[0m: could not convert string to float: "
     ]
    }
   ],
   "source": [
    "viz.plot_comparison_heatmap(df_observations_test, 'ema', main_category='musical_type', other_category='observer.name', heat_map_width=800,\n",
    "                              heat_map_height=300)"
   ]
  },
  {
   "cell_type": "markdown",
   "id": "46ae9e6a",
   "metadata": {},
   "source": [
    "## Generate networks with `create_comparisons_networks_and_interactive_df`\n",
    "\n",
    "We can create a some network visualizations and a df to interact with patterns.\n",
    "\n",
    "Work with both time interval and melodic interval!\n",
    "\n",
    "**Important**:\n",
    "- The plot will be saved in a html file in the folder you choose.\n",
    "- The plot might not be displayed if it's not saved in the same folder as the Jupyter Notebook, but you should be able to find it and open it in your computer if necessary.\n",
    "- The `segments` column in the interactive df shows the range of the measures the observation was found, for example: `['5-9', ['14-18']` means that the observation have been found from measure 5 to measure 9, and again from measure 14 to measure 18.\n",
    "\n",
    "### Melodic interval for pens\n",
    "\n",
    "The columns of interest from table containing observations fetched from the CRIM database would be `mt_pe_int` (`mt` = musical type, `pe` = periodic entries, `int`= intervals) and we would choose `interval_type` to be `melodic intervals`. The table's corresponding ema column is `ema`."
   ]
  },
  {
   "cell_type": "code",
   "execution_count": 23,
   "id": "04a18bb6",
   "metadata": {},
   "outputs": [
    {
     "data": {
      "application/vnd.jupyter.widget-view+json": {
       "model_id": "3d666af29e5c4aba90780ee9b5f16052",
       "version_major": 2,
       "version_minor": 0
      },
      "text/plain": [
       "interactive(children=(Text(value='', description='search_pattern_starts_with'), Output()), _dom_classes=('widg…"
      ]
     },
     "metadata": {},
     "output_type": "display_data"
    }
   ],
   "source": [
    "pen_networks, pen_widget = viz.create_comparisons_networks_and_interactive_df(df_observations, 'mt_pe_int', 'melodic', 'ema')"
   ]
  },
  {
   "cell_type": "markdown",
   "id": "0e9883c2",
   "metadata": {},
   "source": [
    "**See all the available starting intervals**:\n",
    "\n",
    "- the 'all' key means that this networks contains all of the pens.\n",
    "- If you select a network with specific starting intervals (e.g: 8+), it only contains pens that start with 8+."
   ]
  },
  {
   "cell_type": "code",
   "execution_count": 24,
   "id": "d719360b",
   "metadata": {},
   "outputs": [
    {
     "data": {
      "text/plain": [
       "{'all': <class 'pyvis.network.Network'> |N|=79 |E|=409,\n",
       " 'nan': <class 'pyvis.network.Network'> |N|=0 |E|=0,\n",
       " '5+': <class 'pyvis.network.Network'> |N|=12 |E|=18,\n",
       " '8+': <class 'pyvis.network.Network'> |N|=10 |E|=14,\n",
       " '1+': <class 'pyvis.network.Network'> |N|=20 |E|=26,\n",
       " '2+': <class 'pyvis.network.Network'> |N|=2 |E|=3,\n",
       " '4-': <class 'pyvis.network.Network'> |N|=4 |E|=4,\n",
       " '9+': <class 'pyvis.network.Network'> |N|=2 |E|=1,\n",
       " '7+': <class 'pyvis.network.Network'> |N|=6 |E|=5,\n",
       " '8-': <class 'pyvis.network.Network'> |N|=6 |E|=65,\n",
       " '5-': <class 'pyvis.network.Network'> |N|=7 |E|=8,\n",
       " '4+': <class 'pyvis.network.Network'> |N|=6 |E|=18,\n",
       " '6-': <class 'pyvis.network.Network'> |N|=1 |E|=0,\n",
       " '9-': <class 'pyvis.network.Network'> |N|=2 |E|=1}"
      ]
     },
     "execution_count": 24,
     "metadata": {},
     "output_type": "execute_result"
    }
   ],
   "source": [
    "pen_networks"
   ]
  },
  {
   "cell_type": "code",
   "execution_count": 25,
   "id": "20f7aaa9",
   "metadata": {},
   "outputs": [
    {
     "data": {
      "text/html": [
       "\n",
       "        <iframe\n",
       "            width=\"500px\"\n",
       "            height=\"500px\"\n",
       "            src=\"../CRIM_Intervals_Notebooks/all_pen.html\"\n",
       "            frameborder=\"0\"\n",
       "            allowfullscreen\n",
       "        ></iframe>\n",
       "        "
      ],
      "text/plain": [
       "<IPython.lib.display.IFrame at 0x7fc632753890>"
      ]
     },
     "execution_count": 25,
     "metadata": {},
     "output_type": "execute_result"
    }
   ],
   "source": [
    "# show all the patterns mapped onto one network\n",
    "pen_networks['all'].show('../CRIM_Intervals_Notebooks/all_pen.html')"
   ]
  },
  {
   "cell_type": "code",
   "execution_count": 26,
   "id": "70f2b5a2",
   "metadata": {},
   "outputs": [
    {
     "data": {
      "text/html": [
       "\n",
       "        <iframe\n",
       "            width=\"500px\"\n",
       "            height=\"500px\"\n",
       "            src=\"../CRIM_Intervals_Notebooks/8+_pen.html\"\n",
       "            frameborder=\"0\"\n",
       "            allowfullscreen\n",
       "        ></iframe>\n",
       "        "
      ],
      "text/plain": [
       "<IPython.lib.display.IFrame at 0x7fc636c321d0>"
      ]
     },
     "execution_count": 26,
     "metadata": {},
     "output_type": "execute_result"
    }
   ],
   "source": [
    "# show only one family of patterns mapped onto one network\n",
    "pen_networks['8+'].show('../CRIM_Intervals_Notebooks/8+_pen.html')"
   ]
  },
  {
   "cell_type": "markdown",
   "id": "4c5bb445",
   "metadata": {},
   "source": [
    "### melodic intervals for fuga\n",
    "\n",
    "The columns of interest from table containing observations fetched from the CRIM database would be `mt_fg_int` (mt= musical type, fg= Fuga, int=intervals) and we would choose `interval_type` to be `melodic`. The table's corresponding ema column is `ema`."
   ]
  },
  {
   "cell_type": "code",
   "execution_count": 27,
   "id": "ed1bd34b",
   "metadata": {},
   "outputs": [
    {
     "data": {
      "application/vnd.jupyter.widget-view+json": {
       "model_id": "e69d151032304fa598510f2414de6bf0",
       "version_major": 2,
       "version_minor": 0
      },
      "text/plain": [
       "interactive(children=(Text(value='', description='search_pattern_starts_with'), Output()), _dom_classes=('widg…"
      ]
     },
     "metadata": {},
     "output_type": "display_data"
    }
   ],
   "source": [
    "fuga_networks, fuga_widget = viz.create_comparisons_networks_and_interactive_df(df_observations, 'mt_fg_int', 'melodic', 'ema')"
   ]
  },
  {
   "cell_type": "code",
   "execution_count": 28,
   "id": "dd1f0174",
   "metadata": {},
   "outputs": [
    {
     "data": {
      "text/html": [
       "\n",
       "        <iframe\n",
       "            width=\"500px\"\n",
       "            height=\"500px\"\n",
       "            src=\"../CRIM_Intervals_Notebooks/4-_fuga.html\"\n",
       "            frameborder=\"0\"\n",
       "            allowfullscreen\n",
       "        ></iframe>\n",
       "        "
      ],
      "text/plain": [
       "<IPython.lib.display.IFrame at 0x7fc638c11b50>"
      ]
     },
     "execution_count": 28,
     "metadata": {},
     "output_type": "execute_result"
    }
   ],
   "source": [
    "# we are interested in the patterns that start with 4-\n",
    "fuga_networks['4-'].show('../CRIM_Intervals_Notebooks/4-_fuga.html')"
   ]
  },
  {
   "cell_type": "code",
   "execution_count": 29,
   "id": "7e5450c5",
   "metadata": {},
   "outputs": [
    {
     "data": {
      "text/plain": [
       "{'all': <class 'pyvis.network.Network'> |N|=905 |E|=2,715,\n",
       " '4-': <class 'pyvis.network.Network'> |N|=68 |E|=137,\n",
       " '8-': <class 'pyvis.network.Network'> |N|=108 |E|=184,\n",
       " '5-': <class 'pyvis.network.Network'> |N|=123 |E|=293,\n",
       " 'nan': <class 'pyvis.network.Network'> |N|=0 |E|=0,\n",
       " '4+': <class 'pyvis.network.Network'> |N|=117 |E|=206,\n",
       " '1+': <class 'pyvis.network.Network'> |N|=112 |E|=203,\n",
       " '8+': <class 'pyvis.network.Network'> |N|=92 |E|=259,\n",
       " '5+': <class 'pyvis.network.Network'> |N|=128 |E|=255,\n",
       " '12+': <class 'pyvis.network.Network'> |N|=19 |E|=25,\n",
       " '2+': <class 'pyvis.network.Network'> |N|=30 |E|=86,\n",
       " '12-': <class 'pyvis.network.Network'> |N|=25 |E|=27,\n",
       " '15-': <class 'pyvis.network.Network'> |N|=1 |E|=0,\n",
       " '6+': <class 'pyvis.network.Network'> |N|=1 |E|=0,\n",
       " '15+': <class 'pyvis.network.Network'> |N|=1 |E|=0,\n",
       " '2-': <class 'pyvis.network.Network'> |N|=3 |E|=4,\n",
       " '9+': <class 'pyvis.network.Network'> |N|=7 |E|=7,\n",
       " '7-': <class 'pyvis.network.Network'> |N|=3 |E|=2,\n",
       " '9-': <class 'pyvis.network.Network'> |N|=4 |E|=3,\n",
       " '7+': <class 'pyvis.network.Network'> |N|=21 |E|=50,\n",
       " '1-': <class 'pyvis.network.Network'> |N|=3 |E|=2,\n",
       " '6-': <class 'pyvis.network.Network'> |N|=9 |E|=8,\n",
       " '3+': <class 'pyvis.network.Network'> |N|=9 |E|=8,\n",
       " '3-': <class 'pyvis.network.Network'> |N|=5 |E|=4,\n",
       " '10-': <class 'pyvis.network.Network'> |N|=0 |E|=0,\n",
       " '11-': <class 'pyvis.network.Network'> |N|=5 |E|=12,\n",
       " '16+': <class 'pyvis.network.Network'> |N|=1 |E|=0,\n",
       " '11+': <class 'pyvis.network.Network'> |N|=9 |E|=8}"
      ]
     },
     "execution_count": 29,
     "metadata": {},
     "output_type": "execute_result"
    }
   ],
   "source": [
    "fuga_networks"
   ]
  },
  {
   "cell_type": "markdown",
   "id": "e97cb9ca",
   "metadata": {},
   "source": [
    "## `plot_relationship_network`\n",
    "\n",
    "This method accepts a dataframe of CRIM relationships and generate a network of observations.\n",
    "\n",
    "In the network:\n",
    "\n",
    "- the nodes are the observations (labeled with the piece and measures they are in)\n",
    "- the edges are the relationships. \n",
    "    - points from a model_observation to a derivative observation.\n",
    "    - are weighted differently based on the type of the relationships.\n",
    "    - are labeled with the relationship type\n",
    "    - are colored based on the users' choice.\n",
    "\n",
    "### WARNING: Edge color isn't always a correct indicator of the relationship type.\n",
    "\n",
    "The color of the edges is derived from the nodes; therefore, they would not be colored correctly when:\n",
    "\n",
    "1. color='derivative'\n",
    "\n",
    "model1 --(quotation)--> model2\n",
    "\n",
    "model3 --(new material)--> model2\n",
    "\n",
    "because of the first relationship, model2 and the two edges pointing to it would be colored with quotation's color.\n",
    "\n",
    "2. color='model'\n",
    "\n",
    "model1 --(quotation)--> model2\n",
    "\n",
    "model1 --(new material)--> model3\n",
    "\n",
    "because of the first relationship, model1 and the two out edges from model1 would be colored with quotation's color\n",
    "\n",
    "In this case, we should pay attention to the edges' thickness (different weights mean different relationship types) or hover over the edges to see the relationship type labels.\n",
    "\n",
    "### Seeing the big picture with the color modes being `model` or `derivative`\n",
    "\n",
    "We have two options for the `color` parameter. \n",
    "\n",
    "- `derivative` (default): the edges and nodes of derivative observations will be colored according to the relationships. \n",
    "- `model` (default): the edges and nodes of model observations will be colored according to the relationships. \n",
    "\n",
    "**Here I use df_relationships.head(300) instead of df_relationships because plotting all of the relationships usually takes really long**.\n",
    "\n",
    "#### color=`derivative`"
   ]
  },
  {
   "cell_type": "code",
   "execution_count": 30,
   "id": "9cab986a",
   "metadata": {},
   "outputs": [
    {
     "data": {
      "text/html": [
       "\n",
       "        <iframe\n",
       "            width=\"500px\"\n",
       "            height=\"500px\"\n",
       "            src=\"../CRIM_Intervals_Notebooks/small_relationships_network_derivative.html\"\n",
       "            frameborder=\"0\"\n",
       "            allowfullscreen\n",
       "        ></iframe>\n",
       "        "
      ],
      "text/plain": [
       "<IPython.lib.display.IFrame at 0x7fc638a76990>"
      ]
     },
     "execution_count": 30,
     "metadata": {},
     "output_type": "execute_result"
    }
   ],
   "source": [
    "nt = viz.plot_relationship_network(df_relationships.head(300), color='derivative')\n",
    "nt.show('../CRIM_Intervals_Notebooks/small_relationships_network_derivative.html')"
   ]
  },
  {
   "cell_type": "markdown",
   "id": "1e8d8146",
   "metadata": {},
   "source": [
    "#### color=`model`"
   ]
  },
  {
   "cell_type": "code",
   "execution_count": 31,
   "id": "12c1098d",
   "metadata": {},
   "outputs": [
    {
     "data": {
      "text/html": [
       "\n",
       "        <iframe\n",
       "            width=\"500px\"\n",
       "            height=\"500px\"\n",
       "            src=\"../CRIM_Intervals_Notebooks/small_relationships_network_model.html\"\n",
       "            frameborder=\"0\"\n",
       "            allowfullscreen\n",
       "        ></iframe>\n",
       "        "
      ],
      "text/plain": [
       "<IPython.lib.display.IFrame at 0x7fc638a90110>"
      ]
     },
     "execution_count": 31,
     "metadata": {},
     "output_type": "execute_result"
    }
   ],
   "source": [
    "nt2 = viz.plot_relationship_network(df_relationships.head(300), color='model')\n",
    "nt2.show('../CRIM_Intervals_Notebooks/small_relationships_network_model.html')"
   ]
  },
  {
   "cell_type": "markdown",
   "id": "f8ef06a9",
   "metadata": {},
   "source": [
    "### Making uses of the other parameters.\n",
    "\n",
    "The two plots are too cluttered so we can't see the relationship_type between specific measures inside pieces. \n",
    "\n",
    "#### Selecting specific models with `selected_model_ids` and specific derivatives with`selected_derivative_ids` "
   ]
  },
  {
   "cell_type": "code",
   "execution_count": 32,
   "id": "8c11dd75",
   "metadata": {},
   "outputs": [
    {
     "data": {
      "text/html": [
       "\n",
       "        <iframe\n",
       "            width=\"500px\"\n",
       "            height=\"500px\"\n",
       "            src=\"../CRIM_Intervals_Notebooks/selected_derivatives.html\"\n",
       "            frameborder=\"0\"\n",
       "            allowfullscreen\n",
       "        ></iframe>\n",
       "        "
      ],
      "text/plain": [
       "<IPython.lib.display.IFrame at 0x7fc63923da50>"
      ]
     },
     "execution_count": 32,
     "metadata": {},
     "output_type": "execute_result"
    }
   ],
   "source": [
    "nt3 = viz.plot_relationship_network(df_relationships, selected_derivative_ids=['CRIM_Mass_0017_3', 'CRIM_Mass_0008_4',\n",
    "       'CRIM_Mass_0003_5', 'CRIM_Mass_0014_4', 'CRIM_Mass_0018_1',\n",
    "       'CRIM_Mass_0018_2', 'CRIM_Mass_0005_5'], color='derivative')\n",
    "nt3.show('../CRIM_Intervals_Notebooks/selected_derivatives.html')"
   ]
  },
  {
   "cell_type": "code",
   "execution_count": 33,
   "id": "112eee88",
   "metadata": {},
   "outputs": [
    {
     "data": {
      "text/html": [
       "\n",
       "        <iframe\n",
       "            width=\"500px\"\n",
       "            height=\"500px\"\n",
       "            src=\"../CRIM_Intervals_Notebooks/selected_model.html\"\n",
       "            frameborder=\"0\"\n",
       "            allowfullscreen\n",
       "        ></iframe>\n",
       "        "
      ],
      "text/plain": [
       "<IPython.lib.display.IFrame at 0x7fc638a8ca10>"
      ]
     },
     "execution_count": 33,
     "metadata": {},
     "output_type": "execute_result"
    }
   ],
   "source": [
    "nt4 = viz.plot_relationship_network(df_relationships, selected_model_ids = ['CRIM_Model_0008', 'CRIM_Model_0016'], color='derivative')\n",
    "nt4.show('../CRIM_Intervals_Notebooks/selected_model.html')"
   ]
  },
  {
   "cell_type": "markdown",
   "id": "a5e53b65",
   "metadata": {},
   "source": [
    "#### Plotting pieces that are relevant to a list of interested pieces with `selected_members`\n",
    "Having some of interest pieces, we want to plot all pieces that happen to connect to these pieces some how."
   ]
  },
  {
   "cell_type": "code",
   "execution_count": 34,
   "id": "daa5143b",
   "metadata": {},
   "outputs": [
    {
     "name": "stdout",
     "output_type": "stream",
     "text": [
      "5 CRIM_Mass_0017_3, CRIM_Mass_0008_4, CRIM_Mass_0003_5, CRIM_Mass_0018_1, CRIM_Mass_0018_2 no longer exist in df because of other filtering options\n"
     ]
    },
    {
     "data": {
      "text/html": [
       "\n",
       "        <iframe\n",
       "            width=\"500px\"\n",
       "            height=\"500px\"\n",
       "            src=\"../CRIM_Intervals_Notebooks/selected_model_families.html\"\n",
       "            frameborder=\"0\"\n",
       "            allowfullscreen\n",
       "        ></iframe>\n",
       "        "
      ],
      "text/plain": [
       "<IPython.lib.display.IFrame at 0x7fc639453050>"
      ]
     },
     "execution_count": 34,
     "metadata": {},
     "output_type": "execute_result"
    }
   ],
   "source": [
    "nt5 = viz.plot_relationship_network(df_relationships, selected_model_ids = ['CRIM_Model_0008', 'CRIM_Model_0016'], selected_families=['CRIM_Mass_0017_3', 'CRIM_Mass_0008_4',\n",
    "       'CRIM_Mass_0003_5', 'CRIM_Mass_0014_4', 'CRIM_Mass_0018_1',\n",
    "       'CRIM_Mass_0018_2', 'CRIM_Mass_0005_5'], color='derivative')\n",
    "nt5.show('../CRIM_Intervals_Notebooks/selected_model_families.html')"
   ]
  },
  {
   "cell_type": "code",
   "execution_count": null,
   "id": "810007cf",
   "metadata": {},
   "outputs": [],
   "source": []
  }
 ],
 "metadata": {
  "kernelspec": {
   "display_name": "venv",
   "language": "python",
   "name": "venv"
  },
  "language_info": {
   "codemirror_mode": {
    "name": "ipython",
    "version": 3
   },
   "file_extension": ".py",
   "mimetype": "text/x-python",
   "name": "python",
   "nbconvert_exporter": "python",
   "pygments_lexer": "ipython3",
   "version": "3.7.4"
  }
 },
 "nbformat": 4,
 "nbformat_minor": 5
}
